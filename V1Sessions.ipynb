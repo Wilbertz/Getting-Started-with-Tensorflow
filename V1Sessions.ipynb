{
 "cells": [
  {
   "cell_type": "code",
   "id": "initial_id",
   "metadata": {
    "collapsed": true,
    "ExecuteTime": {
     "end_time": "2025-02-16T18:01:45.839071Z",
     "start_time": "2025-02-16T18:01:45.836257Z"
    }
   },
   "source": "import tensorflow as tf\n",
   "outputs": [],
   "execution_count": 2
  },
  {
   "metadata": {
    "ExecuteTime": {
     "end_time": "2025-02-16T18:02:14.167158Z",
     "start_time": "2025-02-16T18:02:14.156103Z"
    }
   },
   "cell_type": "code",
   "source": "tf.compat.v1.executing_eagerly()",
   "id": "3281a40504ded263",
   "outputs": [
    {
     "data": {
      "text/plain": [
       "True"
      ]
     },
     "execution_count": 3,
     "metadata": {},
     "output_type": "execute_result"
    }
   ],
   "execution_count": 3
  },
  {
   "metadata": {
    "ExecuteTime": {
     "end_time": "2025-02-16T18:15:10.169396Z",
     "start_time": "2025-02-16T18:15:10.138475Z"
    }
   },
   "cell_type": "code",
   "source": [
    "a = tf.constant(5, name='a')\n",
    "b = tf.constant(7, name='b')\n",
    "\n",
    "c = tf.add(a, b, name='sum')"
   ],
   "id": "89a34284cf0f9322",
   "outputs": [],
   "execution_count": 4
  },
  {
   "metadata": {
    "ExecuteTime": {
     "end_time": "2025-02-16T18:16:55.617353Z",
     "start_time": "2025-02-16T18:16:54.426913Z"
    }
   },
   "cell_type": "code",
   "source": [
    "sess = tf.compat.v1.Session()\n",
    "sess.run(c)"
   ],
   "id": "c4fd1871a51fe12e",
   "outputs": [
    {
     "name": "stdout",
     "output_type": "stream",
     "text": [
      "WARNING:tensorflow:From C:\\Users\\haral\\AppData\\Local\\Temp\\ipykernel_25028\\2893122072.py:1: The name tf.Session is deprecated. Please use tf.compat.v1.Session instead.\n",
      "\n"
     ]
    },
    {
     "ename": "RuntimeError",
     "evalue": "The Session graph is empty. Add operations to the graph before calling run().",
     "output_type": "error",
     "traceback": [
      "\u001B[1;31m---------------------------------------------------------------------------\u001B[0m",
      "\u001B[1;31mRuntimeError\u001B[0m                              Traceback (most recent call last)",
      "Cell \u001B[1;32mIn[5], line 2\u001B[0m\n\u001B[0;32m      1\u001B[0m sess \u001B[38;5;241m=\u001B[39m tf\u001B[38;5;241m.\u001B[39mcompat\u001B[38;5;241m.\u001B[39mv1\u001B[38;5;241m.\u001B[39mSession()\n\u001B[1;32m----> 2\u001B[0m \u001B[43msess\u001B[49m\u001B[38;5;241;43m.\u001B[39;49m\u001B[43mrun\u001B[49m\u001B[43m(\u001B[49m\u001B[43mc\u001B[49m\u001B[43m)\u001B[49m\n",
      "File \u001B[1;32m~\\source\\Repos\\Getting-Started-with-Tensorflow\\.venv\\Lib\\site-packages\\tensorflow\\python\\client\\session.py:977\u001B[0m, in \u001B[0;36mBaseSession.run\u001B[1;34m(self, fetches, feed_dict, options, run_metadata)\u001B[0m\n\u001B[0;32m    974\u001B[0m run_metadata_ptr \u001B[38;5;241m=\u001B[39m tf_session\u001B[38;5;241m.\u001B[39mTF_NewBuffer() \u001B[38;5;28;01mif\u001B[39;00m run_metadata \u001B[38;5;28;01melse\u001B[39;00m \u001B[38;5;28;01mNone\u001B[39;00m\n\u001B[0;32m    976\u001B[0m \u001B[38;5;28;01mtry\u001B[39;00m:\n\u001B[1;32m--> 977\u001B[0m   result \u001B[38;5;241m=\u001B[39m \u001B[38;5;28;43mself\u001B[39;49m\u001B[38;5;241;43m.\u001B[39;49m\u001B[43m_run\u001B[49m\u001B[43m(\u001B[49m\u001B[38;5;28;43;01mNone\u001B[39;49;00m\u001B[43m,\u001B[49m\u001B[43m \u001B[49m\u001B[43mfetches\u001B[49m\u001B[43m,\u001B[49m\u001B[43m \u001B[49m\u001B[43mfeed_dict\u001B[49m\u001B[43m,\u001B[49m\u001B[43m \u001B[49m\u001B[43moptions_ptr\u001B[49m\u001B[43m,\u001B[49m\n\u001B[0;32m    978\u001B[0m \u001B[43m                     \u001B[49m\u001B[43mrun_metadata_ptr\u001B[49m\u001B[43m)\u001B[49m\n\u001B[0;32m    979\u001B[0m   \u001B[38;5;28;01mif\u001B[39;00m run_metadata:\n\u001B[0;32m    980\u001B[0m     proto_data \u001B[38;5;241m=\u001B[39m tf_session\u001B[38;5;241m.\u001B[39mTF_GetBuffer(run_metadata_ptr)\n",
      "File \u001B[1;32m~\\source\\Repos\\Getting-Started-with-Tensorflow\\.venv\\Lib\\site-packages\\tensorflow\\python\\client\\session.py:1147\u001B[0m, in \u001B[0;36mBaseSession._run\u001B[1;34m(self, handle, fetches, feed_dict, options, run_metadata)\u001B[0m\n\u001B[0;32m   1145\u001B[0m   \u001B[38;5;28;01mraise\u001B[39;00m \u001B[38;5;167;01mRuntimeError\u001B[39;00m(\u001B[38;5;124m'\u001B[39m\u001B[38;5;124mAttempted to use a closed Session.\u001B[39m\u001B[38;5;124m'\u001B[39m)\n\u001B[0;32m   1146\u001B[0m \u001B[38;5;28;01mif\u001B[39;00m \u001B[38;5;28mself\u001B[39m\u001B[38;5;241m.\u001B[39mgraph\u001B[38;5;241m.\u001B[39mversion \u001B[38;5;241m==\u001B[39m \u001B[38;5;241m0\u001B[39m:\n\u001B[1;32m-> 1147\u001B[0m   \u001B[38;5;28;01mraise\u001B[39;00m \u001B[38;5;167;01mRuntimeError\u001B[39;00m(\u001B[38;5;124m'\u001B[39m\u001B[38;5;124mThe Session graph is empty. Add operations to the \u001B[39m\u001B[38;5;124m'\u001B[39m\n\u001B[0;32m   1148\u001B[0m                      \u001B[38;5;124m'\u001B[39m\u001B[38;5;124mgraph before calling run().\u001B[39m\u001B[38;5;124m'\u001B[39m)\n\u001B[0;32m   1150\u001B[0m \u001B[38;5;66;03m# Create request.\u001B[39;00m\n\u001B[0;32m   1151\u001B[0m feed_dict_tensor \u001B[38;5;241m=\u001B[39m {}\n",
      "\u001B[1;31mRuntimeError\u001B[0m: The Session graph is empty. Add operations to the graph before calling run()."
     ]
    }
   ],
   "execution_count": 5
  },
  {
   "metadata": {
    "ExecuteTime": {
     "end_time": "2025-02-16T18:17:10.063649Z",
     "start_time": "2025-02-16T18:17:10.056605Z"
    }
   },
   "cell_type": "code",
   "source": "c",
   "id": "17183ef2ffe06f24",
   "outputs": [
    {
     "data": {
      "text/plain": [
       "<tf.Tensor: shape=(), dtype=int32, numpy=12>"
      ]
     },
     "execution_count": 6,
     "metadata": {},
     "output_type": "execute_result"
    }
   ],
   "execution_count": 6
  },
  {
   "metadata": {
    "ExecuteTime": {
     "end_time": "2025-02-16T18:18:16.092189Z",
     "start_time": "2025-02-16T18:18:16.085873Z"
    }
   },
   "cell_type": "code",
   "source": [
    "tf.compat.v1.disable_eager_execution()\n",
    "tf.compat.v1.executing_eagerly()"
   ],
   "id": "77f785d45b524594",
   "outputs": [
    {
     "data": {
      "text/plain": [
       "False"
      ]
     },
     "execution_count": 7,
     "metadata": {},
     "output_type": "execute_result"
    }
   ],
   "execution_count": 7
  },
  {
   "metadata": {
    "ExecuteTime": {
     "end_time": "2025-02-16T18:19:00.921315Z",
     "start_time": "2025-02-16T18:19:00.917315Z"
    }
   },
   "cell_type": "code",
   "source": "tf.compat.v1.reset_default_graph()",
   "id": "e6a31a0182e2f92",
   "outputs": [],
   "execution_count": 8
  },
  {
   "metadata": {
    "ExecuteTime": {
     "end_time": "2025-02-16T18:19:23.566657Z",
     "start_time": "2025-02-16T18:19:23.556658Z"
    }
   },
   "cell_type": "code",
   "source": [
    "a = tf.constant(5, name='a')\n",
    "b = tf.constant(7, name='b')\n",
    "\n",
    "c = tf.add(a, b, name='sum')"
   ],
   "id": "bb08c1bbe832d375",
   "outputs": [],
   "execution_count": 9
  },
  {
   "metadata": {
    "ExecuteTime": {
     "end_time": "2025-02-16T18:19:43.973595Z",
     "start_time": "2025-02-16T18:19:43.969176Z"
    }
   },
   "cell_type": "code",
   "source": "c",
   "id": "a03a52e952cbcff3",
   "outputs": [
    {
     "data": {
      "text/plain": [
       "<tf.Tensor 'sum:0' shape=() dtype=int32>"
      ]
     },
     "execution_count": 10,
     "metadata": {},
     "output_type": "execute_result"
    }
   ],
   "execution_count": 10
  },
  {
   "metadata": {
    "ExecuteTime": {
     "end_time": "2025-02-16T18:34:19.955732Z",
     "start_time": "2025-02-16T18:34:19.943921Z"
    }
   },
   "cell_type": "code",
   "source": [
    "sess = tf.compat.v1.Session()\n",
    "sess.run(c)"
   ],
   "id": "3d29fbdfafcc0cb5",
   "outputs": [
    {
     "data": {
      "text/plain": [
       "np.int32(12)"
      ]
     },
     "execution_count": 11,
     "metadata": {},
     "output_type": "execute_result"
    }
   ],
   "execution_count": 11
  },
  {
   "metadata": {
    "ExecuteTime": {
     "end_time": "2025-02-16T18:35:09.717038Z",
     "start_time": "2025-02-16T18:35:09.706354Z"
    }
   },
   "cell_type": "code",
   "source": [
    "d = tf.multiply(a, b, name='product')\n",
    "sess.run(d)"
   ],
   "id": "e48a51bc1a18f70c",
   "outputs": [
    {
     "data": {
      "text/plain": [
       "np.int32(35)"
      ]
     },
     "execution_count": 12,
     "metadata": {},
     "output_type": "execute_result"
    }
   ],
   "execution_count": 12
  },
  {
   "metadata": {
    "ExecuteTime": {
     "end_time": "2025-02-16T18:35:31.826563Z",
     "start_time": "2025-02-16T18:35:31.822945Z"
    }
   },
   "cell_type": "code",
   "source": "sess.close()",
   "id": "b122e647a8acd46e",
   "outputs": [],
   "execution_count": 13
  },
  {
   "metadata": {
    "ExecuteTime": {
     "end_time": "2025-02-16T18:50:11.172749Z",
     "start_time": "2025-02-16T18:50:11.159753Z"
    }
   },
   "cell_type": "code",
   "source": [
    "m = tf.Variable([4.0, 5.0, 6.0], tf.float32, name='m')\n",
    "c = tf.Variable([1.0, 1.0, 1.0], tf.float32, name='c')"
   ],
   "id": "8c3cc3411b3a88d2",
   "outputs": [],
   "execution_count": 14
  },
  {
   "metadata": {
    "ExecuteTime": {
     "end_time": "2025-02-16T18:50:18.791007Z",
     "start_time": "2025-02-16T18:50:18.783510Z"
    }
   },
   "cell_type": "code",
   "source": "m",
   "id": "92757a48e035cb2b",
   "outputs": [
    {
     "data": {
      "text/plain": [
       "<tf.Variable 'm:0' shape=(3,) dtype=float32>"
      ]
     },
     "execution_count": 15,
     "metadata": {},
     "output_type": "execute_result"
    }
   ],
   "execution_count": 15
  },
  {
   "metadata": {
    "ExecuteTime": {
     "end_time": "2025-02-16T18:50:27.243387Z",
     "start_time": "2025-02-16T18:50:27.238248Z"
    }
   },
   "cell_type": "code",
   "source": "c",
   "id": "ec1554843f3ee859",
   "outputs": [
    {
     "data": {
      "text/plain": [
       "<tf.Variable 'c:0' shape=(3,) dtype=float32>"
      ]
     },
     "execution_count": 16,
     "metadata": {},
     "output_type": "execute_result"
    }
   ],
   "execution_count": 16
  },
  {
   "metadata": {
    "ExecuteTime": {
     "end_time": "2025-02-16T18:51:53.992340Z",
     "start_time": "2025-02-16T18:51:53.985673Z"
    }
   },
   "cell_type": "code",
   "source": [
    "x = tf.compat.v1.placeholder(tf.float32, shape=[3], name='x')\n",
    "x"
   ],
   "id": "3703a0193056306f",
   "outputs": [
    {
     "data": {
      "text/plain": [
       "<tf.Tensor 'x:0' shape=(3,) dtype=float32>"
      ]
     },
     "execution_count": 17,
     "metadata": {},
     "output_type": "execute_result"
    }
   ],
   "execution_count": 17
  },
  {
   "metadata": {
    "ExecuteTime": {
     "end_time": "2025-02-16T18:52:44.194170Z",
     "start_time": "2025-02-16T18:52:44.187821Z"
    }
   },
   "cell_type": "code",
   "source": [
    "y = m * x + c\n",
    "y"
   ],
   "id": "2e6f2583b220f84b",
   "outputs": [
    {
     "data": {
      "text/plain": [
       "<tf.Tensor 'add_1:0' shape=(3,) dtype=float32>"
      ]
     },
     "execution_count": 19,
     "metadata": {},
     "output_type": "execute_result"
    }
   ],
   "execution_count": 19
  },
  {
   "metadata": {
    "ExecuteTime": {
     "end_time": "2025-02-16T18:53:42.238782Z",
     "start_time": "2025-02-16T18:53:42.231734Z"
    }
   },
   "cell_type": "code",
   "source": "init = tf.compat.v1.global_variables_initializer()",
   "id": "e6f738a05c0680fe",
   "outputs": [],
   "execution_count": 20
  },
  {
   "metadata": {
    "ExecuteTime": {
     "end_time": "2025-02-16T18:59:10.920096Z",
     "start_time": "2025-02-16T18:59:10.831499Z"
    }
   },
   "cell_type": "code",
   "source": [
    "with tf.compat.v1.Session() as sess:\n",
    "    sess.run(init)\n",
    "    y_output = sess.run(y, feed_dict={x: [100.0, 100.0, 100.0]})\n",
    "    print (\"Final result: mx + c = \", y_output)\n",
    "    writer = tf.compat.v1.summary.FileWriter('./logs', sess.graph)\n",
    "    writer.close()"
   ],
   "id": "aa004ce7e82fe733",
   "outputs": [
    {
     "name": "stdout",
     "output_type": "stream",
     "text": [
      "Final result: mx + c =  [401. 501. 601.]\n",
      "WARNING:tensorflow:From C:\\Users\\haral\\AppData\\Local\\Temp\\ipykernel_25028\\3252145601.py:5: The name tf.summary.FileWriter is deprecated. Please use tf.compat.v1.summary.FileWriter instead.\n",
      "\n",
      "WARNING:tensorflow:Issue encountered when serializing trainable_variables.\n",
      "Type is unsupported, or the types of the items don't match field type in CollectionDef. Note this is a warning and probably safe to ignore.\n",
      "'DType' object cannot be interpreted as an integer\n",
      "WARNING:tensorflow:Issue encountered when serializing variables.\n",
      "Type is unsupported, or the types of the items don't match field type in CollectionDef. Note this is a warning and probably safe to ignore.\n",
      "'DType' object cannot be interpreted as an integer\n"
     ]
    }
   ],
   "execution_count": 29
  },
  {
   "metadata": {
    "ExecuteTime": {
     "end_time": "2025-02-16T19:07:29.867081Z",
     "start_time": "2025-02-16T19:07:29.851178Z"
    }
   },
   "cell_type": "code",
   "source": "%load_ext tensorboard",
   "id": "a1c8c0c4ff654d73",
   "outputs": [],
   "execution_count": 30
  },
  {
   "metadata": {
    "ExecuteTime": {
     "end_time": "2025-02-16T19:08:09.777682Z",
     "start_time": "2025-02-16T19:08:01.727672Z"
    }
   },
   "cell_type": "code",
   "source": "%tensorboard --logdir='./logs' --port 6050",
   "id": "3d98a4f198a595d6",
   "outputs": [
    {
     "data": {
      "text/plain": [
       "<IPython.core.display.HTML object>"
      ],
      "text/html": [
       "\n",
       "      <iframe id=\"tensorboard-frame-9bbfa235821b46a7\" width=\"100%\" height=\"800\" frameborder=\"0\">\n",
       "      </iframe>\n",
       "      <script>\n",
       "        (function() {\n",
       "          const frame = document.getElementById(\"tensorboard-frame-9bbfa235821b46a7\");\n",
       "          const url = new URL(\"/\", window.location);\n",
       "          const port = 6050;\n",
       "          if (port) {\n",
       "            url.port = port;\n",
       "          }\n",
       "          frame.src = url;\n",
       "        })();\n",
       "      </script>\n",
       "    "
      ]
     },
     "metadata": {},
     "output_type": "display_data"
    }
   ],
   "execution_count": 31
  },
  {
   "metadata": {},
   "cell_type": "code",
   "outputs": [],
   "execution_count": null,
   "source": "",
   "id": "869764f8e3a686c7"
  }
 ],
 "metadata": {
  "kernelspec": {
   "display_name": "Python 3",
   "language": "python",
   "name": "python3"
  },
  "language_info": {
   "codemirror_mode": {
    "name": "ipython",
    "version": 2
   },
   "file_extension": ".py",
   "mimetype": "text/x-python",
   "name": "python",
   "nbconvert_exporter": "python",
   "pygments_lexer": "ipython2",
   "version": "2.7.6"
  }
 },
 "nbformat": 4,
 "nbformat_minor": 5
}
