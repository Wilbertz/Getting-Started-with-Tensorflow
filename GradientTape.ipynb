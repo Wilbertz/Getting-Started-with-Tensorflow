{
 "cells": [
  {
   "cell_type": "code",
   "id": "initial_id",
   "metadata": {
    "collapsed": true,
    "ExecuteTime": {
     "end_time": "2025-02-18T18:17:24.559487Z",
     "start_time": "2025-02-18T18:17:19.779704Z"
    }
   },
   "source": [
    "import numpy as np\n",
    "import matplotlib.pyplot as plt\n",
    "\n",
    "import tensorflow as tf"
   ],
   "outputs": [],
   "execution_count": 1
  },
  {
   "metadata": {
    "ExecuteTime": {
     "end_time": "2025-02-18T18:18:42.601663Z",
     "start_time": "2025-02-18T18:18:42.551940Z"
    }
   },
   "cell_type": "code",
   "source": [
    "x = tf.Variable(4.0)\n",
    "\n",
    "with tf.GradientTape() as tape:\n",
    "    y = x**2"
   ],
   "id": "a653bba0f7b6e440",
   "outputs": [],
   "execution_count": 2
  },
  {
   "metadata": {
    "ExecuteTime": {
     "end_time": "2025-02-18T18:18:52.116547Z",
     "start_time": "2025-02-18T18:18:52.107036Z"
    }
   },
   "cell_type": "code",
   "source": "y",
   "id": "1418fd8bde363ed0",
   "outputs": [
    {
     "data": {
      "text/plain": [
       "<tf.Tensor: shape=(), dtype=float32, numpy=16.0>"
      ]
     },
     "execution_count": 3,
     "metadata": {},
     "output_type": "execute_result"
    }
   ],
   "execution_count": 3
  },
  {
   "metadata": {
    "ExecuteTime": {
     "end_time": "2025-02-18T18:19:32.732812Z",
     "start_time": "2025-02-18T18:19:32.720501Z"
    }
   },
   "cell_type": "code",
   "source": [
    "dy_dx = tape.gradient(y, x)\n",
    "dy_dx"
   ],
   "id": "2e65ec8790e84684",
   "outputs": [
    {
     "data": {
      "text/plain": [
       "<tf.Tensor: shape=(), dtype=float32, numpy=8.0>"
      ]
     },
     "execution_count": 4,
     "metadata": {},
     "output_type": "execute_result"
    }
   ],
   "execution_count": 4
  },
  {
   "metadata": {
    "ExecuteTime": {
     "end_time": "2025-02-18T18:32:52.518216Z",
     "start_time": "2025-02-18T18:32:52.499521Z"
    }
   },
   "cell_type": "code",
   "source": [
    "w = tf.Variable(tf.random.normal((4, 2)))\n",
    "w"
   ],
   "id": "306139edc77a267d",
   "outputs": [
    {
     "data": {
      "text/plain": [
       "<tf.Variable 'Variable:0' shape=(4, 2) dtype=float32, numpy=\n",
       "array([[-0.17161866, -0.08234408],\n",
       "       [-0.9092362 , -0.7766747 ],\n",
       "       [-0.08874968, -0.97454506],\n",
       "       [ 0.40851113,  0.40476117]], dtype=float32)>"
      ]
     },
     "execution_count": 5,
     "metadata": {},
     "output_type": "execute_result"
    }
   ],
   "execution_count": 5
  },
  {
   "metadata": {
    "ExecuteTime": {
     "end_time": "2025-02-18T18:33:43.385944Z",
     "start_time": "2025-02-18T18:33:43.375771Z"
    }
   },
   "cell_type": "code",
   "source": [
    "b = tf.Variable(tf.ones(2, dtype=tf.float32))\n",
    "b"
   ],
   "id": "66df97b16272f038",
   "outputs": [
    {
     "data": {
      "text/plain": [
       "<tf.Variable 'Variable:0' shape=(2,) dtype=float32, numpy=array([1., 1.], dtype=float32)>"
      ]
     },
     "execution_count": 6,
     "metadata": {},
     "output_type": "execute_result"
    }
   ],
   "execution_count": 6
  },
  {
   "metadata": {
    "ExecuteTime": {
     "end_time": "2025-02-18T18:34:50.914126Z",
     "start_time": "2025-02-18T18:34:50.904166Z"
    }
   },
   "cell_type": "code",
   "source": [
    "x = tf.Variable([[10., 20., 30.0, 40.0]], dtype=tf.float32)\n",
    "x"
   ],
   "id": "7b16178fe4920d13",
   "outputs": [
    {
     "data": {
      "text/plain": [
       "<tf.Variable 'Variable:0' shape=(1, 4) dtype=float32, numpy=array([[10., 20., 30., 40.]], dtype=float32)>"
      ]
     },
     "execution_count": 7,
     "metadata": {},
     "output_type": "execute_result"
    }
   ],
   "execution_count": 7
  },
  {
   "metadata": {
    "ExecuteTime": {
     "end_time": "2025-02-18T18:36:57.866455Z",
     "start_time": "2025-02-18T18:36:57.852564Z"
    }
   },
   "cell_type": "code",
   "source": [
    "with tf.GradientTape(persistent=True) as tape:\n",
    "    y = tf.matmul(x, w) + b\n",
    "    loss = tf.reduce_mean(y**2)"
   ],
   "id": "ac10114258c576a9",
   "outputs": [],
   "execution_count": 8
  },
  {
   "metadata": {
    "ExecuteTime": {
     "end_time": "2025-02-18T18:37:39.400556Z",
     "start_time": "2025-02-18T18:37:39.356361Z"
    }
   },
   "cell_type": "code",
   "source": "[dl_dw, dl_db] = tape.gradient(loss, [w, b])",
   "id": "fb109309c7b3dabd",
   "outputs": [],
   "execution_count": 9
  },
  {
   "metadata": {
    "ExecuteTime": {
     "end_time": "2025-02-18T18:38:03.164508Z",
     "start_time": "2025-02-18T18:38:03.160330Z"
    }
   },
   "cell_type": "code",
   "source": "dl_dw",
   "id": "fa9998ba239f2260",
   "outputs": [
    {
     "data": {
      "text/plain": [
       "<tf.Tensor: shape=(4, 2), dtype=float32, numpy=\n",
       "array([[  -52.229546,  -284.0284  ],\n",
       "       [ -104.45909 ,  -568.0568  ],\n",
       "       [ -156.68864 ,  -852.08527 ],\n",
       "       [ -208.91818 , -1136.1136  ]], dtype=float32)>"
      ]
     },
     "execution_count": 10,
     "metadata": {},
     "output_type": "execute_result"
    }
   ],
   "execution_count": 10
  },
  {
   "metadata": {
    "ExecuteTime": {
     "end_time": "2025-02-18T18:38:52.381722Z",
     "start_time": "2025-02-18T18:38:52.376599Z"
    }
   },
   "cell_type": "code",
   "source": "dl_db",
   "id": "8823146a49865e69",
   "outputs": [
    {
     "data": {
      "text/plain": [
       "<tf.Tensor: shape=(2,), dtype=float32, numpy=array([ -5.2229548, -28.402842 ], dtype=float32)>"
      ]
     },
     "execution_count": 11,
     "metadata": {},
     "output_type": "execute_result"
    }
   ],
   "execution_count": 11
  },
  {
   "metadata": {
    "ExecuteTime": {
     "end_time": "2025-02-18T18:44:09.877245Z",
     "start_time": "2025-02-18T18:44:09.872712Z"
    }
   },
   "cell_type": "code",
   "source": [
    "layer = tf.keras.layers.Dense(2, activation='relu')\n",
    "x = tf.constant([[10., 20., 30.]])\n"
   ],
   "id": "5dcc174aa8ba5230",
   "outputs": [],
   "execution_count": 16
  },
  {
   "metadata": {
    "ExecuteTime": {
     "end_time": "2025-02-18T18:44:12.328568Z",
     "start_time": "2025-02-18T18:44:12.315964Z"
    }
   },
   "cell_type": "code",
   "source": [
    "with tf.GradientTape() as tape:\n",
    "    y = layer(x)\n",
    "    loss = tf.reduce_mean(y**2)\n",
    "\n",
    "grad = tape.gradient(loss, layer.trainable_variables)"
   ],
   "id": "10715ba40e565d59",
   "outputs": [],
   "execution_count": 17
  },
  {
   "metadata": {
    "ExecuteTime": {
     "end_time": "2025-02-18T18:44:15.213933Z",
     "start_time": "2025-02-18T18:44:15.208607Z"
    }
   },
   "cell_type": "code",
   "source": "grad",
   "id": "9a39438ffb070bcf",
   "outputs": [
    {
     "data": {
      "text/plain": [
       "[<tf.Tensor: shape=(3, 2), dtype=float32, numpy=\n",
       " array([[177.3985,   0.    ],\n",
       "        [354.797 ,   0.    ],\n",
       "        [532.1955,   0.    ]], dtype=float32)>,\n",
       " <tf.Tensor: shape=(2,), dtype=float32, numpy=array([17.73985,  0.     ], dtype=float32)>]"
      ]
     },
     "execution_count": 18,
     "metadata": {},
     "output_type": "execute_result"
    }
   ],
   "execution_count": 18
  },
  {
   "metadata": {},
   "cell_type": "code",
   "outputs": [],
   "execution_count": null,
   "source": "",
   "id": "273664722c4aa7f0"
  }
 ],
 "metadata": {
  "kernelspec": {
   "display_name": "Python 3",
   "language": "python",
   "name": "python3"
  },
  "language_info": {
   "codemirror_mode": {
    "name": "ipython",
    "version": 2
   },
   "file_extension": ".py",
   "mimetype": "text/x-python",
   "name": "python",
   "nbconvert_exporter": "python",
   "pygments_lexer": "ipython2",
   "version": "2.7.6"
  }
 },
 "nbformat": 4,
 "nbformat_minor": 5
}
