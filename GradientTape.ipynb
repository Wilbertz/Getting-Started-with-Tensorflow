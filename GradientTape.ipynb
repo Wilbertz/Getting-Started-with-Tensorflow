{
 "cells": [
  {
   "cell_type": "code",
   "id": "initial_id",
   "metadata": {
    "collapsed": true,
    "ExecuteTime": {
     "end_time": "2025-02-18T18:17:24.559487Z",
     "start_time": "2025-02-18T18:17:19.779704Z"
    }
   },
   "source": [
    "import numpy as np\n",
    "import matplotlib.pyplot as plt\n",
    "\n",
    "import tensorflow as tf\n",
    "from tensorflow import GradientTape"
   ],
   "outputs": [],
   "execution_count": 1
  },
  {
   "metadata": {
    "ExecuteTime": {
     "end_time": "2025-02-18T18:18:42.601663Z",
     "start_time": "2025-02-18T18:18:42.551940Z"
    }
   },
   "cell_type": "code",
   "source": [
    "x = tf.Variable(4.0)\n",
    "\n",
    "with tf.GradientTape() as tape:\n",
    "    y = x**2"
   ],
   "id": "a653bba0f7b6e440",
   "outputs": [],
   "execution_count": 2
  },
  {
   "metadata": {
    "ExecuteTime": {
     "end_time": "2025-02-18T18:18:52.116547Z",
     "start_time": "2025-02-18T18:18:52.107036Z"
    }
   },
   "cell_type": "code",
   "source": "y",
   "id": "1418fd8bde363ed0",
   "outputs": [
    {
     "data": {
      "text/plain": [
       "<tf.Tensor: shape=(), dtype=float32, numpy=16.0>"
      ]
     },
     "execution_count": 3,
     "metadata": {},
     "output_type": "execute_result"
    }
   ],
   "execution_count": 3
  },
  {
   "metadata": {
    "ExecuteTime": {
     "end_time": "2025-02-18T18:19:32.732812Z",
     "start_time": "2025-02-18T18:19:32.720501Z"
    }
   },
   "cell_type": "code",
   "source": [
    "dy_dx = tape.gradient(y, x)\n",
    "dy_dx"
   ],
   "id": "2e65ec8790e84684",
   "outputs": [
    {
     "data": {
      "text/plain": [
       "<tf.Tensor: shape=(), dtype=float32, numpy=8.0>"
      ]
     },
     "execution_count": 4,
     "metadata": {},
     "output_type": "execute_result"
    }
   ],
   "execution_count": 4
  },
  {
   "metadata": {
    "ExecuteTime": {
     "end_time": "2025-02-18T18:32:52.518216Z",
     "start_time": "2025-02-18T18:32:52.499521Z"
    }
   },
   "cell_type": "code",
   "source": [
    "w = tf.Variable(tf.random.normal((4, 2)))\n",
    "w"
   ],
   "id": "306139edc77a267d",
   "outputs": [
    {
     "data": {
      "text/plain": [
       "<tf.Variable 'Variable:0' shape=(4, 2) dtype=float32, numpy=\n",
       "array([[-0.17161866, -0.08234408],\n",
       "       [-0.9092362 , -0.7766747 ],\n",
       "       [-0.08874968, -0.97454506],\n",
       "       [ 0.40851113,  0.40476117]], dtype=float32)>"
      ]
     },
     "execution_count": 5,
     "metadata": {},
     "output_type": "execute_result"
    }
   ],
   "execution_count": 5
  },
  {
   "metadata": {
    "ExecuteTime": {
     "end_time": "2025-02-18T18:33:43.385944Z",
     "start_time": "2025-02-18T18:33:43.375771Z"
    }
   },
   "cell_type": "code",
   "source": [
    "b = tf.Variable(tf.ones(2, dtype=tf.float32))\n",
    "b"
   ],
   "id": "66df97b16272f038",
   "outputs": [
    {
     "data": {
      "text/plain": [
       "<tf.Variable 'Variable:0' shape=(2,) dtype=float32, numpy=array([1., 1.], dtype=float32)>"
      ]
     },
     "execution_count": 6,
     "metadata": {},
     "output_type": "execute_result"
    }
   ],
   "execution_count": 6
  },
  {
   "metadata": {
    "ExecuteTime": {
     "end_time": "2025-02-18T18:34:50.914126Z",
     "start_time": "2025-02-18T18:34:50.904166Z"
    }
   },
   "cell_type": "code",
   "source": [
    "x = tf.Variable([[10., 20., 30.0, 40.0]], dtype=tf.float32)\n",
    "x"
   ],
   "id": "7b16178fe4920d13",
   "outputs": [
    {
     "data": {
      "text/plain": [
       "<tf.Variable 'Variable:0' shape=(1, 4) dtype=float32, numpy=array([[10., 20., 30., 40.]], dtype=float32)>"
      ]
     },
     "execution_count": 7,
     "metadata": {},
     "output_type": "execute_result"
    }
   ],
   "execution_count": 7
  },
  {
   "metadata": {
    "ExecuteTime": {
     "end_time": "2025-02-18T18:36:57.866455Z",
     "start_time": "2025-02-18T18:36:57.852564Z"
    }
   },
   "cell_type": "code",
   "source": [
    "with tf.GradientTape(persistent=True) as tape:\n",
    "    y = tf.matmul(x, w) + b\n",
    "    loss = tf.reduce_mean(y**2)"
   ],
   "id": "ac10114258c576a9",
   "outputs": [],
   "execution_count": 8
  },
  {
   "metadata": {
    "ExecuteTime": {
     "end_time": "2025-02-18T18:37:39.400556Z",
     "start_time": "2025-02-18T18:37:39.356361Z"
    }
   },
   "cell_type": "code",
   "source": "[dl_dw, dl_db] = tape.gradient(loss, [w, b])",
   "id": "fb109309c7b3dabd",
   "outputs": [],
   "execution_count": 9
  },
  {
   "metadata": {
    "ExecuteTime": {
     "end_time": "2025-02-18T18:38:03.164508Z",
     "start_time": "2025-02-18T18:38:03.160330Z"
    }
   },
   "cell_type": "code",
   "source": "dl_dw",
   "id": "fa9998ba239f2260",
   "outputs": [
    {
     "data": {
      "text/plain": [
       "<tf.Tensor: shape=(4, 2), dtype=float32, numpy=\n",
       "array([[  -52.229546,  -284.0284  ],\n",
       "       [ -104.45909 ,  -568.0568  ],\n",
       "       [ -156.68864 ,  -852.08527 ],\n",
       "       [ -208.91818 , -1136.1136  ]], dtype=float32)>"
      ]
     },
     "execution_count": 10,
     "metadata": {},
     "output_type": "execute_result"
    }
   ],
   "execution_count": 10
  },
  {
   "metadata": {
    "ExecuteTime": {
     "end_time": "2025-02-18T18:38:52.381722Z",
     "start_time": "2025-02-18T18:38:52.376599Z"
    }
   },
   "cell_type": "code",
   "source": "dl_db",
   "id": "8823146a49865e69",
   "outputs": [
    {
     "data": {
      "text/plain": [
       "<tf.Tensor: shape=(2,), dtype=float32, numpy=array([ -5.2229548, -28.402842 ], dtype=float32)>"
      ]
     },
     "execution_count": 11,
     "metadata": {},
     "output_type": "execute_result"
    }
   ],
   "execution_count": 11
  },
  {
   "metadata": {
    "ExecuteTime": {
     "end_time": "2025-02-18T18:44:09.877245Z",
     "start_time": "2025-02-18T18:44:09.872712Z"
    }
   },
   "cell_type": "code",
   "source": [
    "layer = tf.keras.layers.Dense(2, activation='relu')\n",
    "x = tf.constant([[10., 20., 30.]])\n"
   ],
   "id": "5dcc174aa8ba5230",
   "outputs": [],
   "execution_count": 16
  },
  {
   "metadata": {
    "ExecuteTime": {
     "end_time": "2025-02-18T18:44:12.328568Z",
     "start_time": "2025-02-18T18:44:12.315964Z"
    }
   },
   "cell_type": "code",
   "source": [
    "with tf.GradientTape() as tape:\n",
    "    y = layer(x)\n",
    "    loss = tf.reduce_mean(y**2)\n",
    "\n",
    "grad = tape.gradient(loss, layer.trainable_variables)"
   ],
   "id": "10715ba40e565d59",
   "outputs": [],
   "execution_count": 17
  },
  {
   "metadata": {
    "ExecuteTime": {
     "end_time": "2025-02-18T18:44:15.213933Z",
     "start_time": "2025-02-18T18:44:15.208607Z"
    }
   },
   "cell_type": "code",
   "source": "grad",
   "id": "9a39438ffb070bcf",
   "outputs": [
    {
     "data": {
      "text/plain": [
       "[<tf.Tensor: shape=(3, 2), dtype=float32, numpy=\n",
       " array([[177.3985,   0.    ],\n",
       "        [354.797 ,   0.    ],\n",
       "        [532.1955,   0.    ]], dtype=float32)>,\n",
       " <tf.Tensor: shape=(2,), dtype=float32, numpy=array([17.73985,  0.     ], dtype=float32)>]"
      ]
     },
     "execution_count": 18,
     "metadata": {},
     "output_type": "execute_result"
    }
   ],
   "execution_count": 18
  },
  {
   "metadata": {
    "ExecuteTime": {
     "end_time": "2025-02-18T18:51:22.518048Z",
     "start_time": "2025-02-18T18:51:22.511162Z"
    }
   },
   "cell_type": "code",
   "source": [
    "x1 = tf.Variable(5.0)\n",
    "x1"
   ],
   "id": "273664722c4aa7f0",
   "outputs": [
    {
     "data": {
      "text/plain": [
       "<tf.Variable 'Variable:0' shape=() dtype=float32, numpy=5.0>"
      ]
     },
     "execution_count": 19,
     "metadata": {},
     "output_type": "execute_result"
    }
   ],
   "execution_count": 19
  },
  {
   "metadata": {
    "ExecuteTime": {
     "end_time": "2025-02-18T18:51:50.101076Z",
     "start_time": "2025-02-18T18:51:50.092879Z"
    }
   },
   "cell_type": "code",
   "source": [
    "x2 = tf.Variable(5.0, trainable=False)\n",
    "x2"
   ],
   "id": "d68d25c837f0c4df",
   "outputs": [
    {
     "data": {
      "text/plain": [
       "<tf.Variable 'Variable:0' shape=() dtype=float32, numpy=5.0>"
      ]
     },
     "execution_count": 20,
     "metadata": {},
     "output_type": "execute_result"
    }
   ],
   "execution_count": 20
  },
  {
   "metadata": {
    "ExecuteTime": {
     "end_time": "2025-02-18T18:52:29.703792Z",
     "start_time": "2025-02-18T18:52:29.698395Z"
    }
   },
   "cell_type": "code",
   "source": [
    "x3 = tf.add(x1, x2)\n",
    "x3"
   ],
   "id": "3d324b3bdc317d6f",
   "outputs": [
    {
     "data": {
      "text/plain": [
       "<tf.Tensor: shape=(), dtype=float32, numpy=10.0>"
      ]
     },
     "execution_count": 22,
     "metadata": {},
     "output_type": "execute_result"
    }
   ],
   "execution_count": 22
  },
  {
   "metadata": {
    "ExecuteTime": {
     "end_time": "2025-02-18T18:53:04.368416Z",
     "start_time": "2025-02-18T18:53:04.363462Z"
    }
   },
   "cell_type": "code",
   "source": [
    "x4 = tf.constant(5.0)\n",
    "x4"
   ],
   "id": "9e5d323422512525",
   "outputs": [
    {
     "data": {
      "text/plain": [
       "<tf.Tensor: shape=(), dtype=float32, numpy=5.0>"
      ]
     },
     "execution_count": 23,
     "metadata": {},
     "output_type": "execute_result"
    }
   ],
   "execution_count": 23
  },
  {
   "metadata": {
    "ExecuteTime": {
     "end_time": "2025-02-18T18:59:35.543771Z",
     "start_time": "2025-02-18T18:59:35.536497Z"
    }
   },
   "cell_type": "code",
   "source": [
    "with tf.GradientTape() as tape:\n",
    "    y = (x1**2) + (x2**2) + (x3**2) + (x4**2)\n",
    "\n",
    "grad = tape.gradient(y, [x1, x2, x3, x4])\n",
    "grad"
   ],
   "id": "dae1640e8304ad6e",
   "outputs": [
    {
     "data": {
      "text/plain": [
       "[<tf.Tensor: shape=(), dtype=float32, numpy=10.0>, None, None, None]"
      ]
     },
     "execution_count": 25,
     "metadata": {},
     "output_type": "execute_result"
    }
   ],
   "execution_count": 25
  },
  {
   "metadata": {
    "ExecuteTime": {
     "end_time": "2025-02-18T19:02:18.409371Z",
     "start_time": "2025-02-18T19:02:18.403042Z"
    }
   },
   "cell_type": "code",
   "source": [
    "x1 = tf.Variable(5.0)\n",
    "x2 = tf.Variable(3.0)\n",
    "\n",
    "with tf.GradientTape() as tape:\n",
    "    tape.watch(x1)\n",
    "    \n",
    "    y = (x1**2) + (x2**2)"
   ],
   "id": "dbc5c9ec94347afc",
   "outputs": [],
   "execution_count": 26
  },
  {
   "metadata": {
    "ExecuteTime": {
     "end_time": "2025-02-18T19:02:48.695840Z",
     "start_time": "2025-02-18T19:02:48.689783Z"
    }
   },
   "cell_type": "code",
   "source": [
    "[dy_dx1, dy_dx2] = tape.gradient(y, [x1, x2])\n",
    "dy_dx1, dy_dx2"
   ],
   "id": "c5cb1556cd2f38b1",
   "outputs": [
    {
     "data": {
      "text/plain": [
       "(<tf.Tensor: shape=(), dtype=float32, numpy=10.0>,\n",
       " <tf.Tensor: shape=(), dtype=float32, numpy=6.0>)"
      ]
     },
     "execution_count": 27,
     "metadata": {},
     "output_type": "execute_result"
    }
   ],
   "execution_count": 27
  },
  {
   "metadata": {
    "ExecuteTime": {
     "end_time": "2025-02-18T19:11:30.027432Z",
     "start_time": "2025-02-18T19:11:30.022472Z"
    }
   },
   "cell_type": "code",
   "source": [
    "with tf.GradientTape(watch_accessed_variables=False) as tape:\n",
    "    tape.watch(x1)\n",
    "    \n",
    "    y = (x1**2) + (x2**2)"
   ],
   "id": "c22bdc4dada27199",
   "outputs": [],
   "execution_count": 28
  },
  {
   "metadata": {
    "ExecuteTime": {
     "end_time": "2025-02-18T19:11:39.107653Z",
     "start_time": "2025-02-18T19:11:39.102340Z"
    }
   },
   "cell_type": "code",
   "source": [
    "[dy_dx1, dy_dx2] = tape.gradient(y, [x1, x2])\n",
    "dy_dx1, dy_dx2"
   ],
   "id": "7edb3c6f8e2b2b45",
   "outputs": [
    {
     "data": {
      "text/plain": [
       "(<tf.Tensor: shape=(), dtype=float32, numpy=10.0>, None)"
      ]
     },
     "execution_count": 29,
     "metadata": {},
     "output_type": "execute_result"
    }
   ],
   "execution_count": 29
  },
  {
   "metadata": {
    "ExecuteTime": {
     "end_time": "2025-02-18T19:13:20.507305Z",
     "start_time": "2025-02-18T19:13:20.502641Z"
    }
   },
   "cell_type": "code",
   "source": [
    "x = tf.constant(1.0)\n",
    "x1 = tf.Variable(5.0)\n",
    "x2 = tf.Variable(3.0)"
   ],
   "id": "9de81dde01230e4c",
   "outputs": [],
   "execution_count": 30
  },
  {
   "metadata": {
    "ExecuteTime": {
     "end_time": "2025-02-18T19:15:39.646042Z",
     "start_time": "2025-02-18T19:15:39.636330Z"
    }
   },
   "cell_type": "code",
   "source": [
    "with tf.GradientTape(persistent=True) as tape:\n",
    "    tape.watch(x)\n",
    "    \n",
    "    if x > 0.0:\n",
    "        result = x1**2\n",
    "    else:\n",
    "        result = x2**2\n",
    "     \n",
    "dx1, dx2 = tape.gradient(result, [x1, x2])\n",
    "dx1, dx2"
   ],
   "id": "497d9942005accf4",
   "outputs": [
    {
     "data": {
      "text/plain": [
       "(<tf.Tensor: shape=(), dtype=float32, numpy=10.0>, None)"
      ]
     },
     "execution_count": 31,
     "metadata": {},
     "output_type": "execute_result"
    }
   ],
   "execution_count": 31
  },
  {
   "metadata": {
    "ExecuteTime": {
     "end_time": "2025-02-18T19:16:53.903163Z",
     "start_time": "2025-02-18T19:16:53.895166Z"
    }
   },
   "cell_type": "code",
   "source": [
    "x = tf.constant(-1.0)\n",
    "x1 = tf.Variable(5.0)\n",
    "x2 = tf.Variable(3.0)"
   ],
   "id": "f44bc1aabf23ab46",
   "outputs": [],
   "execution_count": 32
  },
  {
   "metadata": {
    "ExecuteTime": {
     "end_time": "2025-02-18T19:17:15.284992Z",
     "start_time": "2025-02-18T19:17:15.278574Z"
    }
   },
   "cell_type": "code",
   "source": [
    "with tf.GradientTape(persistent=True) as tape:\n",
    "    tape.watch(x)\n",
    "    \n",
    "    if x > 0.0:\n",
    "        result = x1**2\n",
    "    else:\n",
    "        result = x2**2\n",
    "     \n",
    "dx1, dx2 = tape.gradient(result, [x1, x2])\n",
    "dx1, dx2"
   ],
   "id": "2c3dae857f5528b9",
   "outputs": [
    {
     "data": {
      "text/plain": [
       "(None, <tf.Tensor: shape=(), dtype=float32, numpy=6.0>)"
      ]
     },
     "execution_count": 33,
     "metadata": {},
     "output_type": "execute_result"
    }
   ],
   "execution_count": 33
  },
  {
   "metadata": {
    "ExecuteTime": {
     "end_time": "2025-02-18T19:24:24.016075Z",
     "start_time": "2025-02-18T19:24:24.009261Z"
    }
   },
   "cell_type": "code",
   "source": [
    "x = tf.Variable(2.)\n",
    "y = tf.Variable(3.)\n",
    "\n",
    "with tf.GradientTape() as tape:\n",
    "    z = y * y\n",
    "    \n",
    "    dy_dx = tape.gradient(z, x)\n",
    "    \n",
    "print(dy_dx)"
   ],
   "id": "74cb063ebecd847",
   "outputs": [
    {
     "name": "stdout",
     "output_type": "stream",
     "text": [
      "None\n"
     ]
    }
   ],
   "execution_count": 34
  },
  {
   "metadata": {},
   "cell_type": "code",
   "outputs": [],
   "execution_count": null,
   "source": "",
   "id": "320002ba16f7e29e"
  }
 ],
 "metadata": {
  "kernelspec": {
   "display_name": "Python 3",
   "language": "python",
   "name": "python3"
  },
  "language_info": {
   "codemirror_mode": {
    "name": "ipython",
    "version": 2
   },
   "file_extension": ".py",
   "mimetype": "text/x-python",
   "name": "python",
   "nbconvert_exporter": "python",
   "pygments_lexer": "ipython2",
   "version": "2.7.6"
  }
 },
 "nbformat": 4,
 "nbformat_minor": 5
}
