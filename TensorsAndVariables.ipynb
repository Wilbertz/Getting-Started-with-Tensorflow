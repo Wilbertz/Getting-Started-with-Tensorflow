{
 "cells": [
  {
   "metadata": {
    "ExecuteTime": {
     "end_time": "2025-02-15T19:48:22.666468Z",
     "start_time": "2025-02-15T19:48:22.663283Z"
    }
   },
   "cell_type": "code",
   "source": [
    "import tensorflow as tf\n",
    "import numpy as np\n",
    "\n",
    "tf.debugging.set_log_device_placement(True)"
   ],
   "id": "a7e1432c7321f78d",
   "outputs": [],
   "execution_count": 4
  },
  {
   "metadata": {
    "ExecuteTime": {
     "end_time": "2025-02-15T19:49:12.155300Z",
     "start_time": "2025-02-15T19:49:12.150312Z"
    }
   },
   "cell_type": "code",
   "source": "tf.executing_eagerly()",
   "id": "fa9884f063a39eac",
   "outputs": [
    {
     "data": {
      "text/plain": [
       "True"
      ]
     },
     "execution_count": 5,
     "metadata": {},
     "output_type": "execute_result"
    }
   ],
   "execution_count": 5
  },
  {
   "metadata": {
    "ExecuteTime": {
     "end_time": "2025-02-15T19:50:04.962335Z",
     "start_time": "2025-02-15T19:50:04.937127Z"
    }
   },
   "cell_type": "code",
   "source": [
    "x0 = tf.constant(3)\n",
    "x0"
   ],
   "id": "f8300157fc2c051a",
   "outputs": [
    {
     "name": "stdout",
     "output_type": "stream",
     "text": [
      "Executing op _EagerConst in device /job:localhost/replica:0/task:0/device:CPU:0\n"
     ]
    },
    {
     "data": {
      "text/plain": [
       "<tf.Tensor: shape=(), dtype=int32, numpy=3>"
      ]
     },
     "execution_count": 7,
     "metadata": {},
     "output_type": "execute_result"
    }
   ],
   "execution_count": 7
  },
  {
   "metadata": {
    "ExecuteTime": {
     "end_time": "2025-02-15T19:50:34.604551Z",
     "start_time": "2025-02-15T19:50:34.599308Z"
    }
   },
   "cell_type": "code",
   "source": "print(x0)",
   "id": "347d3f25a52b158c",
   "outputs": [
    {
     "name": "stdout",
     "output_type": "stream",
     "text": [
      "tf.Tensor(3, shape=(), dtype=int32)\n"
     ]
    }
   ],
   "execution_count": 8
  },
  {
   "metadata": {
    "ExecuteTime": {
     "end_time": "2025-02-15T19:50:54.524697Z",
     "start_time": "2025-02-15T19:50:54.520337Z"
    }
   },
   "cell_type": "code",
   "source": "x0.shape",
   "id": "2169dbb76918a06b",
   "outputs": [
    {
     "data": {
      "text/plain": [
       "TensorShape([])"
      ]
     },
     "execution_count": 9,
     "metadata": {},
     "output_type": "execute_result"
    }
   ],
   "execution_count": 9
  },
  {
   "metadata": {
    "ExecuteTime": {
     "end_time": "2025-02-15T19:51:19.021561Z",
     "start_time": "2025-02-15T19:51:19.014820Z"
    }
   },
   "cell_type": "code",
   "source": "x0.dtype",
   "id": "80ac87d5a60371ec",
   "outputs": [
    {
     "data": {
      "text/plain": [
       "tf.int32"
      ]
     },
     "execution_count": 10,
     "metadata": {},
     "output_type": "execute_result"
    }
   ],
   "execution_count": 10
  },
  {
   "metadata": {
    "ExecuteTime": {
     "end_time": "2025-02-15T19:51:42.116925Z",
     "start_time": "2025-02-15T19:51:42.108320Z"
    }
   },
   "cell_type": "code",
   "source": "x0.numpy()",
   "id": "66412de7c6a3c93a",
   "outputs": [
    {
     "data": {
      "text/plain": [
       "np.int32(3)"
      ]
     },
     "execution_count": 11,
     "metadata": {},
     "output_type": "execute_result"
    }
   ],
   "execution_count": 11
  },
  {
   "metadata": {
    "ExecuteTime": {
     "end_time": "2025-02-15T19:52:35.345373Z",
     "start_time": "2025-02-15T19:52:35.338771Z"
    }
   },
   "cell_type": "code",
   "source": [
    "result0 = x0 + 5\n",
    "result0"
   ],
   "id": "4663088680ba4081",
   "outputs": [
    {
     "name": "stdout",
     "output_type": "stream",
     "text": [
      "Executing op AddV2 in device /job:localhost/replica:0/task:0/device:CPU:0\n"
     ]
    },
    {
     "data": {
      "text/plain": [
       "<tf.Tensor: shape=(), dtype=int32, numpy=8>"
      ]
     },
     "execution_count": 13,
     "metadata": {},
     "output_type": "execute_result"
    }
   ],
   "execution_count": 13
  },
  {
   "metadata": {
    "ExecuteTime": {
     "end_time": "2025-02-15T19:53:52.116786Z",
     "start_time": "2025-02-15T19:53:52.107731Z"
    }
   },
   "cell_type": "code",
   "source": [
    "x1 = tf.constant([1.1, 2.2, 3.3, 4.4])\n",
    "x1"
   ],
   "id": "e191d171824509d4",
   "outputs": [
    {
     "name": "stdout",
     "output_type": "stream",
     "text": [
      "Executing op _EagerConst in device /job:localhost/replica:0/task:0/device:CPU:0\n"
     ]
    },
    {
     "data": {
      "text/plain": [
       "<tf.Tensor: shape=(4,), dtype=float32, numpy=array([1.1, 2.2, 3.3, 4.4], dtype=float32)>"
      ]
     },
     "execution_count": 14,
     "metadata": {},
     "output_type": "execute_result"
    }
   ],
   "execution_count": 14
  },
  {
   "metadata": {
    "ExecuteTime": {
     "end_time": "2025-02-15T19:54:45.219303Z",
     "start_time": "2025-02-15T19:54:45.213751Z"
    }
   },
   "cell_type": "code",
   "source": [
    "result1 = x1 + 5\n",
    "result1"
   ],
   "id": "49bcd5918ea0a8c2",
   "outputs": [
    {
     "name": "stdout",
     "output_type": "stream",
     "text": [
      "Executing op AddV2 in device /job:localhost/replica:0/task:0/device:CPU:0\n"
     ]
    },
    {
     "data": {
      "text/plain": [
       "<tf.Tensor: shape=(4,), dtype=float32, numpy=array([6.1, 7.2, 8.3, 9.4], dtype=float32)>"
      ]
     },
     "execution_count": 16,
     "metadata": {},
     "output_type": "execute_result"
    }
   ],
   "execution_count": 16
  },
  {
   "metadata": {
    "ExecuteTime": {
     "end_time": "2025-02-15T19:55:34.087660Z",
     "start_time": "2025-02-15T19:55:34.081310Z"
    }
   },
   "cell_type": "code",
   "source": [
    "result1 = x1 + tf.constant(5.0)\n",
    "result1"
   ],
   "id": "31460aaca3230e20",
   "outputs": [
    {
     "name": "stdout",
     "output_type": "stream",
     "text": [
      "Executing op AddV2 in device /job:localhost/replica:0/task:0/device:CPU:0\n"
     ]
    },
    {
     "data": {
      "text/plain": [
       "<tf.Tensor: shape=(4,), dtype=float32, numpy=array([6.1, 7.2, 8.3, 9.4], dtype=float32)>"
      ]
     },
     "execution_count": 18,
     "metadata": {},
     "output_type": "execute_result"
    }
   ],
   "execution_count": 18
  },
  {
   "metadata": {
    "ExecuteTime": {
     "end_time": "2025-02-15T19:56:28.943805Z",
     "start_time": "2025-02-15T19:56:28.937802Z"
    }
   },
   "cell_type": "code",
   "source": [
    "result1 = tf.add(x1, tf.constant(5.0))\n",
    "result1"
   ],
   "id": "37ec4a3d578e4e65",
   "outputs": [
    {
     "name": "stdout",
     "output_type": "stream",
     "text": [
      "Executing op AddV2 in device /job:localhost/replica:0/task:0/device:CPU:0\n"
     ]
    },
    {
     "data": {
      "text/plain": [
       "<tf.Tensor: shape=(4,), dtype=float32, numpy=array([6.1, 7.2, 8.3, 9.4], dtype=float32)>"
      ]
     },
     "execution_count": 20,
     "metadata": {},
     "output_type": "execute_result"
    }
   ],
   "execution_count": 20
  },
  {
   "metadata": {
    "ExecuteTime": {
     "end_time": "2025-02-15T20:06:16.457659Z",
     "start_time": "2025-02-15T20:06:16.452101Z"
    }
   },
   "cell_type": "code",
   "source": [
    "x2 = tf.constant([[1, 2, 3, 4], [5, 6, 7, 8]])\n",
    "x2"
   ],
   "id": "68232f65585f9d9",
   "outputs": [
    {
     "name": "stdout",
     "output_type": "stream",
     "text": [
      "Executing op _EagerConst in device /job:localhost/replica:0/task:0/device:CPU:0\n"
     ]
    },
    {
     "data": {
      "text/plain": [
       "<tf.Tensor: shape=(2, 4), dtype=int32, numpy=\n",
       "array([[1, 2, 3, 4],\n",
       "       [5, 6, 7, 8]], dtype=int32)>"
      ]
     },
     "execution_count": 22,
     "metadata": {},
     "output_type": "execute_result"
    }
   ],
   "execution_count": 22
  },
  {
   "metadata": {
    "ExecuteTime": {
     "end_time": "2025-02-15T20:08:03.433918Z",
     "start_time": "2025-02-15T20:08:03.426415Z"
    }
   },
   "cell_type": "code",
   "source": [
    "x2 = tf.cast(x2, tf.float32)\n",
    "x2"
   ],
   "id": "7429d4d5c20d7ce3",
   "outputs": [
    {
     "name": "stdout",
     "output_type": "stream",
     "text": [
      "Executing op Cast in device /job:localhost/replica:0/task:0/device:CPU:0\n"
     ]
    },
    {
     "data": {
      "text/plain": [
       "<tf.Tensor: shape=(2, 4), dtype=float32, numpy=\n",
       "array([[1., 2., 3., 4.],\n",
       "       [5., 6., 7., 8.]], dtype=float32)>"
      ]
     },
     "execution_count": 23,
     "metadata": {},
     "output_type": "execute_result"
    }
   ],
   "execution_count": 23
  },
  {
   "metadata": {
    "ExecuteTime": {
     "end_time": "2025-02-15T20:09:00.877280Z",
     "start_time": "2025-02-15T20:09:00.869929Z"
    }
   },
   "cell_type": "code",
   "source": "x1",
   "id": "200e1d31fc303e42",
   "outputs": [
    {
     "data": {
      "text/plain": [
       "<tf.Tensor: shape=(4,), dtype=float32, numpy=array([1.1, 2.2, 3.3, 4.4], dtype=float32)>"
      ]
     },
     "execution_count": 24,
     "metadata": {},
     "output_type": "execute_result"
    }
   ],
   "execution_count": 24
  },
  {
   "metadata": {
    "ExecuteTime": {
     "end_time": "2025-02-15T20:09:30.402920Z",
     "start_time": "2025-02-15T20:09:30.398552Z"
    }
   },
   "cell_type": "code",
   "source": [
    "arr_x1 = x1.numpy()\n",
    "arr_x1"
   ],
   "id": "8075f5b9f5f04dac",
   "outputs": [
    {
     "data": {
      "text/plain": [
       "array([1.1, 2.2, 3.3, 4.4], dtype=float32)"
      ]
     },
     "execution_count": 25,
     "metadata": {},
     "output_type": "execute_result"
    }
   ],
   "execution_count": 25
  },
  {
   "metadata": {
    "ExecuteTime": {
     "end_time": "2025-02-15T20:11:00.491257Z",
     "start_time": "2025-02-15T20:11:00.486239Z"
    }
   },
   "cell_type": "code",
   "source": [
    "arr_x4 = np.array([[10, 20], [30, 40], [50, 60]])\n",
    "arr_x4"
   ],
   "id": "9f336d76f79efb2d",
   "outputs": [
    {
     "data": {
      "text/plain": [
       "array([[10, 20],\n",
       "       [30, 40],\n",
       "       [50, 60]])"
      ]
     },
     "execution_count": 27,
     "metadata": {},
     "output_type": "execute_result"
    }
   ],
   "execution_count": 27
  },
  {
   "metadata": {
    "ExecuteTime": {
     "end_time": "2025-02-15T20:12:04.169791Z",
     "start_time": "2025-02-15T20:12:04.161418Z"
    }
   },
   "cell_type": "code",
   "source": [
    "x4 = tf.convert_to_tensor(arr_x4)\n",
    "x4"
   ],
   "id": "946696f229c4031f",
   "outputs": [
    {
     "name": "stdout",
     "output_type": "stream",
     "text": [
      "Executing op _EagerConst in device /job:localhost/replica:0/task:0/device:CPU:0\n"
     ]
    },
    {
     "data": {
      "text/plain": [
       "<tf.Tensor: shape=(3, 2), dtype=int64, numpy=\n",
       "array([[10, 20],\n",
       "       [30, 40],\n",
       "       [50, 60]])>"
      ]
     },
     "execution_count": 28,
     "metadata": {},
     "output_type": "execute_result"
    }
   ],
   "execution_count": 28
  },
  {
   "metadata": {
    "ExecuteTime": {
     "end_time": "2025-02-15T20:13:01.514820Z",
     "start_time": "2025-02-15T20:13:01.508783Z"
    }
   },
   "cell_type": "code",
   "source": "np.square(x2)",
   "id": "8ac07002f261590a",
   "outputs": [
    {
     "data": {
      "text/plain": [
       "array([[ 1.,  4.,  9., 16.],\n",
       "       [25., 36., 49., 64.]], dtype=float32)"
      ]
     },
     "execution_count": 29,
     "metadata": {},
     "output_type": "execute_result"
    }
   ],
   "execution_count": 29
  },
  {
   "metadata": {
    "ExecuteTime": {
     "end_time": "2025-02-15T20:13:30.995517Z",
     "start_time": "2025-02-15T20:13:30.990353Z"
    }
   },
   "cell_type": "code",
   "source": "np.sqrt(x2)",
   "id": "776b5f74e90e1be7",
   "outputs": [
    {
     "data": {
      "text/plain": [
       "array([[1.       , 1.4142135, 1.7320508, 2.       ],\n",
       "       [2.236068 , 2.4494898, 2.6457512, 2.828427 ]], dtype=float32)"
      ]
     },
     "execution_count": 30,
     "metadata": {},
     "output_type": "execute_result"
    }
   ],
   "execution_count": 30
  },
  {
   "metadata": {
    "ExecuteTime": {
     "end_time": "2025-02-15T20:14:19.019143Z",
     "start_time": "2025-02-15T20:14:19.014649Z"
    }
   },
   "cell_type": "code",
   "source": "tf.is_tensor(arr_x4)",
   "id": "6d8a51a62c19dee2",
   "outputs": [
    {
     "data": {
      "text/plain": [
       "False"
      ]
     },
     "execution_count": 31,
     "metadata": {},
     "output_type": "execute_result"
    }
   ],
   "execution_count": 31
  },
  {
   "metadata": {
    "ExecuteTime": {
     "end_time": "2025-02-15T20:14:33.910628Z",
     "start_time": "2025-02-15T20:14:33.907063Z"
    }
   },
   "cell_type": "code",
   "source": "tf.is_tensor(x4)",
   "id": "98ae93174c882d7b",
   "outputs": [
    {
     "data": {
      "text/plain": [
       "True"
      ]
     },
     "execution_count": 32,
     "metadata": {},
     "output_type": "execute_result"
    }
   ],
   "execution_count": 32
  },
  {
   "metadata": {
    "ExecuteTime": {
     "end_time": "2025-02-15T20:15:21.891129Z",
     "start_time": "2025-02-15T20:15:21.881576Z"
    }
   },
   "cell_type": "code",
   "source": [
    "t0 = tf.zeros([3, 5], tf.int32)\n",
    "t0"
   ],
   "id": "fa3e2cd0d6e98231",
   "outputs": [
    {
     "name": "stdout",
     "output_type": "stream",
     "text": [
      "Executing op _EagerConst in device /job:localhost/replica:0/task:0/device:CPU:0\n",
      "Executing op _EagerConst in device /job:localhost/replica:0/task:0/device:CPU:0\n",
      "Executing op Fill in device /job:localhost/replica:0/task:0/device:CPU:0\n"
     ]
    },
    {
     "data": {
      "text/plain": [
       "<tf.Tensor: shape=(3, 5), dtype=int32, numpy=\n",
       "array([[0, 0, 0, 0, 0],\n",
       "       [0, 0, 0, 0, 0],\n",
       "       [0, 0, 0, 0, 0]], dtype=int32)>"
      ]
     },
     "execution_count": 33,
     "metadata": {},
     "output_type": "execute_result"
    }
   ],
   "execution_count": 33
  },
  {
   "metadata": {
    "ExecuteTime": {
     "end_time": "2025-02-15T20:16:08.316197Z",
     "start_time": "2025-02-15T20:16:08.309475Z"
    }
   },
   "cell_type": "code",
   "source": [
    "t1 = tf.ones([2, 3], tf.int32)\n",
    "t1"
   ],
   "id": "4bc891325a1391e0",
   "outputs": [
    {
     "name": "stdout",
     "output_type": "stream",
     "text": [
      "Executing op _EagerConst in device /job:localhost/replica:0/task:0/device:CPU:0\n",
      "Executing op _EagerConst in device /job:localhost/replica:0/task:0/device:CPU:0\n",
      "Executing op Fill in device /job:localhost/replica:0/task:0/device:CPU:0\n"
     ]
    },
    {
     "data": {
      "text/plain": [
       "<tf.Tensor: shape=(2, 3), dtype=int32, numpy=\n",
       "array([[1, 1, 1],\n",
       "       [1, 1, 1]], dtype=int32)>"
      ]
     },
     "execution_count": 34,
     "metadata": {},
     "output_type": "execute_result"
    }
   ],
   "execution_count": 34
  },
  {
   "metadata": {
    "ExecuteTime": {
     "end_time": "2025-02-15T20:16:51.696063Z",
     "start_time": "2025-02-15T20:16:51.685148Z"
    }
   },
   "cell_type": "code",
   "source": [
    "t0_reshaped = tf.reshape(t0, [5, 3])\n",
    "t0_reshaped"
   ],
   "id": "aa3851003d4c6d4b",
   "outputs": [
    {
     "name": "stdout",
     "output_type": "stream",
     "text": [
      "Executing op _EagerConst in device /job:localhost/replica:0/task:0/device:CPU:0\n",
      "Executing op Reshape in device /job:localhost/replica:0/task:0/device:CPU:0\n"
     ]
    },
    {
     "data": {
      "text/plain": [
       "<tf.Tensor: shape=(5, 3), dtype=int32, numpy=\n",
       "array([[0, 0, 0],\n",
       "       [0, 0, 0],\n",
       "       [0, 0, 0],\n",
       "       [0, 0, 0],\n",
       "       [0, 0, 0]], dtype=int32)>"
      ]
     },
     "execution_count": 35,
     "metadata": {},
     "output_type": "execute_result"
    }
   ],
   "execution_count": 35
  },
  {
   "metadata": {
    "ExecuteTime": {
     "end_time": "2025-02-15T20:32:36.226901Z",
     "start_time": "2025-02-15T20:32:36.208141Z"
    }
   },
   "cell_type": "code",
   "source": [
    "v1 = tf.Variable([[1.5, 2, 5], [2, 6, 8]])\n",
    "v1"
   ],
   "id": "f18f5db70c083c56",
   "outputs": [
    {
     "name": "stdout",
     "output_type": "stream",
     "text": [
      "Executing op _EagerConst in device /job:localhost/replica:0/task:0/device:CPU:0\n",
      "Executing op VarHandleOp in device /job:localhost/replica:0/task:0/device:CPU:0\n",
      "Executing op AssignVariableOp in device /job:localhost/replica:0/task:0/device:CPU:0\n",
      "Executing op ReadVariableOp in device /job:localhost/replica:0/task:0/device:CPU:0\n",
      "Executing op Identity in device /job:localhost/replica:0/task:0/device:CPU:0\n"
     ]
    },
    {
     "data": {
      "text/plain": [
       "<tf.Variable 'Variable:0' shape=(2, 3) dtype=float32, numpy=\n",
       "array([[1.5, 2. , 5. ],\n",
       "       [2. , 6. , 8. ]], dtype=float32)>"
      ]
     },
     "execution_count": 36,
     "metadata": {},
     "output_type": "execute_result"
    }
   ],
   "execution_count": 36
  },
  {
   "metadata": {
    "ExecuteTime": {
     "end_time": "2025-02-15T20:34:09.840307Z",
     "start_time": "2025-02-15T20:34:09.826748Z"
    }
   },
   "cell_type": "code",
   "source": [
    "v2 = tf.Variable([[1, 2, 3], [4, 5, 6]])\n",
    "v2"
   ],
   "id": "342139397e23eba2",
   "outputs": [
    {
     "name": "stdout",
     "output_type": "stream",
     "text": [
      "Executing op _EagerConst in device /job:localhost/replica:0/task:0/device:CPU:0\n",
      "Executing op VarHandleOp in device /job:localhost/replica:0/task:0/device:CPU:0\n",
      "Executing op AssignVariableOp in device /job:localhost/replica:0/task:0/device:CPU:0\n",
      "Executing op ReadVariableOp in device /job:localhost/replica:0/task:0/device:CPU:0\n",
      "Executing op Identity in device /job:localhost/replica:0/task:0/device:CPU:0\n"
     ]
    },
    {
     "data": {
      "text/plain": [
       "<tf.Variable 'Variable:0' shape=(2, 3) dtype=int32, numpy=\n",
       "array([[1, 2, 3],\n",
       "       [4, 5, 6]], dtype=int32)>"
      ]
     },
     "execution_count": 37,
     "metadata": {},
     "output_type": "execute_result"
    }
   ],
   "execution_count": 37
  },
  {
   "metadata": {
    "ExecuteTime": {
     "end_time": "2025-02-15T20:34:47.832749Z",
     "start_time": "2025-02-15T20:34:47.823008Z"
    }
   },
   "cell_type": "code",
   "source": [
    "v2 = tf.Variable([[1, 2, 3], [4, 5, 6]], dtype=tf.float32)\n",
    "v2"
   ],
   "id": "7430ef0a161a5604",
   "outputs": [
    {
     "name": "stdout",
     "output_type": "stream",
     "text": [
      "Executing op _EagerConst in device /job:localhost/replica:0/task:0/device:CPU:0\n",
      "Executing op VarHandleOp in device /job:localhost/replica:0/task:0/device:CPU:0\n",
      "Executing op AssignVariableOp in device /job:localhost/replica:0/task:0/device:CPU:0\n",
      "Executing op ReadVariableOp in device /job:localhost/replica:0/task:0/device:CPU:0\n",
      "Executing op Identity in device /job:localhost/replica:0/task:0/device:CPU:0\n"
     ]
    },
    {
     "data": {
      "text/plain": [
       "<tf.Variable 'Variable:0' shape=(2, 3) dtype=float32, numpy=\n",
       "array([[1., 2., 3.],\n",
       "       [4., 5., 6.]], dtype=float32)>"
      ]
     },
     "execution_count": 38,
     "metadata": {},
     "output_type": "execute_result"
    }
   ],
   "execution_count": 38
  },
  {
   "metadata": {
    "ExecuteTime": {
     "end_time": "2025-02-15T20:35:20.685852Z",
     "start_time": "2025-02-15T20:35:20.677705Z"
    }
   },
   "cell_type": "code",
   "source": "tf.add(v1, v2)",
   "id": "4ec9a2e956a0c5d2",
   "outputs": [
    {
     "name": "stdout",
     "output_type": "stream",
     "text": [
      "Executing op ReadVariableOp in device /job:localhost/replica:0/task:0/device:CPU:0\n",
      "Executing op ReadVariableOp in device /job:localhost/replica:0/task:0/device:CPU:0\n",
      "Executing op AddV2 in device /job:localhost/replica:0/task:0/device:CPU:0\n"
     ]
    },
    {
     "data": {
      "text/plain": [
       "<tf.Tensor: shape=(2, 3), dtype=float32, numpy=\n",
       "array([[ 2.5,  4. ,  8. ],\n",
       "       [ 6. , 11. , 14. ]], dtype=float32)>"
      ]
     },
     "execution_count": 39,
     "metadata": {},
     "output_type": "execute_result"
    }
   ],
   "execution_count": 39
  },
  {
   "metadata": {
    "ExecuteTime": {
     "end_time": "2025-02-15T20:37:03.357045Z",
     "start_time": "2025-02-15T20:37:03.351429Z"
    }
   },
   "cell_type": "code",
   "source": "tf.convert_to_tensor(v1)",
   "id": "590426cc68e4b6a0",
   "outputs": [
    {
     "name": "stdout",
     "output_type": "stream",
     "text": [
      "Executing op ReadVariableOp in device /job:localhost/replica:0/task:0/device:CPU:0\n"
     ]
    },
    {
     "data": {
      "text/plain": [
       "<tf.Tensor: shape=(2, 3), dtype=float32, numpy=\n",
       "array([[1.5, 2. , 5. ],\n",
       "       [2. , 6. , 8. ]], dtype=float32)>"
      ]
     },
     "execution_count": 40,
     "metadata": {},
     "output_type": "execute_result"
    }
   ],
   "execution_count": 40
  },
  {
   "metadata": {
    "ExecuteTime": {
     "end_time": "2025-02-15T20:37:30.836872Z",
     "start_time": "2025-02-15T20:37:30.827032Z"
    }
   },
   "cell_type": "code",
   "source": "v1.numpy()",
   "id": "87de73c14e4d51ba",
   "outputs": [
    {
     "name": "stdout",
     "output_type": "stream",
     "text": [
      "Executing op ReadVariableOp in device /job:localhost/replica:0/task:0/device:CPU:0\n",
      "Executing op Identity in device /job:localhost/replica:0/task:0/device:CPU:0\n"
     ]
    },
    {
     "data": {
      "text/plain": [
       "array([[1.5, 2. , 5. ],\n",
       "       [2. , 6. , 8. ]], dtype=float32)"
      ]
     },
     "execution_count": 41,
     "metadata": {},
     "output_type": "execute_result"
    }
   ],
   "execution_count": 41
  },
  {
   "metadata": {
    "ExecuteTime": {
     "end_time": "2025-02-15T20:38:06.353061Z",
     "start_time": "2025-02-15T20:38:06.341717Z"
    }
   },
   "cell_type": "code",
   "source": "v1",
   "id": "5597208a09591422",
   "outputs": [
    {
     "name": "stdout",
     "output_type": "stream",
     "text": [
      "Executing op ReadVariableOp in device /job:localhost/replica:0/task:0/device:CPU:0\n",
      "Executing op Identity in device /job:localhost/replica:0/task:0/device:CPU:0\n"
     ]
    },
    {
     "data": {
      "text/plain": [
       "<tf.Variable 'Variable:0' shape=(2, 3) dtype=float32, numpy=\n",
       "array([[1.5, 2. , 5. ],\n",
       "       [2. , 6. , 8. ]], dtype=float32)>"
      ]
     },
     "execution_count": 42,
     "metadata": {},
     "output_type": "execute_result"
    }
   ],
   "execution_count": 42
  },
  {
   "metadata": {
    "ExecuteTime": {
     "end_time": "2025-02-15T20:44:46.101915Z",
     "start_time": "2025-02-15T20:44:46.091788Z"
    }
   },
   "cell_type": "code",
   "source": [
    "v1.assign([[10, 20, 30], [40, 50, 60]])\n",
    "v1"
   ],
   "id": "b5173042228c3c19",
   "outputs": [
    {
     "name": "stdout",
     "output_type": "stream",
     "text": [
      "Executing op _EagerConst in device /job:localhost/replica:0/task:0/device:CPU:0\n",
      "Executing op AssignVariableOp in device /job:localhost/replica:0/task:0/device:CPU:0\n",
      "Executing op ReadVariableOp in device /job:localhost/replica:0/task:0/device:CPU:0\n",
      "Executing op Identity in device /job:localhost/replica:0/task:0/device:CPU:0\n"
     ]
    },
    {
     "data": {
      "text/plain": [
       "<tf.Variable 'Variable:0' shape=(2, 3) dtype=float32, numpy=\n",
       "array([[10., 20., 30.],\n",
       "       [40., 50., 60.]], dtype=float32)>"
      ]
     },
     "execution_count": 43,
     "metadata": {},
     "output_type": "execute_result"
    }
   ],
   "execution_count": 43
  },
  {
   "metadata": {
    "ExecuteTime": {
     "end_time": "2025-02-15T20:45:39.575069Z",
     "start_time": "2025-02-15T20:45:39.556716Z"
    }
   },
   "cell_type": "code",
   "source": [
    "v1[0, 0].assign(100)\n",
    "v1"
   ],
   "id": "b8e60c8ca3f0adc7",
   "outputs": [
    {
     "name": "stdout",
     "output_type": "stream",
     "text": [
      "Executing op ReadVariableOp in device /job:localhost/replica:0/task:0/device:CPU:0\n",
      "Executing op _EagerConst in device /job:localhost/replica:0/task:0/device:CPU:0\n",
      "Executing op _EagerConst in device /job:localhost/replica:0/task:0/device:CPU:0\n",
      "Executing op _EagerConst in device /job:localhost/replica:0/task:0/device:CPU:0\n",
      "Executing op StridedSlice in device /job:localhost/replica:0/task:0/device:CPU:0\n",
      "Executing op _EagerConst in device /job:localhost/replica:0/task:0/device:CPU:0\n",
      "Executing op ResourceStridedSliceAssign in device /job:localhost/replica:0/task:0/device:CPU:0\n",
      "Executing op ReadVariableOp in device /job:localhost/replica:0/task:0/device:CPU:0\n",
      "Executing op Identity in device /job:localhost/replica:0/task:0/device:CPU:0\n"
     ]
    },
    {
     "data": {
      "text/plain": [
       "<tf.Variable 'Variable:0' shape=(2, 3) dtype=float32, numpy=\n",
       "array([[100.,  20.,  30.],\n",
       "       [ 40.,  50.,  60.]], dtype=float32)>"
      ]
     },
     "execution_count": 44,
     "metadata": {},
     "output_type": "execute_result"
    }
   ],
   "execution_count": 44
  },
  {
   "metadata": {
    "ExecuteTime": {
     "end_time": "2025-02-15T20:57:07.213908Z",
     "start_time": "2025-02-15T20:57:07.203754Z"
    }
   },
   "cell_type": "code",
   "source": [
    "v1.assign_add([[1,1,1], [1,1,1]])\n",
    "v1"
   ],
   "id": "5d5c91daf72e288f",
   "outputs": [
    {
     "name": "stdout",
     "output_type": "stream",
     "text": [
      "Executing op _EagerConst in device /job:localhost/replica:0/task:0/device:CPU:0\n",
      "Executing op AssignAddVariableOp in device /job:localhost/replica:0/task:0/device:CPU:0\n",
      "Executing op ReadVariableOp in device /job:localhost/replica:0/task:0/device:CPU:0\n",
      "Executing op Identity in device /job:localhost/replica:0/task:0/device:CPU:0\n"
     ]
    },
    {
     "data": {
      "text/plain": [
       "<tf.Variable 'Variable:0' shape=(2, 3) dtype=float32, numpy=\n",
       "array([[101.,  21.,  31.],\n",
       "       [ 41.,  51.,  61.]], dtype=float32)>"
      ]
     },
     "execution_count": 45,
     "metadata": {},
     "output_type": "execute_result"
    }
   ],
   "execution_count": 45
  },
  {
   "metadata": {
    "ExecuteTime": {
     "end_time": "2025-02-15T20:58:00.722159Z",
     "start_time": "2025-02-15T20:58:00.712114Z"
    }
   },
   "cell_type": "code",
   "source": [
    "v1.assign_sub([[2,2,2], [2,2,2]])\n",
    "v1"
   ],
   "id": "bc469e7296802c5",
   "outputs": [
    {
     "name": "stdout",
     "output_type": "stream",
     "text": [
      "Executing op _EagerConst in device /job:localhost/replica:0/task:0/device:CPU:0\n",
      "Executing op AssignSubVariableOp in device /job:localhost/replica:0/task:0/device:CPU:0\n",
      "Executing op ReadVariableOp in device /job:localhost/replica:0/task:0/device:CPU:0\n",
      "Executing op Identity in device /job:localhost/replica:0/task:0/device:CPU:0\n"
     ]
    },
    {
     "data": {
      "text/plain": [
       "<tf.Variable 'Variable:0' shape=(2, 3) dtype=float32, numpy=\n",
       "array([[99., 19., 29.],\n",
       "       [39., 49., 59.]], dtype=float32)>"
      ]
     },
     "execution_count": 46,
     "metadata": {},
     "output_type": "execute_result"
    }
   ],
   "execution_count": 46
  },
  {
   "metadata": {
    "ExecuteTime": {
     "end_time": "2025-02-15T20:59:15.975548Z",
     "start_time": "2025-02-15T20:59:15.964245Z"
    }
   },
   "cell_type": "code",
   "source": [
    "var_a = tf.Variable([2.0, 3.0])\n",
    "var_a"
   ],
   "id": "c8c26b3d4a77e5e4",
   "outputs": [
    {
     "name": "stdout",
     "output_type": "stream",
     "text": [
      "Executing op _EagerConst in device /job:localhost/replica:0/task:0/device:CPU:0\n",
      "Executing op VarHandleOp in device /job:localhost/replica:0/task:0/device:CPU:0\n",
      "Executing op AssignVariableOp in device /job:localhost/replica:0/task:0/device:CPU:0\n",
      "Executing op ReadVariableOp in device /job:localhost/replica:0/task:0/device:CPU:0\n",
      "Executing op Identity in device /job:localhost/replica:0/task:0/device:CPU:0\n"
     ]
    },
    {
     "data": {
      "text/plain": [
       "<tf.Variable 'Variable:0' shape=(2,) dtype=float32, numpy=array([2., 3.], dtype=float32)>"
      ]
     },
     "execution_count": 47,
     "metadata": {},
     "output_type": "execute_result"
    }
   ],
   "execution_count": 47
  },
  {
   "metadata": {
    "ExecuteTime": {
     "end_time": "2025-02-15T20:59:56.430610Z",
     "start_time": "2025-02-15T20:59:56.421755Z"
    }
   },
   "cell_type": "code",
   "source": [
    "var_b = tf.Variable(var_a)\n",
    "var_b"
   ],
   "id": "199040d64bcbf03c",
   "outputs": [
    {
     "name": "stdout",
     "output_type": "stream",
     "text": [
      "Executing op ReadVariableOp in device /job:localhost/replica:0/task:0/device:CPU:0\n",
      "Executing op VarHandleOp in device /job:localhost/replica:0/task:0/device:CPU:0\n",
      "Executing op AssignVariableOp in device /job:localhost/replica:0/task:0/device:CPU:0\n",
      "Executing op ReadVariableOp in device /job:localhost/replica:0/task:0/device:CPU:0\n",
      "Executing op Identity in device /job:localhost/replica:0/task:0/device:CPU:0\n"
     ]
    },
    {
     "data": {
      "text/plain": [
       "<tf.Variable 'Variable:0' shape=(2,) dtype=float32, numpy=array([2., 3.], dtype=float32)>"
      ]
     },
     "execution_count": 48,
     "metadata": {},
     "output_type": "execute_result"
    }
   ],
   "execution_count": 48
  },
  {
   "metadata": {
    "ExecuteTime": {
     "end_time": "2025-02-15T21:00:58.492731Z",
     "start_time": "2025-02-15T21:00:58.483776Z"
    }
   },
   "cell_type": "code",
   "source": [
    "var_b.assign([200, 300])\n",
    "var_b"
   ],
   "id": "93e82a6cc829f07d",
   "outputs": [
    {
     "name": "stdout",
     "output_type": "stream",
     "text": [
      "Executing op _EagerConst in device /job:localhost/replica:0/task:0/device:CPU:0\n",
      "Executing op AssignVariableOp in device /job:localhost/replica:0/task:0/device:CPU:0\n",
      "Executing op ReadVariableOp in device /job:localhost/replica:0/task:0/device:CPU:0\n",
      "Executing op Identity in device /job:localhost/replica:0/task:0/device:CPU:0\n"
     ]
    },
    {
     "data": {
      "text/plain": [
       "<tf.Variable 'Variable:0' shape=(2,) dtype=float32, numpy=array([200., 300.], dtype=float32)>"
      ]
     },
     "execution_count": 49,
     "metadata": {},
     "output_type": "execute_result"
    }
   ],
   "execution_count": 49
  },
  {
   "metadata": {
    "ExecuteTime": {
     "end_time": "2025-02-15T21:01:10.200632Z",
     "start_time": "2025-02-15T21:01:10.194219Z"
    }
   },
   "cell_type": "code",
   "source": "var_a",
   "id": "4a4fd4459859bcf6",
   "outputs": [
    {
     "name": "stdout",
     "output_type": "stream",
     "text": [
      "Executing op ReadVariableOp in device /job:localhost/replica:0/task:0/device:CPU:0\n",
      "Executing op Identity in device /job:localhost/replica:0/task:0/device:CPU:0\n"
     ]
    },
    {
     "data": {
      "text/plain": [
       "<tf.Variable 'Variable:0' shape=(2,) dtype=float32, numpy=array([2., 3.], dtype=float32)>"
      ]
     },
     "execution_count": 50,
     "metadata": {},
     "output_type": "execute_result"
    }
   ],
   "execution_count": 50
  },
  {
   "metadata": {
    "ExecuteTime": {
     "end_time": "2025-02-15T21:01:47.509173Z",
     "start_time": "2025-02-15T21:01:47.501271Z"
    }
   },
   "cell_type": "code",
   "source": [
    "print(var_a.numpy())\n",
    "print(var_b.numpy())"
   ],
   "id": "c8f032b4535afd6c",
   "outputs": [
    {
     "name": "stdout",
     "output_type": "stream",
     "text": [
      "Executing op ReadVariableOp in device /job:localhost/replica:0/task:0/device:CPU:0\n",
      "Executing op Identity in device /job:localhost/replica:0/task:0/device:CPU:0\n",
      "[2. 3.]\n",
      "Executing op ReadVariableOp in device /job:localhost/replica:0/task:0/device:CPU:0\n",
      "Executing op Identity in device /job:localhost/replica:0/task:0/device:CPU:0\n",
      "[200. 300.]\n"
     ]
    }
   ],
   "execution_count": 51
  },
  {
   "metadata": {},
   "cell_type": "code",
   "outputs": [],
   "execution_count": null,
   "source": "",
   "id": "c167d6616d777b1f"
  }
 ],
 "metadata": {
  "kernelspec": {
   "display_name": "Python 3",
   "language": "python",
   "name": "python3"
  },
  "language_info": {
   "codemirror_mode": {
    "name": "ipython",
    "version": 2
   },
   "file_extension": ".py",
   "mimetype": "text/x-python",
   "name": "python",
   "nbconvert_exporter": "python",
   "pygments_lexer": "ipython2",
   "version": "2.7.6"
  }
 },
 "nbformat": 4,
 "nbformat_minor": 5
}
