{
 "cells": [
  {
   "cell_type": "code",
   "id": "initial_id",
   "metadata": {
    "collapsed": true,
    "ExecuteTime": {
     "end_time": "2025-03-02T16:00:22.741254Z",
     "start_time": "2025-03-02T16:00:18.138294Z"
    }
   },
   "source": [
    "from datetime import datetime\n",
    "\n",
    "import numpy as np\n",
    "import pandas as pd\n",
    "\n",
    "import matplotlib.pyplot as plt\n",
    "import seaborn as sns\n",
    "\n",
    "from sklearn.model_selection import train_test_split\n",
    "from sklearn.preprocessing import StandardScaler\n",
    "from sklearn.metrics import accuracy_score, precision_score, recall_score\n",
    "\n",
    "import tensorflow as tf\n",
    "\n",
    "from tensorflow import keras\n",
    "from keras import layers\n"
   ],
   "outputs": [],
   "execution_count": 1
  },
  {
   "metadata": {
    "ExecuteTime": {
     "end_time": "2025-03-02T16:04:25.057872Z",
     "start_time": "2025-03-02T16:04:25.037836Z"
    }
   },
   "cell_type": "code",
   "source": [
    "df = pd.read_csv('datasets/heart.csv')\n",
    "df.sample(5)"
   ],
   "id": "f78645e6ce743e85",
   "outputs": [
    {
     "data": {
      "text/plain": [
       "     age  sex  cp  trestbps  chol  fbs  restecg  thalach  exang  oldpeak  \\\n",
       "224   51    1   0       140   261    0        0      186      1      0.0   \n",
       "603   63    0   1       140   195    0        1      179      0      0.0   \n",
       "736   59    1   0       110   239    0        0      142      1      1.2   \n",
       "46    41    1   1       135   203    0        1      132      0      0.0   \n",
       "538   46    1   0       120   249    0        0      144      0      0.8   \n",
       "\n",
       "     slope  ca  thal  target  \n",
       "224      2   0     2       1  \n",
       "603      2   2     2       1  \n",
       "736      1   1     3       0  \n",
       "46       1   0     1       1  \n",
       "538      2   0     3       0  "
      ],
      "text/html": [
       "<div>\n",
       "<style scoped>\n",
       "    .dataframe tbody tr th:only-of-type {\n",
       "        vertical-align: middle;\n",
       "    }\n",
       "\n",
       "    .dataframe tbody tr th {\n",
       "        vertical-align: top;\n",
       "    }\n",
       "\n",
       "    .dataframe thead th {\n",
       "        text-align: right;\n",
       "    }\n",
       "</style>\n",
       "<table border=\"1\" class=\"dataframe\">\n",
       "  <thead>\n",
       "    <tr style=\"text-align: right;\">\n",
       "      <th></th>\n",
       "      <th>age</th>\n",
       "      <th>sex</th>\n",
       "      <th>cp</th>\n",
       "      <th>trestbps</th>\n",
       "      <th>chol</th>\n",
       "      <th>fbs</th>\n",
       "      <th>restecg</th>\n",
       "      <th>thalach</th>\n",
       "      <th>exang</th>\n",
       "      <th>oldpeak</th>\n",
       "      <th>slope</th>\n",
       "      <th>ca</th>\n",
       "      <th>thal</th>\n",
       "      <th>target</th>\n",
       "    </tr>\n",
       "  </thead>\n",
       "  <tbody>\n",
       "    <tr>\n",
       "      <th>224</th>\n",
       "      <td>51</td>\n",
       "      <td>1</td>\n",
       "      <td>0</td>\n",
       "      <td>140</td>\n",
       "      <td>261</td>\n",
       "      <td>0</td>\n",
       "      <td>0</td>\n",
       "      <td>186</td>\n",
       "      <td>1</td>\n",
       "      <td>0.0</td>\n",
       "      <td>2</td>\n",
       "      <td>0</td>\n",
       "      <td>2</td>\n",
       "      <td>1</td>\n",
       "    </tr>\n",
       "    <tr>\n",
       "      <th>603</th>\n",
       "      <td>63</td>\n",
       "      <td>0</td>\n",
       "      <td>1</td>\n",
       "      <td>140</td>\n",
       "      <td>195</td>\n",
       "      <td>0</td>\n",
       "      <td>1</td>\n",
       "      <td>179</td>\n",
       "      <td>0</td>\n",
       "      <td>0.0</td>\n",
       "      <td>2</td>\n",
       "      <td>2</td>\n",
       "      <td>2</td>\n",
       "      <td>1</td>\n",
       "    </tr>\n",
       "    <tr>\n",
       "      <th>736</th>\n",
       "      <td>59</td>\n",
       "      <td>1</td>\n",
       "      <td>0</td>\n",
       "      <td>110</td>\n",
       "      <td>239</td>\n",
       "      <td>0</td>\n",
       "      <td>0</td>\n",
       "      <td>142</td>\n",
       "      <td>1</td>\n",
       "      <td>1.2</td>\n",
       "      <td>1</td>\n",
       "      <td>1</td>\n",
       "      <td>3</td>\n",
       "      <td>0</td>\n",
       "    </tr>\n",
       "    <tr>\n",
       "      <th>46</th>\n",
       "      <td>41</td>\n",
       "      <td>1</td>\n",
       "      <td>1</td>\n",
       "      <td>135</td>\n",
       "      <td>203</td>\n",
       "      <td>0</td>\n",
       "      <td>1</td>\n",
       "      <td>132</td>\n",
       "      <td>0</td>\n",
       "      <td>0.0</td>\n",
       "      <td>1</td>\n",
       "      <td>0</td>\n",
       "      <td>1</td>\n",
       "      <td>1</td>\n",
       "    </tr>\n",
       "    <tr>\n",
       "      <th>538</th>\n",
       "      <td>46</td>\n",
       "      <td>1</td>\n",
       "      <td>0</td>\n",
       "      <td>120</td>\n",
       "      <td>249</td>\n",
       "      <td>0</td>\n",
       "      <td>0</td>\n",
       "      <td>144</td>\n",
       "      <td>0</td>\n",
       "      <td>0.8</td>\n",
       "      <td>2</td>\n",
       "      <td>0</td>\n",
       "      <td>3</td>\n",
       "      <td>0</td>\n",
       "    </tr>\n",
       "  </tbody>\n",
       "</table>\n",
       "</div>"
      ]
     },
     "execution_count": 3,
     "metadata": {},
     "output_type": "execute_result"
    }
   ],
   "execution_count": 3
  },
  {
   "metadata": {
    "ExecuteTime": {
     "end_time": "2025-03-02T16:05:16.905890Z",
     "start_time": "2025-03-02T16:05:16.901864Z"
    }
   },
   "cell_type": "code",
   "source": "df.shape",
   "id": "c091281e945918a",
   "outputs": [
    {
     "data": {
      "text/plain": [
       "(1025, 14)"
      ]
     },
     "execution_count": 4,
     "metadata": {},
     "output_type": "execute_result"
    }
   ],
   "execution_count": 4
  },
  {
   "metadata": {
    "ExecuteTime": {
     "end_time": "2025-03-02T16:05:42.411091Z",
     "start_time": "2025-03-02T16:05:42.401685Z"
    }
   },
   "cell_type": "code",
   "source": "df.isna().sum()",
   "id": "74ea95066c365f78",
   "outputs": [
    {
     "data": {
      "text/plain": [
       "age         0\n",
       "sex         0\n",
       "cp          0\n",
       "trestbps    0\n",
       "chol        0\n",
       "fbs         0\n",
       "restecg     0\n",
       "thalach     0\n",
       "exang       0\n",
       "oldpeak     0\n",
       "slope       0\n",
       "ca          0\n",
       "thal        0\n",
       "target      0\n",
       "dtype: int64"
      ]
     },
     "execution_count": 5,
     "metadata": {},
     "output_type": "execute_result"
    }
   ],
   "execution_count": 5
  },
  {
   "metadata": {
    "ExecuteTime": {
     "end_time": "2025-03-02T16:06:02.395942Z",
     "start_time": "2025-03-02T16:06:02.365899Z"
    }
   },
   "cell_type": "code",
   "source": "df.describe().T",
   "id": "82eab5e15852246d",
   "outputs": [
    {
     "data": {
      "text/plain": [
       "           count        mean        std    min    25%    50%    75%    max\n",
       "age       1025.0   54.434146   9.072290   29.0   48.0   56.0   61.0   77.0\n",
       "sex       1025.0    0.695610   0.460373    0.0    0.0    1.0    1.0    1.0\n",
       "cp        1025.0    0.942439   1.029641    0.0    0.0    1.0    2.0    3.0\n",
       "trestbps  1025.0  131.611707  17.516718   94.0  120.0  130.0  140.0  200.0\n",
       "chol      1025.0  246.000000  51.592510  126.0  211.0  240.0  275.0  564.0\n",
       "fbs       1025.0    0.149268   0.356527    0.0    0.0    0.0    0.0    1.0\n",
       "restecg   1025.0    0.529756   0.527878    0.0    0.0    1.0    1.0    2.0\n",
       "thalach   1025.0  149.114146  23.005724   71.0  132.0  152.0  166.0  202.0\n",
       "exang     1025.0    0.336585   0.472772    0.0    0.0    0.0    1.0    1.0\n",
       "oldpeak   1025.0    1.071512   1.175053    0.0    0.0    0.8    1.8    6.2\n",
       "slope     1025.0    1.385366   0.617755    0.0    1.0    1.0    2.0    2.0\n",
       "ca        1025.0    0.754146   1.030798    0.0    0.0    0.0    1.0    4.0\n",
       "thal      1025.0    2.323902   0.620660    0.0    2.0    2.0    3.0    3.0\n",
       "target    1025.0    0.513171   0.500070    0.0    0.0    1.0    1.0    1.0"
      ],
      "text/html": [
       "<div>\n",
       "<style scoped>\n",
       "    .dataframe tbody tr th:only-of-type {\n",
       "        vertical-align: middle;\n",
       "    }\n",
       "\n",
       "    .dataframe tbody tr th {\n",
       "        vertical-align: top;\n",
       "    }\n",
       "\n",
       "    .dataframe thead th {\n",
       "        text-align: right;\n",
       "    }\n",
       "</style>\n",
       "<table border=\"1\" class=\"dataframe\">\n",
       "  <thead>\n",
       "    <tr style=\"text-align: right;\">\n",
       "      <th></th>\n",
       "      <th>count</th>\n",
       "      <th>mean</th>\n",
       "      <th>std</th>\n",
       "      <th>min</th>\n",
       "      <th>25%</th>\n",
       "      <th>50%</th>\n",
       "      <th>75%</th>\n",
       "      <th>max</th>\n",
       "    </tr>\n",
       "  </thead>\n",
       "  <tbody>\n",
       "    <tr>\n",
       "      <th>age</th>\n",
       "      <td>1025.0</td>\n",
       "      <td>54.434146</td>\n",
       "      <td>9.072290</td>\n",
       "      <td>29.0</td>\n",
       "      <td>48.0</td>\n",
       "      <td>56.0</td>\n",
       "      <td>61.0</td>\n",
       "      <td>77.0</td>\n",
       "    </tr>\n",
       "    <tr>\n",
       "      <th>sex</th>\n",
       "      <td>1025.0</td>\n",
       "      <td>0.695610</td>\n",
       "      <td>0.460373</td>\n",
       "      <td>0.0</td>\n",
       "      <td>0.0</td>\n",
       "      <td>1.0</td>\n",
       "      <td>1.0</td>\n",
       "      <td>1.0</td>\n",
       "    </tr>\n",
       "    <tr>\n",
       "      <th>cp</th>\n",
       "      <td>1025.0</td>\n",
       "      <td>0.942439</td>\n",
       "      <td>1.029641</td>\n",
       "      <td>0.0</td>\n",
       "      <td>0.0</td>\n",
       "      <td>1.0</td>\n",
       "      <td>2.0</td>\n",
       "      <td>3.0</td>\n",
       "    </tr>\n",
       "    <tr>\n",
       "      <th>trestbps</th>\n",
       "      <td>1025.0</td>\n",
       "      <td>131.611707</td>\n",
       "      <td>17.516718</td>\n",
       "      <td>94.0</td>\n",
       "      <td>120.0</td>\n",
       "      <td>130.0</td>\n",
       "      <td>140.0</td>\n",
       "      <td>200.0</td>\n",
       "    </tr>\n",
       "    <tr>\n",
       "      <th>chol</th>\n",
       "      <td>1025.0</td>\n",
       "      <td>246.000000</td>\n",
       "      <td>51.592510</td>\n",
       "      <td>126.0</td>\n",
       "      <td>211.0</td>\n",
       "      <td>240.0</td>\n",
       "      <td>275.0</td>\n",
       "      <td>564.0</td>\n",
       "    </tr>\n",
       "    <tr>\n",
       "      <th>fbs</th>\n",
       "      <td>1025.0</td>\n",
       "      <td>0.149268</td>\n",
       "      <td>0.356527</td>\n",
       "      <td>0.0</td>\n",
       "      <td>0.0</td>\n",
       "      <td>0.0</td>\n",
       "      <td>0.0</td>\n",
       "      <td>1.0</td>\n",
       "    </tr>\n",
       "    <tr>\n",
       "      <th>restecg</th>\n",
       "      <td>1025.0</td>\n",
       "      <td>0.529756</td>\n",
       "      <td>0.527878</td>\n",
       "      <td>0.0</td>\n",
       "      <td>0.0</td>\n",
       "      <td>1.0</td>\n",
       "      <td>1.0</td>\n",
       "      <td>2.0</td>\n",
       "    </tr>\n",
       "    <tr>\n",
       "      <th>thalach</th>\n",
       "      <td>1025.0</td>\n",
       "      <td>149.114146</td>\n",
       "      <td>23.005724</td>\n",
       "      <td>71.0</td>\n",
       "      <td>132.0</td>\n",
       "      <td>152.0</td>\n",
       "      <td>166.0</td>\n",
       "      <td>202.0</td>\n",
       "    </tr>\n",
       "    <tr>\n",
       "      <th>exang</th>\n",
       "      <td>1025.0</td>\n",
       "      <td>0.336585</td>\n",
       "      <td>0.472772</td>\n",
       "      <td>0.0</td>\n",
       "      <td>0.0</td>\n",
       "      <td>0.0</td>\n",
       "      <td>1.0</td>\n",
       "      <td>1.0</td>\n",
       "    </tr>\n",
       "    <tr>\n",
       "      <th>oldpeak</th>\n",
       "      <td>1025.0</td>\n",
       "      <td>1.071512</td>\n",
       "      <td>1.175053</td>\n",
       "      <td>0.0</td>\n",
       "      <td>0.0</td>\n",
       "      <td>0.8</td>\n",
       "      <td>1.8</td>\n",
       "      <td>6.2</td>\n",
       "    </tr>\n",
       "    <tr>\n",
       "      <th>slope</th>\n",
       "      <td>1025.0</td>\n",
       "      <td>1.385366</td>\n",
       "      <td>0.617755</td>\n",
       "      <td>0.0</td>\n",
       "      <td>1.0</td>\n",
       "      <td>1.0</td>\n",
       "      <td>2.0</td>\n",
       "      <td>2.0</td>\n",
       "    </tr>\n",
       "    <tr>\n",
       "      <th>ca</th>\n",
       "      <td>1025.0</td>\n",
       "      <td>0.754146</td>\n",
       "      <td>1.030798</td>\n",
       "      <td>0.0</td>\n",
       "      <td>0.0</td>\n",
       "      <td>0.0</td>\n",
       "      <td>1.0</td>\n",
       "      <td>4.0</td>\n",
       "    </tr>\n",
       "    <tr>\n",
       "      <th>thal</th>\n",
       "      <td>1025.0</td>\n",
       "      <td>2.323902</td>\n",
       "      <td>0.620660</td>\n",
       "      <td>0.0</td>\n",
       "      <td>2.0</td>\n",
       "      <td>2.0</td>\n",
       "      <td>3.0</td>\n",
       "      <td>3.0</td>\n",
       "    </tr>\n",
       "    <tr>\n",
       "      <th>target</th>\n",
       "      <td>1025.0</td>\n",
       "      <td>0.513171</td>\n",
       "      <td>0.500070</td>\n",
       "      <td>0.0</td>\n",
       "      <td>0.0</td>\n",
       "      <td>1.0</td>\n",
       "      <td>1.0</td>\n",
       "      <td>1.0</td>\n",
       "    </tr>\n",
       "  </tbody>\n",
       "</table>\n",
       "</div>"
      ]
     },
     "execution_count": 6,
     "metadata": {},
     "output_type": "execute_result"
    }
   ],
   "execution_count": 6
  },
  {
   "metadata": {
    "ExecuteTime": {
     "end_time": "2025-03-02T16:08:09.944006Z",
     "start_time": "2025-03-02T16:08:09.938324Z"
    }
   },
   "cell_type": "code",
   "source": "df['sex'].value_counts()",
   "id": "d488226a5cbc5936",
   "outputs": [
    {
     "data": {
      "text/plain": [
       "sex\n",
       "1    713\n",
       "0    312\n",
       "Name: count, dtype: int64"
      ]
     },
     "execution_count": 8,
     "metadata": {},
     "output_type": "execute_result"
    }
   ],
   "execution_count": 8
  },
  {
   "metadata": {
    "ExecuteTime": {
     "end_time": "2025-03-02T16:08:45.706138Z",
     "start_time": "2025-03-02T16:08:45.701236Z"
    }
   },
   "cell_type": "code",
   "source": "df['cp'].value_counts()",
   "id": "d84cf9943ec4a6c9",
   "outputs": [
    {
     "data": {
      "text/plain": [
       "cp\n",
       "0    497\n",
       "2    284\n",
       "1    167\n",
       "3     77\n",
       "Name: count, dtype: int64"
      ]
     },
     "execution_count": 9,
     "metadata": {},
     "output_type": "execute_result"
    }
   ],
   "execution_count": 9
  },
  {
   "metadata": {
    "ExecuteTime": {
     "end_time": "2025-03-02T16:55:22.761603Z",
     "start_time": "2025-03-02T16:55:22.636057Z"
    }
   },
   "cell_type": "code",
   "source": [
    "sns.countplot(x='sex', hue = 'target', data = df)\n",
    "\n",
    "plt.title('Heart Disease Frequency for Gender')\n",
    "plt.legend(['No Disease', 'Yes Disease' ])\n",
    "\n",
    "plt.xlabel('Gender (0 = Female, 1 = Male')\n",
    "plt.ylabel('Frequency')\n",
    "\n",
    "plt.show()"
   ],
   "id": "ed729bbd37f045d3",
   "outputs": [
    {
     "data": {
      "text/plain": [
       "<Figure size 640x480 with 1 Axes>"
      ],
      "image/png": "[encoded data removed]"
     },
     "metadata": {},
     "output_type": "display_data"
    }
   ],
   "execution_count": 12
  },
  {
   "metadata": {
    "ExecuteTime": {
     "end_time": "2025-03-02T16:57:20.057168Z",
     "start_time": "2025-03-02T16:57:19.780851Z"
    }
   },
   "cell_type": "code",
   "source": [
    "plt.figure(figsize = (20, 8))\n",
    "sns.countplot(x='age', hue = 'target', data = df)\n",
    "\n",
    "plt.title('Heart Disease Frequency for Age')\n",
    "plt.legend(['No Disease', 'Yes Disease' ])\n",
    "\n",
    "plt.xlabel('Age')\n",
    "plt.ylabel('Frequency')\n",
    "\n",
    "plt.show()"
   ],
   "id": "894ffdc9b6919e01",
   "outputs": [
    {
     "data": {
      "text/plain": [
       "<Figure size 2000x800 with 1 Axes>"
      ],
      "image/png": "[encoded data removed]"
     },
     "metadata": {},
     "output_type": "display_data"
    }
   ],
   "execution_count": 13
  },
  {
   "metadata": {
    "ExecuteTime": {
     "end_time": "2025-03-02T16:59:26.016873Z",
     "start_time": "2025-03-02T16:59:25.932710Z"
    }
   },
   "cell_type": "code",
   "source": [
    "plt.figure(figsize = (10, 8))\n",
    "plt.scatter(df['age'], df['chol'], s = 50)\n",
    "\n",
    "plt.xlabel('Age', fontsize = 20)\n",
    "plt.ylabel('Cholesterol', fontsize = 20)\n",
    "\n",
    "plt.show()"
   ],
   "id": "ed0da4e8398a2163",
   "outputs": [
    {
     "data": {
      "text/plain": [
       "<Figure size 1000x800 with 1 Axes>"
      ],
      "image/png": "[encoded data removed]"
     },
     "metadata": {},
     "output_type": "display_data"
    }
   ],
   "execution_count": 16
  },
  {
   "metadata": {
    "ExecuteTime": {
     "end_time": "2025-03-02T17:00:21.177590Z",
     "start_time": "2025-03-02T17:00:21.172526Z"
    }
   },
   "cell_type": "code",
   "source": [
    "features = df.drop('target', axis = 1)\n",
    "target = df[[ 'target']]"
   ],
   "id": "419da3ede61f5bba",
   "outputs": [],
   "execution_count": 17
  },
  {
   "metadata": {
    "ExecuteTime": {
     "end_time": "2025-03-02T17:00:31.258920Z",
     "start_time": "2025-03-02T17:00:31.249984Z"
    }
   },
   "cell_type": "code",
   "source": "features.sample(5)",
   "id": "b850fa729d840c72",
   "outputs": [
    {
     "data": {
      "text/plain": [
       "     age  sex  cp  trestbps  chol  fbs  restecg  thalach  exang  oldpeak  \\\n",
       "816   70    1   1       156   245    0        0      143      0      0.0   \n",
       "494   51    1   2       125   245    1        0      166      0      2.4   \n",
       "565   53    0   0       138   234    0        0      160      0      0.0   \n",
       "41    54    1   2       120   258    0        0      147      0      0.4   \n",
       "280   45    0   1       130   234    0        0      175      0      0.6   \n",
       "\n",
       "     slope  ca  thal  \n",
       "816      2   0     2  \n",
       "494      1   0     2  \n",
       "565      2   0     2  \n",
       "41       1   0     3  \n",
       "280      1   0     2  "
      ],
      "text/html": [
       "<div>\n",
       "<style scoped>\n",
       "    .dataframe tbody tr th:only-of-type {\n",
       "        vertical-align: middle;\n",
       "    }\n",
       "\n",
       "    .dataframe tbody tr th {\n",
       "        vertical-align: top;\n",
       "    }\n",
       "\n",
       "    .dataframe thead th {\n",
       "        text-align: right;\n",
       "    }\n",
       "</style>\n",
       "<table border=\"1\" class=\"dataframe\">\n",
       "  <thead>\n",
       "    <tr style=\"text-align: right;\">\n",
       "      <th></th>\n",
       "      <th>age</th>\n",
       "      <th>sex</th>\n",
       "      <th>cp</th>\n",
       "      <th>trestbps</th>\n",
       "      <th>chol</th>\n",
       "      <th>fbs</th>\n",
       "      <th>restecg</th>\n",
       "      <th>thalach</th>\n",
       "      <th>exang</th>\n",
       "      <th>oldpeak</th>\n",
       "      <th>slope</th>\n",
       "      <th>ca</th>\n",
       "      <th>thal</th>\n",
       "    </tr>\n",
       "  </thead>\n",
       "  <tbody>\n",
       "    <tr>\n",
       "      <th>816</th>\n",
       "      <td>70</td>\n",
       "      <td>1</td>\n",
       "      <td>1</td>\n",
       "      <td>156</td>\n",
       "      <td>245</td>\n",
       "      <td>0</td>\n",
       "      <td>0</td>\n",
       "      <td>143</td>\n",
       "      <td>0</td>\n",
       "      <td>0.0</td>\n",
       "      <td>2</td>\n",
       "      <td>0</td>\n",
       "      <td>2</td>\n",
       "    </tr>\n",
       "    <tr>\n",
       "      <th>494</th>\n",
       "      <td>51</td>\n",
       "      <td>1</td>\n",
       "      <td>2</td>\n",
       "      <td>125</td>\n",
       "      <td>245</td>\n",
       "      <td>1</td>\n",
       "      <td>0</td>\n",
       "      <td>166</td>\n",
       "      <td>0</td>\n",
       "      <td>2.4</td>\n",
       "      <td>1</td>\n",
       "      <td>0</td>\n",
       "      <td>2</td>\n",
       "    </tr>\n",
       "    <tr>\n",
       "      <th>565</th>\n",
       "      <td>53</td>\n",
       "      <td>0</td>\n",
       "      <td>0</td>\n",
       "      <td>138</td>\n",
       "      <td>234</td>\n",
       "      <td>0</td>\n",
       "      <td>0</td>\n",
       "      <td>160</td>\n",
       "      <td>0</td>\n",
       "      <td>0.0</td>\n",
       "      <td>2</td>\n",
       "      <td>0</td>\n",
       "      <td>2</td>\n",
       "    </tr>\n",
       "    <tr>\n",
       "      <th>41</th>\n",
       "      <td>54</td>\n",
       "      <td>1</td>\n",
       "      <td>2</td>\n",
       "      <td>120</td>\n",
       "      <td>258</td>\n",
       "      <td>0</td>\n",
       "      <td>0</td>\n",
       "      <td>147</td>\n",
       "      <td>0</td>\n",
       "      <td>0.4</td>\n",
       "      <td>1</td>\n",
       "      <td>0</td>\n",
       "      <td>3</td>\n",
       "    </tr>\n",
       "    <tr>\n",
       "      <th>280</th>\n",
       "      <td>45</td>\n",
       "      <td>0</td>\n",
       "      <td>1</td>\n",
       "      <td>130</td>\n",
       "      <td>234</td>\n",
       "      <td>0</td>\n",
       "      <td>0</td>\n",
       "      <td>175</td>\n",
       "      <td>0</td>\n",
       "      <td>0.6</td>\n",
       "      <td>1</td>\n",
       "      <td>0</td>\n",
       "      <td>2</td>\n",
       "    </tr>\n",
       "  </tbody>\n",
       "</table>\n",
       "</div>"
      ]
     },
     "execution_count": 18,
     "metadata": {},
     "output_type": "execute_result"
    }
   ],
   "execution_count": 18
  },
  {
   "metadata": {
    "ExecuteTime": {
     "end_time": "2025-03-02T17:00:51.039514Z",
     "start_time": "2025-03-02T17:00:51.033072Z"
    }
   },
   "cell_type": "code",
   "source": "target.sample(10)",
   "id": "dbccd39eb1fb970c",
   "outputs": [
    {
     "data": {
      "text/plain": [
       "     target\n",
       "623       0\n",
       "979       0\n",
       "535       1\n",
       "793       1\n",
       "29        0\n",
       "351       0\n",
       "790       0\n",
       "714       1\n",
       "438       1\n",
       "935       1"
      ],
      "text/html": [
       "<div>\n",
       "<style scoped>\n",
       "    .dataframe tbody tr th:only-of-type {\n",
       "        vertical-align: middle;\n",
       "    }\n",
       "\n",
       "    .dataframe tbody tr th {\n",
       "        vertical-align: top;\n",
       "    }\n",
       "\n",
       "    .dataframe thead th {\n",
       "        text-align: right;\n",
       "    }\n",
       "</style>\n",
       "<table border=\"1\" class=\"dataframe\">\n",
       "  <thead>\n",
       "    <tr style=\"text-align: right;\">\n",
       "      <th></th>\n",
       "      <th>target</th>\n",
       "    </tr>\n",
       "  </thead>\n",
       "  <tbody>\n",
       "    <tr>\n",
       "      <th>623</th>\n",
       "      <td>0</td>\n",
       "    </tr>\n",
       "    <tr>\n",
       "      <th>979</th>\n",
       "      <td>0</td>\n",
       "    </tr>\n",
       "    <tr>\n",
       "      <th>535</th>\n",
       "      <td>1</td>\n",
       "    </tr>\n",
       "    <tr>\n",
       "      <th>793</th>\n",
       "      <td>1</td>\n",
       "    </tr>\n",
       "    <tr>\n",
       "      <th>29</th>\n",
       "      <td>0</td>\n",
       "    </tr>\n",
       "    <tr>\n",
       "      <th>351</th>\n",
       "      <td>0</td>\n",
       "    </tr>\n",
       "    <tr>\n",
       "      <th>790</th>\n",
       "      <td>0</td>\n",
       "    </tr>\n",
       "    <tr>\n",
       "      <th>714</th>\n",
       "      <td>1</td>\n",
       "    </tr>\n",
       "    <tr>\n",
       "      <th>438</th>\n",
       "      <td>1</td>\n",
       "    </tr>\n",
       "    <tr>\n",
       "      <th>935</th>\n",
       "      <td>1</td>\n",
       "    </tr>\n",
       "  </tbody>\n",
       "</table>\n",
       "</div>"
      ]
     },
     "execution_count": 19,
     "metadata": {},
     "output_type": "execute_result"
    }
   ],
   "execution_count": 19
  },
  {
   "metadata": {
    "ExecuteTime": {
     "end_time": "2025-03-02T17:09:34.498012Z",
     "start_time": "2025-03-02T17:09:34.489309Z"
    }
   },
   "cell_type": "code",
   "source": [
    "categorical_features = features[['sex', 'fbs', 'exang', 'cp', 'ca', 'slope', 'thal', 'restecg']].copy()\n",
    "categorical_features.head()"
   ],
   "id": "d1d871b1d0df244f",
   "outputs": [
    {
     "data": {
      "text/plain": [
       "   sex  fbs  exang  cp  ca  slope  thal  restecg\n",
       "0    1    0      0   0   2      2     3        1\n",
       "1    1    1      1   0   0      0     3        0\n",
       "2    1    0      1   0   0      0     3        1\n",
       "3    1    0      0   0   1      2     3        1\n",
       "4    0    1      0   0   3      1     2        1"
      ],
      "text/html": [
       "<div>\n",
       "<style scoped>\n",
       "    .dataframe tbody tr th:only-of-type {\n",
       "        vertical-align: middle;\n",
       "    }\n",
       "\n",
       "    .dataframe tbody tr th {\n",
       "        vertical-align: top;\n",
       "    }\n",
       "\n",
       "    .dataframe thead th {\n",
       "        text-align: right;\n",
       "    }\n",
       "</style>\n",
       "<table border=\"1\" class=\"dataframe\">\n",
       "  <thead>\n",
       "    <tr style=\"text-align: right;\">\n",
       "      <th></th>\n",
       "      <th>sex</th>\n",
       "      <th>fbs</th>\n",
       "      <th>exang</th>\n",
       "      <th>cp</th>\n",
       "      <th>ca</th>\n",
       "      <th>slope</th>\n",
       "      <th>thal</th>\n",
       "      <th>restecg</th>\n",
       "    </tr>\n",
       "  </thead>\n",
       "  <tbody>\n",
       "    <tr>\n",
       "      <th>0</th>\n",
       "      <td>1</td>\n",
       "      <td>0</td>\n",
       "      <td>0</td>\n",
       "      <td>0</td>\n",
       "      <td>2</td>\n",
       "      <td>2</td>\n",
       "      <td>3</td>\n",
       "      <td>1</td>\n",
       "    </tr>\n",
       "    <tr>\n",
       "      <th>1</th>\n",
       "      <td>1</td>\n",
       "      <td>1</td>\n",
       "      <td>1</td>\n",
       "      <td>0</td>\n",
       "      <td>0</td>\n",
       "      <td>0</td>\n",
       "      <td>3</td>\n",
       "      <td>0</td>\n",
       "    </tr>\n",
       "    <tr>\n",
       "      <th>2</th>\n",
       "      <td>1</td>\n",
       "      <td>0</td>\n",
       "      <td>1</td>\n",
       "      <td>0</td>\n",
       "      <td>0</td>\n",
       "      <td>0</td>\n",
       "      <td>3</td>\n",
       "      <td>1</td>\n",
       "    </tr>\n",
       "    <tr>\n",
       "      <th>3</th>\n",
       "      <td>1</td>\n",
       "      <td>0</td>\n",
       "      <td>0</td>\n",
       "      <td>0</td>\n",
       "      <td>1</td>\n",
       "      <td>2</td>\n",
       "      <td>3</td>\n",
       "      <td>1</td>\n",
       "    </tr>\n",
       "    <tr>\n",
       "      <th>4</th>\n",
       "      <td>0</td>\n",
       "      <td>1</td>\n",
       "      <td>0</td>\n",
       "      <td>0</td>\n",
       "      <td>3</td>\n",
       "      <td>1</td>\n",
       "      <td>2</td>\n",
       "      <td>1</td>\n",
       "    </tr>\n",
       "  </tbody>\n",
       "</table>\n",
       "</div>"
      ]
     },
     "execution_count": 20,
     "metadata": {},
     "output_type": "execute_result"
    }
   ],
   "execution_count": 20
  },
  {
   "metadata": {
    "ExecuteTime": {
     "end_time": "2025-03-02T17:20:35.508550Z",
     "start_time": "2025-03-02T17:20:35.499981Z"
    }
   },
   "cell_type": "code",
   "source": [
    "numeric_features = features[['age', 'trestbps', 'chol', 'thalach', 'oldpeak']].copy()\n",
    "numeric_features.head()"
   ],
   "id": "f2b78abf958e46de",
   "outputs": [
    {
     "data": {
      "text/plain": [
       "   age  trestbps  chol  thalach  oldpeak\n",
       "0   52       125   212      168      1.0\n",
       "1   53       140   203      155      3.1\n",
       "2   70       145   174      125      2.6\n",
       "3   61       148   203      161      0.0\n",
       "4   62       138   294      106      1.9"
      ],
      "text/html": [
       "<div>\n",
       "<style scoped>\n",
       "    .dataframe tbody tr th:only-of-type {\n",
       "        vertical-align: middle;\n",
       "    }\n",
       "\n",
       "    .dataframe tbody tr th {\n",
       "        vertical-align: top;\n",
       "    }\n",
       "\n",
       "    .dataframe thead th {\n",
       "        text-align: right;\n",
       "    }\n",
       "</style>\n",
       "<table border=\"1\" class=\"dataframe\">\n",
       "  <thead>\n",
       "    <tr style=\"text-align: right;\">\n",
       "      <th></th>\n",
       "      <th>age</th>\n",
       "      <th>trestbps</th>\n",
       "      <th>chol</th>\n",
       "      <th>thalach</th>\n",
       "      <th>oldpeak</th>\n",
       "    </tr>\n",
       "  </thead>\n",
       "  <tbody>\n",
       "    <tr>\n",
       "      <th>0</th>\n",
       "      <td>52</td>\n",
       "      <td>125</td>\n",
       "      <td>212</td>\n",
       "      <td>168</td>\n",
       "      <td>1.0</td>\n",
       "    </tr>\n",
       "    <tr>\n",
       "      <th>1</th>\n",
       "      <td>53</td>\n",
       "      <td>140</td>\n",
       "      <td>203</td>\n",
       "      <td>155</td>\n",
       "      <td>3.1</td>\n",
       "    </tr>\n",
       "    <tr>\n",
       "      <th>2</th>\n",
       "      <td>70</td>\n",
       "      <td>145</td>\n",
       "      <td>174</td>\n",
       "      <td>125</td>\n",
       "      <td>2.6</td>\n",
       "    </tr>\n",
       "    <tr>\n",
       "      <th>3</th>\n",
       "      <td>61</td>\n",
       "      <td>148</td>\n",
       "      <td>203</td>\n",
       "      <td>161</td>\n",
       "      <td>0.0</td>\n",
       "    </tr>\n",
       "    <tr>\n",
       "      <th>4</th>\n",
       "      <td>62</td>\n",
       "      <td>138</td>\n",
       "      <td>294</td>\n",
       "      <td>106</td>\n",
       "      <td>1.9</td>\n",
       "    </tr>\n",
       "  </tbody>\n",
       "</table>\n",
       "</div>"
      ]
     },
     "execution_count": 21,
     "metadata": {},
     "output_type": "execute_result"
    }
   ],
   "execution_count": 21
  },
  {
   "metadata": {
    "ExecuteTime": {
     "end_time": "2025-03-02T17:32:04.884781Z",
     "start_time": "2025-03-02T17:32:04.865510Z"
    }
   },
   "cell_type": "code",
   "source": [
    "standardScaler = StandardScaler()\n",
    "numeric_features = pd.DataFrame(standardScaler.fit_transform(numeric_features), \n",
    "                                columns = numeric_features.columns, \n",
    "                                index = numeric_features.index)\n",
    "numeric_features.describe()"
   ],
   "id": "f0651a128f446f9c",
   "outputs": [
    {
     "data": {
      "text/plain": [
       "                age      trestbps          chol       thalach       oldpeak\n",
       "count  1.025000e+03  1.025000e+03  1.025000e+03  1.025000e+03  1.025000e+03\n",
       "mean   3.119456e-17 -6.932124e-18 -3.466062e-18  3.466062e-17 -6.932124e-18\n",
       "std    1.000488e+00  1.000488e+00  1.000488e+00  1.000488e+00  1.000488e+00\n",
       "min   -2.804866e+00 -2.148237e+00 -2.327054e+00 -3.397080e+00 -9.123291e-01\n",
       "25%   -7.095548e-01 -6.632165e-01 -6.787242e-01 -7.442713e-01 -9.123291e-01\n",
       "50%    1.726817e-01 -9.205458e-02 -1.163527e-01  1.255019e-01 -2.311765e-01\n",
       "75%    7.240794e-01  4.791073e-01  5.623715e-01  7.343432e-01  6.202642e-01\n",
       "max    2.488552e+00  3.906079e+00  6.166694e+00  2.299935e+00  4.366603e+00"
      ],
      "text/html": [
       "<div>\n",
       "<style scoped>\n",
       "    .dataframe tbody tr th:only-of-type {\n",
       "        vertical-align: middle;\n",
       "    }\n",
       "\n",
       "    .dataframe tbody tr th {\n",
       "        vertical-align: top;\n",
       "    }\n",
       "\n",
       "    .dataframe thead th {\n",
       "        text-align: right;\n",
       "    }\n",
       "</style>\n",
       "<table border=\"1\" class=\"dataframe\">\n",
       "  <thead>\n",
       "    <tr style=\"text-align: right;\">\n",
       "      <th></th>\n",
       "      <th>age</th>\n",
       "      <th>trestbps</th>\n",
       "      <th>chol</th>\n",
       "      <th>thalach</th>\n",
       "      <th>oldpeak</th>\n",
       "    </tr>\n",
       "  </thead>\n",
       "  <tbody>\n",
       "    <tr>\n",
       "      <th>count</th>\n",
       "      <td>1.025000e+03</td>\n",
       "      <td>1.025000e+03</td>\n",
       "      <td>1.025000e+03</td>\n",
       "      <td>1.025000e+03</td>\n",
       "      <td>1.025000e+03</td>\n",
       "    </tr>\n",
       "    <tr>\n",
       "      <th>mean</th>\n",
       "      <td>3.119456e-17</td>\n",
       "      <td>-6.932124e-18</td>\n",
       "      <td>-3.466062e-18</td>\n",
       "      <td>3.466062e-17</td>\n",
       "      <td>-6.932124e-18</td>\n",
       "    </tr>\n",
       "    <tr>\n",
       "      <th>std</th>\n",
       "      <td>1.000488e+00</td>\n",
       "      <td>1.000488e+00</td>\n",
       "      <td>1.000488e+00</td>\n",
       "      <td>1.000488e+00</td>\n",
       "      <td>1.000488e+00</td>\n",
       "    </tr>\n",
       "    <tr>\n",
       "      <th>min</th>\n",
       "      <td>-2.804866e+00</td>\n",
       "      <td>-2.148237e+00</td>\n",
       "      <td>-2.327054e+00</td>\n",
       "      <td>-3.397080e+00</td>\n",
       "      <td>-9.123291e-01</td>\n",
       "    </tr>\n",
       "    <tr>\n",
       "      <th>25%</th>\n",
       "      <td>-7.095548e-01</td>\n",
       "      <td>-6.632165e-01</td>\n",
       "      <td>-6.787242e-01</td>\n",
       "      <td>-7.442713e-01</td>\n",
       "      <td>-9.123291e-01</td>\n",
       "    </tr>\n",
       "    <tr>\n",
       "      <th>50%</th>\n",
       "      <td>1.726817e-01</td>\n",
       "      <td>-9.205458e-02</td>\n",
       "      <td>-1.163527e-01</td>\n",
       "      <td>1.255019e-01</td>\n",
       "      <td>-2.311765e-01</td>\n",
       "    </tr>\n",
       "    <tr>\n",
       "      <th>75%</th>\n",
       "      <td>7.240794e-01</td>\n",
       "      <td>4.791073e-01</td>\n",
       "      <td>5.623715e-01</td>\n",
       "      <td>7.343432e-01</td>\n",
       "      <td>6.202642e-01</td>\n",
       "    </tr>\n",
       "    <tr>\n",
       "      <th>max</th>\n",
       "      <td>2.488552e+00</td>\n",
       "      <td>3.906079e+00</td>\n",
       "      <td>6.166694e+00</td>\n",
       "      <td>2.299935e+00</td>\n",
       "      <td>4.366603e+00</td>\n",
       "    </tr>\n",
       "  </tbody>\n",
       "</table>\n",
       "</div>"
      ]
     },
     "execution_count": 27,
     "metadata": {},
     "output_type": "execute_result"
    }
   ],
   "execution_count": 27
  },
  {
   "metadata": {
    "ExecuteTime": {
     "end_time": "2025-03-02T17:32:37.770689Z",
     "start_time": "2025-03-02T17:32:37.760037Z"
    }
   },
   "cell_type": "code",
   "source": [
    "processed_features = pd.concat([numeric_features, categorical_features], axis = 1, sort = False)\n",
    "processed_features.head()"
   ],
   "id": "bbbb97714f4fd99a",
   "outputs": [
    {
     "data": {
      "text/plain": [
       "        age  trestbps      chol   thalach   oldpeak  sex  fbs  exang  cp  ca  \\\n",
       "0 -0.268437 -0.377636 -0.659332  0.821321 -0.060888    1    0      0   0   2   \n",
       "1 -0.158157  0.479107 -0.833861  0.255968  1.727137    1    1      1   0   0   \n",
       "2  1.716595  0.764688 -1.396233 -1.048692  1.301417    1    0      1   0   0   \n",
       "3  0.724079  0.936037 -0.833861  0.516900 -0.912329    1    0      0   0   1   \n",
       "4  0.834359  0.364875  0.930822 -1.874977  0.705408    0    1      0   0   3   \n",
       "\n",
       "   slope  thal  restecg  \n",
       "0      2     3        1  \n",
       "1      0     3        0  \n",
       "2      0     3        1  \n",
       "3      2     3        1  \n",
       "4      1     2        1  "
      ],
      "text/html": [
       "<div>\n",
       "<style scoped>\n",
       "    .dataframe tbody tr th:only-of-type {\n",
       "        vertical-align: middle;\n",
       "    }\n",
       "\n",
       "    .dataframe tbody tr th {\n",
       "        vertical-align: top;\n",
       "    }\n",
       "\n",
       "    .dataframe thead th {\n",
       "        text-align: right;\n",
       "    }\n",
       "</style>\n",
       "<table border=\"1\" class=\"dataframe\">\n",
       "  <thead>\n",
       "    <tr style=\"text-align: right;\">\n",
       "      <th></th>\n",
       "      <th>age</th>\n",
       "      <th>trestbps</th>\n",
       "      <th>chol</th>\n",
       "      <th>thalach</th>\n",
       "      <th>oldpeak</th>\n",
       "      <th>sex</th>\n",
       "      <th>fbs</th>\n",
       "      <th>exang</th>\n",
       "      <th>cp</th>\n",
       "      <th>ca</th>\n",
       "      <th>slope</th>\n",
       "      <th>thal</th>\n",
       "      <th>restecg</th>\n",
       "    </tr>\n",
       "  </thead>\n",
       "  <tbody>\n",
       "    <tr>\n",
       "      <th>0</th>\n",
       "      <td>-0.268437</td>\n",
       "      <td>-0.377636</td>\n",
       "      <td>-0.659332</td>\n",
       "      <td>0.821321</td>\n",
       "      <td>-0.060888</td>\n",
       "      <td>1</td>\n",
       "      <td>0</td>\n",
       "      <td>0</td>\n",
       "      <td>0</td>\n",
       "      <td>2</td>\n",
       "      <td>2</td>\n",
       "      <td>3</td>\n",
       "      <td>1</td>\n",
       "    </tr>\n",
       "    <tr>\n",
       "      <th>1</th>\n",
       "      <td>-0.158157</td>\n",
       "      <td>0.479107</td>\n",
       "      <td>-0.833861</td>\n",
       "      <td>0.255968</td>\n",
       "      <td>1.727137</td>\n",
       "      <td>1</td>\n",
       "      <td>1</td>\n",
       "      <td>1</td>\n",
       "      <td>0</td>\n",
       "      <td>0</td>\n",
       "      <td>0</td>\n",
       "      <td>3</td>\n",
       "      <td>0</td>\n",
       "    </tr>\n",
       "    <tr>\n",
       "      <th>2</th>\n",
       "      <td>1.716595</td>\n",
       "      <td>0.764688</td>\n",
       "      <td>-1.396233</td>\n",
       "      <td>-1.048692</td>\n",
       "      <td>1.301417</td>\n",
       "      <td>1</td>\n",
       "      <td>0</td>\n",
       "      <td>1</td>\n",
       "      <td>0</td>\n",
       "      <td>0</td>\n",
       "      <td>0</td>\n",
       "      <td>3</td>\n",
       "      <td>1</td>\n",
       "    </tr>\n",
       "    <tr>\n",
       "      <th>3</th>\n",
       "      <td>0.724079</td>\n",
       "      <td>0.936037</td>\n",
       "      <td>-0.833861</td>\n",
       "      <td>0.516900</td>\n",
       "      <td>-0.912329</td>\n",
       "      <td>1</td>\n",
       "      <td>0</td>\n",
       "      <td>0</td>\n",
       "      <td>0</td>\n",
       "      <td>1</td>\n",
       "      <td>2</td>\n",
       "      <td>3</td>\n",
       "      <td>1</td>\n",
       "    </tr>\n",
       "    <tr>\n",
       "      <th>4</th>\n",
       "      <td>0.834359</td>\n",
       "      <td>0.364875</td>\n",
       "      <td>0.930822</td>\n",
       "      <td>-1.874977</td>\n",
       "      <td>0.705408</td>\n",
       "      <td>0</td>\n",
       "      <td>1</td>\n",
       "      <td>0</td>\n",
       "      <td>0</td>\n",
       "      <td>3</td>\n",
       "      <td>1</td>\n",
       "      <td>2</td>\n",
       "      <td>1</td>\n",
       "    </tr>\n",
       "  </tbody>\n",
       "</table>\n",
       "</div>"
      ]
     },
     "execution_count": 29,
     "metadata": {},
     "output_type": "execute_result"
    }
   ],
   "execution_count": 29
  },
  {
   "metadata": {
    "ExecuteTime": {
     "end_time": "2025-03-02T17:33:59.600707Z",
     "start_time": "2025-03-02T17:33:59.595739Z"
    }
   },
   "cell_type": "code",
   "source": [
    "from sklearn.model_selection import train_test_split\n",
    "x_train, x_test, y_train, y_test = train_test_split(processed_features, target, test_size = 0.2, random_state = 1)"
   ],
   "id": "e83675a1d9c2dad4",
   "outputs": [],
   "execution_count": 30
  },
  {
   "metadata": {
    "ExecuteTime": {
     "end_time": "2025-03-02T17:35:03.124758Z",
     "start_time": "2025-03-02T17:35:03.119562Z"
    }
   },
   "cell_type": "code",
   "source": "x_train, x_val, y_train, y_val = train_test_split(x_train, y_train, test_size = 0.15, random_state = 10)",
   "id": "fc87c9b0791d60a9",
   "outputs": [],
   "execution_count": 31
  },
  {
   "metadata": {},
   "cell_type": "markdown",
   "source": "",
   "id": "f04034a8ebe4bc37"
  },
  {
   "metadata": {
    "ExecuteTime": {
     "end_time": "2025-03-02T17:35:08.846875Z",
     "start_time": "2025-03-02T17:35:08.841658Z"
    }
   },
   "cell_type": "code",
   "source": "x_train.shape, x_val.shape, x_test.shape",
   "id": "9e28da5add68017a",
   "outputs": [
    {
     "data": {
      "text/plain": [
       "((697, 13), (123, 13), (205, 13))"
      ]
     },
     "execution_count": 32,
     "metadata": {},
     "output_type": "execute_result"
    }
   ],
   "execution_count": 32
  },
  {
   "metadata": {
    "ExecuteTime": {
     "end_time": "2025-03-02T17:35:34.383987Z",
     "start_time": "2025-03-02T17:35:34.379483Z"
    }
   },
   "cell_type": "code",
   "source": "y_train.shape, y_val.shape, y_test.shape",
   "id": "712aa224c0fa30ad",
   "outputs": [
    {
     "data": {
      "text/plain": [
       "((697, 1), (123, 1), (205, 1))"
      ]
     },
     "execution_count": 33,
     "metadata": {},
     "output_type": "execute_result"
    }
   ],
   "execution_count": 33
  },
  {
   "metadata": {},
   "cell_type": "code",
   "outputs": [],
   "execution_count": null,
   "source": "",
   "id": "391bc77633aee58d"
  }
 ],
 "metadata": {
  "kernelspec": {
   "display_name": "Python 3",
   "language": "python",
   "name": "python3"
  },
  "language_info": {
   "codemirror_mode": {
    "name": "ipython",
    "version": 2
   },
   "file_extension": ".py",
   "mimetype": "text/x-python",
   "name": "python",
   "nbconvert_exporter": "python",
   "pygments_lexer": "ipython2",
   "version": "2.7.6"
  }
 },
 "nbformat": 4,
 "nbformat_minor": 5
}
