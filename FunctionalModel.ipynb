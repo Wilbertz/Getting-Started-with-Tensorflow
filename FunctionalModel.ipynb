{
 "cells": [
  {
   "cell_type": "code",
   "id": "initial_id",
   "metadata": {
    "collapsed": true,
    "ExecuteTime": {
     "end_time": "2025-03-02T16:00:22.741254Z",
     "start_time": "2025-03-02T16:00:18.138294Z"
    }
   },
   "source": [
    "from datetime import datetime\n",
    "\n",
    "import numpy as np\n",
    "import pandas as pd\n",
    "\n",
    "import matplotlib.pyplot as plt\n",
    "import seaborn as sns\n",
    "\n",
    "from sklearn.model_selection import train_test_split\n",
    "from sklearn.preprocessing import StandardScaler\n",
    "from sklearn.metrics import accuracy_score, precision_score, recall_score\n",
    "\n",
    "import tensorflow as tf\n",
    "\n",
    "from tensorflow import keras\n",
    "from keras import layers\n",
    "from tensorflow.python.keras.utils.version_utils import training\n"
   ],
   "outputs": [],
   "execution_count": 1
  },
  {
   "metadata": {
    "ExecuteTime": {
     "end_time": "2025-03-02T16:04:25.057872Z",
     "start_time": "2025-03-02T16:04:25.037836Z"
    }
   },
   "cell_type": "code",
   "source": [
    "df = pd.read_csv('datasets/heart.csv')\n",
    "df.sample(5)"
   ],
   "id": "f78645e6ce743e85",
   "outputs": [
    {
     "data": {
      "text/plain": [
       "     age  sex  cp  trestbps  chol  fbs  restecg  thalach  exang  oldpeak  \\\n",
       "224   51    1   0       140   261    0        0      186      1      0.0   \n",
       "603   63    0   1       140   195    0        1      179      0      0.0   \n",
       "736   59    1   0       110   239    0        0      142      1      1.2   \n",
       "46    41    1   1       135   203    0        1      132      0      0.0   \n",
       "538   46    1   0       120   249    0        0      144      0      0.8   \n",
       "\n",
       "     slope  ca  thal  target  \n",
       "224      2   0     2       1  \n",
       "603      2   2     2       1  \n",
       "736      1   1     3       0  \n",
       "46       1   0     1       1  \n",
       "538      2   0     3       0  "
      ],
      "text/html": [
       "<div>\n",
       "<style scoped>\n",
       "    .dataframe tbody tr th:only-of-type {\n",
       "        vertical-align: middle;\n",
       "    }\n",
       "\n",
       "    .dataframe tbody tr th {\n",
       "        vertical-align: top;\n",
       "    }\n",
       "\n",
       "    .dataframe thead th {\n",
       "        text-align: right;\n",
       "    }\n",
       "</style>\n",
       "<table border=\"1\" class=\"dataframe\">\n",
       "  <thead>\n",
       "    <tr style=\"text-align: right;\">\n",
       "      <th></th>\n",
       "      <th>age</th>\n",
       "      <th>sex</th>\n",
       "      <th>cp</th>\n",
       "      <th>trestbps</th>\n",
       "      <th>chol</th>\n",
       "      <th>fbs</th>\n",
       "      <th>restecg</th>\n",
       "      <th>thalach</th>\n",
       "      <th>exang</th>\n",
       "      <th>oldpeak</th>\n",
       "      <th>slope</th>\n",
       "      <th>ca</th>\n",
       "      <th>thal</th>\n",
       "      <th>target</th>\n",
       "    </tr>\n",
       "  </thead>\n",
       "  <tbody>\n",
       "    <tr>\n",
       "      <th>224</th>\n",
       "      <td>51</td>\n",
       "      <td>1</td>\n",
       "      <td>0</td>\n",
       "      <td>140</td>\n",
       "      <td>261</td>\n",
       "      <td>0</td>\n",
       "      <td>0</td>\n",
       "      <td>186</td>\n",
       "      <td>1</td>\n",
       "      <td>0.0</td>\n",
       "      <td>2</td>\n",
       "      <td>0</td>\n",
       "      <td>2</td>\n",
       "      <td>1</td>\n",
       "    </tr>\n",
       "    <tr>\n",
       "      <th>603</th>\n",
       "      <td>63</td>\n",
       "      <td>0</td>\n",
       "      <td>1</td>\n",
       "      <td>140</td>\n",
       "      <td>195</td>\n",
       "      <td>0</td>\n",
       "      <td>1</td>\n",
       "      <td>179</td>\n",
       "      <td>0</td>\n",
       "      <td>0.0</td>\n",
       "      <td>2</td>\n",
       "      <td>2</td>\n",
       "      <td>2</td>\n",
       "      <td>1</td>\n",
       "    </tr>\n",
       "    <tr>\n",
       "      <th>736</th>\n",
       "      <td>59</td>\n",
       "      <td>1</td>\n",
       "      <td>0</td>\n",
       "      <td>110</td>\n",
       "      <td>239</td>\n",
       "      <td>0</td>\n",
       "      <td>0</td>\n",
       "      <td>142</td>\n",
       "      <td>1</td>\n",
       "      <td>1.2</td>\n",
       "      <td>1</td>\n",
       "      <td>1</td>\n",
       "      <td>3</td>\n",
       "      <td>0</td>\n",
       "    </tr>\n",
       "    <tr>\n",
       "      <th>46</th>\n",
       "      <td>41</td>\n",
       "      <td>1</td>\n",
       "      <td>1</td>\n",
       "      <td>135</td>\n",
       "      <td>203</td>\n",
       "      <td>0</td>\n",
       "      <td>1</td>\n",
       "      <td>132</td>\n",
       "      <td>0</td>\n",
       "      <td>0.0</td>\n",
       "      <td>1</td>\n",
       "      <td>0</td>\n",
       "      <td>1</td>\n",
       "      <td>1</td>\n",
       "    </tr>\n",
       "    <tr>\n",
       "      <th>538</th>\n",
       "      <td>46</td>\n",
       "      <td>1</td>\n",
       "      <td>0</td>\n",
       "      <td>120</td>\n",
       "      <td>249</td>\n",
       "      <td>0</td>\n",
       "      <td>0</td>\n",
       "      <td>144</td>\n",
       "      <td>0</td>\n",
       "      <td>0.8</td>\n",
       "      <td>2</td>\n",
       "      <td>0</td>\n",
       "      <td>3</td>\n",
       "      <td>0</td>\n",
       "    </tr>\n",
       "  </tbody>\n",
       "</table>\n",
       "</div>"
      ]
     },
     "execution_count": 3,
     "metadata": {},
     "output_type": "execute_result"
    }
   ],
   "execution_count": 3
  },
  {
   "metadata": {
    "ExecuteTime": {
     "end_time": "2025-03-02T16:05:16.905890Z",
     "start_time": "2025-03-02T16:05:16.901864Z"
    }
   },
   "cell_type": "code",
   "source": "df.shape",
   "id": "c091281e945918a",
   "outputs": [
    {
     "data": {
      "text/plain": [
       "(1025, 14)"
      ]
     },
     "execution_count": 4,
     "metadata": {},
     "output_type": "execute_result"
    }
   ],
   "execution_count": 4
  },
  {
   "metadata": {
    "ExecuteTime": {
     "end_time": "2025-03-02T16:05:42.411091Z",
     "start_time": "2025-03-02T16:05:42.401685Z"
    }
   },
   "cell_type": "code",
   "source": "df.isna().sum()",
   "id": "74ea95066c365f78",
   "outputs": [
    {
     "data": {
      "text/plain": [
       "age         0\n",
       "sex         0\n",
       "cp          0\n",
       "trestbps    0\n",
       "chol        0\n",
       "fbs         0\n",
       "restecg     0\n",
       "thalach     0\n",
       "exang       0\n",
       "oldpeak     0\n",
       "slope       0\n",
       "ca          0\n",
       "thal        0\n",
       "target      0\n",
       "dtype: int64"
      ]
     },
     "execution_count": 5,
     "metadata": {},
     "output_type": "execute_result"
    }
   ],
   "execution_count": 5
  },
  {
   "metadata": {
    "ExecuteTime": {
     "end_time": "2025-03-02T16:06:02.395942Z",
     "start_time": "2025-03-02T16:06:02.365899Z"
    }
   },
   "cell_type": "code",
   "source": "df.describe().T",
   "id": "82eab5e15852246d",
   "outputs": [
    {
     "data": {
      "text/plain": [
       "           count        mean        std    min    25%    50%    75%    max\n",
       "age       1025.0   54.434146   9.072290   29.0   48.0   56.0   61.0   77.0\n",
       "sex       1025.0    0.695610   0.460373    0.0    0.0    1.0    1.0    1.0\n",
       "cp        1025.0    0.942439   1.029641    0.0    0.0    1.0    2.0    3.0\n",
       "trestbps  1025.0  131.611707  17.516718   94.0  120.0  130.0  140.0  200.0\n",
       "chol      1025.0  246.000000  51.592510  126.0  211.0  240.0  275.0  564.0\n",
       "fbs       1025.0    0.149268   0.356527    0.0    0.0    0.0    0.0    1.0\n",
       "restecg   1025.0    0.529756   0.527878    0.0    0.0    1.0    1.0    2.0\n",
       "thalach   1025.0  149.114146  23.005724   71.0  132.0  152.0  166.0  202.0\n",
       "exang     1025.0    0.336585   0.472772    0.0    0.0    0.0    1.0    1.0\n",
       "oldpeak   1025.0    1.071512   1.175053    0.0    0.0    0.8    1.8    6.2\n",
       "slope     1025.0    1.385366   0.617755    0.0    1.0    1.0    2.0    2.0\n",
       "ca        1025.0    0.754146   1.030798    0.0    0.0    0.0    1.0    4.0\n",
       "thal      1025.0    2.323902   0.620660    0.0    2.0    2.0    3.0    3.0\n",
       "target    1025.0    0.513171   0.500070    0.0    0.0    1.0    1.0    1.0"
      ],
      "text/html": [
       "<div>\n",
       "<style scoped>\n",
       "    .dataframe tbody tr th:only-of-type {\n",
       "        vertical-align: middle;\n",
       "    }\n",
       "\n",
       "    .dataframe tbody tr th {\n",
       "        vertical-align: top;\n",
       "    }\n",
       "\n",
       "    .dataframe thead th {\n",
       "        text-align: right;\n",
       "    }\n",
       "</style>\n",
       "<table border=\"1\" class=\"dataframe\">\n",
       "  <thead>\n",
       "    <tr style=\"text-align: right;\">\n",
       "      <th></th>\n",
       "      <th>count</th>\n",
       "      <th>mean</th>\n",
       "      <th>std</th>\n",
       "      <th>min</th>\n",
       "      <th>25%</th>\n",
       "      <th>50%</th>\n",
       "      <th>75%</th>\n",
       "      <th>max</th>\n",
       "    </tr>\n",
       "  </thead>\n",
       "  <tbody>\n",
       "    <tr>\n",
       "      <th>age</th>\n",
       "      <td>1025.0</td>\n",
       "      <td>54.434146</td>\n",
       "      <td>9.072290</td>\n",
       "      <td>29.0</td>\n",
       "      <td>48.0</td>\n",
       "      <td>56.0</td>\n",
       "      <td>61.0</td>\n",
       "      <td>77.0</td>\n",
       "    </tr>\n",
       "    <tr>\n",
       "      <th>sex</th>\n",
       "      <td>1025.0</td>\n",
       "      <td>0.695610</td>\n",
       "      <td>0.460373</td>\n",
       "      <td>0.0</td>\n",
       "      <td>0.0</td>\n",
       "      <td>1.0</td>\n",
       "      <td>1.0</td>\n",
       "      <td>1.0</td>\n",
       "    </tr>\n",
       "    <tr>\n",
       "      <th>cp</th>\n",
       "      <td>1025.0</td>\n",
       "      <td>0.942439</td>\n",
       "      <td>1.029641</td>\n",
       "      <td>0.0</td>\n",
       "      <td>0.0</td>\n",
       "      <td>1.0</td>\n",
       "      <td>2.0</td>\n",
       "      <td>3.0</td>\n",
       "    </tr>\n",
       "    <tr>\n",
       "      <th>trestbps</th>\n",
       "      <td>1025.0</td>\n",
       "      <td>131.611707</td>\n",
       "      <td>17.516718</td>\n",
       "      <td>94.0</td>\n",
       "      <td>120.0</td>\n",
       "      <td>130.0</td>\n",
       "      <td>140.0</td>\n",
       "      <td>200.0</td>\n",
       "    </tr>\n",
       "    <tr>\n",
       "      <th>chol</th>\n",
       "      <td>1025.0</td>\n",
       "      <td>246.000000</td>\n",
       "      <td>51.592510</td>\n",
       "      <td>126.0</td>\n",
       "      <td>211.0</td>\n",
       "      <td>240.0</td>\n",
       "      <td>275.0</td>\n",
       "      <td>564.0</td>\n",
       "    </tr>\n",
       "    <tr>\n",
       "      <th>fbs</th>\n",
       "      <td>1025.0</td>\n",
       "      <td>0.149268</td>\n",
       "      <td>0.356527</td>\n",
       "      <td>0.0</td>\n",
       "      <td>0.0</td>\n",
       "      <td>0.0</td>\n",
       "      <td>0.0</td>\n",
       "      <td>1.0</td>\n",
       "    </tr>\n",
       "    <tr>\n",
       "      <th>restecg</th>\n",
       "      <td>1025.0</td>\n",
       "      <td>0.529756</td>\n",
       "      <td>0.527878</td>\n",
       "      <td>0.0</td>\n",
       "      <td>0.0</td>\n",
       "      <td>1.0</td>\n",
       "      <td>1.0</td>\n",
       "      <td>2.0</td>\n",
       "    </tr>\n",
       "    <tr>\n",
       "      <th>thalach</th>\n",
       "      <td>1025.0</td>\n",
       "      <td>149.114146</td>\n",
       "      <td>23.005724</td>\n",
       "      <td>71.0</td>\n",
       "      <td>132.0</td>\n",
       "      <td>152.0</td>\n",
       "      <td>166.0</td>\n",
       "      <td>202.0</td>\n",
       "    </tr>\n",
       "    <tr>\n",
       "      <th>exang</th>\n",
       "      <td>1025.0</td>\n",
       "      <td>0.336585</td>\n",
       "      <td>0.472772</td>\n",
       "      <td>0.0</td>\n",
       "      <td>0.0</td>\n",
       "      <td>0.0</td>\n",
       "      <td>1.0</td>\n",
       "      <td>1.0</td>\n",
       "    </tr>\n",
       "    <tr>\n",
       "      <th>oldpeak</th>\n",
       "      <td>1025.0</td>\n",
       "      <td>1.071512</td>\n",
       "      <td>1.175053</td>\n",
       "      <td>0.0</td>\n",
       "      <td>0.0</td>\n",
       "      <td>0.8</td>\n",
       "      <td>1.8</td>\n",
       "      <td>6.2</td>\n",
       "    </tr>\n",
       "    <tr>\n",
       "      <th>slope</th>\n",
       "      <td>1025.0</td>\n",
       "      <td>1.385366</td>\n",
       "      <td>0.617755</td>\n",
       "      <td>0.0</td>\n",
       "      <td>1.0</td>\n",
       "      <td>1.0</td>\n",
       "      <td>2.0</td>\n",
       "      <td>2.0</td>\n",
       "    </tr>\n",
       "    <tr>\n",
       "      <th>ca</th>\n",
       "      <td>1025.0</td>\n",
       "      <td>0.754146</td>\n",
       "      <td>1.030798</td>\n",
       "      <td>0.0</td>\n",
       "      <td>0.0</td>\n",
       "      <td>0.0</td>\n",
       "      <td>1.0</td>\n",
       "      <td>4.0</td>\n",
       "    </tr>\n",
       "    <tr>\n",
       "      <th>thal</th>\n",
       "      <td>1025.0</td>\n",
       "      <td>2.323902</td>\n",
       "      <td>0.620660</td>\n",
       "      <td>0.0</td>\n",
       "      <td>2.0</td>\n",
       "      <td>2.0</td>\n",
       "      <td>3.0</td>\n",
       "      <td>3.0</td>\n",
       "    </tr>\n",
       "    <tr>\n",
       "      <th>target</th>\n",
       "      <td>1025.0</td>\n",
       "      <td>0.513171</td>\n",
       "      <td>0.500070</td>\n",
       "      <td>0.0</td>\n",
       "      <td>0.0</td>\n",
       "      <td>1.0</td>\n",
       "      <td>1.0</td>\n",
       "      <td>1.0</td>\n",
       "    </tr>\n",
       "  </tbody>\n",
       "</table>\n",
       "</div>"
      ]
     },
     "execution_count": 6,
     "metadata": {},
     "output_type": "execute_result"
    }
   ],
   "execution_count": 6
  },
  {
   "metadata": {
    "ExecuteTime": {
     "end_time": "2025-03-02T16:08:09.944006Z",
     "start_time": "2025-03-02T16:08:09.938324Z"
    }
   },
   "cell_type": "code",
   "source": "df['sex'].value_counts()",
   "id": "d488226a5cbc5936",
   "outputs": [
    {
     "data": {
      "text/plain": [
       "sex\n",
       "1    713\n",
       "0    312\n",
       "Name: count, dtype: int64"
      ]
     },
     "execution_count": 8,
     "metadata": {},
     "output_type": "execute_result"
    }
   ],
   "execution_count": 8
  },
  {
   "metadata": {
    "ExecuteTime": {
     "end_time": "2025-03-02T16:08:45.706138Z",
     "start_time": "2025-03-02T16:08:45.701236Z"
    }
   },
   "cell_type": "code",
   "source": "df['cp'].value_counts()",
   "id": "d84cf9943ec4a6c9",
   "outputs": [
    {
     "data": {
      "text/plain": [
       "cp\n",
       "0    497\n",
       "2    284\n",
       "1    167\n",
       "3     77\n",
       "Name: count, dtype: int64"
      ]
     },
     "execution_count": 9,
     "metadata": {},
     "output_type": "execute_result"
    }
   ],
   "execution_count": 9
  },
  {
   "metadata": {
    "ExecuteTime": {
     "end_time": "2025-03-02T16:55:22.761603Z",
     "start_time": "2025-03-02T16:55:22.636057Z"
    }
   },
   "cell_type": "code",
   "source": [
    "sns.countplot(x='sex', hue = 'target', data = df)\n",
    "\n",
    "plt.title('Heart Disease Frequency for Gender')\n",
    "plt.legend(['No Disease', 'Yes Disease' ])\n",
    "\n",
    "plt.xlabel('Gender (0 = Female, 1 = Male')\n",
    "plt.ylabel('Frequency')\n",
    "\n",
    "plt.show()"
   ],
   "id": "ed729bbd37f045d3",
   "outputs": [
    {
     "data": {
      "text/plain": [
       "<Figure size 640x480 with 1 Axes>"
      ],
      "image/png": "[encoded data removed]"
     },
     "metadata": {},
     "output_type": "display_data"
    }
   ],
   "execution_count": 12
  },
  {
   "metadata": {
    "ExecuteTime": {
     "end_time": "2025-03-02T16:57:20.057168Z",
     "start_time": "2025-03-02T16:57:19.780851Z"
    }
   },
   "cell_type": "code",
   "source": [
    "plt.figure(figsize = (20, 8))\n",
    "sns.countplot(x='age', hue = 'target', data = df)\n",
    "\n",
    "plt.title('Heart Disease Frequency for Age')\n",
    "plt.legend(['No Disease', 'Yes Disease' ])\n",
    "\n",
    "plt.xlabel('Age')\n",
    "plt.ylabel('Frequency')\n",
    "\n",
    "plt.show()"
   ],
   "id": "894ffdc9b6919e01",
   "outputs": [
    {
     "data": {
      "text/plain": [
       "<Figure size 2000x800 with 1 Axes>"
      ],
      "image/png": "[encoded data removed]"
     },
     "metadata": {},
     "output_type": "display_data"
    }
   ],
   "execution_count": 13
  },
  {
   "metadata": {
    "ExecuteTime": {
     "end_time": "2025-03-02T16:59:26.016873Z",
     "start_time": "2025-03-02T16:59:25.932710Z"
    }
   },
   "cell_type": "code",
   "source": [
    "plt.figure(figsize = (10, 8))\n",
    "plt.scatter(df['age'], df['chol'], s = 50)\n",
    "\n",
    "plt.xlabel('Age', fontsize = 20)\n",
    "plt.ylabel('Cholesterol', fontsize = 20)\n",
    "\n",
    "plt.show()"
   ],
   "id": "ed0da4e8398a2163",
   "outputs": [
    {
     "data": {
      "text/plain": [
       "<Figure size 1000x800 with 1 Axes>"
      ],
      "image/png": "[encoded data removed]"
     },
     "metadata": {},
     "output_type": "display_data"
    }
   ],
   "execution_count": 16
  },
  {
   "metadata": {
    "ExecuteTime": {
     "end_time": "2025-03-02T17:00:21.177590Z",
     "start_time": "2025-03-02T17:00:21.172526Z"
    }
   },
   "cell_type": "code",
   "source": [
    "features = df.drop('target', axis = 1)\n",
    "target = df[[ 'target']]"
   ],
   "id": "419da3ede61f5bba",
   "outputs": [],
   "execution_count": 17
  },
  {
   "metadata": {
    "ExecuteTime": {
     "end_time": "2025-03-02T17:00:31.258920Z",
     "start_time": "2025-03-02T17:00:31.249984Z"
    }
   },
   "cell_type": "code",
   "source": "features.sample(5)",
   "id": "b850fa729d840c72",
   "outputs": [
    {
     "data": {
      "text/plain": [
       "     age  sex  cp  trestbps  chol  fbs  restecg  thalach  exang  oldpeak  \\\n",
       "816   70    1   1       156   245    0        0      143      0      0.0   \n",
       "494   51    1   2       125   245    1        0      166      0      2.4   \n",
       "565   53    0   0       138   234    0        0      160      0      0.0   \n",
       "41    54    1   2       120   258    0        0      147      0      0.4   \n",
       "280   45    0   1       130   234    0        0      175      0      0.6   \n",
       "\n",
       "     slope  ca  thal  \n",
       "816      2   0     2  \n",
       "494      1   0     2  \n",
       "565      2   0     2  \n",
       "41       1   0     3  \n",
       "280      1   0     2  "
      ],
      "text/html": [
       "<div>\n",
       "<style scoped>\n",
       "    .dataframe tbody tr th:only-of-type {\n",
       "        vertical-align: middle;\n",
       "    }\n",
       "\n",
       "    .dataframe tbody tr th {\n",
       "        vertical-align: top;\n",
       "    }\n",
       "\n",
       "    .dataframe thead th {\n",
       "        text-align: right;\n",
       "    }\n",
       "</style>\n",
       "<table border=\"1\" class=\"dataframe\">\n",
       "  <thead>\n",
       "    <tr style=\"text-align: right;\">\n",
       "      <th></th>\n",
       "      <th>age</th>\n",
       "      <th>sex</th>\n",
       "      <th>cp</th>\n",
       "      <th>trestbps</th>\n",
       "      <th>chol</th>\n",
       "      <th>fbs</th>\n",
       "      <th>restecg</th>\n",
       "      <th>thalach</th>\n",
       "      <th>exang</th>\n",
       "      <th>oldpeak</th>\n",
       "      <th>slope</th>\n",
       "      <th>ca</th>\n",
       "      <th>thal</th>\n",
       "    </tr>\n",
       "  </thead>\n",
       "  <tbody>\n",
       "    <tr>\n",
       "      <th>816</th>\n",
       "      <td>70</td>\n",
       "      <td>1</td>\n",
       "      <td>1</td>\n",
       "      <td>156</td>\n",
       "      <td>245</td>\n",
       "      <td>0</td>\n",
       "      <td>0</td>\n",
       "      <td>143</td>\n",
       "      <td>0</td>\n",
       "      <td>0.0</td>\n",
       "      <td>2</td>\n",
       "      <td>0</td>\n",
       "      <td>2</td>\n",
       "    </tr>\n",
       "    <tr>\n",
       "      <th>494</th>\n",
       "      <td>51</td>\n",
       "      <td>1</td>\n",
       "      <td>2</td>\n",
       "      <td>125</td>\n",
       "      <td>245</td>\n",
       "      <td>1</td>\n",
       "      <td>0</td>\n",
       "      <td>166</td>\n",
       "      <td>0</td>\n",
       "      <td>2.4</td>\n",
       "      <td>1</td>\n",
       "      <td>0</td>\n",
       "      <td>2</td>\n",
       "    </tr>\n",
       "    <tr>\n",
       "      <th>565</th>\n",
       "      <td>53</td>\n",
       "      <td>0</td>\n",
       "      <td>0</td>\n",
       "      <td>138</td>\n",
       "      <td>234</td>\n",
       "      <td>0</td>\n",
       "      <td>0</td>\n",
       "      <td>160</td>\n",
       "      <td>0</td>\n",
       "      <td>0.0</td>\n",
       "      <td>2</td>\n",
       "      <td>0</td>\n",
       "      <td>2</td>\n",
       "    </tr>\n",
       "    <tr>\n",
       "      <th>41</th>\n",
       "      <td>54</td>\n",
       "      <td>1</td>\n",
       "      <td>2</td>\n",
       "      <td>120</td>\n",
       "      <td>258</td>\n",
       "      <td>0</td>\n",
       "      <td>0</td>\n",
       "      <td>147</td>\n",
       "      <td>0</td>\n",
       "      <td>0.4</td>\n",
       "      <td>1</td>\n",
       "      <td>0</td>\n",
       "      <td>3</td>\n",
       "    </tr>\n",
       "    <tr>\n",
       "      <th>280</th>\n",
       "      <td>45</td>\n",
       "      <td>0</td>\n",
       "      <td>1</td>\n",
       "      <td>130</td>\n",
       "      <td>234</td>\n",
       "      <td>0</td>\n",
       "      <td>0</td>\n",
       "      <td>175</td>\n",
       "      <td>0</td>\n",
       "      <td>0.6</td>\n",
       "      <td>1</td>\n",
       "      <td>0</td>\n",
       "      <td>2</td>\n",
       "    </tr>\n",
       "  </tbody>\n",
       "</table>\n",
       "</div>"
      ]
     },
     "execution_count": 18,
     "metadata": {},
     "output_type": "execute_result"
    }
   ],
   "execution_count": 18
  },
  {
   "metadata": {
    "ExecuteTime": {
     "end_time": "2025-03-02T17:00:51.039514Z",
     "start_time": "2025-03-02T17:00:51.033072Z"
    }
   },
   "cell_type": "code",
   "source": "target.sample(10)",
   "id": "dbccd39eb1fb970c",
   "outputs": [
    {
     "data": {
      "text/plain": [
       "     target\n",
       "623       0\n",
       "979       0\n",
       "535       1\n",
       "793       1\n",
       "29        0\n",
       "351       0\n",
       "790       0\n",
       "714       1\n",
       "438       1\n",
       "935       1"
      ],
      "text/html": [
       "<div>\n",
       "<style scoped>\n",
       "    .dataframe tbody tr th:only-of-type {\n",
       "        vertical-align: middle;\n",
       "    }\n",
       "\n",
       "    .dataframe tbody tr th {\n",
       "        vertical-align: top;\n",
       "    }\n",
       "\n",
       "    .dataframe thead th {\n",
       "        text-align: right;\n",
       "    }\n",
       "</style>\n",
       "<table border=\"1\" class=\"dataframe\">\n",
       "  <thead>\n",
       "    <tr style=\"text-align: right;\">\n",
       "      <th></th>\n",
       "      <th>target</th>\n",
       "    </tr>\n",
       "  </thead>\n",
       "  <tbody>\n",
       "    <tr>\n",
       "      <th>623</th>\n",
       "      <td>0</td>\n",
       "    </tr>\n",
       "    <tr>\n",
       "      <th>979</th>\n",
       "      <td>0</td>\n",
       "    </tr>\n",
       "    <tr>\n",
       "      <th>535</th>\n",
       "      <td>1</td>\n",
       "    </tr>\n",
       "    <tr>\n",
       "      <th>793</th>\n",
       "      <td>1</td>\n",
       "    </tr>\n",
       "    <tr>\n",
       "      <th>29</th>\n",
       "      <td>0</td>\n",
       "    </tr>\n",
       "    <tr>\n",
       "      <th>351</th>\n",
       "      <td>0</td>\n",
       "    </tr>\n",
       "    <tr>\n",
       "      <th>790</th>\n",
       "      <td>0</td>\n",
       "    </tr>\n",
       "    <tr>\n",
       "      <th>714</th>\n",
       "      <td>1</td>\n",
       "    </tr>\n",
       "    <tr>\n",
       "      <th>438</th>\n",
       "      <td>1</td>\n",
       "    </tr>\n",
       "    <tr>\n",
       "      <th>935</th>\n",
       "      <td>1</td>\n",
       "    </tr>\n",
       "  </tbody>\n",
       "</table>\n",
       "</div>"
      ]
     },
     "execution_count": 19,
     "metadata": {},
     "output_type": "execute_result"
    }
   ],
   "execution_count": 19
  },
  {
   "metadata": {
    "ExecuteTime": {
     "end_time": "2025-03-02T17:09:34.498012Z",
     "start_time": "2025-03-02T17:09:34.489309Z"
    }
   },
   "cell_type": "code",
   "source": [
    "categorical_features = features[['sex', 'fbs', 'exang', 'cp', 'ca', 'slope', 'thal', 'restecg']].copy()\n",
    "categorical_features.head()"
   ],
   "id": "d1d871b1d0df244f",
   "outputs": [
    {
     "data": {
      "text/plain": [
       "   sex  fbs  exang  cp  ca  slope  thal  restecg\n",
       "0    1    0      0   0   2      2     3        1\n",
       "1    1    1      1   0   0      0     3        0\n",
       "2    1    0      1   0   0      0     3        1\n",
       "3    1    0      0   0   1      2     3        1\n",
       "4    0    1      0   0   3      1     2        1"
      ],
      "text/html": [
       "<div>\n",
       "<style scoped>\n",
       "    .dataframe tbody tr th:only-of-type {\n",
       "        vertical-align: middle;\n",
       "    }\n",
       "\n",
       "    .dataframe tbody tr th {\n",
       "        vertical-align: top;\n",
       "    }\n",
       "\n",
       "    .dataframe thead th {\n",
       "        text-align: right;\n",
       "    }\n",
       "</style>\n",
       "<table border=\"1\" class=\"dataframe\">\n",
       "  <thead>\n",
       "    <tr style=\"text-align: right;\">\n",
       "      <th></th>\n",
       "      <th>sex</th>\n",
       "      <th>fbs</th>\n",
       "      <th>exang</th>\n",
       "      <th>cp</th>\n",
       "      <th>ca</th>\n",
       "      <th>slope</th>\n",
       "      <th>thal</th>\n",
       "      <th>restecg</th>\n",
       "    </tr>\n",
       "  </thead>\n",
       "  <tbody>\n",
       "    <tr>\n",
       "      <th>0</th>\n",
       "      <td>1</td>\n",
       "      <td>0</td>\n",
       "      <td>0</td>\n",
       "      <td>0</td>\n",
       "      <td>2</td>\n",
       "      <td>2</td>\n",
       "      <td>3</td>\n",
       "      <td>1</td>\n",
       "    </tr>\n",
       "    <tr>\n",
       "      <th>1</th>\n",
       "      <td>1</td>\n",
       "      <td>1</td>\n",
       "      <td>1</td>\n",
       "      <td>0</td>\n",
       "      <td>0</td>\n",
       "      <td>0</td>\n",
       "      <td>3</td>\n",
       "      <td>0</td>\n",
       "    </tr>\n",
       "    <tr>\n",
       "      <th>2</th>\n",
       "      <td>1</td>\n",
       "      <td>0</td>\n",
       "      <td>1</td>\n",
       "      <td>0</td>\n",
       "      <td>0</td>\n",
       "      <td>0</td>\n",
       "      <td>3</td>\n",
       "      <td>1</td>\n",
       "    </tr>\n",
       "    <tr>\n",
       "      <th>3</th>\n",
       "      <td>1</td>\n",
       "      <td>0</td>\n",
       "      <td>0</td>\n",
       "      <td>0</td>\n",
       "      <td>1</td>\n",
       "      <td>2</td>\n",
       "      <td>3</td>\n",
       "      <td>1</td>\n",
       "    </tr>\n",
       "    <tr>\n",
       "      <th>4</th>\n",
       "      <td>0</td>\n",
       "      <td>1</td>\n",
       "      <td>0</td>\n",
       "      <td>0</td>\n",
       "      <td>3</td>\n",
       "      <td>1</td>\n",
       "      <td>2</td>\n",
       "      <td>1</td>\n",
       "    </tr>\n",
       "  </tbody>\n",
       "</table>\n",
       "</div>"
      ]
     },
     "execution_count": 20,
     "metadata": {},
     "output_type": "execute_result"
    }
   ],
   "execution_count": 20
  },
  {
   "metadata": {
    "ExecuteTime": {
     "end_time": "2025-03-02T17:20:35.508550Z",
     "start_time": "2025-03-02T17:20:35.499981Z"
    }
   },
   "cell_type": "code",
   "source": [
    "numeric_features = features[['age', 'trestbps', 'chol', 'thalach', 'oldpeak']].copy()\n",
    "numeric_features.head()"
   ],
   "id": "f2b78abf958e46de",
   "outputs": [
    {
     "data": {
      "text/plain": [
       "   age  trestbps  chol  thalach  oldpeak\n",
       "0   52       125   212      168      1.0\n",
       "1   53       140   203      155      3.1\n",
       "2   70       145   174      125      2.6\n",
       "3   61       148   203      161      0.0\n",
       "4   62       138   294      106      1.9"
      ],
      "text/html": [
       "<div>\n",
       "<style scoped>\n",
       "    .dataframe tbody tr th:only-of-type {\n",
       "        vertical-align: middle;\n",
       "    }\n",
       "\n",
       "    .dataframe tbody tr th {\n",
       "        vertical-align: top;\n",
       "    }\n",
       "\n",
       "    .dataframe thead th {\n",
       "        text-align: right;\n",
       "    }\n",
       "</style>\n",
       "<table border=\"1\" class=\"dataframe\">\n",
       "  <thead>\n",
       "    <tr style=\"text-align: right;\">\n",
       "      <th></th>\n",
       "      <th>age</th>\n",
       "      <th>trestbps</th>\n",
       "      <th>chol</th>\n",
       "      <th>thalach</th>\n",
       "      <th>oldpeak</th>\n",
       "    </tr>\n",
       "  </thead>\n",
       "  <tbody>\n",
       "    <tr>\n",
       "      <th>0</th>\n",
       "      <td>52</td>\n",
       "      <td>125</td>\n",
       "      <td>212</td>\n",
       "      <td>168</td>\n",
       "      <td>1.0</td>\n",
       "    </tr>\n",
       "    <tr>\n",
       "      <th>1</th>\n",
       "      <td>53</td>\n",
       "      <td>140</td>\n",
       "      <td>203</td>\n",
       "      <td>155</td>\n",
       "      <td>3.1</td>\n",
       "    </tr>\n",
       "    <tr>\n",
       "      <th>2</th>\n",
       "      <td>70</td>\n",
       "      <td>145</td>\n",
       "      <td>174</td>\n",
       "      <td>125</td>\n",
       "      <td>2.6</td>\n",
       "    </tr>\n",
       "    <tr>\n",
       "      <th>3</th>\n",
       "      <td>61</td>\n",
       "      <td>148</td>\n",
       "      <td>203</td>\n",
       "      <td>161</td>\n",
       "      <td>0.0</td>\n",
       "    </tr>\n",
       "    <tr>\n",
       "      <th>4</th>\n",
       "      <td>62</td>\n",
       "      <td>138</td>\n",
       "      <td>294</td>\n",
       "      <td>106</td>\n",
       "      <td>1.9</td>\n",
       "    </tr>\n",
       "  </tbody>\n",
       "</table>\n",
       "</div>"
      ]
     },
     "execution_count": 21,
     "metadata": {},
     "output_type": "execute_result"
    }
   ],
   "execution_count": 21
  },
  {
   "metadata": {
    "ExecuteTime": {
     "end_time": "2025-03-02T17:32:04.884781Z",
     "start_time": "2025-03-02T17:32:04.865510Z"
    }
   },
   "cell_type": "code",
   "source": [
    "standardScaler = StandardScaler()\n",
    "numeric_features = pd.DataFrame(standardScaler.fit_transform(numeric_features), \n",
    "                                columns = numeric_features.columns, \n",
    "                                index = numeric_features.index)\n",
    "numeric_features.describe()"
   ],
   "id": "f0651a128f446f9c",
   "outputs": [
    {
     "data": {
      "text/plain": [
       "                age      trestbps          chol       thalach       oldpeak\n",
       "count  1.025000e+03  1.025000e+03  1.025000e+03  1.025000e+03  1.025000e+03\n",
       "mean   3.119456e-17 -6.932124e-18 -3.466062e-18  3.466062e-17 -6.932124e-18\n",
       "std    1.000488e+00  1.000488e+00  1.000488e+00  1.000488e+00  1.000488e+00\n",
       "min   -2.804866e+00 -2.148237e+00 -2.327054e+00 -3.397080e+00 -9.123291e-01\n",
       "25%   -7.095548e-01 -6.632165e-01 -6.787242e-01 -7.442713e-01 -9.123291e-01\n",
       "50%    1.726817e-01 -9.205458e-02 -1.163527e-01  1.255019e-01 -2.311765e-01\n",
       "75%    7.240794e-01  4.791073e-01  5.623715e-01  7.343432e-01  6.202642e-01\n",
       "max    2.488552e+00  3.906079e+00  6.166694e+00  2.299935e+00  4.366603e+00"
      ],
      "text/html": [
       "<div>\n",
       "<style scoped>\n",
       "    .dataframe tbody tr th:only-of-type {\n",
       "        vertical-align: middle;\n",
       "    }\n",
       "\n",
       "    .dataframe tbody tr th {\n",
       "        vertical-align: top;\n",
       "    }\n",
       "\n",
       "    .dataframe thead th {\n",
       "        text-align: right;\n",
       "    }\n",
       "</style>\n",
       "<table border=\"1\" class=\"dataframe\">\n",
       "  <thead>\n",
       "    <tr style=\"text-align: right;\">\n",
       "      <th></th>\n",
       "      <th>age</th>\n",
       "      <th>trestbps</th>\n",
       "      <th>chol</th>\n",
       "      <th>thalach</th>\n",
       "      <th>oldpeak</th>\n",
       "    </tr>\n",
       "  </thead>\n",
       "  <tbody>\n",
       "    <tr>\n",
       "      <th>count</th>\n",
       "      <td>1.025000e+03</td>\n",
       "      <td>1.025000e+03</td>\n",
       "      <td>1.025000e+03</td>\n",
       "      <td>1.025000e+03</td>\n",
       "      <td>1.025000e+03</td>\n",
       "    </tr>\n",
       "    <tr>\n",
       "      <th>mean</th>\n",
       "      <td>3.119456e-17</td>\n",
       "      <td>-6.932124e-18</td>\n",
       "      <td>-3.466062e-18</td>\n",
       "      <td>3.466062e-17</td>\n",
       "      <td>-6.932124e-18</td>\n",
       "    </tr>\n",
       "    <tr>\n",
       "      <th>std</th>\n",
       "      <td>1.000488e+00</td>\n",
       "      <td>1.000488e+00</td>\n",
       "      <td>1.000488e+00</td>\n",
       "      <td>1.000488e+00</td>\n",
       "      <td>1.000488e+00</td>\n",
       "    </tr>\n",
       "    <tr>\n",
       "      <th>min</th>\n",
       "      <td>-2.804866e+00</td>\n",
       "      <td>-2.148237e+00</td>\n",
       "      <td>-2.327054e+00</td>\n",
       "      <td>-3.397080e+00</td>\n",
       "      <td>-9.123291e-01</td>\n",
       "    </tr>\n",
       "    <tr>\n",
       "      <th>25%</th>\n",
       "      <td>-7.095548e-01</td>\n",
       "      <td>-6.632165e-01</td>\n",
       "      <td>-6.787242e-01</td>\n",
       "      <td>-7.442713e-01</td>\n",
       "      <td>-9.123291e-01</td>\n",
       "    </tr>\n",
       "    <tr>\n",
       "      <th>50%</th>\n",
       "      <td>1.726817e-01</td>\n",
       "      <td>-9.205458e-02</td>\n",
       "      <td>-1.163527e-01</td>\n",
       "      <td>1.255019e-01</td>\n",
       "      <td>-2.311765e-01</td>\n",
       "    </tr>\n",
       "    <tr>\n",
       "      <th>75%</th>\n",
       "      <td>7.240794e-01</td>\n",
       "      <td>4.791073e-01</td>\n",
       "      <td>5.623715e-01</td>\n",
       "      <td>7.343432e-01</td>\n",
       "      <td>6.202642e-01</td>\n",
       "    </tr>\n",
       "    <tr>\n",
       "      <th>max</th>\n",
       "      <td>2.488552e+00</td>\n",
       "      <td>3.906079e+00</td>\n",
       "      <td>6.166694e+00</td>\n",
       "      <td>2.299935e+00</td>\n",
       "      <td>4.366603e+00</td>\n",
       "    </tr>\n",
       "  </tbody>\n",
       "</table>\n",
       "</div>"
      ]
     },
     "execution_count": 27,
     "metadata": {},
     "output_type": "execute_result"
    }
   ],
   "execution_count": 27
  },
  {
   "metadata": {
    "ExecuteTime": {
     "end_time": "2025-03-02T17:32:37.770689Z",
     "start_time": "2025-03-02T17:32:37.760037Z"
    }
   },
   "cell_type": "code",
   "source": [
    "processed_features = pd.concat([numeric_features, categorical_features], axis = 1, sort = False)\n",
    "processed_features.head()"
   ],
   "id": "bbbb97714f4fd99a",
   "outputs": [
    {
     "data": {
      "text/plain": [
       "        age  trestbps      chol   thalach   oldpeak  sex  fbs  exang  cp  ca  \\\n",
       "0 -0.268437 -0.377636 -0.659332  0.821321 -0.060888    1    0      0   0   2   \n",
       "1 -0.158157  0.479107 -0.833861  0.255968  1.727137    1    1      1   0   0   \n",
       "2  1.716595  0.764688 -1.396233 -1.048692  1.301417    1    0      1   0   0   \n",
       "3  0.724079  0.936037 -0.833861  0.516900 -0.912329    1    0      0   0   1   \n",
       "4  0.834359  0.364875  0.930822 -1.874977  0.705408    0    1      0   0   3   \n",
       "\n",
       "   slope  thal  restecg  \n",
       "0      2     3        1  \n",
       "1      0     3        0  \n",
       "2      0     3        1  \n",
       "3      2     3        1  \n",
       "4      1     2        1  "
      ],
      "text/html": [
       "<div>\n",
       "<style scoped>\n",
       "    .dataframe tbody tr th:only-of-type {\n",
       "        vertical-align: middle;\n",
       "    }\n",
       "\n",
       "    .dataframe tbody tr th {\n",
       "        vertical-align: top;\n",
       "    }\n",
       "\n",
       "    .dataframe thead th {\n",
       "        text-align: right;\n",
       "    }\n",
       "</style>\n",
       "<table border=\"1\" class=\"dataframe\">\n",
       "  <thead>\n",
       "    <tr style=\"text-align: right;\">\n",
       "      <th></th>\n",
       "      <th>age</th>\n",
       "      <th>trestbps</th>\n",
       "      <th>chol</th>\n",
       "      <th>thalach</th>\n",
       "      <th>oldpeak</th>\n",
       "      <th>sex</th>\n",
       "      <th>fbs</th>\n",
       "      <th>exang</th>\n",
       "      <th>cp</th>\n",
       "      <th>ca</th>\n",
       "      <th>slope</th>\n",
       "      <th>thal</th>\n",
       "      <th>restecg</th>\n",
       "    </tr>\n",
       "  </thead>\n",
       "  <tbody>\n",
       "    <tr>\n",
       "      <th>0</th>\n",
       "      <td>-0.268437</td>\n",
       "      <td>-0.377636</td>\n",
       "      <td>-0.659332</td>\n",
       "      <td>0.821321</td>\n",
       "      <td>-0.060888</td>\n",
       "      <td>1</td>\n",
       "      <td>0</td>\n",
       "      <td>0</td>\n",
       "      <td>0</td>\n",
       "      <td>2</td>\n",
       "      <td>2</td>\n",
       "      <td>3</td>\n",
       "      <td>1</td>\n",
       "    </tr>\n",
       "    <tr>\n",
       "      <th>1</th>\n",
       "      <td>-0.158157</td>\n",
       "      <td>0.479107</td>\n",
       "      <td>-0.833861</td>\n",
       "      <td>0.255968</td>\n",
       "      <td>1.727137</td>\n",
       "      <td>1</td>\n",
       "      <td>1</td>\n",
       "      <td>1</td>\n",
       "      <td>0</td>\n",
       "      <td>0</td>\n",
       "      <td>0</td>\n",
       "      <td>3</td>\n",
       "      <td>0</td>\n",
       "    </tr>\n",
       "    <tr>\n",
       "      <th>2</th>\n",
       "      <td>1.716595</td>\n",
       "      <td>0.764688</td>\n",
       "      <td>-1.396233</td>\n",
       "      <td>-1.048692</td>\n",
       "      <td>1.301417</td>\n",
       "      <td>1</td>\n",
       "      <td>0</td>\n",
       "      <td>1</td>\n",
       "      <td>0</td>\n",
       "      <td>0</td>\n",
       "      <td>0</td>\n",
       "      <td>3</td>\n",
       "      <td>1</td>\n",
       "    </tr>\n",
       "    <tr>\n",
       "      <th>3</th>\n",
       "      <td>0.724079</td>\n",
       "      <td>0.936037</td>\n",
       "      <td>-0.833861</td>\n",
       "      <td>0.516900</td>\n",
       "      <td>-0.912329</td>\n",
       "      <td>1</td>\n",
       "      <td>0</td>\n",
       "      <td>0</td>\n",
       "      <td>0</td>\n",
       "      <td>1</td>\n",
       "      <td>2</td>\n",
       "      <td>3</td>\n",
       "      <td>1</td>\n",
       "    </tr>\n",
       "    <tr>\n",
       "      <th>4</th>\n",
       "      <td>0.834359</td>\n",
       "      <td>0.364875</td>\n",
       "      <td>0.930822</td>\n",
       "      <td>-1.874977</td>\n",
       "      <td>0.705408</td>\n",
       "      <td>0</td>\n",
       "      <td>1</td>\n",
       "      <td>0</td>\n",
       "      <td>0</td>\n",
       "      <td>3</td>\n",
       "      <td>1</td>\n",
       "      <td>2</td>\n",
       "      <td>1</td>\n",
       "    </tr>\n",
       "  </tbody>\n",
       "</table>\n",
       "</div>"
      ]
     },
     "execution_count": 29,
     "metadata": {},
     "output_type": "execute_result"
    }
   ],
   "execution_count": 29
  },
  {
   "metadata": {
    "ExecuteTime": {
     "end_time": "2025-03-02T17:33:59.600707Z",
     "start_time": "2025-03-02T17:33:59.595739Z"
    }
   },
   "cell_type": "code",
   "source": [
    "from sklearn.model_selection import train_test_split\n",
    "x_train, x_test, y_train, y_test = train_test_split(processed_features, target, test_size = 0.2, random_state = 1)"
   ],
   "id": "e83675a1d9c2dad4",
   "outputs": [],
   "execution_count": 30
  },
  {
   "metadata": {
    "ExecuteTime": {
     "end_time": "2025-03-02T17:35:03.124758Z",
     "start_time": "2025-03-02T17:35:03.119562Z"
    }
   },
   "cell_type": "code",
   "source": "x_train, x_val, y_train, y_val = train_test_split(x_train, y_train, test_size = 0.15, random_state = 10)",
   "id": "fc87c9b0791d60a9",
   "outputs": [],
   "execution_count": 31
  },
  {
   "metadata": {},
   "cell_type": "markdown",
   "source": "",
   "id": "f04034a8ebe4bc37"
  },
  {
   "metadata": {
    "ExecuteTime": {
     "end_time": "2025-03-02T17:35:08.846875Z",
     "start_time": "2025-03-02T17:35:08.841658Z"
    }
   },
   "cell_type": "code",
   "source": "x_train.shape, x_val.shape, x_test.shape",
   "id": "9e28da5add68017a",
   "outputs": [
    {
     "data": {
      "text/plain": [
       "((697, 13), (123, 13), (205, 13))"
      ]
     },
     "execution_count": 32,
     "metadata": {},
     "output_type": "execute_result"
    }
   ],
   "execution_count": 32
  },
  {
   "metadata": {
    "ExecuteTime": {
     "end_time": "2025-03-02T17:35:34.383987Z",
     "start_time": "2025-03-02T17:35:34.379483Z"
    }
   },
   "cell_type": "code",
   "source": "y_train.shape, y_val.shape, y_test.shape",
   "id": "712aa224c0fa30ad",
   "outputs": [
    {
     "data": {
      "text/plain": [
       "((697, 1), (123, 1), (205, 1))"
      ]
     },
     "execution_count": 33,
     "metadata": {},
     "output_type": "execute_result"
    }
   ],
   "execution_count": 33
  },
  {
   "metadata": {
    "ExecuteTime": {
     "end_time": "2025-03-02T17:45:20.132819Z",
     "start_time": "2025-03-02T17:45:20.126814Z"
    }
   },
   "cell_type": "code",
   "source": [
    "def build_model():\n",
    "    \n",
    "    inputs = tf.keras.Input(shape = (x_train.shape[1],))\n",
    "    \n",
    "    dense_layer1 = layers.Dense(12, activation = 'relu')\n",
    "    x = dense_layer1(inputs)\n",
    "    \n",
    "    dropout_layer = layers.Dropout(0.2)\n",
    "    x = dropout_layer(x)\n",
    "    \n",
    "    dense_layer2 = layers.Dense(8, activation = 'relu')\n",
    "    x = dense_layer2(x)\n",
    "    \n",
    "    prediction_layer = layers.Dense(1, activation = 'sigmoid')\n",
    "    predictions = prediction_layer(x)\n",
    "    \n",
    "    model = tf.keras.Model(inputs = inputs, outputs = predictions)\n",
    "    \n",
    "    model.summary()\n",
    "    \n",
    "    model.compile(optimizer = tf.keras.optimizers.Adam(0.001),\n",
    "                  loss = tf.keras.losses.BinaryCrossentropy(),\n",
    "                  metrics = ['accuracy', \n",
    "                             tf.keras.metrics.Precision(0.5),\n",
    "                             tf.keras.metrics.Recall(0.5)])\n",
    "    \n",
    "    return model"
   ],
   "id": "391bc77633aee58d",
   "outputs": [],
   "execution_count": 34
  },
  {
   "metadata": {
    "ExecuteTime": {
     "end_time": "2025-03-02T17:58:37.546366Z",
     "start_time": "2025-03-02T17:58:37.438550Z"
    }
   },
   "cell_type": "code",
   "source": "model = build_model()",
   "id": "f0519e26744551ad",
   "outputs": [
    {
     "data": {
      "text/plain": [
       "\u001B[1mModel: \"functional\"\u001B[0m\n"
      ],
      "text/html": [
       "<pre style=\"white-space:pre;overflow-x:auto;line-height:normal;font-family:Menlo,'DejaVu Sans Mono',consolas,'Courier New',monospace\"><span style=\"font-weight: bold\">Model: \"functional\"</span>\n",
       "</pre>\n"
      ]
     },
     "metadata": {},
     "output_type": "display_data"
    },
    {
     "data": {
      "text/plain": [
       "┏━━━━━━━━━━━━━━━━━━━━━━━━━━━━━━━━━┳━━━━━━━━━━━━━━━━━━━━━━━━┳━━━━━━━━━━━━━━━┓\n",
       "┃\u001B[1m \u001B[0m\u001B[1mLayer (type)                   \u001B[0m\u001B[1m \u001B[0m┃\u001B[1m \u001B[0m\u001B[1mOutput Shape          \u001B[0m\u001B[1m \u001B[0m┃\u001B[1m \u001B[0m\u001B[1m      Param #\u001B[0m\u001B[1m \u001B[0m┃\n",
       "┡━━━━━━━━━━━━━━━━━━━━━━━━━━━━━━━━━╇━━━━━━━━━━━━━━━━━━━━━━━━╇━━━━━━━━━━━━━━━┩\n",
       "│ input_layer (\u001B[38;5;33mInputLayer\u001B[0m)        │ (\u001B[38;5;45mNone\u001B[0m, \u001B[38;5;34m13\u001B[0m)             │             \u001B[38;5;34m0\u001B[0m │\n",
       "├─────────────────────────────────┼────────────────────────┼───────────────┤\n",
       "│ dense (\u001B[38;5;33mDense\u001B[0m)                   │ (\u001B[38;5;45mNone\u001B[0m, \u001B[38;5;34m12\u001B[0m)             │           \u001B[38;5;34m168\u001B[0m │\n",
       "├─────────────────────────────────┼────────────────────────┼───────────────┤\n",
       "│ dropout (\u001B[38;5;33mDropout\u001B[0m)               │ (\u001B[38;5;45mNone\u001B[0m, \u001B[38;5;34m12\u001B[0m)             │             \u001B[38;5;34m0\u001B[0m │\n",
       "├─────────────────────────────────┼────────────────────────┼───────────────┤\n",
       "│ dense_1 (\u001B[38;5;33mDense\u001B[0m)                 │ (\u001B[38;5;45mNone\u001B[0m, \u001B[38;5;34m8\u001B[0m)              │           \u001B[38;5;34m104\u001B[0m │\n",
       "├─────────────────────────────────┼────────────────────────┼───────────────┤\n",
       "│ dense_2 (\u001B[38;5;33mDense\u001B[0m)                 │ (\u001B[38;5;45mNone\u001B[0m, \u001B[38;5;34m1\u001B[0m)              │             \u001B[38;5;34m9\u001B[0m │\n",
       "└─────────────────────────────────┴────────────────────────┴───────────────┘\n"
      ],
      "text/html": [
       "<pre style=\"white-space:pre;overflow-x:auto;line-height:normal;font-family:Menlo,'DejaVu Sans Mono',consolas,'Courier New',monospace\">┏━━━━━━━━━━━━━━━━━━━━━━━━━━━━━━━━━┳━━━━━━━━━━━━━━━━━━━━━━━━┳━━━━━━━━━━━━━━━┓\n",
       "┃<span style=\"font-weight: bold\"> Layer (type)                    </span>┃<span style=\"font-weight: bold\"> Output Shape           </span>┃<span style=\"font-weight: bold\">       Param # </span>┃\n",
       "┡━━━━━━━━━━━━━━━━━━━━━━━━━━━━━━━━━╇━━━━━━━━━━━━━━━━━━━━━━━━╇━━━━━━━━━━━━━━━┩\n",
       "│ input_layer (<span style=\"color: #0087ff; text-decoration-color: #0087ff\">InputLayer</span>)        │ (<span style=\"color: #00d7ff; text-decoration-color: #00d7ff\">None</span>, <span style=\"color: #00af00; text-decoration-color: #00af00\">13</span>)             │             <span style=\"color: #00af00; text-decoration-color: #00af00\">0</span> │\n",
       "├─────────────────────────────────┼────────────────────────┼───────────────┤\n",
       "│ dense (<span style=\"color: #0087ff; text-decoration-color: #0087ff\">Dense</span>)                   │ (<span style=\"color: #00d7ff; text-decoration-color: #00d7ff\">None</span>, <span style=\"color: #00af00; text-decoration-color: #00af00\">12</span>)             │           <span style=\"color: #00af00; text-decoration-color: #00af00\">168</span> │\n",
       "├─────────────────────────────────┼────────────────────────┼───────────────┤\n",
       "│ dropout (<span style=\"color: #0087ff; text-decoration-color: #0087ff\">Dropout</span>)               │ (<span style=\"color: #00d7ff; text-decoration-color: #00d7ff\">None</span>, <span style=\"color: #00af00; text-decoration-color: #00af00\">12</span>)             │             <span style=\"color: #00af00; text-decoration-color: #00af00\">0</span> │\n",
       "├─────────────────────────────────┼────────────────────────┼───────────────┤\n",
       "│ dense_1 (<span style=\"color: #0087ff; text-decoration-color: #0087ff\">Dense</span>)                 │ (<span style=\"color: #00d7ff; text-decoration-color: #00d7ff\">None</span>, <span style=\"color: #00af00; text-decoration-color: #00af00\">8</span>)              │           <span style=\"color: #00af00; text-decoration-color: #00af00\">104</span> │\n",
       "├─────────────────────────────────┼────────────────────────┼───────────────┤\n",
       "│ dense_2 (<span style=\"color: #0087ff; text-decoration-color: #0087ff\">Dense</span>)                 │ (<span style=\"color: #00d7ff; text-decoration-color: #00d7ff\">None</span>, <span style=\"color: #00af00; text-decoration-color: #00af00\">1</span>)              │             <span style=\"color: #00af00; text-decoration-color: #00af00\">9</span> │\n",
       "└─────────────────────────────────┴────────────────────────┴───────────────┘\n",
       "</pre>\n"
      ]
     },
     "metadata": {},
     "output_type": "display_data"
    },
    {
     "data": {
      "text/plain": [
       "\u001B[1m Total params: \u001B[0m\u001B[38;5;34m281\u001B[0m (1.10 KB)\n"
      ],
      "text/html": [
       "<pre style=\"white-space:pre;overflow-x:auto;line-height:normal;font-family:Menlo,'DejaVu Sans Mono',consolas,'Courier New',monospace\"><span style=\"font-weight: bold\"> Total params: </span><span style=\"color: #00af00; text-decoration-color: #00af00\">281</span> (1.10 KB)\n",
       "</pre>\n"
      ]
     },
     "metadata": {},
     "output_type": "display_data"
    },
    {
     "data": {
      "text/plain": [
       "\u001B[1m Trainable params: \u001B[0m\u001B[38;5;34m281\u001B[0m (1.10 KB)\n"
      ],
      "text/html": [
       "<pre style=\"white-space:pre;overflow-x:auto;line-height:normal;font-family:Menlo,'DejaVu Sans Mono',consolas,'Courier New',monospace\"><span style=\"font-weight: bold\"> Trainable params: </span><span style=\"color: #00af00; text-decoration-color: #00af00\">281</span> (1.10 KB)\n",
       "</pre>\n"
      ]
     },
     "metadata": {},
     "output_type": "display_data"
    },
    {
     "data": {
      "text/plain": [
       "\u001B[1m Non-trainable params: \u001B[0m\u001B[38;5;34m0\u001B[0m (0.00 B)\n"
      ],
      "text/html": [
       "<pre style=\"white-space:pre;overflow-x:auto;line-height:normal;font-family:Menlo,'DejaVu Sans Mono',consolas,'Courier New',monospace\"><span style=\"font-weight: bold\"> Non-trainable params: </span><span style=\"color: #00af00; text-decoration-color: #00af00\">0</span> (0.00 B)\n",
       "</pre>\n"
      ]
     },
     "metadata": {},
     "output_type": "display_data"
    }
   ],
   "execution_count": 35
  },
  {
   "metadata": {
    "ExecuteTime": {
     "end_time": "2025-03-02T17:59:23.066905Z",
     "start_time": "2025-03-02T17:59:22.190263Z"
    }
   },
   "cell_type": "code",
   "source": "keras.utils.plot_model(model, show_shapes=True)",
   "id": "c2e4006f7f1e2224",
   "outputs": [
    {
     "data": {
      "image/png": "[encoded data removed]",
      "text/plain": [
       "<IPython.core.display.Image object>"
      ]
     },
     "execution_count": 36,
     "metadata": {},
     "output_type": "execute_result"
    }
   ],
   "execution_count": 36
  },
  {
   "metadata": {
    "ExecuteTime": {
     "end_time": "2025-03-02T18:07:50.993016Z",
     "start_time": "2025-03-02T18:07:50.972543Z"
    }
   },
   "cell_type": "code",
   "source": [
    "dataset_train = tf.data.Dataset.from_tensor_slices((x_train.values, y_train.values))\n",
    "dataset_train = dataset_train.batch(16)\n",
    "dataset_train.shuffle(128)"
   ],
   "id": "5aeb6173f0d79248",
   "outputs": [
    {
     "data": {
      "text/plain": [
       "<_ShuffleDataset element_spec=(TensorSpec(shape=(None, 13), dtype=tf.float64, name=None), TensorSpec(shape=(None, 1), dtype=tf.int64, name=None))>"
      ]
     },
     "execution_count": 37,
     "metadata": {},
     "output_type": "execute_result"
    }
   ],
   "execution_count": 37
  },
  {
   "metadata": {
    "ExecuteTime": {
     "end_time": "2025-03-02T18:08:21.047074Z",
     "start_time": "2025-03-02T18:08:21.043298Z"
    }
   },
   "cell_type": "code",
   "source": "num_epochs = 100",
   "id": "33d382ba968ef94a",
   "outputs": [],
   "execution_count": 38
  },
  {
   "metadata": {
    "ExecuteTime": {
     "end_time": "2025-03-02T18:17:40.510089Z",
     "start_time": "2025-03-02T18:17:40.502565Z"
    }
   },
   "cell_type": "code",
   "source": [
    "dataset_val = tf.data.Dataset.from_tensor_slices((x_val.values, y_val.values))\n",
    "dataset_val = dataset_val.batch(16)"
   ],
   "id": "f23a531b2e72ea95",
   "outputs": [],
   "execution_count": 39
  },
  {
   "metadata": {
    "ExecuteTime": {
     "end_time": "2025-03-02T18:18:50.554162Z",
     "start_time": "2025-03-02T18:18:39.441653Z"
    }
   },
   "cell_type": "code",
   "source": "training_history = model.fit(dataset_train, epochs=num_epochs, validation_data=dataset_val)",
   "id": "98501c02d22574af",
   "outputs": [
    {
     "name": "stdout",
     "output_type": "stream",
     "text": [
      "Epoch 1/100\n",
      "\u001B[1m44/44\u001B[0m \u001B[32m━━━━━━━━━━━━━━━━━━━━\u001B[0m\u001B[37m\u001B[0m \u001B[1m1s\u001B[0m 7ms/step - accuracy: 0.5310 - loss: 0.7375 - precision: 0.5026 - recall: 0.2137 - val_accuracy: 0.6260 - val_loss: 0.6708 - val_precision: 0.7222 - val_recall: 0.4194\n",
      "Epoch 2/100\n",
      "\u001B[1m44/44\u001B[0m \u001B[32m━━━━━━━━━━━━━━━━━━━━\u001B[0m\u001B[37m\u001B[0m \u001B[1m0s\u001B[0m 2ms/step - accuracy: 0.5866 - loss: 0.6786 - precision: 0.5720 - recall: 0.5537 - val_accuracy: 0.6748 - val_loss: 0.6294 - val_precision: 0.7200 - val_recall: 0.5806\n",
      "Epoch 3/100\n",
      "\u001B[1m44/44\u001B[0m \u001B[32m━━━━━━━━━━━━━━━━━━━━\u001B[0m\u001B[37m\u001B[0m \u001B[1m0s\u001B[0m 2ms/step - accuracy: 0.6454 - loss: 0.6440 - precision: 0.6239 - recall: 0.6530 - val_accuracy: 0.6992 - val_loss: 0.5944 - val_precision: 0.6984 - val_recall: 0.7097\n",
      "Epoch 4/100\n",
      "\u001B[1m44/44\u001B[0m \u001B[32m━━━━━━━━━━━━━━━━━━━━\u001B[0m\u001B[37m\u001B[0m \u001B[1m0s\u001B[0m 2ms/step - accuracy: 0.6472 - loss: 0.6333 - precision: 0.6152 - recall: 0.7002 - val_accuracy: 0.7236 - val_loss: 0.5661 - val_precision: 0.7188 - val_recall: 0.7419\n",
      "Epoch 5/100\n",
      "\u001B[1m44/44\u001B[0m \u001B[32m━━━━━━━━━━━━━━━━━━━━\u001B[0m\u001B[37m\u001B[0m \u001B[1m0s\u001B[0m 2ms/step - accuracy: 0.7049 - loss: 0.5924 - precision: 0.6710 - recall: 0.7539 - val_accuracy: 0.7398 - val_loss: 0.5354 - val_precision: 0.7273 - val_recall: 0.7742\n",
      "Epoch 6/100\n",
      "\u001B[1m44/44\u001B[0m \u001B[32m━━━━━━━━━━━━━━━━━━━━\u001B[0m\u001B[37m\u001B[0m \u001B[1m0s\u001B[0m 2ms/step - accuracy: 0.7468 - loss: 0.5804 - precision: 0.7153 - recall: 0.7846 - val_accuracy: 0.7480 - val_loss: 0.5061 - val_precision: 0.7460 - val_recall: 0.7581\n",
      "Epoch 7/100\n",
      "\u001B[1m44/44\u001B[0m \u001B[32m━━━━━━━━━━━━━━━━━━━━\u001B[0m\u001B[37m\u001B[0m \u001B[1m0s\u001B[0m 2ms/step - accuracy: 0.7448 - loss: 0.5643 - precision: 0.7187 - recall: 0.7636 - val_accuracy: 0.7724 - val_loss: 0.4775 - val_precision: 0.7833 - val_recall: 0.7581\n",
      "Epoch 8/100\n",
      "\u001B[1m44/44\u001B[0m \u001B[32m━━━━━━━━━━━━━━━━━━━━\u001B[0m\u001B[37m\u001B[0m \u001B[1m0s\u001B[0m 2ms/step - accuracy: 0.7601 - loss: 0.5105 - precision: 0.7316 - recall: 0.7890 - val_accuracy: 0.7724 - val_loss: 0.4520 - val_precision: 0.7931 - val_recall: 0.7419\n",
      "Epoch 9/100\n",
      "\u001B[1m44/44\u001B[0m \u001B[32m━━━━━━━━━━━━━━━━━━━━\u001B[0m\u001B[37m\u001B[0m \u001B[1m0s\u001B[0m 2ms/step - accuracy: 0.7816 - loss: 0.4973 - precision: 0.7511 - recall: 0.8151 - val_accuracy: 0.7886 - val_loss: 0.4339 - val_precision: 0.8214 - val_recall: 0.7419\n",
      "Epoch 10/100\n",
      "\u001B[1m44/44\u001B[0m \u001B[32m━━━━━━━━━━━━━━━━━━━━\u001B[0m\u001B[37m\u001B[0m \u001B[1m0s\u001B[0m 2ms/step - accuracy: 0.7644 - loss: 0.4837 - precision: 0.7223 - recall: 0.8296 - val_accuracy: 0.7967 - val_loss: 0.4198 - val_precision: 0.8246 - val_recall: 0.7581\n",
      "Epoch 11/100\n",
      "\u001B[1m44/44\u001B[0m \u001B[32m━━━━━━━━━━━━━━━━━━━━\u001B[0m\u001B[37m\u001B[0m \u001B[1m0s\u001B[0m 2ms/step - accuracy: 0.7859 - loss: 0.4923 - precision: 0.7495 - recall: 0.8309 - val_accuracy: 0.8130 - val_loss: 0.4074 - val_precision: 0.8305 - val_recall: 0.7903\n",
      "Epoch 12/100\n",
      "\u001B[1m44/44\u001B[0m \u001B[32m━━━━━━━━━━━━━━━━━━━━\u001B[0m\u001B[37m\u001B[0m \u001B[1m0s\u001B[0m 2ms/step - accuracy: 0.7931 - loss: 0.4745 - precision: 0.7672 - recall: 0.8107 - val_accuracy: 0.8130 - val_loss: 0.3952 - val_precision: 0.8305 - val_recall: 0.7903\n",
      "Epoch 13/100\n",
      "\u001B[1m44/44\u001B[0m \u001B[32m━━━━━━━━━━━━━━━━━━━━\u001B[0m\u001B[37m\u001B[0m \u001B[1m0s\u001B[0m 2ms/step - accuracy: 0.8000 - loss: 0.4572 - precision: 0.7629 - recall: 0.8437 - val_accuracy: 0.8049 - val_loss: 0.3845 - val_precision: 0.8167 - val_recall: 0.7903\n",
      "Epoch 14/100\n",
      "\u001B[1m44/44\u001B[0m \u001B[32m━━━━━━━━━━━━━━━━━━━━\u001B[0m\u001B[37m\u001B[0m \u001B[1m0s\u001B[0m 2ms/step - accuracy: 0.7971 - loss: 0.4531 - precision: 0.7607 - recall: 0.8379 - val_accuracy: 0.8211 - val_loss: 0.3751 - val_precision: 0.8226 - val_recall: 0.8226\n",
      "Epoch 15/100\n",
      "\u001B[1m44/44\u001B[0m \u001B[32m━━━━━━━━━━━━━━━━━━━━\u001B[0m\u001B[37m\u001B[0m \u001B[1m0s\u001B[0m 2ms/step - accuracy: 0.7880 - loss: 0.4676 - precision: 0.7540 - recall: 0.8274 - val_accuracy: 0.8293 - val_loss: 0.3705 - val_precision: 0.8596 - val_recall: 0.7903\n",
      "Epoch 16/100\n",
      "\u001B[1m44/44\u001B[0m \u001B[32m━━━━━━━━━━━━━━━━━━━━\u001B[0m\u001B[37m\u001B[0m \u001B[1m0s\u001B[0m 2ms/step - accuracy: 0.7977 - loss: 0.4306 - precision: 0.7668 - recall: 0.8270 - val_accuracy: 0.8374 - val_loss: 0.3640 - val_precision: 0.8387 - val_recall: 0.8387\n",
      "Epoch 17/100\n",
      "\u001B[1m44/44\u001B[0m \u001B[32m━━━━━━━━━━━━━━━━━━━━\u001B[0m\u001B[37m\u001B[0m \u001B[1m0s\u001B[0m 2ms/step - accuracy: 0.7901 - loss: 0.4506 - precision: 0.7567 - recall: 0.8247 - val_accuracy: 0.8537 - val_loss: 0.3590 - val_precision: 0.8667 - val_recall: 0.8387\n",
      "Epoch 18/100\n",
      "\u001B[1m44/44\u001B[0m \u001B[32m━━━━━━━━━━━━━━━━━━━━\u001B[0m\u001B[37m\u001B[0m \u001B[1m0s\u001B[0m 2ms/step - accuracy: 0.7960 - loss: 0.4279 - precision: 0.7634 - recall: 0.8331 - val_accuracy: 0.8455 - val_loss: 0.3545 - val_precision: 0.8308 - val_recall: 0.8710\n",
      "Epoch 19/100\n",
      "\u001B[1m44/44\u001B[0m \u001B[32m━━━━━━━━━━━━━━━━━━━━\u001B[0m\u001B[37m\u001B[0m \u001B[1m0s\u001B[0m 2ms/step - accuracy: 0.8212 - loss: 0.4186 - precision: 0.7840 - recall: 0.8619 - val_accuracy: 0.8699 - val_loss: 0.3491 - val_precision: 0.8833 - val_recall: 0.8548\n",
      "Epoch 20/100\n",
      "\u001B[1m44/44\u001B[0m \u001B[32m━━━━━━━━━━━━━━━━━━━━\u001B[0m\u001B[37m\u001B[0m \u001B[1m0s\u001B[0m 2ms/step - accuracy: 0.8038 - loss: 0.4364 - precision: 0.7733 - recall: 0.8320 - val_accuracy: 0.8699 - val_loss: 0.3469 - val_precision: 0.8833 - val_recall: 0.8548\n",
      "Epoch 21/100\n",
      "\u001B[1m44/44\u001B[0m \u001B[32m━━━━━━━━━━━━━━━━━━━━\u001B[0m\u001B[37m\u001B[0m \u001B[1m0s\u001B[0m 2ms/step - accuracy: 0.8010 - loss: 0.4336 - precision: 0.7658 - recall: 0.8386 - val_accuracy: 0.8780 - val_loss: 0.3435 - val_precision: 0.8852 - val_recall: 0.8710\n",
      "Epoch 22/100\n",
      "\u001B[1m44/44\u001B[0m \u001B[32m━━━━━━━━━━━━━━━━━━━━\u001B[0m\u001B[37m\u001B[0m \u001B[1m0s\u001B[0m 2ms/step - accuracy: 0.8179 - loss: 0.3934 - precision: 0.7760 - recall: 0.8700 - val_accuracy: 0.8537 - val_loss: 0.3396 - val_precision: 0.8548 - val_recall: 0.8548\n",
      "Epoch 23/100\n",
      "\u001B[1m44/44\u001B[0m \u001B[32m━━━━━━━━━━━━━━━━━━━━\u001B[0m\u001B[37m\u001B[0m \u001B[1m0s\u001B[0m 2ms/step - accuracy: 0.8132 - loss: 0.3805 - precision: 0.7671 - recall: 0.8756 - val_accuracy: 0.8537 - val_loss: 0.3356 - val_precision: 0.8548 - val_recall: 0.8548\n",
      "Epoch 24/100\n",
      "\u001B[1m44/44\u001B[0m \u001B[32m━━━━━━━━━━━━━━━━━━━━\u001B[0m\u001B[37m\u001B[0m \u001B[1m0s\u001B[0m 2ms/step - accuracy: 0.8163 - loss: 0.4050 - precision: 0.7704 - recall: 0.8783 - val_accuracy: 0.8537 - val_loss: 0.3334 - val_precision: 0.8548 - val_recall: 0.8548\n",
      "Epoch 25/100\n",
      "\u001B[1m44/44\u001B[0m \u001B[32m━━━━━━━━━━━━━━━━━━━━\u001B[0m\u001B[37m\u001B[0m \u001B[1m0s\u001B[0m 2ms/step - accuracy: 0.8407 - loss: 0.4038 - precision: 0.7934 - recall: 0.8989 - val_accuracy: 0.8537 - val_loss: 0.3321 - val_precision: 0.8548 - val_recall: 0.8548\n",
      "Epoch 26/100\n",
      "\u001B[1m44/44\u001B[0m \u001B[32m━━━━━━━━━━━━━━━━━━━━\u001B[0m\u001B[37m\u001B[0m \u001B[1m0s\u001B[0m 2ms/step - accuracy: 0.8258 - loss: 0.3824 - precision: 0.7706 - recall: 0.9053 - val_accuracy: 0.8537 - val_loss: 0.3295 - val_precision: 0.8548 - val_recall: 0.8548\n",
      "Epoch 27/100\n",
      "\u001B[1m44/44\u001B[0m \u001B[32m━━━━━━━━━━━━━━━━━━━━\u001B[0m\u001B[37m\u001B[0m \u001B[1m0s\u001B[0m 2ms/step - accuracy: 0.8194 - loss: 0.3969 - precision: 0.7755 - recall: 0.8725 - val_accuracy: 0.8618 - val_loss: 0.3276 - val_precision: 0.8571 - val_recall: 0.8710\n",
      "Epoch 28/100\n",
      "\u001B[1m44/44\u001B[0m \u001B[32m━━━━━━━━━━━━━━━━━━━━\u001B[0m\u001B[37m\u001B[0m \u001B[1m0s\u001B[0m 2ms/step - accuracy: 0.8246 - loss: 0.3821 - precision: 0.7730 - recall: 0.8957 - val_accuracy: 0.8618 - val_loss: 0.3251 - val_precision: 0.8571 - val_recall: 0.8710\n",
      "Epoch 29/100\n",
      "\u001B[1m44/44\u001B[0m \u001B[32m━━━━━━━━━━━━━━━━━━━━\u001B[0m\u001B[37m\u001B[0m \u001B[1m0s\u001B[0m 2ms/step - accuracy: 0.8272 - loss: 0.3886 - precision: 0.7859 - recall: 0.8755 - val_accuracy: 0.8618 - val_loss: 0.3246 - val_precision: 0.8571 - val_recall: 0.8710\n",
      "Epoch 30/100\n",
      "\u001B[1m44/44\u001B[0m \u001B[32m━━━━━━━━━━━━━━━━━━━━\u001B[0m\u001B[37m\u001B[0m \u001B[1m0s\u001B[0m 2ms/step - accuracy: 0.8295 - loss: 0.3864 - precision: 0.7811 - recall: 0.8935 - val_accuracy: 0.8618 - val_loss: 0.3226 - val_precision: 0.8571 - val_recall: 0.8710\n",
      "Epoch 31/100\n",
      "\u001B[1m44/44\u001B[0m \u001B[32m━━━━━━━━━━━━━━━━━━━━\u001B[0m\u001B[37m\u001B[0m \u001B[1m0s\u001B[0m 2ms/step - accuracy: 0.8236 - loss: 0.3782 - precision: 0.7771 - recall: 0.8792 - val_accuracy: 0.8618 - val_loss: 0.3213 - val_precision: 0.8571 - val_recall: 0.8710\n",
      "Epoch 32/100\n",
      "\u001B[1m44/44\u001B[0m \u001B[32m━━━━━━━━━━━━━━━━━━━━\u001B[0m\u001B[37m\u001B[0m \u001B[1m0s\u001B[0m 2ms/step - accuracy: 0.8297 - loss: 0.3834 - precision: 0.7768 - recall: 0.9047 - val_accuracy: 0.8618 - val_loss: 0.3202 - val_precision: 0.8571 - val_recall: 0.8710\n",
      "Epoch 33/100\n",
      "\u001B[1m44/44\u001B[0m \u001B[32m━━━━━━━━━━━━━━━━━━━━\u001B[0m\u001B[37m\u001B[0m \u001B[1m0s\u001B[0m 2ms/step - accuracy: 0.8258 - loss: 0.3715 - precision: 0.7788 - recall: 0.8853 - val_accuracy: 0.8618 - val_loss: 0.3189 - val_precision: 0.8571 - val_recall: 0.8710\n",
      "Epoch 34/100\n",
      "\u001B[1m44/44\u001B[0m \u001B[32m━━━━━━━━━━━━━━━━━━━━\u001B[0m\u001B[37m\u001B[0m \u001B[1m0s\u001B[0m 2ms/step - accuracy: 0.8177 - loss: 0.3809 - precision: 0.7613 - recall: 0.9036 - val_accuracy: 0.8699 - val_loss: 0.3163 - val_precision: 0.8710 - val_recall: 0.8710\n",
      "Epoch 35/100\n",
      "\u001B[1m44/44\u001B[0m \u001B[32m━━━━━━━━━━━━━━━━━━━━\u001B[0m\u001B[37m\u001B[0m \u001B[1m0s\u001B[0m 2ms/step - accuracy: 0.8489 - loss: 0.3557 - precision: 0.7986 - recall: 0.9159 - val_accuracy: 0.8618 - val_loss: 0.3127 - val_precision: 0.8571 - val_recall: 0.8710\n",
      "Epoch 36/100\n",
      "\u001B[1m44/44\u001B[0m \u001B[32m━━━━━━━━━━━━━━━━━━━━\u001B[0m\u001B[37m\u001B[0m \u001B[1m0s\u001B[0m 2ms/step - accuracy: 0.8298 - loss: 0.3765 - precision: 0.7811 - recall: 0.8915 - val_accuracy: 0.8699 - val_loss: 0.3100 - val_precision: 0.8710 - val_recall: 0.8710\n",
      "Epoch 37/100\n",
      "\u001B[1m44/44\u001B[0m \u001B[32m━━━━━━━━━━━━━━━━━━━━\u001B[0m\u001B[37m\u001B[0m \u001B[1m0s\u001B[0m 2ms/step - accuracy: 0.8301 - loss: 0.3766 - precision: 0.7819 - recall: 0.8941 - val_accuracy: 0.8537 - val_loss: 0.3098 - val_precision: 0.8667 - val_recall: 0.8387\n",
      "Epoch 38/100\n",
      "\u001B[1m44/44\u001B[0m \u001B[32m━━━━━━━━━━━━━━━━━━━━\u001B[0m\u001B[37m\u001B[0m \u001B[1m0s\u001B[0m 2ms/step - accuracy: 0.8447 - loss: 0.3537 - precision: 0.7994 - recall: 0.9004 - val_accuracy: 0.8537 - val_loss: 0.3076 - val_precision: 0.8667 - val_recall: 0.8387\n",
      "Epoch 39/100\n",
      "\u001B[1m44/44\u001B[0m \u001B[32m━━━━━━━━━━━━━━━━━━━━\u001B[0m\u001B[37m\u001B[0m \u001B[1m0s\u001B[0m 2ms/step - accuracy: 0.8257 - loss: 0.3691 - precision: 0.7760 - recall: 0.8944 - val_accuracy: 0.8537 - val_loss: 0.3045 - val_precision: 0.8667 - val_recall: 0.8387\n",
      "Epoch 40/100\n",
      "\u001B[1m44/44\u001B[0m \u001B[32m━━━━━━━━━━━━━━━━━━━━\u001B[0m\u001B[37m\u001B[0m \u001B[1m0s\u001B[0m 2ms/step - accuracy: 0.8252 - loss: 0.3718 - precision: 0.7757 - recall: 0.8898 - val_accuracy: 0.8537 - val_loss: 0.3025 - val_precision: 0.8667 - val_recall: 0.8387\n",
      "Epoch 41/100\n",
      "\u001B[1m44/44\u001B[0m \u001B[32m━━━━━━━━━━━━━━━━━━━━\u001B[0m\u001B[37m\u001B[0m \u001B[1m0s\u001B[0m 3ms/step - accuracy: 0.8290 - loss: 0.3648 - precision: 0.7812 - recall: 0.8911 - val_accuracy: 0.8537 - val_loss: 0.3030 - val_precision: 0.8667 - val_recall: 0.8387\n",
      "Epoch 42/100\n",
      "\u001B[1m44/44\u001B[0m \u001B[32m━━━━━━━━━━━━━━━━━━━━\u001B[0m\u001B[37m\u001B[0m \u001B[1m0s\u001B[0m 2ms/step - accuracy: 0.8389 - loss: 0.3616 - precision: 0.7863 - recall: 0.9092 - val_accuracy: 0.8537 - val_loss: 0.3014 - val_precision: 0.8667 - val_recall: 0.8387\n",
      "Epoch 43/100\n",
      "\u001B[1m44/44\u001B[0m \u001B[32m━━━━━━━━━━━━━━━━━━━━\u001B[0m\u001B[37m\u001B[0m \u001B[1m0s\u001B[0m 2ms/step - accuracy: 0.8179 - loss: 0.3655 - precision: 0.7668 - recall: 0.8926 - val_accuracy: 0.8537 - val_loss: 0.3010 - val_precision: 0.8667 - val_recall: 0.8387\n",
      "Epoch 44/100\n",
      "\u001B[1m44/44\u001B[0m \u001B[32m━━━━━━━━━━━━━━━━━━━━\u001B[0m\u001B[37m\u001B[0m \u001B[1m0s\u001B[0m 3ms/step - accuracy: 0.8320 - loss: 0.3551 - precision: 0.7837 - recall: 0.8946 - val_accuracy: 0.8537 - val_loss: 0.2993 - val_precision: 0.8667 - val_recall: 0.8387\n",
      "Epoch 45/100\n",
      "\u001B[1m44/44\u001B[0m \u001B[32m━━━━━━━━━━━━━━━━━━━━\u001B[0m\u001B[37m\u001B[0m \u001B[1m0s\u001B[0m 2ms/step - accuracy: 0.8404 - loss: 0.3399 - precision: 0.7958 - recall: 0.8985 - val_accuracy: 0.8618 - val_loss: 0.2974 - val_precision: 0.8814 - val_recall: 0.8387\n",
      "Epoch 46/100\n",
      "\u001B[1m44/44\u001B[0m \u001B[32m━━━━━━━━━━━━━━━━━━━━\u001B[0m\u001B[37m\u001B[0m \u001B[1m0s\u001B[0m 2ms/step - accuracy: 0.8467 - loss: 0.3384 - precision: 0.8005 - recall: 0.9042 - val_accuracy: 0.8618 - val_loss: 0.2961 - val_precision: 0.8689 - val_recall: 0.8548\n",
      "Epoch 47/100\n",
      "\u001B[1m44/44\u001B[0m \u001B[32m━━━━━━━━━━━━━━━━━━━━\u001B[0m\u001B[37m\u001B[0m \u001B[1m0s\u001B[0m 2ms/step - accuracy: 0.8224 - loss: 0.3620 - precision: 0.7734 - recall: 0.8870 - val_accuracy: 0.8699 - val_loss: 0.2956 - val_precision: 0.8833 - val_recall: 0.8548\n",
      "Epoch 48/100\n",
      "\u001B[1m44/44\u001B[0m \u001B[32m━━━━━━━━━━━━━━━━━━━━\u001B[0m\u001B[37m\u001B[0m \u001B[1m0s\u001B[0m 2ms/step - accuracy: 0.8339 - loss: 0.3368 - precision: 0.7878 - recall: 0.8915 - val_accuracy: 0.8699 - val_loss: 0.2954 - val_precision: 0.8833 - val_recall: 0.8548\n",
      "Epoch 49/100\n",
      "\u001B[1m44/44\u001B[0m \u001B[32m━━━━━━━━━━━━━━━━━━━━\u001B[0m\u001B[37m\u001B[0m \u001B[1m0s\u001B[0m 2ms/step - accuracy: 0.8320 - loss: 0.3413 - precision: 0.7823 - recall: 0.8993 - val_accuracy: 0.8699 - val_loss: 0.2918 - val_precision: 0.8833 - val_recall: 0.8548\n",
      "Epoch 50/100\n",
      "\u001B[1m44/44\u001B[0m \u001B[32m━━━━━━━━━━━━━━━━━━━━\u001B[0m\u001B[37m\u001B[0m \u001B[1m0s\u001B[0m 2ms/step - accuracy: 0.8440 - loss: 0.3461 - precision: 0.8023 - recall: 0.8910 - val_accuracy: 0.8699 - val_loss: 0.2924 - val_precision: 0.8833 - val_recall: 0.8548\n",
      "Epoch 51/100\n",
      "\u001B[1m44/44\u001B[0m \u001B[32m━━━━━━━━━━━━━━━━━━━━\u001B[0m\u001B[37m\u001B[0m \u001B[1m0s\u001B[0m 2ms/step - accuracy: 0.8261 - loss: 0.3558 - precision: 0.7802 - recall: 0.8839 - val_accuracy: 0.8699 - val_loss: 0.2928 - val_precision: 0.8833 - val_recall: 0.8548\n",
      "Epoch 52/100\n",
      "\u001B[1m44/44\u001B[0m \u001B[32m━━━━━━━━━━━━━━━━━━━━\u001B[0m\u001B[37m\u001B[0m \u001B[1m0s\u001B[0m 2ms/step - accuracy: 0.8299 - loss: 0.3674 - precision: 0.7798 - recall: 0.8955 - val_accuracy: 0.8699 - val_loss: 0.2919 - val_precision: 0.8833 - val_recall: 0.8548\n",
      "Epoch 53/100\n",
      "\u001B[1m44/44\u001B[0m \u001B[32m━━━━━━━━━━━━━━━━━━━━\u001B[0m\u001B[37m\u001B[0m \u001B[1m0s\u001B[0m 2ms/step - accuracy: 0.8474 - loss: 0.3238 - precision: 0.8094 - recall: 0.8895 - val_accuracy: 0.8699 - val_loss: 0.2906 - val_precision: 0.8833 - val_recall: 0.8548\n",
      "Epoch 54/100\n",
      "\u001B[1m44/44\u001B[0m \u001B[32m━━━━━━━━━━━━━━━━━━━━\u001B[0m\u001B[37m\u001B[0m \u001B[1m0s\u001B[0m 2ms/step - accuracy: 0.8369 - loss: 0.3390 - precision: 0.7897 - recall: 0.8974 - val_accuracy: 0.8699 - val_loss: 0.2889 - val_precision: 0.8833 - val_recall: 0.8548\n",
      "Epoch 55/100\n",
      "\u001B[1m44/44\u001B[0m \u001B[32m━━━━━━━━━━━━━━━━━━━━\u001B[0m\u001B[37m\u001B[0m \u001B[1m0s\u001B[0m 2ms/step - accuracy: 0.8371 - loss: 0.3415 - precision: 0.7842 - recall: 0.9112 - val_accuracy: 0.8699 - val_loss: 0.2857 - val_precision: 0.8833 - val_recall: 0.8548\n",
      "Epoch 56/100\n",
      "\u001B[1m44/44\u001B[0m \u001B[32m━━━━━━━━━━━━━━━━━━━━\u001B[0m\u001B[37m\u001B[0m \u001B[1m0s\u001B[0m 2ms/step - accuracy: 0.8338 - loss: 0.3416 - precision: 0.7831 - recall: 0.9005 - val_accuracy: 0.8699 - val_loss: 0.2852 - val_precision: 0.8833 - val_recall: 0.8548\n",
      "Epoch 57/100\n",
      "\u001B[1m44/44\u001B[0m \u001B[32m━━━━━━━━━━━━━━━━━━━━\u001B[0m\u001B[37m\u001B[0m \u001B[1m0s\u001B[0m 2ms/step - accuracy: 0.8378 - loss: 0.3546 - precision: 0.7910 - recall: 0.8954 - val_accuracy: 0.8699 - val_loss: 0.2832 - val_precision: 0.8833 - val_recall: 0.8548\n",
      "Epoch 58/100\n",
      "\u001B[1m44/44\u001B[0m \u001B[32m━━━━━━━━━━━━━━━━━━━━\u001B[0m\u001B[37m\u001B[0m \u001B[1m0s\u001B[0m 2ms/step - accuracy: 0.8529 - loss: 0.3241 - precision: 0.8047 - recall: 0.9132 - val_accuracy: 0.8699 - val_loss: 0.2803 - val_precision: 0.8833 - val_recall: 0.8548\n",
      "Epoch 59/100\n",
      "\u001B[1m44/44\u001B[0m \u001B[32m━━━━━━━━━━━━━━━━━━━━\u001B[0m\u001B[37m\u001B[0m \u001B[1m0s\u001B[0m 2ms/step - accuracy: 0.8448 - loss: 0.3399 - precision: 0.8032 - recall: 0.8925 - val_accuracy: 0.8699 - val_loss: 0.2802 - val_precision: 0.8833 - val_recall: 0.8548\n",
      "Epoch 60/100\n",
      "\u001B[1m44/44\u001B[0m \u001B[32m━━━━━━━━━━━━━━━━━━━━\u001B[0m\u001B[37m\u001B[0m \u001B[1m0s\u001B[0m 2ms/step - accuracy: 0.8334 - loss: 0.3182 - precision: 0.7820 - recall: 0.9094 - val_accuracy: 0.8699 - val_loss: 0.2786 - val_precision: 0.8833 - val_recall: 0.8548\n",
      "Epoch 61/100\n",
      "\u001B[1m44/44\u001B[0m \u001B[32m━━━━━━━━━━━━━━━━━━━━\u001B[0m\u001B[37m\u001B[0m \u001B[1m0s\u001B[0m 2ms/step - accuracy: 0.8448 - loss: 0.3494 - precision: 0.7910 - recall: 0.9165 - val_accuracy: 0.8699 - val_loss: 0.2771 - val_precision: 0.8833 - val_recall: 0.8548\n",
      "Epoch 62/100\n",
      "\u001B[1m44/44\u001B[0m \u001B[32m━━━━━━━━━━━━━━━━━━━━\u001B[0m\u001B[37m\u001B[0m \u001B[1m0s\u001B[0m 2ms/step - accuracy: 0.8594 - loss: 0.2935 - precision: 0.8182 - recall: 0.9061 - val_accuracy: 0.8699 - val_loss: 0.2742 - val_precision: 0.8833 - val_recall: 0.8548\n",
      "Epoch 63/100\n",
      "\u001B[1m44/44\u001B[0m \u001B[32m━━━━━━━━━━━━━━━━━━━━\u001B[0m\u001B[37m\u001B[0m \u001B[1m0s\u001B[0m 2ms/step - accuracy: 0.8582 - loss: 0.3074 - precision: 0.8116 - recall: 0.9152 - val_accuracy: 0.8699 - val_loss: 0.2749 - val_precision: 0.8833 - val_recall: 0.8548\n",
      "Epoch 64/100\n",
      "\u001B[1m44/44\u001B[0m \u001B[32m━━━━━━━━━━━━━━━━━━━━\u001B[0m\u001B[37m\u001B[0m \u001B[1m0s\u001B[0m 2ms/step - accuracy: 0.8488 - loss: 0.3382 - precision: 0.7970 - recall: 0.9155 - val_accuracy: 0.8699 - val_loss: 0.2769 - val_precision: 0.8833 - val_recall: 0.8548\n",
      "Epoch 65/100\n",
      "\u001B[1m44/44\u001B[0m \u001B[32m━━━━━━━━━━━━━━━━━━━━\u001B[0m\u001B[37m\u001B[0m \u001B[1m0s\u001B[0m 2ms/step - accuracy: 0.8563 - loss: 0.3031 - precision: 0.8122 - recall: 0.9097 - val_accuracy: 0.8699 - val_loss: 0.2753 - val_precision: 0.8833 - val_recall: 0.8548\n",
      "Epoch 66/100\n",
      "\u001B[1m44/44\u001B[0m \u001B[32m━━━━━━━━━━━━━━━━━━━━\u001B[0m\u001B[37m\u001B[0m \u001B[1m0s\u001B[0m 2ms/step - accuracy: 0.8670 - loss: 0.3133 - precision: 0.8266 - recall: 0.9115 - val_accuracy: 0.8699 - val_loss: 0.2728 - val_precision: 0.8833 - val_recall: 0.8548\n",
      "Epoch 67/100\n",
      "\u001B[1m44/44\u001B[0m \u001B[32m━━━━━━━━━━━━━━━━━━━━\u001B[0m\u001B[37m\u001B[0m \u001B[1m0s\u001B[0m 2ms/step - accuracy: 0.8451 - loss: 0.3226 - precision: 0.7929 - recall: 0.9123 - val_accuracy: 0.8699 - val_loss: 0.2699 - val_precision: 0.8833 - val_recall: 0.8548\n",
      "Epoch 68/100\n",
      "\u001B[1m44/44\u001B[0m \u001B[32m━━━━━━━━━━━━━━━━━━━━\u001B[0m\u001B[37m\u001B[0m \u001B[1m0s\u001B[0m 2ms/step - accuracy: 0.8591 - loss: 0.3063 - precision: 0.8110 - recall: 0.9194 - val_accuracy: 0.8699 - val_loss: 0.2696 - val_precision: 0.8833 - val_recall: 0.8548\n",
      "Epoch 69/100\n",
      "\u001B[1m44/44\u001B[0m \u001B[32m━━━━━━━━━━━━━━━━━━━━\u001B[0m\u001B[37m\u001B[0m \u001B[1m0s\u001B[0m 2ms/step - accuracy: 0.8512 - loss: 0.3151 - precision: 0.8143 - recall: 0.8917 - val_accuracy: 0.8699 - val_loss: 0.2699 - val_precision: 0.8833 - val_recall: 0.8548\n",
      "Epoch 70/100\n",
      "\u001B[1m44/44\u001B[0m \u001B[32m━━━━━━━━━━━━━━━━━━━━\u001B[0m\u001B[37m\u001B[0m \u001B[1m0s\u001B[0m 2ms/step - accuracy: 0.8578 - loss: 0.3101 - precision: 0.8086 - recall: 0.9170 - val_accuracy: 0.8699 - val_loss: 0.2665 - val_precision: 0.8833 - val_recall: 0.8548\n",
      "Epoch 71/100\n",
      "\u001B[1m44/44\u001B[0m \u001B[32m━━━━━━━━━━━━━━━━━━━━\u001B[0m\u001B[37m\u001B[0m \u001B[1m0s\u001B[0m 2ms/step - accuracy: 0.8597 - loss: 0.3205 - precision: 0.8202 - recall: 0.9017 - val_accuracy: 0.8699 - val_loss: 0.2682 - val_precision: 0.8833 - val_recall: 0.8548\n",
      "Epoch 72/100\n",
      "\u001B[1m44/44\u001B[0m \u001B[32m━━━━━━━━━━━━━━━━━━━━\u001B[0m\u001B[37m\u001B[0m \u001B[1m0s\u001B[0m 2ms/step - accuracy: 0.8501 - loss: 0.3014 - precision: 0.8110 - recall: 0.8919 - val_accuracy: 0.8699 - val_loss: 0.2668 - val_precision: 0.8833 - val_recall: 0.8548\n",
      "Epoch 73/100\n",
      "\u001B[1m44/44\u001B[0m \u001B[32m━━━━━━━━━━━━━━━━━━━━\u001B[0m\u001B[37m\u001B[0m \u001B[1m0s\u001B[0m 2ms/step - accuracy: 0.8499 - loss: 0.3202 - precision: 0.8017 - recall: 0.9113 - val_accuracy: 0.8699 - val_loss: 0.2647 - val_precision: 0.8833 - val_recall: 0.8548\n",
      "Epoch 74/100\n",
      "\u001B[1m44/44\u001B[0m \u001B[32m━━━━━━━━━━━━━━━━━━━━\u001B[0m\u001B[37m\u001B[0m \u001B[1m0s\u001B[0m 2ms/step - accuracy: 0.8561 - loss: 0.3092 - precision: 0.8136 - recall: 0.9039 - val_accuracy: 0.8699 - val_loss: 0.2652 - val_precision: 0.8833 - val_recall: 0.8548\n",
      "Epoch 75/100\n",
      "\u001B[1m44/44\u001B[0m \u001B[32m━━━━━━━━━━━━━━━━━━━━\u001B[0m\u001B[37m\u001B[0m \u001B[1m0s\u001B[0m 2ms/step - accuracy: 0.8605 - loss: 0.2950 - precision: 0.8310 - recall: 0.8862 - val_accuracy: 0.8699 - val_loss: 0.2626 - val_precision: 0.8833 - val_recall: 0.8548\n",
      "Epoch 76/100\n",
      "\u001B[1m44/44\u001B[0m \u001B[32m━━━━━━━━━━━━━━━━━━━━\u001B[0m\u001B[37m\u001B[0m \u001B[1m0s\u001B[0m 2ms/step - accuracy: 0.8519 - loss: 0.2988 - precision: 0.8112 - recall: 0.8968 - val_accuracy: 0.8699 - val_loss: 0.2610 - val_precision: 0.8833 - val_recall: 0.8548\n",
      "Epoch 77/100\n",
      "\u001B[1m44/44\u001B[0m \u001B[32m━━━━━━━━━━━━━━━━━━━━\u001B[0m\u001B[37m\u001B[0m \u001B[1m0s\u001B[0m 2ms/step - accuracy: 0.8723 - loss: 0.3024 - precision: 0.8377 - recall: 0.9073 - val_accuracy: 0.8699 - val_loss: 0.2592 - val_precision: 0.8833 - val_recall: 0.8548\n",
      "Epoch 78/100\n",
      "\u001B[1m44/44\u001B[0m \u001B[32m━━━━━━━━━━━━━━━━━━━━\u001B[0m\u001B[37m\u001B[0m \u001B[1m0s\u001B[0m 2ms/step - accuracy: 0.8686 - loss: 0.2939 - precision: 0.8358 - recall: 0.9011 - val_accuracy: 0.8699 - val_loss: 0.2591 - val_precision: 0.8833 - val_recall: 0.8548\n",
      "Epoch 79/100\n",
      "\u001B[1m44/44\u001B[0m \u001B[32m━━━━━━━━━━━━━━━━━━━━\u001B[0m\u001B[37m\u001B[0m \u001B[1m0s\u001B[0m 2ms/step - accuracy: 0.8453 - loss: 0.2874 - precision: 0.8013 - recall: 0.8985 - val_accuracy: 0.8862 - val_loss: 0.2566 - val_precision: 0.9000 - val_recall: 0.8710\n",
      "Epoch 80/100\n",
      "\u001B[1m44/44\u001B[0m \u001B[32m━━━━━━━━━━━━━━━━━━━━\u001B[0m\u001B[37m\u001B[0m \u001B[1m0s\u001B[0m 2ms/step - accuracy: 0.8763 - loss: 0.2857 - precision: 0.8359 - recall: 0.9216 - val_accuracy: 0.8699 - val_loss: 0.2546 - val_precision: 0.8833 - val_recall: 0.8548\n",
      "Epoch 81/100\n",
      "\u001B[1m44/44\u001B[0m \u001B[32m━━━━━━━━━━━━━━━━━━━━\u001B[0m\u001B[37m\u001B[0m \u001B[1m0s\u001B[0m 2ms/step - accuracy: 0.8740 - loss: 0.2895 - precision: 0.8367 - recall: 0.9177 - val_accuracy: 0.8699 - val_loss: 0.2536 - val_precision: 0.8833 - val_recall: 0.8548\n",
      "Epoch 82/100\n",
      "\u001B[1m44/44\u001B[0m \u001B[32m━━━━━━━━━━━━━━━━━━━━\u001B[0m\u001B[37m\u001B[0m \u001B[1m0s\u001B[0m 2ms/step - accuracy: 0.8807 - loss: 0.2963 - precision: 0.8409 - recall: 0.9241 - val_accuracy: 0.8699 - val_loss: 0.2513 - val_precision: 0.8833 - val_recall: 0.8548\n",
      "Epoch 83/100\n",
      "\u001B[1m44/44\u001B[0m \u001B[32m━━━━━━━━━━━━━━━━━━━━\u001B[0m\u001B[37m\u001B[0m \u001B[1m0s\u001B[0m 2ms/step - accuracy: 0.8858 - loss: 0.2979 - precision: 0.8577 - recall: 0.9117 - val_accuracy: 0.8699 - val_loss: 0.2467 - val_precision: 0.8833 - val_recall: 0.8548\n",
      "Epoch 84/100\n",
      "\u001B[1m44/44\u001B[0m \u001B[32m━━━━━━━━━━━━━━━━━━━━\u001B[0m\u001B[37m\u001B[0m \u001B[1m0s\u001B[0m 2ms/step - accuracy: 0.8658 - loss: 0.2750 - precision: 0.8223 - recall: 0.9164 - val_accuracy: 0.8699 - val_loss: 0.2435 - val_precision: 0.8833 - val_recall: 0.8548\n",
      "Epoch 85/100\n",
      "\u001B[1m44/44\u001B[0m \u001B[32m━━━━━━━━━━━━━━━━━━━━\u001B[0m\u001B[37m\u001B[0m \u001B[1m0s\u001B[0m 2ms/step - accuracy: 0.8546 - loss: 0.2834 - precision: 0.8174 - recall: 0.8938 - val_accuracy: 0.8780 - val_loss: 0.2404 - val_precision: 0.8983 - val_recall: 0.8548\n",
      "Epoch 86/100\n",
      "\u001B[1m44/44\u001B[0m \u001B[32m━━━━━━━━━━━━━━━━━━━━\u001B[0m\u001B[37m\u001B[0m \u001B[1m0s\u001B[0m 2ms/step - accuracy: 0.8680 - loss: 0.3157 - precision: 0.8263 - recall: 0.9153 - val_accuracy: 0.8862 - val_loss: 0.2414 - val_precision: 0.9000 - val_recall: 0.8710\n",
      "Epoch 87/100\n",
      "\u001B[1m44/44\u001B[0m \u001B[32m━━━━━━━━━━━━━━━━━━━━\u001B[0m\u001B[37m\u001B[0m \u001B[1m0s\u001B[0m 2ms/step - accuracy: 0.8545 - loss: 0.2872 - precision: 0.8155 - recall: 0.8953 - val_accuracy: 0.8862 - val_loss: 0.2387 - val_precision: 0.9000 - val_recall: 0.8710\n",
      "Epoch 88/100\n",
      "\u001B[1m44/44\u001B[0m \u001B[32m━━━━━━━━━━━━━━━━━━━━\u001B[0m\u001B[37m\u001B[0m \u001B[1m0s\u001B[0m 2ms/step - accuracy: 0.8598 - loss: 0.2988 - precision: 0.8040 - recall: 0.9346 - val_accuracy: 0.8862 - val_loss: 0.2410 - val_precision: 0.9000 - val_recall: 0.8710\n",
      "Epoch 89/100\n",
      "\u001B[1m44/44\u001B[0m \u001B[32m━━━━━━━━━━━━━━━━━━━━\u001B[0m\u001B[37m\u001B[0m \u001B[1m0s\u001B[0m 2ms/step - accuracy: 0.8533 - loss: 0.3008 - precision: 0.8049 - recall: 0.9134 - val_accuracy: 0.8862 - val_loss: 0.2386 - val_precision: 0.9000 - val_recall: 0.8710\n",
      "Epoch 90/100\n",
      "\u001B[1m44/44\u001B[0m \u001B[32m━━━━━━━━━━━━━━━━━━━━\u001B[0m\u001B[37m\u001B[0m \u001B[1m0s\u001B[0m 2ms/step - accuracy: 0.8710 - loss: 0.2800 - precision: 0.8306 - recall: 0.9166 - val_accuracy: 0.8862 - val_loss: 0.2348 - val_precision: 0.9000 - val_recall: 0.8710\n",
      "Epoch 91/100\n",
      "\u001B[1m44/44\u001B[0m \u001B[32m━━━━━━━━━━━━━━━━━━━━\u001B[0m\u001B[37m\u001B[0m \u001B[1m0s\u001B[0m 2ms/step - accuracy: 0.8720 - loss: 0.2685 - precision: 0.8364 - recall: 0.9087 - val_accuracy: 0.8862 - val_loss: 0.2345 - val_precision: 0.9000 - val_recall: 0.8710\n",
      "Epoch 92/100\n",
      "\u001B[1m44/44\u001B[0m \u001B[32m━━━━━━━━━━━━━━━━━━━━\u001B[0m\u001B[37m\u001B[0m \u001B[1m0s\u001B[0m 2ms/step - accuracy: 0.8578 - loss: 0.3056 - precision: 0.8195 - recall: 0.8996 - val_accuracy: 0.8862 - val_loss: 0.2321 - val_precision: 0.9000 - val_recall: 0.8710\n",
      "Epoch 93/100\n",
      "\u001B[1m44/44\u001B[0m \u001B[32m━━━━━━━━━━━━━━━━━━━━\u001B[0m\u001B[37m\u001B[0m \u001B[1m0s\u001B[0m 2ms/step - accuracy: 0.8767 - loss: 0.2463 - precision: 0.8380 - recall: 0.9169 - val_accuracy: 0.9024 - val_loss: 0.2286 - val_precision: 0.9310 - val_recall: 0.8710\n",
      "Epoch 94/100\n",
      "\u001B[1m44/44\u001B[0m \u001B[32m━━━━━━━━━━━━━━━━━━━━\u001B[0m\u001B[37m\u001B[0m \u001B[1m0s\u001B[0m 2ms/step - accuracy: 0.8808 - loss: 0.2640 - precision: 0.8427 - recall: 0.9234 - val_accuracy: 0.9024 - val_loss: 0.2279 - val_precision: 0.9310 - val_recall: 0.8710\n",
      "Epoch 95/100\n",
      "\u001B[1m44/44\u001B[0m \u001B[32m━━━━━━━━━━━━━━━━━━━━\u001B[0m\u001B[37m\u001B[0m \u001B[1m0s\u001B[0m 2ms/step - accuracy: 0.8767 - loss: 0.2677 - precision: 0.8412 - recall: 0.9127 - val_accuracy: 0.9024 - val_loss: 0.2293 - val_precision: 0.9310 - val_recall: 0.8710\n",
      "Epoch 96/100\n",
      "\u001B[1m44/44\u001B[0m \u001B[32m━━━━━━━━━━━━━━━━━━━━\u001B[0m\u001B[37m\u001B[0m \u001B[1m0s\u001B[0m 2ms/step - accuracy: 0.8809 - loss: 0.2660 - precision: 0.8438 - recall: 0.9206 - val_accuracy: 0.9024 - val_loss: 0.2275 - val_precision: 0.9310 - val_recall: 0.8710\n",
      "Epoch 97/100\n",
      "\u001B[1m44/44\u001B[0m \u001B[32m━━━━━━━━━━━━━━━━━━━━\u001B[0m\u001B[37m\u001B[0m \u001B[1m0s\u001B[0m 2ms/step - accuracy: 0.8885 - loss: 0.2907 - precision: 0.8587 - recall: 0.9162 - val_accuracy: 0.9024 - val_loss: 0.2277 - val_precision: 0.9310 - val_recall: 0.8710\n",
      "Epoch 98/100\n",
      "\u001B[1m44/44\u001B[0m \u001B[32m━━━━━━━━━━━━━━━━━━━━\u001B[0m\u001B[37m\u001B[0m \u001B[1m0s\u001B[0m 2ms/step - accuracy: 0.8724 - loss: 0.2787 - precision: 0.8399 - recall: 0.8993 - val_accuracy: 0.9024 - val_loss: 0.2260 - val_precision: 0.9310 - val_recall: 0.8710\n",
      "Epoch 99/100\n",
      "\u001B[1m44/44\u001B[0m \u001B[32m━━━━━━━━━━━━━━━━━━━━\u001B[0m\u001B[37m\u001B[0m \u001B[1m0s\u001B[0m 2ms/step - accuracy: 0.8707 - loss: 0.2782 - precision: 0.8360 - recall: 0.9067 - val_accuracy: 0.9106 - val_loss: 0.2247 - val_precision: 0.9322 - val_recall: 0.8871\n",
      "Epoch 100/100\n",
      "\u001B[1m44/44\u001B[0m \u001B[32m━━━━━━━━━━━━━━━━━━━━\u001B[0m\u001B[37m\u001B[0m \u001B[1m0s\u001B[0m 2ms/step - accuracy: 0.8594 - loss: 0.2939 - precision: 0.8123 - recall: 0.9163 - val_accuracy: 0.9024 - val_loss: 0.2226 - val_precision: 0.9310 - val_recall: 0.8710\n"
     ]
    }
   ],
   "execution_count": 40
  },
  {
   "metadata": {
    "ExecuteTime": {
     "end_time": "2025-03-02T18:19:31.761480Z",
     "start_time": "2025-03-02T18:19:31.755949Z"
    }
   },
   "cell_type": "code",
   "source": "training_history.history.keys()",
   "id": "5ef4f28d2c6374c7",
   "outputs": [
    {
     "data": {
      "text/plain": [
       "dict_keys(['accuracy', 'loss', 'precision', 'recall', 'val_accuracy', 'val_loss', 'val_precision', 'val_recall'])"
      ]
     },
     "execution_count": 43,
     "metadata": {},
     "output_type": "execute_result"
    }
   ],
   "execution_count": 43
  },
  {
   "metadata": {
    "ExecuteTime": {
     "end_time": "2025-03-02T18:23:53.332478Z",
     "start_time": "2025-03-02T18:23:53.139236Z"
    }
   },
   "cell_type": "code",
   "source": [
    "train_acc = training_history.history['accuracy']\n",
    "train_loss = training_history.history['loss']\n",
    "\n",
    "precision = training_history.history['precision']\n",
    "recall = training_history.history['recall']\n",
    "\n",
    "epochs_range = range(num_epochs)\n",
    "\n",
    "plt.figure(figsize=(14, 8))\n",
    "\n",
    "plt.subplot(1, 2, 1)\n",
    "\n",
    "plt.plot(epochs_range, train_acc, label='Training Accuracy')\n",
    "plt.plot(epochs_range, train_loss, label='Training Loss')\n",
    "\n",
    "plt.title('Accuracy and Loss')\n",
    "plt.legend()\n",
    "\n",
    "plt.subplot(1, 2, 2)\n",
    "\n",
    "plt.plot(epochs_range, precision, label='Precision')\n",
    "plt.plot(epochs_range, recall, label='Recall')\n",
    "\n",
    "plt.title('Precision and Recall')\n",
    "plt.legend()\n",
    "\n",
    "plt.show()\n"
   ],
   "id": "85fdc6c31946669b",
   "outputs": [
    {
     "data": {
      "text/plain": [
       "<Figure size 1400x800 with 2 Axes>"
      ],
      "image/png": "[encoded data removed]"
     },
     "metadata": {},
     "output_type": "display_data"
    }
   ],
   "execution_count": 45
  },
  {
   "metadata": {
    "ExecuteTime": {
     "end_time": "2025-03-02T18:26:40.019467Z",
     "start_time": "2025-03-02T18:26:39.911572Z"
    }
   },
   "cell_type": "code",
   "source": [
    "score = model.evaluate(x_test, y_test)\n",
    "score_df = pd.Series(score)\n",
    "score_df"
   ],
   "id": "73ee8216c4668e07",
   "outputs": [
    {
     "name": "stdout",
     "output_type": "stream",
     "text": [
      "\u001B[1m7/7\u001B[0m \u001B[32m━━━━━━━━━━━━━━━━━━━━\u001B[0m\u001B[37m\u001B[0m \u001B[1m0s\u001B[0m 6ms/step - accuracy: 0.8958 - loss: 0.2008 - precision: 0.8562 - recall: 0.9442 \n"
     ]
    },
    {
     "data": {
      "text/plain": [
       "0    0.217274\n",
       "1    0.892683\n",
       "2    0.849057\n",
       "3    0.937500\n",
       "dtype: float64"
      ]
     },
     "execution_count": 50,
     "metadata": {},
     "output_type": "execute_result"
    }
   ],
   "execution_count": 50
  },
  {
   "metadata": {
    "ExecuteTime": {
     "end_time": "2025-03-02T18:27:38.171078Z",
     "start_time": "2025-03-02T18:27:38.042713Z"
    }
   },
   "cell_type": "code",
   "source": [
    "y_pred = model.predict(x_test)\n",
    "y_pred[:10]"
   ],
   "id": "cc98f45e884165",
   "outputs": [
    {
     "name": "stdout",
     "output_type": "stream",
     "text": [
      "\u001B[1m7/7\u001B[0m \u001B[32m━━━━━━━━━━━━━━━━━━━━\u001B[0m\u001B[37m\u001B[0m \u001B[1m0s\u001B[0m 6ms/step \n"
     ]
    },
    {
     "data": {
      "text/plain": [
       "array([[0.00219505],\n",
       "       [0.95709836],\n",
       "       [0.9975852 ],\n",
       "       [0.28444326],\n",
       "       [0.10236596],\n",
       "       [0.85418785],\n",
       "       [0.7872453 ],\n",
       "       [0.6919893 ],\n",
       "       [0.5366868 ],\n",
       "       [0.93905926]], dtype=float32)"
      ]
     },
     "execution_count": 51,
     "metadata": {},
     "output_type": "execute_result"
    }
   ],
   "execution_count": 51
  },
  {
   "metadata": {
    "ExecuteTime": {
     "end_time": "2025-03-02T18:29:30.618404Z",
     "start_time": "2025-03-02T18:29:30.614606Z"
    }
   },
   "cell_type": "code",
   "source": [
    "y_pred = np.where(y_pred >= 0.5, 1, y_pred)\n",
    "y_pred = np.where(y_pred < 0.5, 0, y_pred)"
   ],
   "id": "46f3e7d0f9712165",
   "outputs": [],
   "execution_count": 52
  },
  {
   "metadata": {
    "ExecuteTime": {
     "end_time": "2025-03-02T18:30:49.338517Z",
     "start_time": "2025-03-02T18:30:49.332981Z"
    }
   },
   "cell_type": "code",
   "source": "y_pred[:10]",
   "id": "ca053c092b9b92d3",
   "outputs": [
    {
     "data": {
      "text/plain": [
       "array([[0.],\n",
       "       [1.],\n",
       "       [1.],\n",
       "       [0.],\n",
       "       [0.],\n",
       "       [1.],\n",
       "       [1.],\n",
       "       [1.],\n",
       "       [1.],\n",
       "       [1.]], dtype=float32)"
      ]
     },
     "execution_count": 54,
     "metadata": {},
     "output_type": "execute_result"
    }
   ],
   "execution_count": 54
  },
  {
   "metadata": {
    "ExecuteTime": {
     "end_time": "2025-03-02T18:33:04.078607Z",
     "start_time": "2025-03-02T18:33:04.074156Z"
    }
   },
   "cell_type": "code",
   "source": "pred_results = pd.DataFrame({'y_test': y_test.values.flatten(), 'y_pred': y_pred.flatten().astype('int32')}, index=range(len(y_pred)))",
   "id": "d85d911b5f39be51",
   "outputs": [],
   "execution_count": 57
  },
  {
   "metadata": {
    "ExecuteTime": {
     "end_time": "2025-03-02T18:33:29.103007Z",
     "start_time": "2025-03-02T18:33:29.095180Z"
    }
   },
   "cell_type": "code",
   "source": "pred_results.sample(10)",
   "id": "6178ce05a6ee36b",
   "outputs": [
    {
     "data": {
      "text/plain": [
       "     y_test  y_pred\n",
       "118       1       1\n",
       "134       1       1\n",
       "100       1       1\n",
       "140       0       0\n",
       "74        1       1\n",
       "9         1       1\n",
       "189       0       0\n",
       "31        1       0\n",
       "67        0       0\n",
       "144       0       0"
      ],
      "text/html": [
       "<div>\n",
       "<style scoped>\n",
       "    .dataframe tbody tr th:only-of-type {\n",
       "        vertical-align: middle;\n",
       "    }\n",
       "\n",
       "    .dataframe tbody tr th {\n",
       "        vertical-align: top;\n",
       "    }\n",
       "\n",
       "    .dataframe thead th {\n",
       "        text-align: right;\n",
       "    }\n",
       "</style>\n",
       "<table border=\"1\" class=\"dataframe\">\n",
       "  <thead>\n",
       "    <tr style=\"text-align: right;\">\n",
       "      <th></th>\n",
       "      <th>y_test</th>\n",
       "      <th>y_pred</th>\n",
       "    </tr>\n",
       "  </thead>\n",
       "  <tbody>\n",
       "    <tr>\n",
       "      <th>118</th>\n",
       "      <td>1</td>\n",
       "      <td>1</td>\n",
       "    </tr>\n",
       "    <tr>\n",
       "      <th>134</th>\n",
       "      <td>1</td>\n",
       "      <td>1</td>\n",
       "    </tr>\n",
       "    <tr>\n",
       "      <th>100</th>\n",
       "      <td>1</td>\n",
       "      <td>1</td>\n",
       "    </tr>\n",
       "    <tr>\n",
       "      <th>140</th>\n",
       "      <td>0</td>\n",
       "      <td>0</td>\n",
       "    </tr>\n",
       "    <tr>\n",
       "      <th>74</th>\n",
       "      <td>1</td>\n",
       "      <td>1</td>\n",
       "    </tr>\n",
       "    <tr>\n",
       "      <th>9</th>\n",
       "      <td>1</td>\n",
       "      <td>1</td>\n",
       "    </tr>\n",
       "    <tr>\n",
       "      <th>189</th>\n",
       "      <td>0</td>\n",
       "      <td>0</td>\n",
       "    </tr>\n",
       "    <tr>\n",
       "      <th>31</th>\n",
       "      <td>1</td>\n",
       "      <td>0</td>\n",
       "    </tr>\n",
       "    <tr>\n",
       "      <th>67</th>\n",
       "      <td>0</td>\n",
       "      <td>0</td>\n",
       "    </tr>\n",
       "    <tr>\n",
       "      <th>144</th>\n",
       "      <td>0</td>\n",
       "      <td>0</td>\n",
       "    </tr>\n",
       "  </tbody>\n",
       "</table>\n",
       "</div>"
      ]
     },
     "execution_count": 58,
     "metadata": {},
     "output_type": "execute_result"
    }
   ],
   "execution_count": 58
  },
  {
   "metadata": {
    "ExecuteTime": {
     "end_time": "2025-03-02T18:34:15.202775Z",
     "start_time": "2025-03-02T18:34:15.191466Z"
    }
   },
   "cell_type": "code",
   "source": "pd.crosstab(pred_results.y_pred, pred_results.y_test)",
   "id": "5961fdb27fc644d0",
   "outputs": [
    {
     "data": {
      "text/plain": [
       "y_test   0   1\n",
       "y_pred        \n",
       "0       93   6\n",
       "1       16  90"
      ],
      "text/html": [
       "<div>\n",
       "<style scoped>\n",
       "    .dataframe tbody tr th:only-of-type {\n",
       "        vertical-align: middle;\n",
       "    }\n",
       "\n",
       "    .dataframe tbody tr th {\n",
       "        vertical-align: top;\n",
       "    }\n",
       "\n",
       "    .dataframe thead th {\n",
       "        text-align: right;\n",
       "    }\n",
       "</style>\n",
       "<table border=\"1\" class=\"dataframe\">\n",
       "  <thead>\n",
       "    <tr style=\"text-align: right;\">\n",
       "      <th>y_test</th>\n",
       "      <th>0</th>\n",
       "      <th>1</th>\n",
       "    </tr>\n",
       "    <tr>\n",
       "      <th>y_pred</th>\n",
       "      <th></th>\n",
       "      <th></th>\n",
       "    </tr>\n",
       "  </thead>\n",
       "  <tbody>\n",
       "    <tr>\n",
       "      <th>0</th>\n",
       "      <td>93</td>\n",
       "      <td>6</td>\n",
       "    </tr>\n",
       "    <tr>\n",
       "      <th>1</th>\n",
       "      <td>16</td>\n",
       "      <td>90</td>\n",
       "    </tr>\n",
       "  </tbody>\n",
       "</table>\n",
       "</div>"
      ]
     },
     "execution_count": 59,
     "metadata": {},
     "output_type": "execute_result"
    }
   ],
   "execution_count": 59
  },
  {
   "metadata": {},
   "cell_type": "code",
   "outputs": [],
   "execution_count": null,
   "source": "",
   "id": "fadd0feafe29b77b"
  }
 ],
 "metadata": {
  "kernelspec": {
   "display_name": "Python 3",
   "language": "python",
   "name": "python3"
  },
  "language_info": {
   "codemirror_mode": {
    "name": "ipython",
    "version": 2
   },
   "file_extension": ".py",
   "mimetype": "text/x-python",
   "name": "python",
   "nbconvert_exporter": "python",
   "pygments_lexer": "ipython2",
   "version": "2.7.6"
  }
 },
 "nbformat": 4,
 "nbformat_minor": 5
}
