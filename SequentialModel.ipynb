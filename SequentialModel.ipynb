{
 "cells": [
  {
   "cell_type": "code",
   "id": "initial_id",
   "metadata": {
    "collapsed": true,
    "ExecuteTime": {
     "end_time": "2025-02-28T14:55:32.593547Z",
     "start_time": "2025-02-28T14:55:28.744298Z"
    }
   },
   "source": [
    "import os, datetime\n",
    "import numpy as np\n",
    "import pandas as pd\n",
    "\n",
    "import seaborn as sns\n",
    "import matplotlib.pyplot as plt\n",
    "\n",
    "from sklearn.metrics import r2_score\n",
    "from sklearn.preprocessing import StandardScaler\n",
    "\n",
    "import tensorflow as tf\n",
    "from tensorboard.compat.tensorflow_stub.dtypes import float32\n",
    "from tensorflow import keras, int32\n",
    "from tensorflow.keras import layers\n",
    "from tensorflow.python.keras.engine.base_layer_utils import training_arg_passed_to_call\n"
   ],
   "outputs": [],
   "execution_count": 1
  },
  {
   "metadata": {
    "ExecuteTime": {
     "end_time": "2025-02-28T14:55:32.667929Z",
     "start_time": "2025-02-28T14:55:32.631547Z"
    }
   },
   "cell_type": "code",
   "source": [
    "data = pd.read_csv('datasets/life_expectancy.csv')\n",
    "data.sample(5)"
   ],
   "id": "57f3e37497f90659",
   "outputs": [
    {
     "data": {
      "text/plain": [
       "      Country  Year      Status  Life expectancy   Adult Mortality  \\\n",
       "2270   Serbia  2010  Developing              74.4            128.0   \n",
       "1030   Greece  2011  Developing              85.0             76.0   \n",
       "2076    Qatar  2010  Developing              77.3             76.0   \n",
       "2676  Tunisia  2004  Developing              74.0             15.0   \n",
       "1193    India  2008  Developing              65.5             23.0   \n",
       "\n",
       "      infant deaths  Alcohol  percentage expenditure  Hepatitis B  Measles   \\\n",
       "2270              1     9.65              774.439662         89.0        20   \n",
       "1030              0     8.02             3192.887363         95.0        40   \n",
       "2076              0     1.16               37.768488         97.0       295   \n",
       "2676              3     1.36              379.765905         96.0         1   \n",
       "1193           1300     1.93               43.030433         29.0     44258   \n",
       "\n",
       "      ...  Polio  Total expenditure  Diphtheria    HIV/AIDS           GDP  \\\n",
       "2270  ...   91.0               1.90         91.0        0.1   5411.877440   \n",
       "1030  ...   99.0               9.77         99.0        0.1  25916.293530   \n",
       "2076  ...   98.0               2.90         97.0        0.1    736.227840   \n",
       "2676  ...   97.0               5.63         97.0        0.1   3112.835290   \n",
       "1193  ...   69.0               4.34          7.0        0.3    991.484634   \n",
       "\n",
       "       Population   thinness  1-19 years   thinness 5-9 years  \\\n",
       "2270    7291436.0                    2.2                  2.3   \n",
       "1030    1114899.0                    0.8                  0.7   \n",
       "2076          NaN                    5.0                  4.6   \n",
       "2676      11761.0                    6.4                  6.3   \n",
       "1193  119714696.0                   27.0                 27.9   \n",
       "\n",
       "      Income composition of resources  Schooling  \n",
       "2270                            0.755       13.6  \n",
       "1030                            0.860       16.7  \n",
       "2076                            0.825       12.0  \n",
       "2676                            0.673       13.6  \n",
       "1193                            0.556       10.2  \n",
       "\n",
       "[5 rows x 22 columns]"
      ],
      "text/html": [
       "<div>\n",
       "<style scoped>\n",
       "    .dataframe tbody tr th:only-of-type {\n",
       "        vertical-align: middle;\n",
       "    }\n",
       "\n",
       "    .dataframe tbody tr th {\n",
       "        vertical-align: top;\n",
       "    }\n",
       "\n",
       "    .dataframe thead th {\n",
       "        text-align: right;\n",
       "    }\n",
       "</style>\n",
       "<table border=\"1\" class=\"dataframe\">\n",
       "  <thead>\n",
       "    <tr style=\"text-align: right;\">\n",
       "      <th></th>\n",
       "      <th>Country</th>\n",
       "      <th>Year</th>\n",
       "      <th>Status</th>\n",
       "      <th>Life expectancy</th>\n",
       "      <th>Adult Mortality</th>\n",
       "      <th>infant deaths</th>\n",
       "      <th>Alcohol</th>\n",
       "      <th>percentage expenditure</th>\n",
       "      <th>Hepatitis B</th>\n",
       "      <th>Measles</th>\n",
       "      <th>...</th>\n",
       "      <th>Polio</th>\n",
       "      <th>Total expenditure</th>\n",
       "      <th>Diphtheria</th>\n",
       "      <th>HIV/AIDS</th>\n",
       "      <th>GDP</th>\n",
       "      <th>Population</th>\n",
       "      <th>thinness  1-19 years</th>\n",
       "      <th>thinness 5-9 years</th>\n",
       "      <th>Income composition of resources</th>\n",
       "      <th>Schooling</th>\n",
       "    </tr>\n",
       "  </thead>\n",
       "  <tbody>\n",
       "    <tr>\n",
       "      <th>2270</th>\n",
       "      <td>Serbia</td>\n",
       "      <td>2010</td>\n",
       "      <td>Developing</td>\n",
       "      <td>74.4</td>\n",
       "      <td>128.0</td>\n",
       "      <td>1</td>\n",
       "      <td>9.65</td>\n",
       "      <td>774.439662</td>\n",
       "      <td>89.0</td>\n",
       "      <td>20</td>\n",
       "      <td>...</td>\n",
       "      <td>91.0</td>\n",
       "      <td>1.90</td>\n",
       "      <td>91.0</td>\n",
       "      <td>0.1</td>\n",
       "      <td>5411.877440</td>\n",
       "      <td>7291436.0</td>\n",
       "      <td>2.2</td>\n",
       "      <td>2.3</td>\n",
       "      <td>0.755</td>\n",
       "      <td>13.6</td>\n",
       "    </tr>\n",
       "    <tr>\n",
       "      <th>1030</th>\n",
       "      <td>Greece</td>\n",
       "      <td>2011</td>\n",
       "      <td>Developing</td>\n",
       "      <td>85.0</td>\n",
       "      <td>76.0</td>\n",
       "      <td>0</td>\n",
       "      <td>8.02</td>\n",
       "      <td>3192.887363</td>\n",
       "      <td>95.0</td>\n",
       "      <td>40</td>\n",
       "      <td>...</td>\n",
       "      <td>99.0</td>\n",
       "      <td>9.77</td>\n",
       "      <td>99.0</td>\n",
       "      <td>0.1</td>\n",
       "      <td>25916.293530</td>\n",
       "      <td>1114899.0</td>\n",
       "      <td>0.8</td>\n",
       "      <td>0.7</td>\n",
       "      <td>0.860</td>\n",
       "      <td>16.7</td>\n",
       "    </tr>\n",
       "    <tr>\n",
       "      <th>2076</th>\n",
       "      <td>Qatar</td>\n",
       "      <td>2010</td>\n",
       "      <td>Developing</td>\n",
       "      <td>77.3</td>\n",
       "      <td>76.0</td>\n",
       "      <td>0</td>\n",
       "      <td>1.16</td>\n",
       "      <td>37.768488</td>\n",
       "      <td>97.0</td>\n",
       "      <td>295</td>\n",
       "      <td>...</td>\n",
       "      <td>98.0</td>\n",
       "      <td>2.90</td>\n",
       "      <td>97.0</td>\n",
       "      <td>0.1</td>\n",
       "      <td>736.227840</td>\n",
       "      <td>NaN</td>\n",
       "      <td>5.0</td>\n",
       "      <td>4.6</td>\n",
       "      <td>0.825</td>\n",
       "      <td>12.0</td>\n",
       "    </tr>\n",
       "    <tr>\n",
       "      <th>2676</th>\n",
       "      <td>Tunisia</td>\n",
       "      <td>2004</td>\n",
       "      <td>Developing</td>\n",
       "      <td>74.0</td>\n",
       "      <td>15.0</td>\n",
       "      <td>3</td>\n",
       "      <td>1.36</td>\n",
       "      <td>379.765905</td>\n",
       "      <td>96.0</td>\n",
       "      <td>1</td>\n",
       "      <td>...</td>\n",
       "      <td>97.0</td>\n",
       "      <td>5.63</td>\n",
       "      <td>97.0</td>\n",
       "      <td>0.1</td>\n",
       "      <td>3112.835290</td>\n",
       "      <td>11761.0</td>\n",
       "      <td>6.4</td>\n",
       "      <td>6.3</td>\n",
       "      <td>0.673</td>\n",
       "      <td>13.6</td>\n",
       "    </tr>\n",
       "    <tr>\n",
       "      <th>1193</th>\n",
       "      <td>India</td>\n",
       "      <td>2008</td>\n",
       "      <td>Developing</td>\n",
       "      <td>65.5</td>\n",
       "      <td>23.0</td>\n",
       "      <td>1300</td>\n",
       "      <td>1.93</td>\n",
       "      <td>43.030433</td>\n",
       "      <td>29.0</td>\n",
       "      <td>44258</td>\n",
       "      <td>...</td>\n",
       "      <td>69.0</td>\n",
       "      <td>4.34</td>\n",
       "      <td>7.0</td>\n",
       "      <td>0.3</td>\n",
       "      <td>991.484634</td>\n",
       "      <td>119714696.0</td>\n",
       "      <td>27.0</td>\n",
       "      <td>27.9</td>\n",
       "      <td>0.556</td>\n",
       "      <td>10.2</td>\n",
       "    </tr>\n",
       "  </tbody>\n",
       "</table>\n",
       "<p>5 rows × 22 columns</p>\n",
       "</div>"
      ]
     },
     "execution_count": 2,
     "metadata": {},
     "output_type": "execute_result"
    }
   ],
   "execution_count": 2
  },
  {
   "metadata": {
    "ExecuteTime": {
     "end_time": "2025-02-28T14:55:33.026154Z",
     "start_time": "2025-02-28T14:55:33.021247Z"
    }
   },
   "cell_type": "code",
   "source": "data.shape",
   "id": "5e0da4a5b148e171",
   "outputs": [
    {
     "data": {
      "text/plain": [
       "(2938, 22)"
      ]
     },
     "execution_count": 3,
     "metadata": {},
     "output_type": "execute_result"
    }
   ],
   "execution_count": 3
  },
  {
   "metadata": {
    "ExecuteTime": {
     "end_time": "2025-02-28T14:55:33.077733Z",
     "start_time": "2025-02-28T14:55:33.071136Z"
    }
   },
   "cell_type": "code",
   "source": "data.isna().sum()",
   "id": "c6bb6ad563b4bdab",
   "outputs": [
    {
     "data": {
      "text/plain": [
       "Country                              0\n",
       "Year                                 0\n",
       "Status                               0\n",
       "Life expectancy                     10\n",
       "Adult Mortality                     10\n",
       "infant deaths                        0\n",
       "Alcohol                            194\n",
       "percentage expenditure               0\n",
       "Hepatitis B                        553\n",
       "Measles                              0\n",
       " BMI                                34\n",
       "under-five deaths                    0\n",
       "Polio                               19\n",
       "Total expenditure                  226\n",
       "Diphtheria                          19\n",
       " HIV/AIDS                            0\n",
       "GDP                                448\n",
       "Population                         652\n",
       " thinness  1-19 years               34\n",
       " thinness 5-9 years                 34\n",
       "Income composition of resources    167\n",
       "Schooling                          163\n",
       "dtype: int64"
      ]
     },
     "execution_count": 4,
     "metadata": {},
     "output_type": "execute_result"
    }
   ],
   "execution_count": 4
  },
  {
   "metadata": {
    "ExecuteTime": {
     "end_time": "2025-02-28T14:55:36.850496Z",
     "start_time": "2025-02-28T14:55:33.261749Z"
    }
   },
   "cell_type": "code",
   "source": [
    "countries = data['Country'].unique()\n",
    "\n",
    "na_cols = ['Life expectancy ', 'Adult Mortality', 'Alcohol', 'Hepatitis B',\n",
    "           ' BMI ', 'Polio', 'Total expenditure', 'Diphtheria ', 'GDP',\n",
    "           ' thinness  1-19 years', ' thinness 5-9 years', 'Population',\n",
    "           'Income composition of resources', 'Schooling']\n",
    "\n",
    "for col in na_cols:\n",
    "    for country in countries:\n",
    "        data.loc[data['Country']==country, col] = (data.loc[data['Country']==country, col].fillna(data[data['Country']==country][col].mean()))"
   ],
   "id": "c5c2ac3f1a8508b9",
   "outputs": [],
   "execution_count": 5
  },
  {
   "metadata": {
    "ExecuteTime": {
     "end_time": "2025-02-28T14:55:36.888406Z",
     "start_time": "2025-02-28T14:55:36.882508Z"
    }
   },
   "cell_type": "code",
   "source": "data.isna().sum()",
   "id": "8715c998c931ecba",
   "outputs": [
    {
     "data": {
      "text/plain": [
       "Country                              0\n",
       "Year                                 0\n",
       "Status                               0\n",
       "Life expectancy                     10\n",
       "Adult Mortality                     10\n",
       "infant deaths                        0\n",
       "Alcohol                             17\n",
       "percentage expenditure               0\n",
       "Hepatitis B                        144\n",
       "Measles                              0\n",
       " BMI                                34\n",
       "under-five deaths                    0\n",
       "Polio                                0\n",
       "Total expenditure                   32\n",
       "Diphtheria                           0\n",
       " HIV/AIDS                            0\n",
       "GDP                                405\n",
       "Population                         648\n",
       " thinness  1-19 years               34\n",
       " thinness 5-9 years                 34\n",
       "Income composition of resources    167\n",
       "Schooling                          163\n",
       "dtype: int64"
      ]
     },
     "execution_count": 6,
     "metadata": {},
     "output_type": "execute_result"
    }
   ],
   "execution_count": 6
  },
  {
   "metadata": {
    "ExecuteTime": {
     "end_time": "2025-02-28T14:55:37.029067Z",
     "start_time": "2025-02-28T14:55:37.024042Z"
    }
   },
   "cell_type": "code",
   "source": [
    "data = data.dropna()\n",
    "data.shape"
   ],
   "id": "ca59fb6b01d3bbe6",
   "outputs": [
    {
     "data": {
      "text/plain": [
       "(2128, 22)"
      ]
     },
     "execution_count": 7,
     "metadata": {},
     "output_type": "execute_result"
    }
   ],
   "execution_count": 7
  },
  {
   "metadata": {
    "ExecuteTime": {
     "end_time": "2025-02-28T14:55:37.180044Z",
     "start_time": "2025-02-28T14:55:37.173933Z"
    }
   },
   "cell_type": "code",
   "source": "data['Status'].value_counts()",
   "id": "5f100409e337f50c",
   "outputs": [
    {
     "data": {
      "text/plain": [
       "Status\n",
       "Developing    1824\n",
       "Developed      304\n",
       "Name: count, dtype: int64"
      ]
     },
     "execution_count": 8,
     "metadata": {},
     "output_type": "execute_result"
    }
   ],
   "execution_count": 8
  },
  {
   "metadata": {
    "ExecuteTime": {
     "end_time": "2025-02-28T14:55:37.320670Z",
     "start_time": "2025-02-28T14:55:37.314936Z"
    }
   },
   "cell_type": "code",
   "source": "data['Country'].value_counts()",
   "id": "fb899ff391b9fa30",
   "outputs": [
    {
     "data": {
      "text/plain": [
       "Country\n",
       "Afghanistan    16\n",
       "Albania        16\n",
       "Algeria        16\n",
       "Angola         16\n",
       "Argentina      16\n",
       "               ..\n",
       "Uruguay        16\n",
       "Uzbekistan     16\n",
       "Vanuatu        16\n",
       "Zambia         16\n",
       "Zimbabwe       16\n",
       "Name: count, Length: 133, dtype: int64"
      ]
     },
     "execution_count": 9,
     "metadata": {},
     "output_type": "execute_result"
    }
   ],
   "execution_count": 9
  },
  {
   "metadata": {
    "ExecuteTime": {
     "end_time": "2025-02-28T14:55:37.620959Z",
     "start_time": "2025-02-28T14:55:37.503132Z"
    }
   },
   "cell_type": "code",
   "source": [
    "plt.figure(figsize=(10, 8))\n",
    "data.boxplot('Life expectancy ')\n",
    "plt.show()"
   ],
   "id": "75df4372dfc92dd5",
   "outputs": [
    {
     "data": {
      "text/plain": [
       "<Figure size 1000x800 with 1 Axes>"
      ],
      "image/png": "[encoded data removed]"
     },
     "metadata": {},
     "output_type": "display_data"
    }
   ],
   "execution_count": 10
  },
  {
   "metadata": {
    "ExecuteTime": {
     "end_time": "2025-02-28T14:55:38.306989Z",
     "start_time": "2025-02-28T14:55:37.871977Z"
    }
   },
   "cell_type": "code",
   "source": [
    "plt.figure(figsize=(8, 6))\n",
    "sns.boxplot(data=data)\n",
    "plt.xlabel('Status', fontsize = 16)\n",
    "plt.ylabel('Life expectancy', fontsize = 16)\n",
    "plt.show()"
   ],
   "id": "26d3838ac42d09c4",
   "outputs": [
    {
     "data": {
      "text/plain": [
       "<Figure size 800x600 with 1 Axes>"
      ],
      "image/png": "[encoded data removed]"
     },
     "metadata": {},
     "output_type": "display_data"
    }
   ],
   "execution_count": 11
  },
  {
   "metadata": {
    "ExecuteTime": {
     "end_time": "2025-02-28T15:17:48.923145Z",
     "start_time": "2025-02-28T15:17:48.828839Z"
    }
   },
   "cell_type": "code",
   "source": [
    "plt.figure(figsize=(8, 6))\n",
    "sns.boxplot(x=data['Status'], y=data['Total expenditure'])\n",
    "plt.xlabel('Status', fontsize = 16)\n",
    "plt.ylabel('Total expenditure', fontsize = 16)\n",
    "plt.show()"
   ],
   "id": "12ab35ee30cbb6c5",
   "outputs": [
    {
     "data": {
      "text/plain": [
       "<Figure size 800x600 with 1 Axes>"
      ],
      "image/png": "[encoded data removed]"
     },
     "metadata": {},
     "output_type": "display_data"
    }
   ],
   "execution_count": 22
  },
  {
   "metadata": {
    "ExecuteTime": {
     "end_time": "2025-02-28T15:21:35.710121Z",
     "start_time": "2025-02-28T15:21:35.700297Z"
    }
   },
   "cell_type": "code",
   "source": [
    "data_corr = data[['Life expectancy ', \n",
    "                  'Adult Mortality',\n",
    "                  'Total expenditure', \n",
    "                  'Diphtheria ', \n",
    "                  'GDP',\n",
    "                  'Population']].corr()\n",
    "data_corr"
   ],
   "id": "494960d758177941",
   "outputs": [
    {
     "data": {
      "text/plain": [
       "                   Life expectancy   Adult Mortality  Total expenditure  \\\n",
       "Life expectancy            1.000000        -0.662604           0.203689   \n",
       "Adult Mortality           -0.662604         1.000000          -0.097938   \n",
       "Total expenditure          0.203689        -0.097938           1.000000   \n",
       "Diphtheria                 0.449975        -0.212157           0.183238   \n",
       "GDP                        0.445425        -0.259500           0.212498   \n",
       "Population                -0.011420        -0.021050          -0.079752   \n",
       "\n",
       "                   Diphtheria        GDP  Population  \n",
       "Life expectancy       0.449975  0.445425   -0.011420  \n",
       "Adult Mortality      -0.212157 -0.259500   -0.021050  \n",
       "Total expenditure     0.183238  0.212498   -0.079752  \n",
       "Diphtheria            1.000000  0.190957   -0.024167  \n",
       "GDP                   0.190957  1.000000   -0.016800  \n",
       "Population           -0.024167 -0.016800    1.000000  "
      ],
      "text/html": [
       "<div>\n",
       "<style scoped>\n",
       "    .dataframe tbody tr th:only-of-type {\n",
       "        vertical-align: middle;\n",
       "    }\n",
       "\n",
       "    .dataframe tbody tr th {\n",
       "        vertical-align: top;\n",
       "    }\n",
       "\n",
       "    .dataframe thead th {\n",
       "        text-align: right;\n",
       "    }\n",
       "</style>\n",
       "<table border=\"1\" class=\"dataframe\">\n",
       "  <thead>\n",
       "    <tr style=\"text-align: right;\">\n",
       "      <th></th>\n",
       "      <th>Life expectancy</th>\n",
       "      <th>Adult Mortality</th>\n",
       "      <th>Total expenditure</th>\n",
       "      <th>Diphtheria</th>\n",
       "      <th>GDP</th>\n",
       "      <th>Population</th>\n",
       "    </tr>\n",
       "  </thead>\n",
       "  <tbody>\n",
       "    <tr>\n",
       "      <th>Life expectancy</th>\n",
       "      <td>1.000000</td>\n",
       "      <td>-0.662604</td>\n",
       "      <td>0.203689</td>\n",
       "      <td>0.449975</td>\n",
       "      <td>0.445425</td>\n",
       "      <td>-0.011420</td>\n",
       "    </tr>\n",
       "    <tr>\n",
       "      <th>Adult Mortality</th>\n",
       "      <td>-0.662604</td>\n",
       "      <td>1.000000</td>\n",
       "      <td>-0.097938</td>\n",
       "      <td>-0.212157</td>\n",
       "      <td>-0.259500</td>\n",
       "      <td>-0.021050</td>\n",
       "    </tr>\n",
       "    <tr>\n",
       "      <th>Total expenditure</th>\n",
       "      <td>0.203689</td>\n",
       "      <td>-0.097938</td>\n",
       "      <td>1.000000</td>\n",
       "      <td>0.183238</td>\n",
       "      <td>0.212498</td>\n",
       "      <td>-0.079752</td>\n",
       "    </tr>\n",
       "    <tr>\n",
       "      <th>Diphtheria</th>\n",
       "      <td>0.449975</td>\n",
       "      <td>-0.212157</td>\n",
       "      <td>0.183238</td>\n",
       "      <td>1.000000</td>\n",
       "      <td>0.190957</td>\n",
       "      <td>-0.024167</td>\n",
       "    </tr>\n",
       "    <tr>\n",
       "      <th>GDP</th>\n",
       "      <td>0.445425</td>\n",
       "      <td>-0.259500</td>\n",
       "      <td>0.212498</td>\n",
       "      <td>0.190957</td>\n",
       "      <td>1.000000</td>\n",
       "      <td>-0.016800</td>\n",
       "    </tr>\n",
       "    <tr>\n",
       "      <th>Population</th>\n",
       "      <td>-0.011420</td>\n",
       "      <td>-0.021050</td>\n",
       "      <td>-0.079752</td>\n",
       "      <td>-0.024167</td>\n",
       "      <td>-0.016800</td>\n",
       "      <td>1.000000</td>\n",
       "    </tr>\n",
       "  </tbody>\n",
       "</table>\n",
       "</div>"
      ]
     },
     "execution_count": 23,
     "metadata": {},
     "output_type": "execute_result"
    }
   ],
   "execution_count": 23
  },
  {
   "metadata": {
    "ExecuteTime": {
     "end_time": "2025-02-28T15:28:07.561919Z",
     "start_time": "2025-02-28T15:28:07.390680Z"
    }
   },
   "cell_type": "code",
   "source": [
    "fix, ax = plt.subplots(figsize=(12, 8))\n",
    "sns.heatmap(data_corr, annot=True)\n",
    "plt.show()"
   ],
   "id": "428dcc2d068e4e7d",
   "outputs": [
    {
     "data": {
      "text/plain": [
       "<Figure size 1200x800 with 2 Axes>"
      ],
      "image/png": "[encoded data removed]"
     },
     "metadata": {},
     "output_type": "display_data"
    }
   ],
   "execution_count": 24
  },
  {
   "metadata": {
    "ExecuteTime": {
     "end_time": "2025-02-28T15:35:05.430316Z",
     "start_time": "2025-02-28T15:35:05.424796Z"
    }
   },
   "cell_type": "code",
   "source": [
    "features = data.drop('Life expectancy ', axis=1)\n",
    "target = data['Life expectancy ']"
   ],
   "id": "a2469ab2207e81a9",
   "outputs": [],
   "execution_count": 25
  },
  {
   "metadata": {
    "ExecuteTime": {
     "end_time": "2025-02-28T15:35:26.037237Z",
     "start_time": "2025-02-28T15:35:26.031983Z"
    }
   },
   "cell_type": "code",
   "source": "features.columns",
   "id": "4ab0e9e506f4baa3",
   "outputs": [
    {
     "data": {
      "text/plain": [
       "Index(['Country', 'Year', 'Status', 'Adult Mortality', 'infant deaths',\n",
       "       'Alcohol', 'percentage expenditure', 'Hepatitis B', 'Measles ', ' BMI ',\n",
       "       'under-five deaths ', 'Polio', 'Total expenditure', 'Diphtheria ',\n",
       "       ' HIV/AIDS', 'GDP', 'Population', ' thinness  1-19 years',\n",
       "       ' thinness 5-9 years', 'Income composition of resources', 'Schooling'],\n",
       "      dtype='object')"
      ]
     },
     "execution_count": 26,
     "metadata": {},
     "output_type": "execute_result"
    }
   ],
   "execution_count": 26
  },
  {
   "metadata": {
    "ExecuteTime": {
     "end_time": "2025-02-28T15:35:55.518505Z",
     "start_time": "2025-02-28T15:35:55.511302Z"
    }
   },
   "cell_type": "code",
   "source": "target.sample(5)",
   "id": "a9ca2d6ee7ba4bdc",
   "outputs": [
    {
     "data": {
      "text/plain": [
       "599     61.0\n",
       "1862    74.5\n",
       "2723    54.9\n",
       "2660    69.4\n",
       "760     62.0\n",
       "Name: Life expectancy , dtype: float64"
      ]
     },
     "execution_count": 27,
     "metadata": {},
     "output_type": "execute_result"
    }
   ],
   "execution_count": 27
  },
  {
   "metadata": {
    "ExecuteTime": {
     "end_time": "2025-02-28T15:37:08.578117Z",
     "start_time": "2025-02-28T15:37:08.571654Z"
    }
   },
   "cell_type": "code",
   "source": [
    "features.drop('Country', axis=1, inplace=True)\n",
    "features.columns"
   ],
   "id": "cb0eb2d7c2c78b04",
   "outputs": [
    {
     "data": {
      "text/plain": [
       "Index(['Year', 'Status', 'Adult Mortality', 'infant deaths', 'Alcohol',\n",
       "       'percentage expenditure', 'Hepatitis B', 'Measles ', ' BMI ',\n",
       "       'under-five deaths ', 'Polio', 'Total expenditure', 'Diphtheria ',\n",
       "       ' HIV/AIDS', 'GDP', 'Population', ' thinness  1-19 years',\n",
       "       ' thinness 5-9 years', 'Income composition of resources', 'Schooling'],\n",
       "      dtype='object')"
      ]
     },
     "execution_count": 29,
     "metadata": {},
     "output_type": "execute_result"
    }
   ],
   "execution_count": 29
  },
  {
   "metadata": {
    "ExecuteTime": {
     "end_time": "2025-02-28T15:42:33.247681Z",
     "start_time": "2025-02-28T15:42:33.242650Z"
    }
   },
   "cell_type": "code",
   "source": [
    "categorical_features = features['Status'].copy()\n",
    "categorical_features.head()"
   ],
   "id": "bc9a0544a5e342c",
   "outputs": [
    {
     "data": {
      "text/plain": [
       "0    Developing\n",
       "1    Developing\n",
       "2    Developing\n",
       "3    Developing\n",
       "4    Developing\n",
       "Name: Status, dtype: object"
      ]
     },
     "execution_count": 30,
     "metadata": {},
     "output_type": "execute_result"
    }
   ],
   "execution_count": 30
  },
  {
   "metadata": {
    "ExecuteTime": {
     "end_time": "2025-02-28T16:04:44.693712Z",
     "start_time": "2025-02-28T16:04:44.687211Z"
    }
   },
   "cell_type": "code",
   "source": [
    "categorical_features = pd.get_dummies(categorical_features, dtype=float)\n",
    "categorical_features.head()"
   ],
   "id": "da7b65ce0ee88d95",
   "outputs": [
    {
     "data": {
      "text/plain": [
       "   Developed  Developing\n",
       "0      False        True\n",
       "1      False        True\n",
       "2      False        True\n",
       "3      False        True\n",
       "4      False        True"
      ],
      "text/html": [
       "<div>\n",
       "<style scoped>\n",
       "    .dataframe tbody tr th:only-of-type {\n",
       "        vertical-align: middle;\n",
       "    }\n",
       "\n",
       "    .dataframe tbody tr th {\n",
       "        vertical-align: top;\n",
       "    }\n",
       "\n",
       "    .dataframe thead th {\n",
       "        text-align: right;\n",
       "    }\n",
       "</style>\n",
       "<table border=\"1\" class=\"dataframe\">\n",
       "  <thead>\n",
       "    <tr style=\"text-align: right;\">\n",
       "      <th></th>\n",
       "      <th>Developed</th>\n",
       "      <th>Developing</th>\n",
       "    </tr>\n",
       "  </thead>\n",
       "  <tbody>\n",
       "    <tr>\n",
       "      <th>0</th>\n",
       "      <td>False</td>\n",
       "      <td>True</td>\n",
       "    </tr>\n",
       "    <tr>\n",
       "      <th>1</th>\n",
       "      <td>False</td>\n",
       "      <td>True</td>\n",
       "    </tr>\n",
       "    <tr>\n",
       "      <th>2</th>\n",
       "      <td>False</td>\n",
       "      <td>True</td>\n",
       "    </tr>\n",
       "    <tr>\n",
       "      <th>3</th>\n",
       "      <td>False</td>\n",
       "      <td>True</td>\n",
       "    </tr>\n",
       "    <tr>\n",
       "      <th>4</th>\n",
       "      <td>False</td>\n",
       "      <td>True</td>\n",
       "    </tr>\n",
       "  </tbody>\n",
       "</table>\n",
       "</div>"
      ]
     },
     "execution_count": 55,
     "metadata": {},
     "output_type": "execute_result"
    }
   ],
   "execution_count": 55
  },
  {
   "metadata": {
    "ExecuteTime": {
     "end_time": "2025-02-28T16:07:42.962469Z",
     "start_time": "2025-02-28T16:07:42.955264Z"
    }
   },
   "cell_type": "code",
   "source": [
    "categorical_features['Developed'] = categorical_features['Developed'].astype(int)\n",
    "categorical_features['Developing'] = categorical_features['Developing'].astype(int)\n",
    "categorical_features.head()"
   ],
   "id": "cfbf9992aaea9e0f",
   "outputs": [
    {
     "data": {
      "text/plain": [
       "   Developed  Developing\n",
       "0          0           1\n",
       "1          0           1\n",
       "2          0           1\n",
       "3          0           1\n",
       "4          0           1"
      ],
      "text/html": [
       "<div>\n",
       "<style scoped>\n",
       "    .dataframe tbody tr th:only-of-type {\n",
       "        vertical-align: middle;\n",
       "    }\n",
       "\n",
       "    .dataframe tbody tr th {\n",
       "        vertical-align: top;\n",
       "    }\n",
       "\n",
       "    .dataframe thead th {\n",
       "        text-align: right;\n",
       "    }\n",
       "</style>\n",
       "<table border=\"1\" class=\"dataframe\">\n",
       "  <thead>\n",
       "    <tr style=\"text-align: right;\">\n",
       "      <th></th>\n",
       "      <th>Developed</th>\n",
       "      <th>Developing</th>\n",
       "    </tr>\n",
       "  </thead>\n",
       "  <tbody>\n",
       "    <tr>\n",
       "      <th>0</th>\n",
       "      <td>0</td>\n",
       "      <td>1</td>\n",
       "    </tr>\n",
       "    <tr>\n",
       "      <th>1</th>\n",
       "      <td>0</td>\n",
       "      <td>1</td>\n",
       "    </tr>\n",
       "    <tr>\n",
       "      <th>2</th>\n",
       "      <td>0</td>\n",
       "      <td>1</td>\n",
       "    </tr>\n",
       "    <tr>\n",
       "      <th>3</th>\n",
       "      <td>0</td>\n",
       "      <td>1</td>\n",
       "    </tr>\n",
       "    <tr>\n",
       "      <th>4</th>\n",
       "      <td>0</td>\n",
       "      <td>1</td>\n",
       "    </tr>\n",
       "  </tbody>\n",
       "</table>\n",
       "</div>"
      ]
     },
     "execution_count": 60,
     "metadata": {},
     "output_type": "execute_result"
    }
   ],
   "execution_count": 60
  },
  {
   "metadata": {
    "ExecuteTime": {
     "end_time": "2025-02-28T16:07:59.609437Z",
     "start_time": "2025-02-28T16:07:59.595702Z"
    }
   },
   "cell_type": "code",
   "source": [
    "numeric_features = features.drop(['Status'], axis=1)\n",
    "numeric_features.head()"
   ],
   "id": "82180f54348d01c",
   "outputs": [
    {
     "data": {
      "text/plain": [
       "   Year  Adult Mortality  infant deaths  Alcohol  percentage expenditure  \\\n",
       "0  2015            263.0             62     0.01               71.279624   \n",
       "1  2014            271.0             64     0.01               73.523582   \n",
       "2  2013            268.0             66     0.01               73.219243   \n",
       "3  2012            272.0             69     0.01               78.184215   \n",
       "4  2011            275.0             71     0.01                7.097109   \n",
       "\n",
       "   Hepatitis B  Measles    BMI   under-five deaths   Polio  Total expenditure  \\\n",
       "0         65.0      1154   19.1                  83    6.0               8.16   \n",
       "1         62.0       492   18.6                  86   58.0               8.18   \n",
       "2         64.0       430   18.1                  89   62.0               8.13   \n",
       "3         67.0      2787   17.6                  93   67.0               8.52   \n",
       "4         68.0      3013   17.2                  97   68.0               7.87   \n",
       "\n",
       "   Diphtheria    HIV/AIDS         GDP  Population   thinness  1-19 years  \\\n",
       "0         65.0        0.1  584.259210  33736494.0                   17.2   \n",
       "1         62.0        0.1  612.696514    327582.0                   17.5   \n",
       "2         64.0        0.1  631.744976  31731688.0                   17.7   \n",
       "3         67.0        0.1  669.959000   3696958.0                   17.9   \n",
       "4         68.0        0.1   63.537231   2978599.0                   18.2   \n",
       "\n",
       "    thinness 5-9 years  Income composition of resources  Schooling  \n",
       "0                 17.3                            0.479       10.1  \n",
       "1                 17.5                            0.476       10.0  \n",
       "2                 17.7                            0.470        9.9  \n",
       "3                 18.0                            0.463        9.8  \n",
       "4                 18.2                            0.454        9.5  "
      ],
      "text/html": [
       "<div>\n",
       "<style scoped>\n",
       "    .dataframe tbody tr th:only-of-type {\n",
       "        vertical-align: middle;\n",
       "    }\n",
       "\n",
       "    .dataframe tbody tr th {\n",
       "        vertical-align: top;\n",
       "    }\n",
       "\n",
       "    .dataframe thead th {\n",
       "        text-align: right;\n",
       "    }\n",
       "</style>\n",
       "<table border=\"1\" class=\"dataframe\">\n",
       "  <thead>\n",
       "    <tr style=\"text-align: right;\">\n",
       "      <th></th>\n",
       "      <th>Year</th>\n",
       "      <th>Adult Mortality</th>\n",
       "      <th>infant deaths</th>\n",
       "      <th>Alcohol</th>\n",
       "      <th>percentage expenditure</th>\n",
       "      <th>Hepatitis B</th>\n",
       "      <th>Measles</th>\n",
       "      <th>BMI</th>\n",
       "      <th>under-five deaths</th>\n",
       "      <th>Polio</th>\n",
       "      <th>Total expenditure</th>\n",
       "      <th>Diphtheria</th>\n",
       "      <th>HIV/AIDS</th>\n",
       "      <th>GDP</th>\n",
       "      <th>Population</th>\n",
       "      <th>thinness  1-19 years</th>\n",
       "      <th>thinness 5-9 years</th>\n",
       "      <th>Income composition of resources</th>\n",
       "      <th>Schooling</th>\n",
       "    </tr>\n",
       "  </thead>\n",
       "  <tbody>\n",
       "    <tr>\n",
       "      <th>0</th>\n",
       "      <td>2015</td>\n",
       "      <td>263.0</td>\n",
       "      <td>62</td>\n",
       "      <td>0.01</td>\n",
       "      <td>71.279624</td>\n",
       "      <td>65.0</td>\n",
       "      <td>1154</td>\n",
       "      <td>19.1</td>\n",
       "      <td>83</td>\n",
       "      <td>6.0</td>\n",
       "      <td>8.16</td>\n",
       "      <td>65.0</td>\n",
       "      <td>0.1</td>\n",
       "      <td>584.259210</td>\n",
       "      <td>33736494.0</td>\n",
       "      <td>17.2</td>\n",
       "      <td>17.3</td>\n",
       "      <td>0.479</td>\n",
       "      <td>10.1</td>\n",
       "    </tr>\n",
       "    <tr>\n",
       "      <th>1</th>\n",
       "      <td>2014</td>\n",
       "      <td>271.0</td>\n",
       "      <td>64</td>\n",
       "      <td>0.01</td>\n",
       "      <td>73.523582</td>\n",
       "      <td>62.0</td>\n",
       "      <td>492</td>\n",
       "      <td>18.6</td>\n",
       "      <td>86</td>\n",
       "      <td>58.0</td>\n",
       "      <td>8.18</td>\n",
       "      <td>62.0</td>\n",
       "      <td>0.1</td>\n",
       "      <td>612.696514</td>\n",
       "      <td>327582.0</td>\n",
       "      <td>17.5</td>\n",
       "      <td>17.5</td>\n",
       "      <td>0.476</td>\n",
       "      <td>10.0</td>\n",
       "    </tr>\n",
       "    <tr>\n",
       "      <th>2</th>\n",
       "      <td>2013</td>\n",
       "      <td>268.0</td>\n",
       "      <td>66</td>\n",
       "      <td>0.01</td>\n",
       "      <td>73.219243</td>\n",
       "      <td>64.0</td>\n",
       "      <td>430</td>\n",
       "      <td>18.1</td>\n",
       "      <td>89</td>\n",
       "      <td>62.0</td>\n",
       "      <td>8.13</td>\n",
       "      <td>64.0</td>\n",
       "      <td>0.1</td>\n",
       "      <td>631.744976</td>\n",
       "      <td>31731688.0</td>\n",
       "      <td>17.7</td>\n",
       "      <td>17.7</td>\n",
       "      <td>0.470</td>\n",
       "      <td>9.9</td>\n",
       "    </tr>\n",
       "    <tr>\n",
       "      <th>3</th>\n",
       "      <td>2012</td>\n",
       "      <td>272.0</td>\n",
       "      <td>69</td>\n",
       "      <td>0.01</td>\n",
       "      <td>78.184215</td>\n",
       "      <td>67.0</td>\n",
       "      <td>2787</td>\n",
       "      <td>17.6</td>\n",
       "      <td>93</td>\n",
       "      <td>67.0</td>\n",
       "      <td>8.52</td>\n",
       "      <td>67.0</td>\n",
       "      <td>0.1</td>\n",
       "      <td>669.959000</td>\n",
       "      <td>3696958.0</td>\n",
       "      <td>17.9</td>\n",
       "      <td>18.0</td>\n",
       "      <td>0.463</td>\n",
       "      <td>9.8</td>\n",
       "    </tr>\n",
       "    <tr>\n",
       "      <th>4</th>\n",
       "      <td>2011</td>\n",
       "      <td>275.0</td>\n",
       "      <td>71</td>\n",
       "      <td>0.01</td>\n",
       "      <td>7.097109</td>\n",
       "      <td>68.0</td>\n",
       "      <td>3013</td>\n",
       "      <td>17.2</td>\n",
       "      <td>97</td>\n",
       "      <td>68.0</td>\n",
       "      <td>7.87</td>\n",
       "      <td>68.0</td>\n",
       "      <td>0.1</td>\n",
       "      <td>63.537231</td>\n",
       "      <td>2978599.0</td>\n",
       "      <td>18.2</td>\n",
       "      <td>18.2</td>\n",
       "      <td>0.454</td>\n",
       "      <td>9.5</td>\n",
       "    </tr>\n",
       "  </tbody>\n",
       "</table>\n",
       "</div>"
      ]
     },
     "execution_count": 61,
     "metadata": {},
     "output_type": "execute_result"
    }
   ],
   "execution_count": 61
  },
  {
   "metadata": {
    "ExecuteTime": {
     "end_time": "2025-02-28T16:08:03.890655Z",
     "start_time": "2025-02-28T16:08:03.855167Z"
    }
   },
   "cell_type": "code",
   "source": "numeric_features.describe()",
   "id": "95a5b4ec209513f0",
   "outputs": [
    {
     "data": {
      "text/plain": [
       "              Year  Adult Mortality  infant deaths      Alcohol  \\\n",
       "count  2128.000000      2128.000000    2128.000000  2128.000000   \n",
       "mean   2007.500000       174.300282      35.902726     4.436893   \n",
       "std       4.610856       129.759274     136.224732     3.962858   \n",
       "min    2000.000000         1.000000       0.000000     0.010000   \n",
       "25%    2003.750000        76.000000       1.000000     0.827500   \n",
       "50%    2007.500000       152.000000       4.000000     3.735000   \n",
       "75%    2011.250000       241.250000      24.000000     7.162500   \n",
       "max    2015.000000       723.000000    1800.000000    17.870000   \n",
       "\n",
       "       percentage expenditure  Hepatitis B       Measles          BMI   \\\n",
       "count             2128.000000  2128.000000    2128.000000  2128.000000   \n",
       "mean               640.072009    77.272061    2657.467105    36.691964   \n",
       "std               1710.798798    25.260036   11912.236064    19.843731   \n",
       "min                  0.000000     2.000000       0.000000     1.400000   \n",
       "25%                 19.883256    68.000000       0.000000    18.400000   \n",
       "50%                 83.677991    87.000000      20.000000    38.850000   \n",
       "75%                431.365149    95.000000     459.250000    55.200000   \n",
       "max              18961.348600    99.000000  212183.000000    77.600000   \n",
       "\n",
       "       under-five deaths         Polio  Total expenditure  Diphtheria   \\\n",
       "count         2128.000000  2128.000000        2128.000000  2128.000000   \n",
       "mean            49.817199    80.572006           5.888411    80.699919   \n",
       "std            185.152708    24.170053           2.256161    24.174256   \n",
       "min              0.000000     3.000000           0.370000     2.000000   \n",
       "25%              1.000000    75.000000           4.367500    76.000000   \n",
       "50%              4.000000    91.000000           5.800000    91.000000   \n",
       "75%             34.250000    96.000000           7.333000    96.000000   \n",
       "max           2500.000000    99.000000          14.390000    99.000000   \n",
       "\n",
       "          HIV/AIDS            GDP    Population   thinness  1-19 years  \\\n",
       "count  2128.000000    2128.000000  2.128000e+03            2128.000000   \n",
       "mean      2.173637    5408.637801  1.340066e+07               5.107895   \n",
       "std       5.827273   11374.230200  6.315714e+07               4.711951   \n",
       "min       0.100000       1.681350  3.400000e+01               0.100000   \n",
       "25%       0.100000     395.911290  1.989615e+05               1.600000   \n",
       "50%       0.100000    1351.177885  1.433672e+06               3.400000   \n",
       "75%       1.300000    4494.285047  7.785482e+06               7.525000   \n",
       "max      50.600000  119172.741800  1.293859e+09              27.700000   \n",
       "\n",
       "        thinness 5-9 years  Income composition of resources    Schooling  \n",
       "count          2128.000000                      2128.000000  2128.000000  \n",
       "mean              5.177538                         0.607481    11.691823  \n",
       "std               4.805378                         0.203404     3.203263  \n",
       "min               0.100000                         0.000000     0.000000  \n",
       "25%               1.600000                         0.476750     9.800000  \n",
       "50%               3.400000                         0.649500    11.900000  \n",
       "75%               7.600000                         0.747000    13.800000  \n",
       "max              28.600000                         0.937000    20.700000  "
      ],
      "text/html": [
       "<div>\n",
       "<style scoped>\n",
       "    .dataframe tbody tr th:only-of-type {\n",
       "        vertical-align: middle;\n",
       "    }\n",
       "\n",
       "    .dataframe tbody tr th {\n",
       "        vertical-align: top;\n",
       "    }\n",
       "\n",
       "    .dataframe thead th {\n",
       "        text-align: right;\n",
       "    }\n",
       "</style>\n",
       "<table border=\"1\" class=\"dataframe\">\n",
       "  <thead>\n",
       "    <tr style=\"text-align: right;\">\n",
       "      <th></th>\n",
       "      <th>Year</th>\n",
       "      <th>Adult Mortality</th>\n",
       "      <th>infant deaths</th>\n",
       "      <th>Alcohol</th>\n",
       "      <th>percentage expenditure</th>\n",
       "      <th>Hepatitis B</th>\n",
       "      <th>Measles</th>\n",
       "      <th>BMI</th>\n",
       "      <th>under-five deaths</th>\n",
       "      <th>Polio</th>\n",
       "      <th>Total expenditure</th>\n",
       "      <th>Diphtheria</th>\n",
       "      <th>HIV/AIDS</th>\n",
       "      <th>GDP</th>\n",
       "      <th>Population</th>\n",
       "      <th>thinness  1-19 years</th>\n",
       "      <th>thinness 5-9 years</th>\n",
       "      <th>Income composition of resources</th>\n",
       "      <th>Schooling</th>\n",
       "    </tr>\n",
       "  </thead>\n",
       "  <tbody>\n",
       "    <tr>\n",
       "      <th>count</th>\n",
       "      <td>2128.000000</td>\n",
       "      <td>2128.000000</td>\n",
       "      <td>2128.000000</td>\n",
       "      <td>2128.000000</td>\n",
       "      <td>2128.000000</td>\n",
       "      <td>2128.000000</td>\n",
       "      <td>2128.000000</td>\n",
       "      <td>2128.000000</td>\n",
       "      <td>2128.000000</td>\n",
       "      <td>2128.000000</td>\n",
       "      <td>2128.000000</td>\n",
       "      <td>2128.000000</td>\n",
       "      <td>2128.000000</td>\n",
       "      <td>2128.000000</td>\n",
       "      <td>2.128000e+03</td>\n",
       "      <td>2128.000000</td>\n",
       "      <td>2128.000000</td>\n",
       "      <td>2128.000000</td>\n",
       "      <td>2128.000000</td>\n",
       "    </tr>\n",
       "    <tr>\n",
       "      <th>mean</th>\n",
       "      <td>2007.500000</td>\n",
       "      <td>174.300282</td>\n",
       "      <td>35.902726</td>\n",
       "      <td>4.436893</td>\n",
       "      <td>640.072009</td>\n",
       "      <td>77.272061</td>\n",
       "      <td>2657.467105</td>\n",
       "      <td>36.691964</td>\n",
       "      <td>49.817199</td>\n",
       "      <td>80.572006</td>\n",
       "      <td>5.888411</td>\n",
       "      <td>80.699919</td>\n",
       "      <td>2.173637</td>\n",
       "      <td>5408.637801</td>\n",
       "      <td>1.340066e+07</td>\n",
       "      <td>5.107895</td>\n",
       "      <td>5.177538</td>\n",
       "      <td>0.607481</td>\n",
       "      <td>11.691823</td>\n",
       "    </tr>\n",
       "    <tr>\n",
       "      <th>std</th>\n",
       "      <td>4.610856</td>\n",
       "      <td>129.759274</td>\n",
       "      <td>136.224732</td>\n",
       "      <td>3.962858</td>\n",
       "      <td>1710.798798</td>\n",
       "      <td>25.260036</td>\n",
       "      <td>11912.236064</td>\n",
       "      <td>19.843731</td>\n",
       "      <td>185.152708</td>\n",
       "      <td>24.170053</td>\n",
       "      <td>2.256161</td>\n",
       "      <td>24.174256</td>\n",
       "      <td>5.827273</td>\n",
       "      <td>11374.230200</td>\n",
       "      <td>6.315714e+07</td>\n",
       "      <td>4.711951</td>\n",
       "      <td>4.805378</td>\n",
       "      <td>0.203404</td>\n",
       "      <td>3.203263</td>\n",
       "    </tr>\n",
       "    <tr>\n",
       "      <th>min</th>\n",
       "      <td>2000.000000</td>\n",
       "      <td>1.000000</td>\n",
       "      <td>0.000000</td>\n",
       "      <td>0.010000</td>\n",
       "      <td>0.000000</td>\n",
       "      <td>2.000000</td>\n",
       "      <td>0.000000</td>\n",
       "      <td>1.400000</td>\n",
       "      <td>0.000000</td>\n",
       "      <td>3.000000</td>\n",
       "      <td>0.370000</td>\n",
       "      <td>2.000000</td>\n",
       "      <td>0.100000</td>\n",
       "      <td>1.681350</td>\n",
       "      <td>3.400000e+01</td>\n",
       "      <td>0.100000</td>\n",
       "      <td>0.100000</td>\n",
       "      <td>0.000000</td>\n",
       "      <td>0.000000</td>\n",
       "    </tr>\n",
       "    <tr>\n",
       "      <th>25%</th>\n",
       "      <td>2003.750000</td>\n",
       "      <td>76.000000</td>\n",
       "      <td>1.000000</td>\n",
       "      <td>0.827500</td>\n",
       "      <td>19.883256</td>\n",
       "      <td>68.000000</td>\n",
       "      <td>0.000000</td>\n",
       "      <td>18.400000</td>\n",
       "      <td>1.000000</td>\n",
       "      <td>75.000000</td>\n",
       "      <td>4.367500</td>\n",
       "      <td>76.000000</td>\n",
       "      <td>0.100000</td>\n",
       "      <td>395.911290</td>\n",
       "      <td>1.989615e+05</td>\n",
       "      <td>1.600000</td>\n",
       "      <td>1.600000</td>\n",
       "      <td>0.476750</td>\n",
       "      <td>9.800000</td>\n",
       "    </tr>\n",
       "    <tr>\n",
       "      <th>50%</th>\n",
       "      <td>2007.500000</td>\n",
       "      <td>152.000000</td>\n",
       "      <td>4.000000</td>\n",
       "      <td>3.735000</td>\n",
       "      <td>83.677991</td>\n",
       "      <td>87.000000</td>\n",
       "      <td>20.000000</td>\n",
       "      <td>38.850000</td>\n",
       "      <td>4.000000</td>\n",
       "      <td>91.000000</td>\n",
       "      <td>5.800000</td>\n",
       "      <td>91.000000</td>\n",
       "      <td>0.100000</td>\n",
       "      <td>1351.177885</td>\n",
       "      <td>1.433672e+06</td>\n",
       "      <td>3.400000</td>\n",
       "      <td>3.400000</td>\n",
       "      <td>0.649500</td>\n",
       "      <td>11.900000</td>\n",
       "    </tr>\n",
       "    <tr>\n",
       "      <th>75%</th>\n",
       "      <td>2011.250000</td>\n",
       "      <td>241.250000</td>\n",
       "      <td>24.000000</td>\n",
       "      <td>7.162500</td>\n",
       "      <td>431.365149</td>\n",
       "      <td>95.000000</td>\n",
       "      <td>459.250000</td>\n",
       "      <td>55.200000</td>\n",
       "      <td>34.250000</td>\n",
       "      <td>96.000000</td>\n",
       "      <td>7.333000</td>\n",
       "      <td>96.000000</td>\n",
       "      <td>1.300000</td>\n",
       "      <td>4494.285047</td>\n",
       "      <td>7.785482e+06</td>\n",
       "      <td>7.525000</td>\n",
       "      <td>7.600000</td>\n",
       "      <td>0.747000</td>\n",
       "      <td>13.800000</td>\n",
       "    </tr>\n",
       "    <tr>\n",
       "      <th>max</th>\n",
       "      <td>2015.000000</td>\n",
       "      <td>723.000000</td>\n",
       "      <td>1800.000000</td>\n",
       "      <td>17.870000</td>\n",
       "      <td>18961.348600</td>\n",
       "      <td>99.000000</td>\n",
       "      <td>212183.000000</td>\n",
       "      <td>77.600000</td>\n",
       "      <td>2500.000000</td>\n",
       "      <td>99.000000</td>\n",
       "      <td>14.390000</td>\n",
       "      <td>99.000000</td>\n",
       "      <td>50.600000</td>\n",
       "      <td>119172.741800</td>\n",
       "      <td>1.293859e+09</td>\n",
       "      <td>27.700000</td>\n",
       "      <td>28.600000</td>\n",
       "      <td>0.937000</td>\n",
       "      <td>20.700000</td>\n",
       "    </tr>\n",
       "  </tbody>\n",
       "</table>\n",
       "</div>"
      ]
     },
     "execution_count": 62,
     "metadata": {},
     "output_type": "execute_result"
    }
   ],
   "execution_count": 62
  },
  {
   "metadata": {
    "ExecuteTime": {
     "end_time": "2025-02-28T16:08:05.812990Z",
     "start_time": "2025-02-28T16:08:05.777125Z"
    }
   },
   "cell_type": "code",
   "source": [
    "standardScaler = StandardScaler()\n",
    "numeric_features = pd.DataFrame(standardScaler.fit_transform(numeric_features), \n",
    "                                columns=numeric_features.columns, \n",
    "                                index=numeric_features.index)\n",
    "numeric_features.describe().T"
   ],
   "id": "ca85a75a1506b0ce",
   "outputs": [
    {
     "data": {
      "text/plain": [
       "                                  count          mean       std       min  \\\n",
       "Year                             2128.0  0.000000e+00  1.000235 -1.626978   \n",
       "Adult Mortality                  2128.0 -5.342427e-17  1.000235 -1.335866   \n",
       "infant deaths                    2128.0  0.000000e+00  1.000235 -0.263617   \n",
       "Alcohol                          2128.0  1.402387e-16  1.000235 -1.117358   \n",
       "percentage expenditure           2128.0  1.335607e-17  1.000235 -0.374224   \n",
       "Hepatitis B                      2128.0  3.005115e-17  1.000235 -2.980588   \n",
       "Measles                          2128.0  0.000000e+00  1.000235 -0.223140   \n",
       " BMI                             2128.0  4.674623e-17  1.000235 -1.778912   \n",
       "under-five deaths                2128.0 -1.669508e-17  1.000235 -0.269123   \n",
       "Polio                            2128.0  8.347542e-17  1.000235 -3.210181   \n",
       "Total expenditure                2128.0 -9.683148e-17  1.000235 -2.446505   \n",
       "Diphtheria                       2128.0  7.679738e-17  1.000235 -3.256291   \n",
       " HIV/AIDS                        2128.0 -1.335607e-17  1.000235 -0.355934   \n",
       "GDP                              2128.0 -5.342427e-17  1.000235 -0.475481   \n",
       "Population                       2128.0 -4.340722e-17  1.000235 -0.212229   \n",
       " thinness  1-19 years            2128.0  1.402387e-16  1.000235 -1.063057   \n",
       " thinness 5-9 years              2128.0  1.202046e-16  1.000235 -1.056885   \n",
       "Income composition of resources  2128.0 -6.344132e-17  1.000235 -2.987278   \n",
       "Schooling                        2128.0 -3.138676e-16  1.000235 -3.650831   \n",
       "\n",
       "                                      25%       50%       75%        max  \n",
       "Year                            -0.813489  0.000000  0.813489   1.626978  \n",
       "Adult Mortality                 -0.757737 -0.171899  0.516075   4.229591  \n",
       "infant deaths                   -0.256275 -0.234247 -0.087396  12.952948  \n",
       "Alcohol                         -0.911020 -0.177159  0.687950   3.390549  \n",
       "percentage expenditure          -0.362599 -0.325301 -0.122022  10.711711  \n",
       "Hepatitis B                     -0.367151  0.385202  0.701983   0.860373  \n",
       "Measles                         -0.223140 -0.221460 -0.184578  17.593236  \n",
       " BMI                            -0.922017  0.108777  0.932909   2.061994  \n",
       "under-five deaths               -0.263721 -0.247514 -0.084097  13.236418  \n",
       "Polio                           -0.230588  0.431544  0.638460   0.762610  \n",
       "Total expenditure               -0.674273 -0.039196  0.640437   3.769052  \n",
       "Diphtheria                      -0.194464  0.426177  0.633057   0.757185  \n",
       " HIV/AIDS                       -0.355934 -0.355934 -0.149957   8.312249  \n",
       "GDP                             -0.440813 -0.356808 -0.080407  10.004268  \n",
       "Population                      -0.209079 -0.189524 -0.088929  20.278937  \n",
       " thinness  1-19 years           -0.744642 -0.362545  0.513094   4.795766  \n",
       " thinness 5-9 years             -0.744661 -0.369993  0.504233   4.875365  \n",
       "Income composition of resources -0.642867  0.206629  0.686084   1.620407  \n",
       "Schooling                       -0.590731  0.065004  0.658289   2.812849  "
      ],
      "text/html": [
       "<div>\n",
       "<style scoped>\n",
       "    .dataframe tbody tr th:only-of-type {\n",
       "        vertical-align: middle;\n",
       "    }\n",
       "\n",
       "    .dataframe tbody tr th {\n",
       "        vertical-align: top;\n",
       "    }\n",
       "\n",
       "    .dataframe thead th {\n",
       "        text-align: right;\n",
       "    }\n",
       "</style>\n",
       "<table border=\"1\" class=\"dataframe\">\n",
       "  <thead>\n",
       "    <tr style=\"text-align: right;\">\n",
       "      <th></th>\n",
       "      <th>count</th>\n",
       "      <th>mean</th>\n",
       "      <th>std</th>\n",
       "      <th>min</th>\n",
       "      <th>25%</th>\n",
       "      <th>50%</th>\n",
       "      <th>75%</th>\n",
       "      <th>max</th>\n",
       "    </tr>\n",
       "  </thead>\n",
       "  <tbody>\n",
       "    <tr>\n",
       "      <th>Year</th>\n",
       "      <td>2128.0</td>\n",
       "      <td>0.000000e+00</td>\n",
       "      <td>1.000235</td>\n",
       "      <td>-1.626978</td>\n",
       "      <td>-0.813489</td>\n",
       "      <td>0.000000</td>\n",
       "      <td>0.813489</td>\n",
       "      <td>1.626978</td>\n",
       "    </tr>\n",
       "    <tr>\n",
       "      <th>Adult Mortality</th>\n",
       "      <td>2128.0</td>\n",
       "      <td>-5.342427e-17</td>\n",
       "      <td>1.000235</td>\n",
       "      <td>-1.335866</td>\n",
       "      <td>-0.757737</td>\n",
       "      <td>-0.171899</td>\n",
       "      <td>0.516075</td>\n",
       "      <td>4.229591</td>\n",
       "    </tr>\n",
       "    <tr>\n",
       "      <th>infant deaths</th>\n",
       "      <td>2128.0</td>\n",
       "      <td>0.000000e+00</td>\n",
       "      <td>1.000235</td>\n",
       "      <td>-0.263617</td>\n",
       "      <td>-0.256275</td>\n",
       "      <td>-0.234247</td>\n",
       "      <td>-0.087396</td>\n",
       "      <td>12.952948</td>\n",
       "    </tr>\n",
       "    <tr>\n",
       "      <th>Alcohol</th>\n",
       "      <td>2128.0</td>\n",
       "      <td>1.402387e-16</td>\n",
       "      <td>1.000235</td>\n",
       "      <td>-1.117358</td>\n",
       "      <td>-0.911020</td>\n",
       "      <td>-0.177159</td>\n",
       "      <td>0.687950</td>\n",
       "      <td>3.390549</td>\n",
       "    </tr>\n",
       "    <tr>\n",
       "      <th>percentage expenditure</th>\n",
       "      <td>2128.0</td>\n",
       "      <td>1.335607e-17</td>\n",
       "      <td>1.000235</td>\n",
       "      <td>-0.374224</td>\n",
       "      <td>-0.362599</td>\n",
       "      <td>-0.325301</td>\n",
       "      <td>-0.122022</td>\n",
       "      <td>10.711711</td>\n",
       "    </tr>\n",
       "    <tr>\n",
       "      <th>Hepatitis B</th>\n",
       "      <td>2128.0</td>\n",
       "      <td>3.005115e-17</td>\n",
       "      <td>1.000235</td>\n",
       "      <td>-2.980588</td>\n",
       "      <td>-0.367151</td>\n",
       "      <td>0.385202</td>\n",
       "      <td>0.701983</td>\n",
       "      <td>0.860373</td>\n",
       "    </tr>\n",
       "    <tr>\n",
       "      <th>Measles</th>\n",
       "      <td>2128.0</td>\n",
       "      <td>0.000000e+00</td>\n",
       "      <td>1.000235</td>\n",
       "      <td>-0.223140</td>\n",
       "      <td>-0.223140</td>\n",
       "      <td>-0.221460</td>\n",
       "      <td>-0.184578</td>\n",
       "      <td>17.593236</td>\n",
       "    </tr>\n",
       "    <tr>\n",
       "      <th>BMI</th>\n",
       "      <td>2128.0</td>\n",
       "      <td>4.674623e-17</td>\n",
       "      <td>1.000235</td>\n",
       "      <td>-1.778912</td>\n",
       "      <td>-0.922017</td>\n",
       "      <td>0.108777</td>\n",
       "      <td>0.932909</td>\n",
       "      <td>2.061994</td>\n",
       "    </tr>\n",
       "    <tr>\n",
       "      <th>under-five deaths</th>\n",
       "      <td>2128.0</td>\n",
       "      <td>-1.669508e-17</td>\n",
       "      <td>1.000235</td>\n",
       "      <td>-0.269123</td>\n",
       "      <td>-0.263721</td>\n",
       "      <td>-0.247514</td>\n",
       "      <td>-0.084097</td>\n",
       "      <td>13.236418</td>\n",
       "    </tr>\n",
       "    <tr>\n",
       "      <th>Polio</th>\n",
       "      <td>2128.0</td>\n",
       "      <td>8.347542e-17</td>\n",
       "      <td>1.000235</td>\n",
       "      <td>-3.210181</td>\n",
       "      <td>-0.230588</td>\n",
       "      <td>0.431544</td>\n",
       "      <td>0.638460</td>\n",
       "      <td>0.762610</td>\n",
       "    </tr>\n",
       "    <tr>\n",
       "      <th>Total expenditure</th>\n",
       "      <td>2128.0</td>\n",
       "      <td>-9.683148e-17</td>\n",
       "      <td>1.000235</td>\n",
       "      <td>-2.446505</td>\n",
       "      <td>-0.674273</td>\n",
       "      <td>-0.039196</td>\n",
       "      <td>0.640437</td>\n",
       "      <td>3.769052</td>\n",
       "    </tr>\n",
       "    <tr>\n",
       "      <th>Diphtheria</th>\n",
       "      <td>2128.0</td>\n",
       "      <td>7.679738e-17</td>\n",
       "      <td>1.000235</td>\n",
       "      <td>-3.256291</td>\n",
       "      <td>-0.194464</td>\n",
       "      <td>0.426177</td>\n",
       "      <td>0.633057</td>\n",
       "      <td>0.757185</td>\n",
       "    </tr>\n",
       "    <tr>\n",
       "      <th>HIV/AIDS</th>\n",
       "      <td>2128.0</td>\n",
       "      <td>-1.335607e-17</td>\n",
       "      <td>1.000235</td>\n",
       "      <td>-0.355934</td>\n",
       "      <td>-0.355934</td>\n",
       "      <td>-0.355934</td>\n",
       "      <td>-0.149957</td>\n",
       "      <td>8.312249</td>\n",
       "    </tr>\n",
       "    <tr>\n",
       "      <th>GDP</th>\n",
       "      <td>2128.0</td>\n",
       "      <td>-5.342427e-17</td>\n",
       "      <td>1.000235</td>\n",
       "      <td>-0.475481</td>\n",
       "      <td>-0.440813</td>\n",
       "      <td>-0.356808</td>\n",
       "      <td>-0.080407</td>\n",
       "      <td>10.004268</td>\n",
       "    </tr>\n",
       "    <tr>\n",
       "      <th>Population</th>\n",
       "      <td>2128.0</td>\n",
       "      <td>-4.340722e-17</td>\n",
       "      <td>1.000235</td>\n",
       "      <td>-0.212229</td>\n",
       "      <td>-0.209079</td>\n",
       "      <td>-0.189524</td>\n",
       "      <td>-0.088929</td>\n",
       "      <td>20.278937</td>\n",
       "    </tr>\n",
       "    <tr>\n",
       "      <th>thinness  1-19 years</th>\n",
       "      <td>2128.0</td>\n",
       "      <td>1.402387e-16</td>\n",
       "      <td>1.000235</td>\n",
       "      <td>-1.063057</td>\n",
       "      <td>-0.744642</td>\n",
       "      <td>-0.362545</td>\n",
       "      <td>0.513094</td>\n",
       "      <td>4.795766</td>\n",
       "    </tr>\n",
       "    <tr>\n",
       "      <th>thinness 5-9 years</th>\n",
       "      <td>2128.0</td>\n",
       "      <td>1.202046e-16</td>\n",
       "      <td>1.000235</td>\n",
       "      <td>-1.056885</td>\n",
       "      <td>-0.744661</td>\n",
       "      <td>-0.369993</td>\n",
       "      <td>0.504233</td>\n",
       "      <td>4.875365</td>\n",
       "    </tr>\n",
       "    <tr>\n",
       "      <th>Income composition of resources</th>\n",
       "      <td>2128.0</td>\n",
       "      <td>-6.344132e-17</td>\n",
       "      <td>1.000235</td>\n",
       "      <td>-2.987278</td>\n",
       "      <td>-0.642867</td>\n",
       "      <td>0.206629</td>\n",
       "      <td>0.686084</td>\n",
       "      <td>1.620407</td>\n",
       "    </tr>\n",
       "    <tr>\n",
       "      <th>Schooling</th>\n",
       "      <td>2128.0</td>\n",
       "      <td>-3.138676e-16</td>\n",
       "      <td>1.000235</td>\n",
       "      <td>-3.650831</td>\n",
       "      <td>-0.590731</td>\n",
       "      <td>0.065004</td>\n",
       "      <td>0.658289</td>\n",
       "      <td>2.812849</td>\n",
       "    </tr>\n",
       "  </tbody>\n",
       "</table>\n",
       "</div>"
      ]
     },
     "execution_count": 63,
     "metadata": {},
     "output_type": "execute_result"
    }
   ],
   "execution_count": 63
  },
  {
   "metadata": {
    "ExecuteTime": {
     "end_time": "2025-02-28T16:08:07.818586Z",
     "start_time": "2025-02-28T16:08:07.802797Z"
    }
   },
   "cell_type": "code",
   "source": [
    "processed_features = pd.concat([numeric_features, categorical_features], axis=1, sort=False)\n",
    "processed_features.head()"
   ],
   "id": "121deb8cced9d3c7",
   "outputs": [
    {
     "data": {
      "text/plain": [
       "       Year  Adult Mortality  infant deaths   Alcohol  percentage expenditure  \\\n",
       "0  1.626978         0.683732       0.191620 -1.117358               -0.332550   \n",
       "1  1.410048         0.745399       0.206305 -1.117358               -0.331238   \n",
       "2  1.193118         0.722274       0.220990 -1.117358               -0.331416   \n",
       "3  0.976187         0.753107       0.243018 -1.117358               -0.328513   \n",
       "4  0.759257         0.776233       0.257703 -1.117358               -0.370075   \n",
       "\n",
       "   Hepatitis B  Measles       BMI   under-five deaths      Polio  ...  \\\n",
       "0    -0.485943 -0.126242 -0.886733            0.179261 -3.086031  ...   \n",
       "1    -0.604736 -0.181828 -0.911936            0.195467 -0.934103  ...   \n",
       "2    -0.525541 -0.187034 -0.937139            0.211674 -0.768570  ...   \n",
       "3    -0.406748  0.010876 -0.962342            0.233283 -0.561654  ...   \n",
       "4    -0.367151  0.029853 -0.982504            0.254892 -0.520270  ...   \n",
       "\n",
       "   Diphtheria    HIV/AIDS       GDP  Population   thinness  1-19 years  \\\n",
       "0    -0.649601  -0.355934 -0.424250    0.322064               2.566866   \n",
       "1    -0.773729  -0.355934 -0.421749   -0.207042               2.630549   \n",
       "2    -0.690977  -0.355934 -0.420074    0.290313               2.673004   \n",
       "3    -0.566848  -0.355934 -0.416713   -0.153680               2.715459   \n",
       "4    -0.525472  -0.355934 -0.470041   -0.165057               2.779142   \n",
       "\n",
       "    thinness 5-9 years  Income composition of resources  Schooling  Developed  \\\n",
       "0             2.523280                        -0.631802  -0.497055          0   \n",
       "1             2.564910                        -0.646555  -0.528280          0   \n",
       "2             2.606539                        -0.676060  -0.559506          0   \n",
       "3             2.668984                        -0.710482  -0.590731          0   \n",
       "4             2.710614                        -0.754739  -0.684408          0   \n",
       "\n",
       "   Developing  \n",
       "0           1  \n",
       "1           1  \n",
       "2           1  \n",
       "3           1  \n",
       "4           1  \n",
       "\n",
       "[5 rows x 21 columns]"
      ],
      "text/html": [
       "<div>\n",
       "<style scoped>\n",
       "    .dataframe tbody tr th:only-of-type {\n",
       "        vertical-align: middle;\n",
       "    }\n",
       "\n",
       "    .dataframe tbody tr th {\n",
       "        vertical-align: top;\n",
       "    }\n",
       "\n",
       "    .dataframe thead th {\n",
       "        text-align: right;\n",
       "    }\n",
       "</style>\n",
       "<table border=\"1\" class=\"dataframe\">\n",
       "  <thead>\n",
       "    <tr style=\"text-align: right;\">\n",
       "      <th></th>\n",
       "      <th>Year</th>\n",
       "      <th>Adult Mortality</th>\n",
       "      <th>infant deaths</th>\n",
       "      <th>Alcohol</th>\n",
       "      <th>percentage expenditure</th>\n",
       "      <th>Hepatitis B</th>\n",
       "      <th>Measles</th>\n",
       "      <th>BMI</th>\n",
       "      <th>under-five deaths</th>\n",
       "      <th>Polio</th>\n",
       "      <th>...</th>\n",
       "      <th>Diphtheria</th>\n",
       "      <th>HIV/AIDS</th>\n",
       "      <th>GDP</th>\n",
       "      <th>Population</th>\n",
       "      <th>thinness  1-19 years</th>\n",
       "      <th>thinness 5-9 years</th>\n",
       "      <th>Income composition of resources</th>\n",
       "      <th>Schooling</th>\n",
       "      <th>Developed</th>\n",
       "      <th>Developing</th>\n",
       "    </tr>\n",
       "  </thead>\n",
       "  <tbody>\n",
       "    <tr>\n",
       "      <th>0</th>\n",
       "      <td>1.626978</td>\n",
       "      <td>0.683732</td>\n",
       "      <td>0.191620</td>\n",
       "      <td>-1.117358</td>\n",
       "      <td>-0.332550</td>\n",
       "      <td>-0.485943</td>\n",
       "      <td>-0.126242</td>\n",
       "      <td>-0.886733</td>\n",
       "      <td>0.179261</td>\n",
       "      <td>-3.086031</td>\n",
       "      <td>...</td>\n",
       "      <td>-0.649601</td>\n",
       "      <td>-0.355934</td>\n",
       "      <td>-0.424250</td>\n",
       "      <td>0.322064</td>\n",
       "      <td>2.566866</td>\n",
       "      <td>2.523280</td>\n",
       "      <td>-0.631802</td>\n",
       "      <td>-0.497055</td>\n",
       "      <td>0</td>\n",
       "      <td>1</td>\n",
       "    </tr>\n",
       "    <tr>\n",
       "      <th>1</th>\n",
       "      <td>1.410048</td>\n",
       "      <td>0.745399</td>\n",
       "      <td>0.206305</td>\n",
       "      <td>-1.117358</td>\n",
       "      <td>-0.331238</td>\n",
       "      <td>-0.604736</td>\n",
       "      <td>-0.181828</td>\n",
       "      <td>-0.911936</td>\n",
       "      <td>0.195467</td>\n",
       "      <td>-0.934103</td>\n",
       "      <td>...</td>\n",
       "      <td>-0.773729</td>\n",
       "      <td>-0.355934</td>\n",
       "      <td>-0.421749</td>\n",
       "      <td>-0.207042</td>\n",
       "      <td>2.630549</td>\n",
       "      <td>2.564910</td>\n",
       "      <td>-0.646555</td>\n",
       "      <td>-0.528280</td>\n",
       "      <td>0</td>\n",
       "      <td>1</td>\n",
       "    </tr>\n",
       "    <tr>\n",
       "      <th>2</th>\n",
       "      <td>1.193118</td>\n",
       "      <td>0.722274</td>\n",
       "      <td>0.220990</td>\n",
       "      <td>-1.117358</td>\n",
       "      <td>-0.331416</td>\n",
       "      <td>-0.525541</td>\n",
       "      <td>-0.187034</td>\n",
       "      <td>-0.937139</td>\n",
       "      <td>0.211674</td>\n",
       "      <td>-0.768570</td>\n",
       "      <td>...</td>\n",
       "      <td>-0.690977</td>\n",
       "      <td>-0.355934</td>\n",
       "      <td>-0.420074</td>\n",
       "      <td>0.290313</td>\n",
       "      <td>2.673004</td>\n",
       "      <td>2.606539</td>\n",
       "      <td>-0.676060</td>\n",
       "      <td>-0.559506</td>\n",
       "      <td>0</td>\n",
       "      <td>1</td>\n",
       "    </tr>\n",
       "    <tr>\n",
       "      <th>3</th>\n",
       "      <td>0.976187</td>\n",
       "      <td>0.753107</td>\n",
       "      <td>0.243018</td>\n",
       "      <td>-1.117358</td>\n",
       "      <td>-0.328513</td>\n",
       "      <td>-0.406748</td>\n",
       "      <td>0.010876</td>\n",
       "      <td>-0.962342</td>\n",
       "      <td>0.233283</td>\n",
       "      <td>-0.561654</td>\n",
       "      <td>...</td>\n",
       "      <td>-0.566848</td>\n",
       "      <td>-0.355934</td>\n",
       "      <td>-0.416713</td>\n",
       "      <td>-0.153680</td>\n",
       "      <td>2.715459</td>\n",
       "      <td>2.668984</td>\n",
       "      <td>-0.710482</td>\n",
       "      <td>-0.590731</td>\n",
       "      <td>0</td>\n",
       "      <td>1</td>\n",
       "    </tr>\n",
       "    <tr>\n",
       "      <th>4</th>\n",
       "      <td>0.759257</td>\n",
       "      <td>0.776233</td>\n",
       "      <td>0.257703</td>\n",
       "      <td>-1.117358</td>\n",
       "      <td>-0.370075</td>\n",
       "      <td>-0.367151</td>\n",
       "      <td>0.029853</td>\n",
       "      <td>-0.982504</td>\n",
       "      <td>0.254892</td>\n",
       "      <td>-0.520270</td>\n",
       "      <td>...</td>\n",
       "      <td>-0.525472</td>\n",
       "      <td>-0.355934</td>\n",
       "      <td>-0.470041</td>\n",
       "      <td>-0.165057</td>\n",
       "      <td>2.779142</td>\n",
       "      <td>2.710614</td>\n",
       "      <td>-0.754739</td>\n",
       "      <td>-0.684408</td>\n",
       "      <td>0</td>\n",
       "      <td>1</td>\n",
       "    </tr>\n",
       "  </tbody>\n",
       "</table>\n",
       "<p>5 rows × 21 columns</p>\n",
       "</div>"
      ]
     },
     "execution_count": 64,
     "metadata": {},
     "output_type": "execute_result"
    }
   ],
   "execution_count": 64
  },
  {
   "metadata": {
    "ExecuteTime": {
     "end_time": "2025-02-28T16:08:49.459487Z",
     "start_time": "2025-02-28T16:08:49.454603Z"
    }
   },
   "cell_type": "code",
   "source": "processed_features.shape",
   "id": "cdaaa4a609bbd5cf",
   "outputs": [
    {
     "data": {
      "text/plain": [
       "(2128, 21)"
      ]
     },
     "execution_count": 65,
     "metadata": {},
     "output_type": "execute_result"
    }
   ],
   "execution_count": 65
  },
  {
   "metadata": {
    "ExecuteTime": {
     "end_time": "2025-02-28T16:11:19.095182Z",
     "start_time": "2025-02-28T16:11:19.087203Z"
    }
   },
   "cell_type": "code",
   "source": [
    "from sklearn.model_selection import train_test_split\n",
    "x_train, x_test, y_train, y_test = train_test_split(processed_features, target, test_size = 0.2, random_state = 1)"
   ],
   "id": "3027204dd814fe72",
   "outputs": [],
   "execution_count": 67
  },
  {
   "metadata": {
    "ExecuteTime": {
     "end_time": "2025-02-28T16:11:55.341484Z",
     "start_time": "2025-02-28T16:11:55.333874Z"
    }
   },
   "cell_type": "code",
   "source": "(x_train.shape, x_test.shape, y_train.shape, y_test.shape)",
   "id": "7adbde0249039887",
   "outputs": [
    {
     "data": {
      "text/plain": [
       "((1702, 21), (426, 21), (1702,), (426,))"
      ]
     },
     "execution_count": 68,
     "metadata": {},
     "output_type": "execute_result"
    }
   ],
   "execution_count": 68
  },
  {
   "metadata": {
    "ExecuteTime": {
     "end_time": "2025-02-28T16:17:28.479449Z",
     "start_time": "2025-02-28T16:17:28.475093Z"
    }
   },
   "cell_type": "code",
   "source": [
    "def build_single_layer_model():\n",
    "    model = tf.keras.Sequential()\n",
    "    model.add(layers.Dense(32, input_shape = (x_train.shape[1], ), activation='sigmoid'))\n",
    "    model.add(layers.Dense(1))\n",
    "    optimizer = tf.keras.optimizers.Adam(learning_rate = 0.01)\n",
    "    model.compile(loss = 'mse', optimizer = optimizer, metrics = ['mae', 'mse'])\n",
    "    return model"
   ],
   "id": "2a57e8ff206664e4",
   "outputs": [],
   "execution_count": 77
  },
  {
   "metadata": {
    "ExecuteTime": {
     "end_time": "2025-02-28T16:29:21.528234Z",
     "start_time": "2025-02-28T16:29:21.508104Z"
    }
   },
   "cell_type": "code",
   "source": "model = build_single_layer_model()",
   "id": "e0a56d2603dd6279",
   "outputs": [
    {
     "name": "stderr",
     "output_type": "stream",
     "text": [
      "C:\\Users\\haral\\source\\Repos\\Getting-Started-with-Tensorflow\\.venv\\Lib\\site-packages\\keras\\src\\layers\\core\\dense.py:87: UserWarning: Do not pass an `input_shape`/`input_dim` argument to a layer. When using Sequential models, prefer using an `Input(shape)` object as the first layer in the model instead.\n",
      "  super().__init__(activity_regularizer=activity_regularizer, **kwargs)\n"
     ]
    }
   ],
   "execution_count": 80
  },
  {
   "metadata": {
    "ExecuteTime": {
     "end_time": "2025-02-28T16:29:40.439996Z",
     "start_time": "2025-02-28T16:29:24.646980Z"
    }
   },
   "cell_type": "code",
   "source": [
    "num_epochs = 100\n",
    "training_history = model.fit(x_train, y_train, epochs = num_epochs, validation_split = 0.2, verbose = True)"
   ],
   "id": "addce3128235c280",
   "outputs": [
    {
     "name": "stdout",
     "output_type": "stream",
     "text": [
      "Epoch 1/100\n",
      "\u001B[1m43/43\u001B[0m \u001B[32m━━━━━━━━━━━━━━━━━━━━\u001B[0m\u001B[37m\u001B[0m \u001B[1m1s\u001B[0m 6ms/step - loss: 4434.9116 - mae: 65.9309 - mse: 4434.9116 - val_loss: 3460.4707 - val_mae: 58.2135 - val_mse: 3460.4707\n",
      "Epoch 2/100\n",
      "\u001B[1m43/43\u001B[0m \u001B[32m━━━━━━━━━━━━━━━━━━━━\u001B[0m\u001B[37m\u001B[0m \u001B[1m0s\u001B[0m 3ms/step - loss: 3109.1143 - mae: 54.9967 - mse: 3109.1143 - val_loss: 2120.4490 - val_mae: 45.2102 - val_mse: 2120.4490\n",
      "Epoch 3/100\n",
      "\u001B[1m43/43\u001B[0m \u001B[32m━━━━━━━━━━━━━━━━━━━━\u001B[0m\u001B[37m\u001B[0m \u001B[1m0s\u001B[0m 3ms/step - loss: 1817.7852 - mae: 41.6037 - mse: 1817.7852 - val_loss: 1043.5669 - val_mae: 31.2219 - val_mse: 1043.5669\n",
      "Epoch 4/100\n",
      "\u001B[1m43/43\u001B[0m \u001B[32m━━━━━━━━━━━━━━━━━━━━\u001B[0m\u001B[37m\u001B[0m \u001B[1m0s\u001B[0m 3ms/step - loss: 847.1951 - mae: 27.7485 - mse: 847.1951 - val_loss: 443.1517 - val_mae: 19.6579 - val_mse: 443.1517\n",
      "Epoch 5/100\n",
      "\u001B[1m43/43\u001B[0m \u001B[32m━━━━━━━━━━━━━━━━━━━━\u001B[0m\u001B[37m\u001B[0m \u001B[1m0s\u001B[0m 3ms/step - loss: 361.4187 - mae: 17.4026 - mse: 361.4187 - val_loss: 185.1489 - val_mae: 11.8612 - val_mse: 185.1489\n",
      "Epoch 6/100\n",
      "\u001B[1m43/43\u001B[0m \u001B[32m━━━━━━━━━━━━━━━━━━━━\u001B[0m\u001B[37m\u001B[0m \u001B[1m0s\u001B[0m 3ms/step - loss: 149.0703 - mae: 10.4850 - mse: 149.0703 - val_loss: 88.4427 - val_mae: 7.8945 - val_mse: 88.4427\n",
      "Epoch 7/100\n",
      "\u001B[1m43/43\u001B[0m \u001B[32m━━━━━━━━━━━━━━━━━━━━\u001B[0m\u001B[37m\u001B[0m \u001B[1m0s\u001B[0m 3ms/step - loss: 75.5308 - mae: 7.1035 - mse: 75.5308 - val_loss: 50.9342 - val_mae: 5.7734 - val_mse: 50.9342\n",
      "Epoch 8/100\n",
      "\u001B[1m43/43\u001B[0m \u001B[32m━━━━━━━━━━━━━━━━━━━━\u001B[0m\u001B[37m\u001B[0m \u001B[1m0s\u001B[0m 3ms/step - loss: 43.8040 - mae: 5.3437 - mse: 43.8040 - val_loss: 35.3947 - val_mae: 4.7072 - val_mse: 35.3947\n",
      "Epoch 9/100\n",
      "\u001B[1m43/43\u001B[0m \u001B[32m━━━━━━━━━━━━━━━━━━━━\u001B[0m\u001B[37m\u001B[0m \u001B[1m0s\u001B[0m 3ms/step - loss: 33.2867 - mae: 4.5987 - mse: 33.2867 - val_loss: 28.4613 - val_mae: 4.1543 - val_mse: 28.4613\n",
      "Epoch 10/100\n",
      "\u001B[1m43/43\u001B[0m \u001B[32m━━━━━━━━━━━━━━━━━━━━\u001B[0m\u001B[37m\u001B[0m \u001B[1m0s\u001B[0m 3ms/step - loss: 24.3435 - mae: 3.9003 - mse: 24.3435 - val_loss: 25.3140 - val_mae: 3.8426 - val_mse: 25.3140\n",
      "Epoch 11/100\n",
      "\u001B[1m43/43\u001B[0m \u001B[32m━━━━━━━━━━━━━━━━━━━━\u001B[0m\u001B[37m\u001B[0m \u001B[1m0s\u001B[0m 3ms/step - loss: 22.7253 - mae: 3.6722 - mse: 22.7253 - val_loss: 23.5747 - val_mae: 3.6566 - val_mse: 23.5747\n",
      "Epoch 12/100\n",
      "\u001B[1m43/43\u001B[0m \u001B[32m━━━━━━━━━━━━━━━━━━━━\u001B[0m\u001B[37m\u001B[0m \u001B[1m0s\u001B[0m 3ms/step - loss: 21.4018 - mae: 3.5910 - mse: 21.4018 - val_loss: 21.9237 - val_mae: 3.4911 - val_mse: 21.9237\n",
      "Epoch 13/100\n",
      "\u001B[1m43/43\u001B[0m \u001B[32m━━━━━━━━━━━━━━━━━━━━\u001B[0m\u001B[37m\u001B[0m \u001B[1m0s\u001B[0m 3ms/step - loss: 19.9682 - mae: 3.3733 - mse: 19.9682 - val_loss: 21.0777 - val_mae: 3.4095 - val_mse: 21.0777\n",
      "Epoch 14/100\n",
      "\u001B[1m43/43\u001B[0m \u001B[32m━━━━━━━━━━━━━━━━━━━━\u001B[0m\u001B[37m\u001B[0m \u001B[1m0s\u001B[0m 3ms/step - loss: 17.6678 - mae: 3.2279 - mse: 17.6678 - val_loss: 20.3064 - val_mae: 3.3308 - val_mse: 20.3064\n",
      "Epoch 15/100\n",
      "\u001B[1m43/43\u001B[0m \u001B[32m━━━━━━━━━━━━━━━━━━━━\u001B[0m\u001B[37m\u001B[0m \u001B[1m0s\u001B[0m 3ms/step - loss: 17.5873 - mae: 3.1467 - mse: 17.5873 - val_loss: 19.3982 - val_mae: 3.2669 - val_mse: 19.3982\n",
      "Epoch 16/100\n",
      "\u001B[1m43/43\u001B[0m \u001B[32m━━━━━━━━━━━━━━━━━━━━\u001B[0m\u001B[37m\u001B[0m \u001B[1m0s\u001B[0m 3ms/step - loss: 18.0798 - mae: 3.2404 - mse: 18.0798 - val_loss: 18.9245 - val_mae: 3.2063 - val_mse: 18.9245\n",
      "Epoch 17/100\n",
      "\u001B[1m43/43\u001B[0m \u001B[32m━━━━━━━━━━━━━━━━━━━━\u001B[0m\u001B[37m\u001B[0m \u001B[1m0s\u001B[0m 3ms/step - loss: 17.7613 - mae: 3.1998 - mse: 17.7613 - val_loss: 18.1500 - val_mae: 3.1328 - val_mse: 18.1500\n",
      "Epoch 18/100\n",
      "\u001B[1m43/43\u001B[0m \u001B[32m━━━━━━━━━━━━━━━━━━━━\u001B[0m\u001B[37m\u001B[0m \u001B[1m0s\u001B[0m 3ms/step - loss: 15.6246 - mae: 2.9960 - mse: 15.6246 - val_loss: 17.3788 - val_mae: 3.0694 - val_mse: 17.3788\n",
      "Epoch 19/100\n",
      "\u001B[1m43/43\u001B[0m \u001B[32m━━━━━━━━━━━━━━━━━━━━\u001B[0m\u001B[37m\u001B[0m \u001B[1m0s\u001B[0m 3ms/step - loss: 14.1143 - mae: 2.8154 - mse: 14.1143 - val_loss: 16.6045 - val_mae: 3.0016 - val_mse: 16.6045\n",
      "Epoch 20/100\n",
      "\u001B[1m43/43\u001B[0m \u001B[32m━━━━━━━━━━━━━━━━━━━━\u001B[0m\u001B[37m\u001B[0m \u001B[1m0s\u001B[0m 3ms/step - loss: 12.6612 - mae: 2.6693 - mse: 12.6612 - val_loss: 15.9751 - val_mae: 2.9206 - val_mse: 15.9751\n",
      "Epoch 21/100\n",
      "\u001B[1m43/43\u001B[0m \u001B[32m━━━━━━━━━━━━━━━━━━━━\u001B[0m\u001B[37m\u001B[0m \u001B[1m0s\u001B[0m 3ms/step - loss: 13.0580 - mae: 2.7226 - mse: 13.0580 - val_loss: 15.0301 - val_mae: 2.8289 - val_mse: 15.0301\n",
      "Epoch 22/100\n",
      "\u001B[1m43/43\u001B[0m \u001B[32m━━━━━━━━━━━━━━━━━━━━\u001B[0m\u001B[37m\u001B[0m \u001B[1m0s\u001B[0m 3ms/step - loss: 12.3790 - mae: 2.6165 - mse: 12.3790 - val_loss: 14.3107 - val_mae: 2.7717 - val_mse: 14.3107\n",
      "Epoch 23/100\n",
      "\u001B[1m43/43\u001B[0m \u001B[32m━━━━━━━━━━━━━━━━━━━━\u001B[0m\u001B[37m\u001B[0m \u001B[1m0s\u001B[0m 3ms/step - loss: 10.6681 - mae: 2.4540 - mse: 10.6681 - val_loss: 13.6433 - val_mae: 2.7180 - val_mse: 13.6433\n",
      "Epoch 24/100\n",
      "\u001B[1m43/43\u001B[0m \u001B[32m━━━━━━━━━━━━━━━━━━━━\u001B[0m\u001B[37m\u001B[0m \u001B[1m0s\u001B[0m 3ms/step - loss: 10.1921 - mae: 2.3743 - mse: 10.1921 - val_loss: 13.0798 - val_mae: 2.6519 - val_mse: 13.0798\n",
      "Epoch 25/100\n",
      "\u001B[1m43/43\u001B[0m \u001B[32m━━━━━━━━━━━━━━━━━━━━\u001B[0m\u001B[37m\u001B[0m \u001B[1m0s\u001B[0m 3ms/step - loss: 9.4469 - mae: 2.3365 - mse: 9.4469 - val_loss: 12.5623 - val_mae: 2.5938 - val_mse: 12.5623\n",
      "Epoch 26/100\n",
      "\u001B[1m43/43\u001B[0m \u001B[32m━━━━━━━━━━━━━━━━━━━━\u001B[0m\u001B[37m\u001B[0m \u001B[1m0s\u001B[0m 3ms/step - loss: 10.4528 - mae: 2.3658 - mse: 10.4528 - val_loss: 12.0335 - val_mae: 2.5430 - val_mse: 12.0335\n",
      "Epoch 27/100\n",
      "\u001B[1m43/43\u001B[0m \u001B[32m━━━━━━━━━━━━━━━━━━━━\u001B[0m\u001B[37m\u001B[0m \u001B[1m0s\u001B[0m 3ms/step - loss: 8.7777 - mae: 2.2003 - mse: 8.7777 - val_loss: 11.6772 - val_mae: 2.5048 - val_mse: 11.6772\n",
      "Epoch 28/100\n",
      "\u001B[1m43/43\u001B[0m \u001B[32m━━━━━━━━━━━━━━━━━━━━\u001B[0m\u001B[37m\u001B[0m \u001B[1m0s\u001B[0m 3ms/step - loss: 9.8269 - mae: 2.2945 - mse: 9.8269 - val_loss: 11.3790 - val_mae: 2.4627 - val_mse: 11.3790\n",
      "Epoch 29/100\n",
      "\u001B[1m43/43\u001B[0m \u001B[32m━━━━━━━━━━━━━━━━━━━━\u001B[0m\u001B[37m\u001B[0m \u001B[1m0s\u001B[0m 3ms/step - loss: 8.7858 - mae: 2.2384 - mse: 8.7858 - val_loss: 11.0650 - val_mae: 2.4283 - val_mse: 11.0650\n",
      "Epoch 30/100\n",
      "\u001B[1m43/43\u001B[0m \u001B[32m━━━━━━━━━━━━━━━━━━━━\u001B[0m\u001B[37m\u001B[0m \u001B[1m0s\u001B[0m 3ms/step - loss: 8.1059 - mae: 2.1053 - mse: 8.1059 - val_loss: 10.7982 - val_mae: 2.3958 - val_mse: 10.7982\n",
      "Epoch 31/100\n",
      "\u001B[1m43/43\u001B[0m \u001B[32m━━━━━━━━━━━━━━━━━━━━\u001B[0m\u001B[37m\u001B[0m \u001B[1m0s\u001B[0m 3ms/step - loss: 7.6816 - mae: 2.0492 - mse: 7.6816 - val_loss: 10.6834 - val_mae: 2.3820 - val_mse: 10.6834\n",
      "Epoch 32/100\n",
      "\u001B[1m43/43\u001B[0m \u001B[32m━━━━━━━━━━━━━━━━━━━━\u001B[0m\u001B[37m\u001B[0m \u001B[1m0s\u001B[0m 3ms/step - loss: 7.8500 - mae: 2.0607 - mse: 7.8500 - val_loss: 10.2450 - val_mae: 2.3078 - val_mse: 10.2450\n",
      "Epoch 33/100\n",
      "\u001B[1m43/43\u001B[0m \u001B[32m━━━━━━━━━━━━━━━━━━━━\u001B[0m\u001B[37m\u001B[0m \u001B[1m0s\u001B[0m 3ms/step - loss: 8.4156 - mae: 2.0772 - mse: 8.4156 - val_loss: 10.1677 - val_mae: 2.3016 - val_mse: 10.1677\n",
      "Epoch 34/100\n",
      "\u001B[1m43/43\u001B[0m \u001B[32m━━━━━━━━━━━━━━━━━━━━\u001B[0m\u001B[37m\u001B[0m \u001B[1m0s\u001B[0m 3ms/step - loss: 8.1975 - mae: 2.1019 - mse: 8.1975 - val_loss: 9.8473 - val_mae: 2.2552 - val_mse: 9.8473\n",
      "Epoch 35/100\n",
      "\u001B[1m43/43\u001B[0m \u001B[32m━━━━━━━━━━━━━━━━━━━━\u001B[0m\u001B[37m\u001B[0m \u001B[1m0s\u001B[0m 3ms/step - loss: 8.7812 - mae: 2.1325 - mse: 8.7812 - val_loss: 9.7158 - val_mae: 2.2414 - val_mse: 9.7158\n",
      "Epoch 36/100\n",
      "\u001B[1m43/43\u001B[0m \u001B[32m━━━━━━━━━━━━━━━━━━━━\u001B[0m\u001B[37m\u001B[0m \u001B[1m0s\u001B[0m 3ms/step - loss: 7.0051 - mae: 1.9409 - mse: 7.0051 - val_loss: 9.4775 - val_mae: 2.1997 - val_mse: 9.4775\n",
      "Epoch 37/100\n",
      "\u001B[1m43/43\u001B[0m \u001B[32m━━━━━━━━━━━━━━━━━━━━\u001B[0m\u001B[37m\u001B[0m \u001B[1m0s\u001B[0m 3ms/step - loss: 7.7711 - mae: 2.0096 - mse: 7.7711 - val_loss: 9.4918 - val_mae: 2.2189 - val_mse: 9.4918\n",
      "Epoch 38/100\n",
      "\u001B[1m43/43\u001B[0m \u001B[32m━━━━━━━━━━━━━━━━━━━━\u001B[0m\u001B[37m\u001B[0m \u001B[1m0s\u001B[0m 3ms/step - loss: 6.7778 - mae: 1.9151 - mse: 6.7778 - val_loss: 9.2458 - val_mae: 2.1652 - val_mse: 9.2458\n",
      "Epoch 39/100\n",
      "\u001B[1m43/43\u001B[0m \u001B[32m━━━━━━━━━━━━━━━━━━━━\u001B[0m\u001B[37m\u001B[0m \u001B[1m0s\u001B[0m 3ms/step - loss: 7.9129 - mae: 1.9970 - mse: 7.9129 - val_loss: 9.0593 - val_mae: 2.1484 - val_mse: 9.0593\n",
      "Epoch 40/100\n",
      "\u001B[1m43/43\u001B[0m \u001B[32m━━━━━━━━━━━━━━━━━━━━\u001B[0m\u001B[37m\u001B[0m \u001B[1m0s\u001B[0m 3ms/step - loss: 6.4635 - mae: 1.8626 - mse: 6.4635 - val_loss: 8.8836 - val_mae: 2.1198 - val_mse: 8.8836\n",
      "Epoch 41/100\n",
      "\u001B[1m43/43\u001B[0m \u001B[32m━━━━━━━━━━━━━━━━━━━━\u001B[0m\u001B[37m\u001B[0m \u001B[1m0s\u001B[0m 3ms/step - loss: 6.7258 - mae: 1.8872 - mse: 6.7258 - val_loss: 8.7468 - val_mae: 2.0967 - val_mse: 8.7468\n",
      "Epoch 42/100\n",
      "\u001B[1m43/43\u001B[0m \u001B[32m━━━━━━━━━━━━━━━━━━━━\u001B[0m\u001B[37m\u001B[0m \u001B[1m0s\u001B[0m 3ms/step - loss: 6.8462 - mae: 1.8645 - mse: 6.8462 - val_loss: 8.6421 - val_mae: 2.0992 - val_mse: 8.6421\n",
      "Epoch 43/100\n",
      "\u001B[1m43/43\u001B[0m \u001B[32m━━━━━━━━━━━━━━━━━━━━\u001B[0m\u001B[37m\u001B[0m \u001B[1m0s\u001B[0m 3ms/step - loss: 7.2394 - mae: 1.9323 - mse: 7.2394 - val_loss: 8.4136 - val_mae: 2.0552 - val_mse: 8.4136\n",
      "Epoch 44/100\n",
      "\u001B[1m43/43\u001B[0m \u001B[32m━━━━━━━━━━━━━━━━━━━━\u001B[0m\u001B[37m\u001B[0m \u001B[1m0s\u001B[0m 3ms/step - loss: 6.8210 - mae: 1.8968 - mse: 6.8210 - val_loss: 8.4148 - val_mae: 2.0641 - val_mse: 8.4148\n",
      "Epoch 45/100\n",
      "\u001B[1m43/43\u001B[0m \u001B[32m━━━━━━━━━━━━━━━━━━━━\u001B[0m\u001B[37m\u001B[0m \u001B[1m0s\u001B[0m 3ms/step - loss: 6.1873 - mae: 1.8028 - mse: 6.1873 - val_loss: 8.3145 - val_mae: 2.0454 - val_mse: 8.3145\n",
      "Epoch 46/100\n",
      "\u001B[1m43/43\u001B[0m \u001B[32m━━━━━━━━━━━━━━━━━━━━\u001B[0m\u001B[37m\u001B[0m \u001B[1m0s\u001B[0m 3ms/step - loss: 6.2403 - mae: 1.8140 - mse: 6.2403 - val_loss: 8.1220 - val_mae: 2.0129 - val_mse: 8.1220\n",
      "Epoch 47/100\n",
      "\u001B[1m43/43\u001B[0m \u001B[32m━━━━━━━━━━━━━━━━━━━━\u001B[0m\u001B[37m\u001B[0m \u001B[1m0s\u001B[0m 3ms/step - loss: 6.1586 - mae: 1.7968 - mse: 6.1586 - val_loss: 7.9813 - val_mae: 2.0041 - val_mse: 7.9813\n",
      "Epoch 48/100\n",
      "\u001B[1m43/43\u001B[0m \u001B[32m━━━━━━━━━━━━━━━━━━━━\u001B[0m\u001B[37m\u001B[0m \u001B[1m0s\u001B[0m 3ms/step - loss: 6.4545 - mae: 1.8655 - mse: 6.4545 - val_loss: 7.8532 - val_mae: 1.9784 - val_mse: 7.8532\n",
      "Epoch 49/100\n",
      "\u001B[1m43/43\u001B[0m \u001B[32m━━━━━━━━━━━━━━━━━━━━\u001B[0m\u001B[37m\u001B[0m \u001B[1m0s\u001B[0m 3ms/step - loss: 6.3770 - mae: 1.8306 - mse: 6.3770 - val_loss: 7.8693 - val_mae: 1.9782 - val_mse: 7.8693\n",
      "Epoch 50/100\n",
      "\u001B[1m43/43\u001B[0m \u001B[32m━━━━━━━━━━━━━━━━━━━━\u001B[0m\u001B[37m\u001B[0m \u001B[1m0s\u001B[0m 3ms/step - loss: 6.4405 - mae: 1.8454 - mse: 6.4405 - val_loss: 7.7167 - val_mae: 1.9685 - val_mse: 7.7167\n",
      "Epoch 51/100\n",
      "\u001B[1m43/43\u001B[0m \u001B[32m━━━━━━━━━━━━━━━━━━━━\u001B[0m\u001B[37m\u001B[0m \u001B[1m0s\u001B[0m 3ms/step - loss: 6.3234 - mae: 1.8377 - mse: 6.3234 - val_loss: 7.5286 - val_mae: 1.9387 - val_mse: 7.5286\n",
      "Epoch 52/100\n",
      "\u001B[1m43/43\u001B[0m \u001B[32m━━━━━━━━━━━━━━━━━━━━\u001B[0m\u001B[37m\u001B[0m \u001B[1m0s\u001B[0m 3ms/step - loss: 5.9990 - mae: 1.7269 - mse: 5.9990 - val_loss: 7.3960 - val_mae: 1.9278 - val_mse: 7.3960\n",
      "Epoch 53/100\n",
      "\u001B[1m43/43\u001B[0m \u001B[32m━━━━━━━━━━━━━━━━━━━━\u001B[0m\u001B[37m\u001B[0m \u001B[1m0s\u001B[0m 3ms/step - loss: 6.3115 - mae: 1.7890 - mse: 6.3115 - val_loss: 7.3523 - val_mae: 1.8959 - val_mse: 7.3523\n",
      "Epoch 54/100\n",
      "\u001B[1m43/43\u001B[0m \u001B[32m━━━━━━━━━━━━━━━━━━━━\u001B[0m\u001B[37m\u001B[0m \u001B[1m0s\u001B[0m 3ms/step - loss: 5.3857 - mae: 1.6866 - mse: 5.3857 - val_loss: 7.2437 - val_mae: 1.8983 - val_mse: 7.2437\n",
      "Epoch 55/100\n",
      "\u001B[1m43/43\u001B[0m \u001B[32m━━━━━━━━━━━━━━━━━━━━\u001B[0m\u001B[37m\u001B[0m \u001B[1m0s\u001B[0m 3ms/step - loss: 5.9952 - mae: 1.7481 - mse: 5.9952 - val_loss: 7.1795 - val_mae: 1.8738 - val_mse: 7.1795\n",
      "Epoch 56/100\n",
      "\u001B[1m43/43\u001B[0m \u001B[32m━━━━━━━━━━━━━━━━━━━━\u001B[0m\u001B[37m\u001B[0m \u001B[1m0s\u001B[0m 3ms/step - loss: 5.1664 - mae: 1.6389 - mse: 5.1664 - val_loss: 7.0887 - val_mae: 1.8793 - val_mse: 7.0887\n",
      "Epoch 57/100\n",
      "\u001B[1m43/43\u001B[0m \u001B[32m━━━━━━━━━━━━━━━━━━━━\u001B[0m\u001B[37m\u001B[0m \u001B[1m0s\u001B[0m 3ms/step - loss: 5.9465 - mae: 1.7718 - mse: 5.9465 - val_loss: 7.0559 - val_mae: 1.8734 - val_mse: 7.0559\n",
      "Epoch 58/100\n",
      "\u001B[1m43/43\u001B[0m \u001B[32m━━━━━━━━━━━━━━━━━━━━\u001B[0m\u001B[37m\u001B[0m \u001B[1m0s\u001B[0m 3ms/step - loss: 5.6168 - mae: 1.7255 - mse: 5.6168 - val_loss: 6.9617 - val_mae: 1.8396 - val_mse: 6.9617\n",
      "Epoch 59/100\n",
      "\u001B[1m43/43\u001B[0m \u001B[32m━━━━━━━━━━━━━━━━━━━━\u001B[0m\u001B[37m\u001B[0m \u001B[1m0s\u001B[0m 3ms/step - loss: 5.6053 - mae: 1.6784 - mse: 5.6053 - val_loss: 6.9640 - val_mae: 1.8434 - val_mse: 6.9640\n",
      "Epoch 60/100\n",
      "\u001B[1m43/43\u001B[0m \u001B[32m━━━━━━━━━━━━━━━━━━━━\u001B[0m\u001B[37m\u001B[0m \u001B[1m0s\u001B[0m 3ms/step - loss: 5.5215 - mae: 1.7108 - mse: 5.5215 - val_loss: 6.8663 - val_mae: 1.8428 - val_mse: 6.8663\n",
      "Epoch 61/100\n",
      "\u001B[1m43/43\u001B[0m \u001B[32m━━━━━━━━━━━━━━━━━━━━\u001B[0m\u001B[37m\u001B[0m \u001B[1m0s\u001B[0m 3ms/step - loss: 5.0018 - mae: 1.6294 - mse: 5.0018 - val_loss: 6.8305 - val_mae: 1.8385 - val_mse: 6.8305\n",
      "Epoch 62/100\n",
      "\u001B[1m43/43\u001B[0m \u001B[32m━━━━━━━━━━━━━━━━━━━━\u001B[0m\u001B[37m\u001B[0m \u001B[1m0s\u001B[0m 3ms/step - loss: 5.5521 - mae: 1.7072 - mse: 5.5521 - val_loss: 6.6520 - val_mae: 1.8110 - val_mse: 6.6520\n",
      "Epoch 63/100\n",
      "\u001B[1m43/43\u001B[0m \u001B[32m━━━━━━━━━━━━━━━━━━━━\u001B[0m\u001B[37m\u001B[0m \u001B[1m0s\u001B[0m 3ms/step - loss: 5.3602 - mae: 1.6714 - mse: 5.3602 - val_loss: 6.6676 - val_mae: 1.7988 - val_mse: 6.6676\n",
      "Epoch 64/100\n",
      "\u001B[1m43/43\u001B[0m \u001B[32m━━━━━━━━━━━━━━━━━━━━\u001B[0m\u001B[37m\u001B[0m \u001B[1m0s\u001B[0m 3ms/step - loss: 5.5584 - mae: 1.6695 - mse: 5.5584 - val_loss: 6.8476 - val_mae: 1.8444 - val_mse: 6.8476\n",
      "Epoch 65/100\n",
      "\u001B[1m43/43\u001B[0m \u001B[32m━━━━━━━━━━━━━━━━━━━━\u001B[0m\u001B[37m\u001B[0m \u001B[1m0s\u001B[0m 3ms/step - loss: 5.5444 - mae: 1.6380 - mse: 5.5444 - val_loss: 6.4601 - val_mae: 1.7678 - val_mse: 6.4601\n",
      "Epoch 66/100\n",
      "\u001B[1m43/43\u001B[0m \u001B[32m━━━━━━━━━━━━━━━━━━━━\u001B[0m\u001B[37m\u001B[0m \u001B[1m0s\u001B[0m 3ms/step - loss: 4.9408 - mae: 1.6074 - mse: 4.9408 - val_loss: 6.5099 - val_mae: 1.7694 - val_mse: 6.5099\n",
      "Epoch 67/100\n",
      "\u001B[1m43/43\u001B[0m \u001B[32m━━━━━━━━━━━━━━━━━━━━\u001B[0m\u001B[37m\u001B[0m \u001B[1m0s\u001B[0m 3ms/step - loss: 5.1201 - mae: 1.6036 - mse: 5.1201 - val_loss: 6.4424 - val_mae: 1.7650 - val_mse: 6.4424\n",
      "Epoch 68/100\n",
      "\u001B[1m43/43\u001B[0m \u001B[32m━━━━━━━━━━━━━━━━━━━━\u001B[0m\u001B[37m\u001B[0m \u001B[1m0s\u001B[0m 3ms/step - loss: 5.1305 - mae: 1.6396 - mse: 5.1305 - val_loss: 6.4852 - val_mae: 1.7794 - val_mse: 6.4852\n",
      "Epoch 69/100\n",
      "\u001B[1m43/43\u001B[0m \u001B[32m━━━━━━━━━━━━━━━━━━━━\u001B[0m\u001B[37m\u001B[0m \u001B[1m0s\u001B[0m 3ms/step - loss: 5.4948 - mae: 1.6435 - mse: 5.4948 - val_loss: 6.3687 - val_mae: 1.7479 - val_mse: 6.3687\n",
      "Epoch 70/100\n",
      "\u001B[1m43/43\u001B[0m \u001B[32m━━━━━━━━━━━━━━━━━━━━\u001B[0m\u001B[37m\u001B[0m \u001B[1m0s\u001B[0m 4ms/step - loss: 5.7860 - mae: 1.6842 - mse: 5.7860 - val_loss: 6.3306 - val_mae: 1.7507 - val_mse: 6.3306\n",
      "Epoch 71/100\n",
      "\u001B[1m43/43\u001B[0m \u001B[32m━━━━━━━━━━━━━━━━━━━━\u001B[0m\u001B[37m\u001B[0m \u001B[1m0s\u001B[0m 3ms/step - loss: 5.0618 - mae: 1.6332 - mse: 5.0618 - val_loss: 6.3907 - val_mae: 1.7613 - val_mse: 6.3907\n",
      "Epoch 72/100\n",
      "\u001B[1m43/43\u001B[0m \u001B[32m━━━━━━━━━━━━━━━━━━━━\u001B[0m\u001B[37m\u001B[0m \u001B[1m0s\u001B[0m 3ms/step - loss: 5.2655 - mae: 1.6462 - mse: 5.2655 - val_loss: 6.2633 - val_mae: 1.7395 - val_mse: 6.2633\n",
      "Epoch 73/100\n",
      "\u001B[1m43/43\u001B[0m \u001B[32m━━━━━━━━━━━━━━━━━━━━\u001B[0m\u001B[37m\u001B[0m \u001B[1m0s\u001B[0m 3ms/step - loss: 5.0563 - mae: 1.6144 - mse: 5.0563 - val_loss: 6.2320 - val_mae: 1.7336 - val_mse: 6.2320\n",
      "Epoch 74/100\n",
      "\u001B[1m43/43\u001B[0m \u001B[32m━━━━━━━━━━━━━━━━━━━━\u001B[0m\u001B[37m\u001B[0m \u001B[1m0s\u001B[0m 3ms/step - loss: 4.8176 - mae: 1.5737 - mse: 4.8176 - val_loss: 6.2153 - val_mae: 1.7308 - val_mse: 6.2153\n",
      "Epoch 75/100\n",
      "\u001B[1m43/43\u001B[0m \u001B[32m━━━━━━━━━━━━━━━━━━━━\u001B[0m\u001B[37m\u001B[0m \u001B[1m0s\u001B[0m 3ms/step - loss: 4.9888 - mae: 1.5704 - mse: 4.9888 - val_loss: 6.3311 - val_mae: 1.7566 - val_mse: 6.3311\n",
      "Epoch 76/100\n",
      "\u001B[1m43/43\u001B[0m \u001B[32m━━━━━━━━━━━━━━━━━━━━\u001B[0m\u001B[37m\u001B[0m \u001B[1m0s\u001B[0m 3ms/step - loss: 5.2285 - mae: 1.5834 - mse: 5.2285 - val_loss: 6.1742 - val_mae: 1.7348 - val_mse: 6.1742\n",
      "Epoch 77/100\n",
      "\u001B[1m43/43\u001B[0m \u001B[32m━━━━━━━━━━━━━━━━━━━━\u001B[0m\u001B[37m\u001B[0m \u001B[1m0s\u001B[0m 3ms/step - loss: 4.5931 - mae: 1.5429 - mse: 4.5931 - val_loss: 6.0893 - val_mae: 1.7084 - val_mse: 6.0893\n",
      "Epoch 78/100\n",
      "\u001B[1m43/43\u001B[0m \u001B[32m━━━━━━━━━━━━━━━━━━━━\u001B[0m\u001B[37m\u001B[0m \u001B[1m0s\u001B[0m 3ms/step - loss: 4.7144 - mae: 1.5653 - mse: 4.7144 - val_loss: 6.1089 - val_mae: 1.7211 - val_mse: 6.1089\n",
      "Epoch 79/100\n",
      "\u001B[1m43/43\u001B[0m \u001B[32m━━━━━━━━━━━━━━━━━━━━\u001B[0m\u001B[37m\u001B[0m \u001B[1m0s\u001B[0m 3ms/step - loss: 4.8825 - mae: 1.5874 - mse: 4.8825 - val_loss: 6.2545 - val_mae: 1.7552 - val_mse: 6.2545\n",
      "Epoch 80/100\n",
      "\u001B[1m43/43\u001B[0m \u001B[32m━━━━━━━━━━━━━━━━━━━━\u001B[0m\u001B[37m\u001B[0m \u001B[1m0s\u001B[0m 3ms/step - loss: 4.2189 - mae: 1.4926 - mse: 4.2189 - val_loss: 5.9881 - val_mae: 1.6821 - val_mse: 5.9881\n",
      "Epoch 81/100\n",
      "\u001B[1m43/43\u001B[0m \u001B[32m━━━━━━━━━━━━━━━━━━━━\u001B[0m\u001B[37m\u001B[0m \u001B[1m0s\u001B[0m 3ms/step - loss: 4.7149 - mae: 1.5380 - mse: 4.7149 - val_loss: 6.1934 - val_mae: 1.7527 - val_mse: 6.1934\n",
      "Epoch 82/100\n",
      "\u001B[1m43/43\u001B[0m \u001B[32m━━━━━━━━━━━━━━━━━━━━\u001B[0m\u001B[37m\u001B[0m \u001B[1m0s\u001B[0m 3ms/step - loss: 4.9590 - mae: 1.5892 - mse: 4.9590 - val_loss: 6.1129 - val_mae: 1.7059 - val_mse: 6.1129\n",
      "Epoch 83/100\n",
      "\u001B[1m43/43\u001B[0m \u001B[32m━━━━━━━━━━━━━━━━━━━━\u001B[0m\u001B[37m\u001B[0m \u001B[1m0s\u001B[0m 3ms/step - loss: 4.8051 - mae: 1.5483 - mse: 4.8051 - val_loss: 6.0560 - val_mae: 1.6978 - val_mse: 6.0560\n",
      "Epoch 84/100\n",
      "\u001B[1m43/43\u001B[0m \u001B[32m━━━━━━━━━━━━━━━━━━━━\u001B[0m\u001B[37m\u001B[0m \u001B[1m0s\u001B[0m 3ms/step - loss: 4.2913 - mae: 1.5026 - mse: 4.2913 - val_loss: 5.9651 - val_mae: 1.7017 - val_mse: 5.9651\n",
      "Epoch 85/100\n",
      "\u001B[1m43/43\u001B[0m \u001B[32m━━━━━━━━━━━━━━━━━━━━\u001B[0m\u001B[37m\u001B[0m \u001B[1m0s\u001B[0m 3ms/step - loss: 4.3296 - mae: 1.4886 - mse: 4.3296 - val_loss: 5.9463 - val_mae: 1.6830 - val_mse: 5.9463\n",
      "Epoch 86/100\n",
      "\u001B[1m43/43\u001B[0m \u001B[32m━━━━━━━━━━━━━━━━━━━━\u001B[0m\u001B[37m\u001B[0m \u001B[1m0s\u001B[0m 3ms/step - loss: 4.8694 - mae: 1.5765 - mse: 4.8694 - val_loss: 5.8909 - val_mae: 1.7131 - val_mse: 5.8909\n",
      "Epoch 87/100\n",
      "\u001B[1m43/43\u001B[0m \u001B[32m━━━━━━━━━━━━━━━━━━━━\u001B[0m\u001B[37m\u001B[0m \u001B[1m0s\u001B[0m 3ms/step - loss: 4.3233 - mae: 1.5162 - mse: 4.3233 - val_loss: 5.9591 - val_mae: 1.7122 - val_mse: 5.9591\n",
      "Epoch 88/100\n",
      "\u001B[1m43/43\u001B[0m \u001B[32m━━━━━━━━━━━━━━━━━━━━\u001B[0m\u001B[37m\u001B[0m \u001B[1m0s\u001B[0m 3ms/step - loss: 4.5630 - mae: 1.5349 - mse: 4.5630 - val_loss: 5.8274 - val_mae: 1.6753 - val_mse: 5.8274\n",
      "Epoch 89/100\n",
      "\u001B[1m43/43\u001B[0m \u001B[32m━━━━━━━━━━━━━━━━━━━━\u001B[0m\u001B[37m\u001B[0m \u001B[1m0s\u001B[0m 4ms/step - loss: 4.5590 - mae: 1.4972 - mse: 4.5590 - val_loss: 6.2286 - val_mae: 1.7889 - val_mse: 6.2286\n",
      "Epoch 90/100\n",
      "\u001B[1m43/43\u001B[0m \u001B[32m━━━━━━━━━━━━━━━━━━━━\u001B[0m\u001B[37m\u001B[0m \u001B[1m0s\u001B[0m 3ms/step - loss: 5.0763 - mae: 1.6081 - mse: 5.0763 - val_loss: 5.9760 - val_mae: 1.6898 - val_mse: 5.9760\n",
      "Epoch 91/100\n",
      "\u001B[1m43/43\u001B[0m \u001B[32m━━━━━━━━━━━━━━━━━━━━\u001B[0m\u001B[37m\u001B[0m \u001B[1m0s\u001B[0m 3ms/step - loss: 4.6991 - mae: 1.5268 - mse: 4.6991 - val_loss: 5.8675 - val_mae: 1.6808 - val_mse: 5.8675\n",
      "Epoch 92/100\n",
      "\u001B[1m43/43\u001B[0m \u001B[32m━━━━━━━━━━━━━━━━━━━━\u001B[0m\u001B[37m\u001B[0m \u001B[1m0s\u001B[0m 4ms/step - loss: 4.8348 - mae: 1.5658 - mse: 4.8348 - val_loss: 5.8475 - val_mae: 1.6730 - val_mse: 5.8475\n",
      "Epoch 93/100\n",
      "\u001B[1m43/43\u001B[0m \u001B[32m━━━━━━━━━━━━━━━━━━━━\u001B[0m\u001B[37m\u001B[0m \u001B[1m0s\u001B[0m 5ms/step - loss: 4.6372 - mae: 1.5310 - mse: 4.6372 - val_loss: 5.9146 - val_mae: 1.7005 - val_mse: 5.9146\n",
      "Epoch 94/100\n",
      "\u001B[1m43/43\u001B[0m \u001B[32m━━━━━━━━━━━━━━━━━━━━\u001B[0m\u001B[37m\u001B[0m \u001B[1m0s\u001B[0m 5ms/step - loss: 4.2055 - mae: 1.4822 - mse: 4.2055 - val_loss: 6.1366 - val_mae: 1.7602 - val_mse: 6.1366\n",
      "Epoch 95/100\n",
      "\u001B[1m43/43\u001B[0m \u001B[32m━━━━━━━━━━━━━━━━━━━━\u001B[0m\u001B[37m\u001B[0m \u001B[1m0s\u001B[0m 4ms/step - loss: 4.4325 - mae: 1.4797 - mse: 4.4325 - val_loss: 5.8260 - val_mae: 1.6750 - val_mse: 5.8260\n",
      "Epoch 96/100\n",
      "\u001B[1m43/43\u001B[0m \u001B[32m━━━━━━━━━━━━━━━━━━━━\u001B[0m\u001B[37m\u001B[0m \u001B[1m0s\u001B[0m 4ms/step - loss: 4.4022 - mae: 1.5025 - mse: 4.4022 - val_loss: 5.8625 - val_mae: 1.6711 - val_mse: 5.8625\n",
      "Epoch 97/100\n",
      "\u001B[1m43/43\u001B[0m \u001B[32m━━━━━━━━━━━━━━━━━━━━\u001B[0m\u001B[37m\u001B[0m \u001B[1m0s\u001B[0m 4ms/step - loss: 4.3798 - mae: 1.4673 - mse: 4.3798 - val_loss: 5.9502 - val_mae: 1.6975 - val_mse: 5.9502\n",
      "Epoch 98/100\n",
      "\u001B[1m43/43\u001B[0m \u001B[32m━━━━━━━━━━━━━━━━━━━━\u001B[0m\u001B[37m\u001B[0m \u001B[1m0s\u001B[0m 3ms/step - loss: 4.3049 - mae: 1.4922 - mse: 4.3049 - val_loss: 5.8173 - val_mae: 1.6940 - val_mse: 5.8173\n",
      "Epoch 99/100\n",
      "\u001B[1m43/43\u001B[0m \u001B[32m━━━━━━━━━━━━━━━━━━━━\u001B[0m\u001B[37m\u001B[0m \u001B[1m0s\u001B[0m 4ms/step - loss: 3.8491 - mae: 1.4364 - mse: 3.8491 - val_loss: 5.8183 - val_mae: 1.6824 - val_mse: 5.8183\n",
      "Epoch 100/100\n",
      "\u001B[1m43/43\u001B[0m \u001B[32m━━━━━━━━━━━━━━━━━━━━\u001B[0m\u001B[37m\u001B[0m \u001B[1m0s\u001B[0m 3ms/step - loss: 4.1630 - mae: 1.4794 - mse: 4.1630 - val_loss: 5.7966 - val_mae: 1.6676 - val_mse: 5.7966\n"
     ]
    }
   ],
   "execution_count": 81
  },
  {
   "metadata": {
    "ExecuteTime": {
     "end_time": "2025-02-28T16:43:50.234450Z",
     "start_time": "2025-02-28T16:43:50.008698Z"
    }
   },
   "cell_type": "code",
   "source": [
    "plt.figure(figsize=(16, 8))\n",
    "plt.subplot(1, 2, 1)\n",
    "\n",
    "plt.plot(training_history.history['mae'])\n",
    "plt.plot(training_history.history['val_mae'])\n",
    "\n",
    "plt.title('Model MAE')\n",
    "plt.ylabel('mae')\n",
    "plt.xlabel('epoch')\n",
    "plt.legend(['train', 'val'])\n",
    "\n",
    "plt.subplot(1, 2, 2)\n",
    "\n",
    "plt.plot(training_history.history['loss'])\n",
    "plt.plot(training_history.history['val_loss'])\n",
    "\n",
    "plt.title('Model Loss')\n",
    "plt.ylabel('loss')\n",
    "plt.xlabel('epoch')\n",
    "plt.legend(['train', 'val'])\n",
    "plt.show()"
   ],
   "id": "f2b5e47af0adfbcc",
   "outputs": [
    {
     "data": {
      "text/plain": [
       "<Figure size 1600x800 with 2 Axes>"
      ],
      "image/png": "[encoded data removed]"
     },
     "metadata": {},
     "output_type": "display_data"
    }
   ],
   "execution_count": 82
  },
  {
   "metadata": {
    "ExecuteTime": {
     "end_time": "2025-02-28T16:44:36.557062Z",
     "start_time": "2025-02-28T16:44:36.460951Z"
    }
   },
   "cell_type": "code",
   "source": "model.evaluate(x_test, y_test)",
   "id": "a64fbba08b7f0961",
   "outputs": [
    {
     "name": "stdout",
     "output_type": "stream",
     "text": [
      "\u001B[1m14/14\u001B[0m \u001B[32m━━━━━━━━━━━━━━━━━━━━\u001B[0m\u001B[37m\u001B[0m \u001B[1m0s\u001B[0m 2ms/step - loss: 5.8699 - mae: 1.7841 - mse: 5.8699 \n"
     ]
    },
    {
     "data": {
      "text/plain": [
       "[5.980968475341797, 1.7720853090286255, 5.980968952178955]"
      ]
     },
     "execution_count": 83,
     "metadata": {},
     "output_type": "execute_result"
    }
   ],
   "execution_count": 83
  },
  {
   "metadata": {
    "ExecuteTime": {
     "end_time": "2025-02-28T16:45:15.119396Z",
     "start_time": "2025-02-28T16:45:14.988647Z"
    }
   },
   "cell_type": "code",
   "source": [
    "y_pred = model.predict(x_test)\n",
    "r2_score(y_test, y_pred)"
   ],
   "id": "170cc5bd4578e6dd",
   "outputs": [
    {
     "name": "stdout",
     "output_type": "stream",
     "text": [
      "\u001B[1m14/14\u001B[0m \u001B[32m━━━━━━━━━━━━━━━━━━━━\u001B[0m\u001B[37m\u001B[0m \u001B[1m0s\u001B[0m 3ms/step \n"
     ]
    },
    {
     "data": {
      "text/plain": [
       "0.9337419422763217"
      ]
     },
     "execution_count": 84,
     "metadata": {},
     "output_type": "execute_result"
    }
   ],
   "execution_count": 84
  },
  {
   "metadata": {
    "ExecuteTime": {
     "end_time": "2025-02-28T16:53:19.765866Z",
     "start_time": "2025-02-28T16:53:19.754806Z"
    }
   },
   "cell_type": "code",
   "source": [
    "pred_results = pd.DataFrame({\n",
    "    'y_test': y_test.values.flatten(), \n",
    "    'y_pred': y_pred.flatten()\n",
    "}, index = range(len(y_pred)))\n",
    "pred_results.sample(10)"
   ],
   "id": "6da010d6a85513f6",
   "outputs": [
    {
     "data": {
      "text/plain": [
       "     y_test     y_pred\n",
       "408    71.7  74.407127\n",
       "182    51.2  52.013344\n",
       "297    71.1  74.719322\n",
       "388    82.5  82.157494\n",
       "212    61.5  63.573521\n",
       "254    77.2  78.612938\n",
       "2      73.9  72.533562\n",
       "228    69.4  70.751022\n",
       "305    75.6  75.913353\n",
       "162    74.0  72.819221"
      ],
      "text/html": [
       "<div>\n",
       "<style scoped>\n",
       "    .dataframe tbody tr th:only-of-type {\n",
       "        vertical-align: middle;\n",
       "    }\n",
       "\n",
       "    .dataframe tbody tr th {\n",
       "        vertical-align: top;\n",
       "    }\n",
       "\n",
       "    .dataframe thead th {\n",
       "        text-align: right;\n",
       "    }\n",
       "</style>\n",
       "<table border=\"1\" class=\"dataframe\">\n",
       "  <thead>\n",
       "    <tr style=\"text-align: right;\">\n",
       "      <th></th>\n",
       "      <th>y_test</th>\n",
       "      <th>y_pred</th>\n",
       "    </tr>\n",
       "  </thead>\n",
       "  <tbody>\n",
       "    <tr>\n",
       "      <th>408</th>\n",
       "      <td>71.7</td>\n",
       "      <td>74.407127</td>\n",
       "    </tr>\n",
       "    <tr>\n",
       "      <th>182</th>\n",
       "      <td>51.2</td>\n",
       "      <td>52.013344</td>\n",
       "    </tr>\n",
       "    <tr>\n",
       "      <th>297</th>\n",
       "      <td>71.1</td>\n",
       "      <td>74.719322</td>\n",
       "    </tr>\n",
       "    <tr>\n",
       "      <th>388</th>\n",
       "      <td>82.5</td>\n",
       "      <td>82.157494</td>\n",
       "    </tr>\n",
       "    <tr>\n",
       "      <th>212</th>\n",
       "      <td>61.5</td>\n",
       "      <td>63.573521</td>\n",
       "    </tr>\n",
       "    <tr>\n",
       "      <th>254</th>\n",
       "      <td>77.2</td>\n",
       "      <td>78.612938</td>\n",
       "    </tr>\n",
       "    <tr>\n",
       "      <th>2</th>\n",
       "      <td>73.9</td>\n",
       "      <td>72.533562</td>\n",
       "    </tr>\n",
       "    <tr>\n",
       "      <th>228</th>\n",
       "      <td>69.4</td>\n",
       "      <td>70.751022</td>\n",
       "    </tr>\n",
       "    <tr>\n",
       "      <th>305</th>\n",
       "      <td>75.6</td>\n",
       "      <td>75.913353</td>\n",
       "    </tr>\n",
       "    <tr>\n",
       "      <th>162</th>\n",
       "      <td>74.0</td>\n",
       "      <td>72.819221</td>\n",
       "    </tr>\n",
       "  </tbody>\n",
       "</table>\n",
       "</div>"
      ]
     },
     "execution_count": 85,
     "metadata": {},
     "output_type": "execute_result"
    }
   ],
   "execution_count": 85
  },
  {
   "metadata": {
    "ExecuteTime": {
     "end_time": "2025-02-28T16:59:20.130285Z",
     "start_time": "2025-02-28T16:59:20.032430Z"
    }
   },
   "cell_type": "code",
   "source": [
    "plt.figure(figsize=(10, 8))\n",
    "plt.scatter(y_test, y_pred, s=10, c='blue')\n",
    "plt.xlabel('Actual life expectancy values')\n",
    "plt.ylabel('Predicted life expectancy values')\n",
    "plt.show()"
   ],
   "id": "7e395a4eca059341",
   "outputs": [
    {
     "data": {
      "text/plain": [
       "<Figure size 1000x800 with 1 Axes>"
      ],
      "image/png": "[encoded data removed]"
     },
     "metadata": {},
     "output_type": "display_data"
    }
   ],
   "execution_count": 87
  },
  {
   "metadata": {},
   "cell_type": "code",
   "outputs": [],
   "execution_count": null,
   "source": "",
   "id": "fa78a1e1a7cf8a77"
  }
 ],
 "metadata": {
  "kernelspec": {
   "display_name": "Python 3",
   "language": "python",
   "name": "python3"
  },
  "language_info": {
   "codemirror_mode": {
    "name": "ipython",
    "version": 2
   },
   "file_extension": ".py",
   "mimetype": "text/x-python",
   "name": "python",
   "nbconvert_exporter": "python",
   "pygments_lexer": "ipython2",
   "version": "2.7.6"
  }
 },
 "nbformat": 4,
 "nbformat_minor": 5
}
