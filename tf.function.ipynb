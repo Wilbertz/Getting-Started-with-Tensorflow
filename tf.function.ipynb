{
 "cells": [
  {
   "cell_type": "code",
   "id": "initial_id",
   "metadata": {
    "collapsed": true,
    "ExecuteTime": {
     "end_time": "2025-02-16T21:06:59.078646Z",
     "start_time": "2025-02-16T21:06:59.075095Z"
    }
   },
   "source": [
    "import time\n",
    "import warnings\n",
    "import logging\n",
    "import tensorflow as tf"
   ],
   "outputs": [],
   "execution_count": 2
  },
  {
   "metadata": {
    "ExecuteTime": {
     "end_time": "2025-02-16T21:10:34.459215Z",
     "start_time": "2025-02-16T21:10:34.452530Z"
    }
   },
   "cell_type": "code",
   "source": [
    "@tf.function\n",
    "def add(a, b):\n",
    "    return a + b\n",
    "\n",
    "@tf.function\n",
    "def sub(a, b):\n",
    "    return a - b\n",
    "\n",
    "@tf.function\n",
    "def mul(a, b):\n",
    "    return a * b\n",
    "\n",
    "@tf.function\n",
    "def div(a, b):\n",
    "    return a / b"
   ],
   "id": "bff68b70689f3ae4",
   "outputs": [],
   "execution_count": 3
  },
  {
   "metadata": {
    "ExecuteTime": {
     "end_time": "2025-02-16T21:11:07.479741Z",
     "start_time": "2025-02-16T21:11:07.419785Z"
    }
   },
   "cell_type": "code",
   "source": "print(add(tf.constant(5), tf.constant(2)))",
   "id": "35113aa889ea45b4",
   "outputs": [
    {
     "name": "stdout",
     "output_type": "stream",
     "text": [
      "tf.Tensor(7, shape=(), dtype=int32)\n"
     ]
    }
   ],
   "execution_count": 4
  },
  {
   "metadata": {
    "ExecuteTime": {
     "end_time": "2025-02-16T21:11:36.203718Z",
     "start_time": "2025-02-16T21:11:36.171464Z"
    }
   },
   "cell_type": "code",
   "source": "print(sub(tf.constant(5), tf.constant(2)))",
   "id": "98aa2c2cf76b753e",
   "outputs": [
    {
     "name": "stdout",
     "output_type": "stream",
     "text": [
      "tf.Tensor(3, shape=(), dtype=int32)\n"
     ]
    }
   ],
   "execution_count": 5
  },
  {
   "metadata": {
    "ExecuteTime": {
     "end_time": "2025-02-16T21:12:03.916770Z",
     "start_time": "2025-02-16T21:12:03.884215Z"
    }
   },
   "cell_type": "code",
   "source": "print(mul(tf.constant(5), tf.constant(2)))",
   "id": "cd21c2e533e6fdc",
   "outputs": [
    {
     "name": "stdout",
     "output_type": "stream",
     "text": [
      "tf.Tensor(10, shape=(), dtype=int32)\n"
     ]
    }
   ],
   "execution_count": 6
  },
  {
   "metadata": {
    "ExecuteTime": {
     "end_time": "2025-02-16T21:12:11.907768Z",
     "start_time": "2025-02-16T21:12:11.877121Z"
    }
   },
   "cell_type": "code",
   "source": "print(div(tf.constant(5), tf.constant(2)))",
   "id": "daa8afc607e9565c",
   "outputs": [
    {
     "name": "stdout",
     "output_type": "stream",
     "text": [
      "tf.Tensor(2.5, shape=(), dtype=float64)\n"
     ]
    }
   ],
   "execution_count": 7
  },
  {
   "metadata": {
    "ExecuteTime": {
     "end_time": "2025-02-16T21:13:20.280832Z",
     "start_time": "2025-02-16T21:13:20.277706Z"
    }
   },
   "cell_type": "code",
   "source": [
    "@tf.function\n",
    "def matmul(a, b):\n",
    "    return tf.matmul(a, b)"
   ],
   "id": "dde7b942836b78e2",
   "outputs": [],
   "execution_count": 8
  },
  {
   "metadata": {},
   "cell_type": "code",
   "outputs": [],
   "execution_count": null,
   "source": "",
   "id": "f19fcc6440e55ee8"
  }
 ],
 "metadata": {
  "kernelspec": {
   "display_name": "Python 3",
   "language": "python",
   "name": "python3"
  },
  "language_info": {
   "codemirror_mode": {
    "name": "ipython",
    "version": 2
   },
   "file_extension": ".py",
   "mimetype": "text/x-python",
   "name": "python",
   "nbconvert_exporter": "python",
   "pygments_lexer": "ipython2",
   "version": "2.7.6"
  }
 },
 "nbformat": 4,
 "nbformat_minor": 5
}
