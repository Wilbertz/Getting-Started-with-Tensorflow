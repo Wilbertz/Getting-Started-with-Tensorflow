{
 "cells": [
  {
   "cell_type": "code",
   "id": "initial_id",
   "metadata": {
    "collapsed": true,
    "ExecuteTime": {
     "end_time": "2025-02-17T14:31:14.354214Z",
     "start_time": "2025-02-17T14:31:10.906304Z"
    }
   },
   "source": [
    "import time\n",
    "import warnings\n",
    "import logging\n",
    "import tensorflow as tf"
   ],
   "outputs": [],
   "execution_count": 1
  },
  {
   "metadata": {
    "ExecuteTime": {
     "end_time": "2025-02-17T14:31:14.364098Z",
     "start_time": "2025-02-17T14:31:14.359222Z"
    }
   },
   "cell_type": "code",
   "source": [
    "@tf.function\n",
    "def add(a, b):\n",
    "    return a + b\n",
    "\n",
    "@tf.function\n",
    "def sub(a, b):\n",
    "    return a - b\n",
    "\n",
    "@tf.function\n",
    "def mul(a, b):\n",
    "    return a * b\n",
    "\n",
    "@tf.function\n",
    "def div(a, b):\n",
    "    return a / b"
   ],
   "id": "bff68b70689f3ae4",
   "outputs": [],
   "execution_count": 2
  },
  {
   "metadata": {
    "ExecuteTime": {
     "end_time": "2025-02-17T14:31:14.551337Z",
     "start_time": "2025-02-17T14:31:14.501706Z"
    }
   },
   "cell_type": "code",
   "source": "print(add(tf.constant(5), tf.constant(2)))",
   "id": "35113aa889ea45b4",
   "outputs": [
    {
     "name": "stdout",
     "output_type": "stream",
     "text": [
      "tf.Tensor(7, shape=(), dtype=int32)\n"
     ]
    }
   ],
   "execution_count": 3
  },
  {
   "metadata": {
    "ExecuteTime": {
     "end_time": "2025-02-17T14:31:14.598628Z",
     "start_time": "2025-02-17T14:31:14.563812Z"
    }
   },
   "cell_type": "code",
   "source": "print(sub(tf.constant(5), tf.constant(2)))",
   "id": "98aa2c2cf76b753e",
   "outputs": [
    {
     "name": "stdout",
     "output_type": "stream",
     "text": [
      "tf.Tensor(3, shape=(), dtype=int32)\n"
     ]
    }
   ],
   "execution_count": 4
  },
  {
   "metadata": {
    "ExecuteTime": {
     "end_time": "2025-02-17T14:31:14.679546Z",
     "start_time": "2025-02-17T14:31:14.645815Z"
    }
   },
   "cell_type": "code",
   "source": "print(mul(tf.constant(5), tf.constant(2)))",
   "id": "cd21c2e533e6fdc",
   "outputs": [
    {
     "name": "stdout",
     "output_type": "stream",
     "text": [
      "tf.Tensor(10, shape=(), dtype=int32)\n"
     ]
    }
   ],
   "execution_count": 5
  },
  {
   "metadata": {
    "ExecuteTime": {
     "end_time": "2025-02-17T14:31:14.791760Z",
     "start_time": "2025-02-17T14:31:14.756561Z"
    }
   },
   "cell_type": "code",
   "source": "print(div(tf.constant(5), tf.constant(2)))",
   "id": "daa8afc607e9565c",
   "outputs": [
    {
     "name": "stdout",
     "output_type": "stream",
     "text": [
      "tf.Tensor(2.5, shape=(), dtype=float64)\n"
     ]
    }
   ],
   "execution_count": 6
  },
  {
   "metadata": {
    "ExecuteTime": {
     "end_time": "2025-02-17T14:31:14.949300Z",
     "start_time": "2025-02-17T14:31:14.945636Z"
    }
   },
   "cell_type": "code",
   "source": [
    "@tf.function\n",
    "def matmul(a, b):\n",
    "    return tf.matmul(a, b)"
   ],
   "id": "dde7b942836b78e2",
   "outputs": [],
   "execution_count": 8
  },
  {
   "metadata": {
    "ExecuteTime": {
     "end_time": "2025-02-17T14:41:19.972144Z",
     "start_time": "2025-02-17T14:41:19.968991Z"
    }
   },
   "cell_type": "code",
   "source": [
    "@tf.function\n",
    "def linear(m, x, c):\n",
    "    return add(matmul(m, x), c)"
   ],
   "id": "80d558e56d90b6fe",
   "outputs": [],
   "execution_count": 13
  },
  {
   "metadata": {
    "ExecuteTime": {
     "end_time": "2025-02-17T14:36:11.641210Z",
     "start_time": "2025-02-17T14:36:11.629709Z"
    }
   },
   "cell_type": "code",
   "source": [
    "m = tf.constant([[4.0, 5.0, 6.0]], tf.float32)\n",
    "m"
   ],
   "id": "f19fcc6440e55ee8",
   "outputs": [
    {
     "data": {
      "text/plain": [
       "<tf.Tensor: shape=(1, 3), dtype=float32, numpy=array([[4., 5., 6.]], dtype=float32)>"
      ]
     },
     "execution_count": 9,
     "metadata": {},
     "output_type": "execute_result"
    }
   ],
   "execution_count": 9
  },
  {
   "metadata": {
    "ExecuteTime": {
     "end_time": "2025-02-17T14:37:33.883522Z",
     "start_time": "2025-02-17T14:37:33.871112Z"
    }
   },
   "cell_type": "code",
   "source": [
    "x = tf.Variable([[100.0], [100.0], [100.0]], tf.float32)\n",
    "x"
   ],
   "id": "70c4c45d5dbc6698",
   "outputs": [
    {
     "data": {
      "text/plain": [
       "<tf.Variable 'Variable:0' shape=(3, 1) dtype=float32, numpy=\n",
       "array([[100.],\n",
       "       [100.],\n",
       "       [100.]], dtype=float32)>"
      ]
     },
     "execution_count": 10,
     "metadata": {},
     "output_type": "execute_result"
    }
   ],
   "execution_count": 10
  },
  {
   "metadata": {
    "ExecuteTime": {
     "end_time": "2025-02-17T14:38:44.884577Z",
     "start_time": "2025-02-17T14:38:44.880061Z"
    }
   },
   "cell_type": "code",
   "source": [
    "c = tf.constant([[1.0]], tf.float32)\n",
    "c"
   ],
   "id": "4e4fe9e50f63f85",
   "outputs": [
    {
     "data": {
      "text/plain": [
       "<tf.Tensor: shape=(1, 1), dtype=float32, numpy=array([[1.]], dtype=float32)>"
      ]
     },
     "execution_count": 11,
     "metadata": {},
     "output_type": "execute_result"
    }
   ],
   "execution_count": 11
  },
  {
   "metadata": {
    "ExecuteTime": {
     "end_time": "2025-02-17T14:41:24.638429Z",
     "start_time": "2025-02-17T14:41:24.559137Z"
    }
   },
   "cell_type": "code",
   "source": "linear(m, x, c)",
   "id": "4f4c3c784bff66cb",
   "outputs": [
    {
     "data": {
      "text/plain": [
       "<tf.Tensor: shape=(1, 1), dtype=float32, numpy=array([[1501.]], dtype=float32)>"
      ]
     },
     "execution_count": 14,
     "metadata": {},
     "output_type": "execute_result"
    }
   ],
   "execution_count": 14
  },
  {
   "metadata": {
    "ExecuteTime": {
     "end_time": "2025-02-17T14:50:36.933785Z",
     "start_time": "2025-02-17T14:50:36.928813Z"
    }
   },
   "cell_type": "code",
   "source": [
    "@tf.function\n",
    "def pos_neg_check(x):\n",
    "    reduce_sum = tf.reduce_sum(x)\n",
    "    \n",
    "    if reduce_sum > 0:\n",
    "        return tf.constant(1)\n",
    "\n",
    "    elif reduce_sum == 0:\n",
    "        return tf.constant(0)\n",
    "    \n",
    "    else:\n",
    "        return tf.constant(-1)"
   ],
   "id": "68bc29a9942c933d",
   "outputs": [],
   "execution_count": 15
  },
  {
   "metadata": {
    "ExecuteTime": {
     "end_time": "2025-02-17T14:52:37.794113Z",
     "start_time": "2025-02-17T14:52:37.704539Z"
    }
   },
   "cell_type": "code",
   "source": "pos_neg_check(tf.constant([100, 100]))",
   "id": "59a262144ae91872",
   "outputs": [
    {
     "data": {
      "text/plain": [
       "<tf.Tensor: shape=(), dtype=int32, numpy=1>"
      ]
     },
     "execution_count": 16,
     "metadata": {},
     "output_type": "execute_result"
    }
   ],
   "execution_count": 16
  },
  {
   "metadata": {
    "ExecuteTime": {
     "end_time": "2025-02-17T14:52:57.959365Z",
     "start_time": "2025-02-17T14:52:57.951114Z"
    }
   },
   "cell_type": "code",
   "source": "pos_neg_check(tf.constant([100, -100]))",
   "id": "61cb6554e254cb90",
   "outputs": [
    {
     "data": {
      "text/plain": [
       "<tf.Tensor: shape=(), dtype=int32, numpy=0>"
      ]
     },
     "execution_count": 17,
     "metadata": {},
     "output_type": "execute_result"
    }
   ],
   "execution_count": 17
  },
  {
   "metadata": {
    "ExecuteTime": {
     "end_time": "2025-02-17T14:53:12.803763Z",
     "start_time": "2025-02-17T14:53:12.798720Z"
    }
   },
   "cell_type": "code",
   "source": "pos_neg_check(tf.constant([-100, -100]))",
   "id": "5bf5f6e8d3c98d",
   "outputs": [
    {
     "data": {
      "text/plain": [
       "<tf.Tensor: shape=(), dtype=int32, numpy=-1>"
      ]
     },
     "execution_count": 18,
     "metadata": {},
     "output_type": "execute_result"
    }
   ],
   "execution_count": 18
  },
  {
   "metadata": {
    "ExecuteTime": {
     "end_time": "2025-02-17T15:02:24.765472Z",
     "start_time": "2025-02-17T15:02:24.761326Z"
    }
   },
   "cell_type": "code",
   "source": "num = tf.Variable(7)",
   "id": "73b9567c1b147404",
   "outputs": [],
   "execution_count": 23
  },
  {
   "metadata": {
    "ExecuteTime": {
     "end_time": "2025-02-17T15:02:27.302520Z",
     "start_time": "2025-02-17T15:02:27.298444Z"
    }
   },
   "cell_type": "code",
   "source": [
    "@tf.function\n",
    "def add_times(x):\n",
    "    for i in tf.range(x):\n",
    "        num.assign_add(x)"
   ],
   "id": "744ae53712cc1ed4",
   "outputs": [],
   "execution_count": 24
  },
  {
   "metadata": {
    "ExecuteTime": {
     "end_time": "2025-02-17T15:02:33.586348Z",
     "start_time": "2025-02-17T15:02:33.515306Z"
    }
   },
   "cell_type": "code",
   "source": "add_times(5)",
   "id": "754d0ab53c0e61",
   "outputs": [],
   "execution_count": 25
  },
  {
   "metadata": {
    "ExecuteTime": {
     "end_time": "2025-02-17T15:02:35.793669Z",
     "start_time": "2025-02-17T15:02:35.789013Z"
    }
   },
   "cell_type": "code",
   "source": "print(num)",
   "id": "3ed9e5ebc1cb6f75",
   "outputs": [
    {
     "name": "stdout",
     "output_type": "stream",
     "text": [
      "<tf.Variable 'Variable:0' shape=() dtype=int32, numpy=32>\n"
     ]
    }
   ],
   "execution_count": 26
  },
  {
   "metadata": {
    "ExecuteTime": {
     "end_time": "2025-02-17T15:13:51.743048Z",
     "start_time": "2025-02-17T15:13:51.738524Z"
    }
   },
   "cell_type": "code",
   "source": [
    "a = tf.Variable(1.0)\n",
    "b = tf.Variable(2.0)"
   ],
   "id": "3b50a883d8f58cdb",
   "outputs": [],
   "execution_count": 28
  },
  {
   "metadata": {
    "ExecuteTime": {
     "end_time": "2025-02-17T15:15:13.391178Z",
     "start_time": "2025-02-17T15:15:13.386969Z"
    }
   },
   "cell_type": "code",
   "source": [
    "@tf.function\n",
    "def f(x, y):\n",
    "    a.assign(y * b)\n",
    "    b.assign_add(x * a)\n",
    "    return a + b"
   ],
   "id": "daee531cf4e71e7f",
   "outputs": [],
   "execution_count": 29
  },
  {
   "metadata": {
    "ExecuteTime": {
     "end_time": "2025-02-17T15:16:30.170848Z",
     "start_time": "2025-02-17T15:16:30.123262Z"
    }
   },
   "cell_type": "code",
   "source": "f(1, 2)",
   "id": "26487e6fad097263",
   "outputs": [
    {
     "data": {
      "text/plain": [
       "<tf.Tensor: shape=(), dtype=float32, numpy=10.0>"
      ]
     },
     "execution_count": 30,
     "metadata": {},
     "output_type": "execute_result"
    }
   ],
   "execution_count": 30
  },
  {
   "metadata": {},
   "cell_type": "code",
   "outputs": [],
   "execution_count": null,
   "source": "",
   "id": "b03dcac134b6ffad"
  }
 ],
 "metadata": {
  "kernelspec": {
   "display_name": "Python 3",
   "language": "python",
   "name": "python3"
  },
  "language_info": {
   "codemirror_mode": {
    "name": "ipython",
    "version": 2
   },
   "file_extension": ".py",
   "mimetype": "text/x-python",
   "name": "python",
   "nbconvert_exporter": "python",
   "pygments_lexer": "ipython2",
   "version": "2.7.6"
  }
 },
 "nbformat": 4,
 "nbformat_minor": 5
}
