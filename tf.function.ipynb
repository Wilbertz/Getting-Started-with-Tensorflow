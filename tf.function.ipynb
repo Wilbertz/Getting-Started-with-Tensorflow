{
 "cells": [
  {
   "cell_type": "code",
   "id": "initial_id",
   "metadata": {
    "collapsed": true,
    "ExecuteTime": {
     "end_time": "2025-02-17T18:28:30.705358Z",
     "start_time": "2025-02-17T18:28:26.459043Z"
    }
   },
   "source": [
    "import time\n",
    "import warnings\n",
    "import logging\n",
    "import tensorflow as tf"
   ],
   "outputs": [],
   "execution_count": 1
  },
  {
   "metadata": {
    "ExecuteTime": {
     "end_time": "2025-02-17T18:28:30.727641Z",
     "start_time": "2025-02-17T18:28:30.721362Z"
    }
   },
   "cell_type": "code",
   "source": [
    "@tf.function\n",
    "def add(a, b):\n",
    "    return a + b\n",
    "\n",
    "@tf.function\n",
    "def sub(a, b):\n",
    "    return a - b\n",
    "\n",
    "@tf.function\n",
    "def mul(a, b):\n",
    "    return a * b\n",
    "\n",
    "@tf.function\n",
    "def div(a, b):\n",
    "    return a / b"
   ],
   "id": "bff68b70689f3ae4",
   "outputs": [],
   "execution_count": 2
  },
  {
   "metadata": {
    "ExecuteTime": {
     "end_time": "2025-02-17T18:28:30.825156Z",
     "start_time": "2025-02-17T18:28:30.746640Z"
    }
   },
   "cell_type": "code",
   "source": "print(add(tf.constant(5), tf.constant(2)))",
   "id": "35113aa889ea45b4",
   "outputs": [
    {
     "name": "stdout",
     "output_type": "stream",
     "text": [
      "tf.Tensor(7, shape=(), dtype=int32)\n"
     ]
    }
   ],
   "execution_count": 3
  },
  {
   "metadata": {
    "ExecuteTime": {
     "end_time": "2025-02-17T18:28:31.203134Z",
     "start_time": "2025-02-17T18:28:31.168538Z"
    }
   },
   "cell_type": "code",
   "source": "print(sub(tf.constant(5), tf.constant(2)))",
   "id": "98aa2c2cf76b753e",
   "outputs": [
    {
     "name": "stdout",
     "output_type": "stream",
     "text": [
      "tf.Tensor(3, shape=(), dtype=int32)\n"
     ]
    }
   ],
   "execution_count": 4
  },
  {
   "metadata": {
    "ExecuteTime": {
     "end_time": "2025-02-17T18:28:31.358582Z",
     "start_time": "2025-02-17T18:28:31.315686Z"
    }
   },
   "cell_type": "code",
   "source": "print(mul(tf.constant(5), tf.constant(2)))",
   "id": "cd21c2e533e6fdc",
   "outputs": [
    {
     "name": "stdout",
     "output_type": "stream",
     "text": [
      "tf.Tensor(10, shape=(), dtype=int32)\n"
     ]
    }
   ],
   "execution_count": 5
  },
  {
   "metadata": {
    "ExecuteTime": {
     "end_time": "2025-02-17T18:28:31.521152Z",
     "start_time": "2025-02-17T18:28:31.478646Z"
    }
   },
   "cell_type": "code",
   "source": "print(div(tf.constant(5), tf.constant(2)))",
   "id": "daa8afc607e9565c",
   "outputs": [
    {
     "name": "stdout",
     "output_type": "stream",
     "text": [
      "tf.Tensor(2.5, shape=(), dtype=float64)\n"
     ]
    }
   ],
   "execution_count": 6
  },
  {
   "metadata": {
    "ExecuteTime": {
     "end_time": "2025-02-17T18:28:31.674006Z",
     "start_time": "2025-02-17T18:28:31.669229Z"
    }
   },
   "cell_type": "code",
   "source": [
    "@tf.function\n",
    "def matmul(a, b):\n",
    "    return tf.matmul(a, b)"
   ],
   "id": "dde7b942836b78e2",
   "outputs": [],
   "execution_count": 7
  },
  {
   "metadata": {
    "ExecuteTime": {
     "end_time": "2025-02-17T18:28:31.708326Z",
     "start_time": "2025-02-17T18:28:31.704358Z"
    }
   },
   "cell_type": "code",
   "source": [
    "@tf.function\n",
    "def linear(m, x, c):\n",
    "    return add(matmul(m, x), c)"
   ],
   "id": "80d558e56d90b6fe",
   "outputs": [],
   "execution_count": 8
  },
  {
   "metadata": {
    "ExecuteTime": {
     "end_time": "2025-02-17T18:28:31.743913Z",
     "start_time": "2025-02-17T18:28:31.732795Z"
    }
   },
   "cell_type": "code",
   "source": [
    "m = tf.constant([[4.0, 5.0, 6.0]], tf.float32)\n",
    "m"
   ],
   "id": "f19fcc6440e55ee8",
   "outputs": [
    {
     "data": {
      "text/plain": [
       "<tf.Tensor: shape=(1, 3), dtype=float32, numpy=array([[4., 5., 6.]], dtype=float32)>"
      ]
     },
     "execution_count": 9,
     "metadata": {},
     "output_type": "execute_result"
    }
   ],
   "execution_count": 9
  },
  {
   "metadata": {
    "ExecuteTime": {
     "end_time": "2025-02-17T18:28:32.689613Z",
     "start_time": "2025-02-17T18:28:32.663622Z"
    }
   },
   "cell_type": "code",
   "source": [
    "x = tf.Variable([[100.0], [100.0], [100.0]], tf.float32)\n",
    "x"
   ],
   "id": "70c4c45d5dbc6698",
   "outputs": [
    {
     "data": {
      "text/plain": [
       "<tf.Variable 'Variable:0' shape=(3, 1) dtype=float32, numpy=\n",
       "array([[100.],\n",
       "       [100.],\n",
       "       [100.]], dtype=float32)>"
      ]
     },
     "execution_count": 10,
     "metadata": {},
     "output_type": "execute_result"
    }
   ],
   "execution_count": 10
  },
  {
   "metadata": {
    "ExecuteTime": {
     "end_time": "2025-02-17T18:28:32.773613Z",
     "start_time": "2025-02-17T18:28:32.766615Z"
    }
   },
   "cell_type": "code",
   "source": [
    "c = tf.constant([[1.0]], tf.float32)\n",
    "c"
   ],
   "id": "4e4fe9e50f63f85",
   "outputs": [
    {
     "data": {
      "text/plain": [
       "<tf.Tensor: shape=(1, 1), dtype=float32, numpy=array([[1.]], dtype=float32)>"
      ]
     },
     "execution_count": 11,
     "metadata": {},
     "output_type": "execute_result"
    }
   ],
   "execution_count": 11
  },
  {
   "metadata": {
    "ExecuteTime": {
     "end_time": "2025-02-17T18:28:33.323371Z",
     "start_time": "2025-02-17T18:28:33.198454Z"
    }
   },
   "cell_type": "code",
   "source": "linear(m, x, c)",
   "id": "4f4c3c784bff66cb",
   "outputs": [
    {
     "data": {
      "text/plain": [
       "<tf.Tensor: shape=(1, 1), dtype=float32, numpy=array([[1501.]], dtype=float32)>"
      ]
     },
     "execution_count": 12,
     "metadata": {},
     "output_type": "execute_result"
    }
   ],
   "execution_count": 12
  },
  {
   "metadata": {
    "ExecuteTime": {
     "end_time": "2025-02-17T18:28:33.645753Z",
     "start_time": "2025-02-17T18:28:33.641556Z"
    }
   },
   "cell_type": "code",
   "source": [
    "@tf.function\n",
    "def pos_neg_check(x):\n",
    "    reduce_sum = tf.reduce_sum(x)\n",
    "    \n",
    "    if reduce_sum > 0:\n",
    "        return tf.constant(1)\n",
    "\n",
    "    elif reduce_sum == 0:\n",
    "        return tf.constant(0)\n",
    "    \n",
    "    else:\n",
    "        return tf.constant(-1)"
   ],
   "id": "68bc29a9942c933d",
   "outputs": [],
   "execution_count": 13
  },
  {
   "metadata": {
    "ExecuteTime": {
     "end_time": "2025-02-17T18:28:33.913467Z",
     "start_time": "2025-02-17T18:28:33.658775Z"
    }
   },
   "cell_type": "code",
   "source": "pos_neg_check(tf.constant([100, 100]))",
   "id": "59a262144ae91872",
   "outputs": [
    {
     "data": {
      "text/plain": [
       "<tf.Tensor: shape=(), dtype=int32, numpy=1>"
      ]
     },
     "execution_count": 14,
     "metadata": {},
     "output_type": "execute_result"
    }
   ],
   "execution_count": 14
  },
  {
   "metadata": {
    "ExecuteTime": {
     "end_time": "2025-02-17T18:28:34.050881Z",
     "start_time": "2025-02-17T18:28:34.043553Z"
    }
   },
   "cell_type": "code",
   "source": "pos_neg_check(tf.constant([100, -100]))",
   "id": "61cb6554e254cb90",
   "outputs": [
    {
     "data": {
      "text/plain": [
       "<tf.Tensor: shape=(), dtype=int32, numpy=0>"
      ]
     },
     "execution_count": 15,
     "metadata": {},
     "output_type": "execute_result"
    }
   ],
   "execution_count": 15
  },
  {
   "metadata": {
    "ExecuteTime": {
     "end_time": "2025-02-17T18:28:34.221165Z",
     "start_time": "2025-02-17T18:28:34.214883Z"
    }
   },
   "cell_type": "code",
   "source": "pos_neg_check(tf.constant([-100, -100]))",
   "id": "5bf5f6e8d3c98d",
   "outputs": [
    {
     "data": {
      "text/plain": [
       "<tf.Tensor: shape=(), dtype=int32, numpy=-1>"
      ]
     },
     "execution_count": 16,
     "metadata": {},
     "output_type": "execute_result"
    }
   ],
   "execution_count": 16
  },
  {
   "metadata": {
    "ExecuteTime": {
     "end_time": "2025-02-17T18:28:34.410278Z",
     "start_time": "2025-02-17T18:28:34.401169Z"
    }
   },
   "cell_type": "code",
   "source": "num = tf.Variable(7)",
   "id": "73b9567c1b147404",
   "outputs": [],
   "execution_count": 17
  },
  {
   "metadata": {
    "ExecuteTime": {
     "end_time": "2025-02-17T18:28:34.499529Z",
     "start_time": "2025-02-17T18:28:34.494603Z"
    }
   },
   "cell_type": "code",
   "source": [
    "@tf.function\n",
    "def add_times(x):\n",
    "    for i in tf.range(x):\n",
    "        num.assign_add(x)"
   ],
   "id": "744ae53712cc1ed4",
   "outputs": [],
   "execution_count": 18
  },
  {
   "metadata": {
    "ExecuteTime": {
     "end_time": "2025-02-17T18:28:34.593583Z",
     "start_time": "2025-02-17T18:28:34.520685Z"
    }
   },
   "cell_type": "code",
   "source": "add_times(5)",
   "id": "754d0ab53c0e61",
   "outputs": [],
   "execution_count": 19
  },
  {
   "metadata": {
    "ExecuteTime": {
     "end_time": "2025-02-17T18:28:34.612759Z",
     "start_time": "2025-02-17T18:28:34.608377Z"
    }
   },
   "cell_type": "code",
   "source": "print(num)",
   "id": "3ed9e5ebc1cb6f75",
   "outputs": [
    {
     "name": "stdout",
     "output_type": "stream",
     "text": [
      "<tf.Variable 'Variable:0' shape=() dtype=int32, numpy=32>\n"
     ]
    }
   ],
   "execution_count": 20
  },
  {
   "metadata": {
    "ExecuteTime": {
     "end_time": "2025-02-17T18:28:34.730203Z",
     "start_time": "2025-02-17T18:28:34.721217Z"
    }
   },
   "cell_type": "code",
   "source": [
    "a = tf.Variable(1.0)\n",
    "b = tf.Variable(2.0)"
   ],
   "id": "3b50a883d8f58cdb",
   "outputs": [],
   "execution_count": 21
  },
  {
   "metadata": {
    "ExecuteTime": {
     "end_time": "2025-02-17T18:28:34.852369Z",
     "start_time": "2025-02-17T18:28:34.847009Z"
    }
   },
   "cell_type": "code",
   "source": [
    "@tf.function\n",
    "def f(x, y):\n",
    "    a.assign(y * b)\n",
    "    b.assign_add(x * a)\n",
    "    return a + b"
   ],
   "id": "daee531cf4e71e7f",
   "outputs": [],
   "execution_count": 22
  },
  {
   "metadata": {
    "ExecuteTime": {
     "end_time": "2025-02-17T18:28:34.993524Z",
     "start_time": "2025-02-17T18:28:34.934Z"
    }
   },
   "cell_type": "code",
   "source": "f(1, 2)",
   "id": "26487e6fad097263",
   "outputs": [
    {
     "data": {
      "text/plain": [
       "<tf.Tensor: shape=(), dtype=float32, numpy=10.0>"
      ]
     },
     "execution_count": 23,
     "metadata": {},
     "output_type": "execute_result"
    }
   ],
   "execution_count": 23
  },
  {
   "metadata": {
    "ExecuteTime": {
     "end_time": "2025-02-17T18:28:35.034101Z",
     "start_time": "2025-02-17T18:28:35.029685Z"
    }
   },
   "cell_type": "code",
   "source": [
    "@tf.function\n",
    "def square(a):\n",
    "    print(\"Input a: \", a)\n",
    "    return a * a"
   ],
   "id": "b03dcac134b6ffad",
   "outputs": [],
   "execution_count": 24
  },
  {
   "metadata": {
    "ExecuteTime": {
     "end_time": "2025-02-17T18:28:35.208603Z",
     "start_time": "2025-02-17T18:28:35.141621Z"
    }
   },
   "cell_type": "code",
   "source": [
    "x = tf.Variable([[2, 2], [2, 2]], dtype=tf.float32)\n",
    "square(x)"
   ],
   "id": "23388950f1487c1b",
   "outputs": [
    {
     "name": "stdout",
     "output_type": "stream",
     "text": [
      "Input a:  <tf.Variable 'Variable:0' shape=(2, 2) dtype=float32>\n"
     ]
    },
    {
     "data": {
      "text/plain": [
       "<tf.Tensor: shape=(2, 2), dtype=float32, numpy=\n",
       "array([[4., 4.],\n",
       "       [4., 4.]], dtype=float32)>"
      ]
     },
     "execution_count": 25,
     "metadata": {},
     "output_type": "execute_result"
    }
   ],
   "execution_count": 25
  },
  {
   "metadata": {
    "ExecuteTime": {
     "end_time": "2025-02-17T18:28:35.608180Z",
     "start_time": "2025-02-17T18:28:35.580178Z"
    }
   },
   "cell_type": "code",
   "source": [
    "y = tf.Variable([[2, 2], [2, 2]], dtype=tf.int32)\n",
    "square(y)"
   ],
   "id": "506866ab9eaec173",
   "outputs": [
    {
     "name": "stdout",
     "output_type": "stream",
     "text": [
      "Input a:  <tf.Variable 'Variable:0' shape=(2, 2) dtype=int32>\n"
     ]
    },
    {
     "data": {
      "text/plain": [
       "<tf.Tensor: shape=(2, 2), dtype=int32, numpy=\n",
       "array([[4, 4],\n",
       "       [4, 4]], dtype=int32)>"
      ]
     },
     "execution_count": 26,
     "metadata": {},
     "output_type": "execute_result"
    }
   ],
   "execution_count": 26
  },
  {
   "metadata": {
    "ExecuteTime": {
     "end_time": "2025-02-17T18:28:35.792950Z",
     "start_time": "2025-02-17T18:28:35.781594Z"
    }
   },
   "cell_type": "code",
   "source": [
    "z = tf.Variable([[3, 3], [3, 3]], dtype=tf.float32)\n",
    "square(z)"
   ],
   "id": "4c160482da109d11",
   "outputs": [
    {
     "data": {
      "text/plain": [
       "<tf.Tensor: shape=(2, 2), dtype=float32, numpy=\n",
       "array([[9., 9.],\n",
       "       [9., 9.]], dtype=float32)>"
      ]
     },
     "execution_count": 27,
     "metadata": {},
     "output_type": "execute_result"
    }
   ],
   "execution_count": 27
  },
  {
   "metadata": {
    "ExecuteTime": {
     "end_time": "2025-02-17T18:28:36.052144Z",
     "start_time": "2025-02-17T18:28:36.041159Z"
    }
   },
   "cell_type": "code",
   "source": [
    "concrete_int_square_fn = square.get_concrete_function(tf.TensorSpec(shape=None, dtype=tf.int32))\n",
    "concrete_int_square_fn"
   ],
   "id": "7f1401f8084230",
   "outputs": [
    {
     "name": "stdout",
     "output_type": "stream",
     "text": [
      "Input a:  Tensor(\"a:0\", dtype=int32)\n"
     ]
    },
    {
     "data": {
      "text/plain": [
       "<ConcreteFunction (a: TensorSpec(shape=<unknown>, dtype=tf.int32, name=None)) -> TensorSpec(shape=<unknown>, dtype=tf.int32, name=None) at 0x1A3CA104B60>"
      ]
     },
     "execution_count": 28,
     "metadata": {},
     "output_type": "execute_result"
    }
   ],
   "execution_count": 28
  },
  {
   "metadata": {
    "ExecuteTime": {
     "end_time": "2025-02-17T18:28:36.146394Z",
     "start_time": "2025-02-17T18:28:36.138662Z"
    }
   },
   "cell_type": "code",
   "source": [
    "concrete_float_square_fn = square.get_concrete_function(tf.TensorSpec(shape=None, dtype=tf.float32))\n",
    "concrete_float_square_fn"
   ],
   "id": "687f97912e74e504",
   "outputs": [
    {
     "name": "stdout",
     "output_type": "stream",
     "text": [
      "Input a:  Tensor(\"a:0\", dtype=float32)\n"
     ]
    },
    {
     "data": {
      "text/plain": [
       "<ConcreteFunction (a: TensorSpec(shape=<unknown>, dtype=tf.float32, name=None)) -> TensorSpec(shape=<unknown>, dtype=tf.float32, name=None) at 0x1A3CA113BC0>"
      ]
     },
     "execution_count": 29,
     "metadata": {},
     "output_type": "execute_result"
    }
   ],
   "execution_count": 29
  },
  {
   "metadata": {},
   "cell_type": "markdown",
   "source": "",
   "id": "c3a4492f0ba3d3ed"
  },
  {
   "metadata": {
    "ExecuteTime": {
     "end_time": "2025-02-17T18:28:36.310713Z",
     "start_time": "2025-02-17T18:28:36.300399Z"
    }
   },
   "cell_type": "code",
   "source": "concrete_int_square_fn(tf.constant([[2, 2], [2, 2]], dtype=tf.int32))",
   "id": "6c7131587e47be77",
   "outputs": [
    {
     "data": {
      "text/plain": [
       "<tf.Tensor: shape=(2, 2), dtype=int32, numpy=\n",
       "array([[4, 4],\n",
       "       [4, 4]], dtype=int32)>"
      ]
     },
     "execution_count": 30,
     "metadata": {},
     "output_type": "execute_result"
    }
   ],
   "execution_count": 30
  },
  {
   "metadata": {
    "ExecuteTime": {
     "end_time": "2025-02-17T18:28:36.571451Z",
     "start_time": "2025-02-17T18:28:36.556004Z"
    }
   },
   "cell_type": "code",
   "source": "concrete_float_square_fn(tf.constant([[2.1, 2.1], [2.1, 2.1]], dtype=tf.float32))",
   "id": "bd2325217bfe34b6",
   "outputs": [
    {
     "data": {
      "text/plain": [
       "<tf.Tensor: shape=(2, 2), dtype=float32, numpy=\n",
       "array([[4.4099994, 4.4099994],\n",
       "       [4.4099994, 4.4099994]], dtype=float32)>"
      ]
     },
     "execution_count": 31,
     "metadata": {},
     "output_type": "execute_result"
    }
   ],
   "execution_count": 31
  },
  {
   "metadata": {},
   "cell_type": "markdown",
   "source": "",
   "id": "7fb1bd8e7aecbe93"
  },
  {
   "metadata": {
    "ExecuteTime": {
     "end_time": "2025-02-17T18:28:37.323997Z",
     "start_time": "2025-02-17T18:28:36.820091Z"
    }
   },
   "cell_type": "code",
   "source": "concrete_float_square_fn(tf.constant([[2, 2], [2, 2]], dtype=tf.int32))",
   "id": "3b9bc271a3e36852",
   "outputs": [
    {
     "ename": "InvalidArgumentError",
     "evalue": "cannot compute __inference_square_304 as input #0(zero-based) was expected to be a float tensor but is a int32 tensor [Op:__inference_square_304]",
     "output_type": "error",
     "traceback": [
      "\u001B[1;31m---------------------------------------------------------------------------\u001B[0m",
      "\u001B[1;31mTypeError\u001B[0m                                 Traceback (most recent call last)",
      "File \u001B[1;32m~\\source\\Repos\\Getting-Started-with-Tensorflow\\.venv\\Lib\\site-packages\\tensorflow\\python\\eager\\polymorphic_function\\function_type_utils.py:442\u001B[0m, in \u001B[0;36mbind_function_inputs\u001B[1;34m(args, kwargs, function_type, default_values)\u001B[0m\n\u001B[0;32m    441\u001B[0m \u001B[38;5;28;01mtry\u001B[39;00m:\n\u001B[1;32m--> 442\u001B[0m   bound_arguments \u001B[38;5;241m=\u001B[39m \u001B[43mfunction_type\u001B[49m\u001B[38;5;241;43m.\u001B[39;49m\u001B[43mbind_with_defaults\u001B[49m\u001B[43m(\u001B[49m\n\u001B[0;32m    443\u001B[0m \u001B[43m      \u001B[49m\u001B[43margs\u001B[49m\u001B[43m,\u001B[49m\u001B[43m \u001B[49m\u001B[43msanitized_kwargs\u001B[49m\u001B[43m,\u001B[49m\u001B[43m \u001B[49m\u001B[43mdefault_values\u001B[49m\n\u001B[0;32m    444\u001B[0m \u001B[43m  \u001B[49m\u001B[43m)\u001B[49m\n\u001B[0;32m    445\u001B[0m \u001B[38;5;28;01mexcept\u001B[39;00m \u001B[38;5;167;01mException\u001B[39;00m \u001B[38;5;28;01mas\u001B[39;00m e:\n",
      "File \u001B[1;32m~\\source\\Repos\\Getting-Started-with-Tensorflow\\.venv\\Lib\\site-packages\\tensorflow\\core\\function\\polymorphism\\function_type.py:277\u001B[0m, in \u001B[0;36mFunctionType.bind_with_defaults\u001B[1;34m(self, args, kwargs, default_values)\u001B[0m\n\u001B[0;32m    276\u001B[0m   \u001B[38;5;28;01mif\u001B[39;00m constraint:\n\u001B[1;32m--> 277\u001B[0m     with_default_args[arg_name] \u001B[38;5;241m=\u001B[39m \u001B[43mconstraint\u001B[49m\u001B[38;5;241;43m.\u001B[39;49m\u001B[43mcast\u001B[49m\u001B[43m(\u001B[49m\n\u001B[0;32m    278\u001B[0m \u001B[43m        \u001B[49m\u001B[43mwith_default_args\u001B[49m\u001B[43m[\u001B[49m\u001B[43marg_name\u001B[49m\u001B[43m]\u001B[49m\u001B[43m,\u001B[49m\n\u001B[0;32m    279\u001B[0m \u001B[43m        \u001B[49m\u001B[43mtrace_type\u001B[49m\u001B[38;5;241;43m.\u001B[39;49m\u001B[43mInternalCastContext\u001B[49m\u001B[43m(\u001B[49m\u001B[43mallow_specs\u001B[49m\u001B[38;5;241;43m=\u001B[39;49m\u001B[38;5;28;43;01mTrue\u001B[39;49;00m\u001B[43m)\u001B[49m\u001B[43m,\u001B[49m\n\u001B[0;32m    280\u001B[0m \u001B[43m    \u001B[49m\u001B[43m)\u001B[49m\n\u001B[0;32m    281\u001B[0m bound_arguments \u001B[38;5;241m=\u001B[39m inspect\u001B[38;5;241m.\u001B[39mBoundArguments(\u001B[38;5;28mself\u001B[39m, with_default_args)\n",
      "File \u001B[1;32m~\\source\\Repos\\Getting-Started-with-Tensorflow\\.venv\\Lib\\site-packages\\tensorflow\\python\\framework\\tensor.py:1115\u001B[0m, in \u001B[0;36mTensorSpec.cast\u001B[1;34m(self, value, casting_context)\u001B[0m\n\u001B[0;32m   1114\u001B[0m   \u001B[38;5;28;01melse\u001B[39;00m:\n\u001B[1;32m-> 1115\u001B[0m     \u001B[38;5;28;01mraise\u001B[39;00m \u001B[38;5;167;01mTypeError\u001B[39;00m(\u001B[38;5;124mf\u001B[39m\u001B[38;5;124m\"\u001B[39m\u001B[38;5;124mCan not cast \u001B[39m\u001B[38;5;132;01m{\u001B[39;00mvalue_spec\u001B[38;5;132;01m!r}\u001B[39;00m\u001B[38;5;124m to \u001B[39m\u001B[38;5;132;01m{\u001B[39;00m\u001B[38;5;28mself\u001B[39m\u001B[38;5;132;01m!r}\u001B[39;00m\u001B[38;5;124m\"\u001B[39m)\n\u001B[0;32m   1117\u001B[0m \u001B[38;5;28;01mreturn\u001B[39;00m value\n",
      "\u001B[1;31mTypeError\u001B[0m: Can not cast TensorSpec(shape=(2, 2), dtype=tf.int32, name=None) to TensorSpec(shape=<unknown>, dtype=tf.float32, name=None)",
      "\nThe above exception was the direct cause of the following exception:\n",
      "\u001B[1;31mTypeError\u001B[0m                                 Traceback (most recent call last)",
      "File \u001B[1;32m~\\source\\Repos\\Getting-Started-with-Tensorflow\\.venv\\Lib\\site-packages\\tensorflow\\python\\eager\\polymorphic_function\\concrete_function.py:1179\u001B[0m, in \u001B[0;36mConcreteFunction._call_impl\u001B[1;34m(self, args, kwargs)\u001B[0m\n\u001B[0;32m   1178\u001B[0m \u001B[38;5;28;01mtry\u001B[39;00m:\n\u001B[1;32m-> 1179\u001B[0m   \u001B[38;5;28;01mreturn\u001B[39;00m \u001B[38;5;28;43mself\u001B[39;49m\u001B[38;5;241;43m.\u001B[39;49m\u001B[43m_call_with_structured_signature\u001B[49m\u001B[43m(\u001B[49m\u001B[43margs\u001B[49m\u001B[43m,\u001B[49m\u001B[43m \u001B[49m\u001B[43mkwargs\u001B[49m\u001B[43m)\u001B[49m\n\u001B[0;32m   1180\u001B[0m \u001B[38;5;28;01mexcept\u001B[39;00m \u001B[38;5;167;01mTypeError\u001B[39;00m \u001B[38;5;28;01mas\u001B[39;00m structured_err:\n",
      "File \u001B[1;32m~\\source\\Repos\\Getting-Started-with-Tensorflow\\.venv\\Lib\\site-packages\\tensorflow\\python\\eager\\polymorphic_function\\concrete_function.py:1259\u001B[0m, in \u001B[0;36mConcreteFunction._call_with_structured_signature\u001B[1;34m(self, args, kwargs)\u001B[0m\n\u001B[0;32m   1245\u001B[0m \u001B[38;5;250m\u001B[39m\u001B[38;5;124;03m\"\"\"Executes the wrapped function with the structured signature.\u001B[39;00m\n\u001B[0;32m   1246\u001B[0m \n\u001B[0;32m   1247\u001B[0m \u001B[38;5;124;03mArgs:\u001B[39;00m\n\u001B[1;32m   (...)\u001B[0m\n\u001B[0;32m   1256\u001B[0m \u001B[38;5;124;03m    of this `ConcreteFunction`.\u001B[39;00m\n\u001B[0;32m   1257\u001B[0m \u001B[38;5;124;03m\"\"\"\u001B[39;00m\n\u001B[0;32m   1258\u001B[0m bound_args \u001B[38;5;241m=\u001B[39m (\n\u001B[1;32m-> 1259\u001B[0m     \u001B[43mfunction_type_utils\u001B[49m\u001B[38;5;241;43m.\u001B[39;49m\u001B[43mcanonicalize_function_inputs\u001B[49m\u001B[43m(\u001B[49m\n\u001B[0;32m   1260\u001B[0m \u001B[43m        \u001B[49m\u001B[43margs\u001B[49m\u001B[43m,\u001B[49m\u001B[43m \u001B[49m\u001B[43mkwargs\u001B[49m\u001B[43m,\u001B[49m\u001B[43m \u001B[49m\u001B[38;5;28;43mself\u001B[39;49m\u001B[38;5;241;43m.\u001B[39;49m\u001B[43mfunction_type\u001B[49m\u001B[43m)\u001B[49m\n\u001B[0;32m   1261\u001B[0m )\n\u001B[0;32m   1262\u001B[0m filtered_flat_args \u001B[38;5;241m=\u001B[39m \u001B[38;5;28mself\u001B[39m\u001B[38;5;241m.\u001B[39mfunction_type\u001B[38;5;241m.\u001B[39munpack_inputs(bound_args)\n",
      "File \u001B[1;32m~\\source\\Repos\\Getting-Started-with-Tensorflow\\.venv\\Lib\\site-packages\\tensorflow\\python\\eager\\polymorphic_function\\function_type_utils.py:422\u001B[0m, in \u001B[0;36mcanonicalize_function_inputs\u001B[1;34m(args, kwargs, function_type, default_values, is_pure)\u001B[0m\n\u001B[0;32m    421\u001B[0m   args, kwargs \u001B[38;5;241m=\u001B[39m _convert_variables_to_tensors(args, kwargs)\n\u001B[1;32m--> 422\u001B[0m bound_arguments \u001B[38;5;241m=\u001B[39m \u001B[43mbind_function_inputs\u001B[49m\u001B[43m(\u001B[49m\n\u001B[0;32m    423\u001B[0m \u001B[43m    \u001B[49m\u001B[43margs\u001B[49m\u001B[43m,\u001B[49m\u001B[43m \u001B[49m\u001B[43mkwargs\u001B[49m\u001B[43m,\u001B[49m\u001B[43m \u001B[49m\u001B[43mfunction_type\u001B[49m\u001B[43m,\u001B[49m\u001B[43m \u001B[49m\u001B[43mdefault_values\u001B[49m\n\u001B[0;32m    424\u001B[0m \u001B[43m\u001B[49m\u001B[43m)\u001B[49m\n\u001B[0;32m    425\u001B[0m \u001B[38;5;28;01mreturn\u001B[39;00m bound_arguments\n",
      "File \u001B[1;32m~\\source\\Repos\\Getting-Started-with-Tensorflow\\.venv\\Lib\\site-packages\\tensorflow\\python\\eager\\polymorphic_function\\function_type_utils.py:446\u001B[0m, in \u001B[0;36mbind_function_inputs\u001B[1;34m(args, kwargs, function_type, default_values)\u001B[0m\n\u001B[0;32m    445\u001B[0m \u001B[38;5;28;01mexcept\u001B[39;00m \u001B[38;5;167;01mException\u001B[39;00m \u001B[38;5;28;01mas\u001B[39;00m e:\n\u001B[1;32m--> 446\u001B[0m   \u001B[38;5;28;01mraise\u001B[39;00m \u001B[38;5;167;01mTypeError\u001B[39;00m(\n\u001B[0;32m    447\u001B[0m       \u001B[38;5;124mf\u001B[39m\u001B[38;5;124m\"\u001B[39m\u001B[38;5;124mBinding inputs to tf.function failed due to `\u001B[39m\u001B[38;5;132;01m{\u001B[39;00me\u001B[38;5;132;01m}\u001B[39;00m\u001B[38;5;124m`. \u001B[39m\u001B[38;5;124m\"\u001B[39m\n\u001B[0;32m    448\u001B[0m       \u001B[38;5;124mf\u001B[39m\u001B[38;5;124m\"\u001B[39m\u001B[38;5;124mReceived args: \u001B[39m\u001B[38;5;132;01m{\u001B[39;00margs\u001B[38;5;132;01m}\u001B[39;00m\u001B[38;5;124m and kwargs: \u001B[39m\u001B[38;5;132;01m{\u001B[39;00msanitized_kwargs\u001B[38;5;132;01m}\u001B[39;00m\u001B[38;5;124m for signature:\u001B[39m\u001B[38;5;124m\"\u001B[39m\n\u001B[0;32m    449\u001B[0m       \u001B[38;5;124mf\u001B[39m\u001B[38;5;124m\"\u001B[39m\u001B[38;5;124m \u001B[39m\u001B[38;5;132;01m{\u001B[39;00mfunction_type\u001B[38;5;132;01m}\u001B[39;00m\u001B[38;5;124m.\u001B[39m\u001B[38;5;124m\"\u001B[39m\n\u001B[0;32m    450\u001B[0m   ) \u001B[38;5;28;01mfrom\u001B[39;00m\u001B[38;5;250m \u001B[39m\u001B[38;5;21;01me\u001B[39;00m\n\u001B[0;32m    451\u001B[0m \u001B[38;5;28;01mreturn\u001B[39;00m bound_arguments\n",
      "\u001B[1;31mTypeError\u001B[0m: Binding inputs to tf.function failed due to `Can not cast TensorSpec(shape=(2, 2), dtype=tf.int32, name=None) to TensorSpec(shape=<unknown>, dtype=tf.float32, name=None)`. Received args: (<tf.Tensor: shape=(2, 2), dtype=int32, numpy=\narray([[2, 2],\n       [2, 2]], dtype=int32)>,) and kwargs: {} for signature: (a: TensorSpec(shape=<unknown>, dtype=tf.float32, name=None)) -> TensorSpec(shape=<unknown>, dtype=tf.float32, name=None).",
      "\nDuring handling of the above exception, another exception occurred:\n",
      "\u001B[1;31mInvalidArgumentError\u001B[0m                      Traceback (most recent call last)",
      "Cell \u001B[1;32mIn[32], line 1\u001B[0m\n\u001B[1;32m----> 1\u001B[0m \u001B[43mconcrete_float_square_fn\u001B[49m\u001B[43m(\u001B[49m\u001B[43mtf\u001B[49m\u001B[38;5;241;43m.\u001B[39;49m\u001B[43mconstant\u001B[49m\u001B[43m(\u001B[49m\u001B[43m[\u001B[49m\u001B[43m[\u001B[49m\u001B[38;5;241;43m2\u001B[39;49m\u001B[43m,\u001B[49m\u001B[43m \u001B[49m\u001B[38;5;241;43m2\u001B[39;49m\u001B[43m]\u001B[49m\u001B[43m,\u001B[49m\u001B[43m \u001B[49m\u001B[43m[\u001B[49m\u001B[38;5;241;43m2\u001B[39;49m\u001B[43m,\u001B[49m\u001B[43m \u001B[49m\u001B[38;5;241;43m2\u001B[39;49m\u001B[43m]\u001B[49m\u001B[43m]\u001B[49m\u001B[43m,\u001B[49m\u001B[43m \u001B[49m\u001B[43mdtype\u001B[49m\u001B[38;5;241;43m=\u001B[39;49m\u001B[43mtf\u001B[49m\u001B[38;5;241;43m.\u001B[39;49m\u001B[43mint32\u001B[49m\u001B[43m)\u001B[49m\u001B[43m)\u001B[49m\n",
      "File \u001B[1;32m~\\source\\Repos\\Getting-Started-with-Tensorflow\\.venv\\Lib\\site-packages\\tensorflow\\python\\eager\\polymorphic_function\\concrete_function.py:1170\u001B[0m, in \u001B[0;36mConcreteFunction.__call__\u001B[1;34m(self, *args, **kwargs)\u001B[0m\n\u001B[0;32m   1120\u001B[0m \u001B[38;5;28;01mdef\u001B[39;00m\u001B[38;5;250m \u001B[39m\u001B[38;5;21m__call__\u001B[39m(\u001B[38;5;28mself\u001B[39m, \u001B[38;5;241m*\u001B[39margs, \u001B[38;5;241m*\u001B[39m\u001B[38;5;241m*\u001B[39mkwargs):\n\u001B[0;32m   1121\u001B[0m \u001B[38;5;250m  \u001B[39m\u001B[38;5;124;03m\"\"\"Executes the wrapped function.\u001B[39;00m\n\u001B[0;32m   1122\u001B[0m \n\u001B[0;32m   1123\u001B[0m \u001B[38;5;124;03m  ConcreteFunctions have two signatures:\u001B[39;00m\n\u001B[1;32m   (...)\u001B[0m\n\u001B[0;32m   1168\u001B[0m \u001B[38;5;124;03m    TypeError: If the arguments do not match the function's signature.\u001B[39;00m\n\u001B[0;32m   1169\u001B[0m \u001B[38;5;124;03m  \"\"\"\u001B[39;00m\n\u001B[1;32m-> 1170\u001B[0m   \u001B[38;5;28;01mreturn\u001B[39;00m \u001B[38;5;28;43mself\u001B[39;49m\u001B[38;5;241;43m.\u001B[39;49m\u001B[43m_call_impl\u001B[49m\u001B[43m(\u001B[49m\u001B[43margs\u001B[49m\u001B[43m,\u001B[49m\u001B[43m \u001B[49m\u001B[43mkwargs\u001B[49m\u001B[43m)\u001B[49m\n",
      "File \u001B[1;32m~\\source\\Repos\\Getting-Started-with-Tensorflow\\.venv\\Lib\\site-packages\\tensorflow\\python\\eager\\polymorphic_function\\concrete_function.py:1182\u001B[0m, in \u001B[0;36mConcreteFunction._call_impl\u001B[1;34m(self, args, kwargs)\u001B[0m\n\u001B[0;32m   1180\u001B[0m \u001B[38;5;28;01mexcept\u001B[39;00m \u001B[38;5;167;01mTypeError\u001B[39;00m \u001B[38;5;28;01mas\u001B[39;00m structured_err:\n\u001B[0;32m   1181\u001B[0m   \u001B[38;5;28;01mtry\u001B[39;00m:\n\u001B[1;32m-> 1182\u001B[0m     \u001B[38;5;28;01mreturn\u001B[39;00m \u001B[38;5;28;43mself\u001B[39;49m\u001B[38;5;241;43m.\u001B[39;49m\u001B[43m_call_with_flat_signature\u001B[49m\u001B[43m(\u001B[49m\u001B[43margs\u001B[49m\u001B[43m,\u001B[49m\u001B[43m \u001B[49m\u001B[43mkwargs\u001B[49m\u001B[43m)\u001B[49m\n\u001B[0;32m   1183\u001B[0m   \u001B[38;5;28;01mexcept\u001B[39;00m (\u001B[38;5;167;01mTypeError\u001B[39;00m, \u001B[38;5;167;01mValueError\u001B[39;00m) \u001B[38;5;28;01mas\u001B[39;00m flat_err:\n\u001B[0;32m   1184\u001B[0m     \u001B[38;5;28;01mraise\u001B[39;00m \u001B[38;5;167;01mTypeError\u001B[39;00m(  \u001B[38;5;66;03m# pylint: disable=raise-missing-from\u001B[39;00m\n\u001B[0;32m   1185\u001B[0m         \u001B[38;5;28mstr\u001B[39m(structured_err)\n\u001B[0;32m   1186\u001B[0m         \u001B[38;5;241m+\u001B[39m \u001B[38;5;124m\"\u001B[39m\u001B[38;5;130;01m\\n\u001B[39;00m\u001B[38;5;124mFallback to flat signature also failed due to: \u001B[39m\u001B[38;5;124m\"\u001B[39m\n\u001B[0;32m   1187\u001B[0m         \u001B[38;5;241m+\u001B[39m \u001B[38;5;28mstr\u001B[39m(flat_err)\n\u001B[0;32m   1188\u001B[0m     )\n",
      "File \u001B[1;32m~\\source\\Repos\\Getting-Started-with-Tensorflow\\.venv\\Lib\\site-packages\\tensorflow\\python\\eager\\polymorphic_function\\concrete_function.py:1242\u001B[0m, in \u001B[0;36mConcreteFunction._call_with_flat_signature\u001B[1;34m(self, args, kwargs)\u001B[0m\n\u001B[0;32m   1237\u001B[0m   \u001B[38;5;28;01mif\u001B[39;00m \u001B[38;5;129;01mnot\u001B[39;00m \u001B[38;5;28misinstance\u001B[39m(\n\u001B[0;32m   1238\u001B[0m       arg, (tensor_lib\u001B[38;5;241m.\u001B[39mTensor, resource_variable_ops\u001B[38;5;241m.\u001B[39mBaseResourceVariable)):\n\u001B[0;32m   1239\u001B[0m     \u001B[38;5;28;01mraise\u001B[39;00m \u001B[38;5;167;01mTypeError\u001B[39;00m(\u001B[38;5;124mf\u001B[39m\u001B[38;5;124m\"\u001B[39m\u001B[38;5;132;01m{\u001B[39;00m\u001B[38;5;28mself\u001B[39m\u001B[38;5;241m.\u001B[39m_flat_signature_summary()\u001B[38;5;132;01m}\u001B[39;00m\u001B[38;5;124m: expected argument \u001B[39m\u001B[38;5;124m\"\u001B[39m\n\u001B[0;32m   1240\u001B[0m                     \u001B[38;5;124mf\u001B[39m\u001B[38;5;124m\"\u001B[39m\u001B[38;5;124m#\u001B[39m\u001B[38;5;132;01m{\u001B[39;00mi\u001B[38;5;132;01m}\u001B[39;00m\u001B[38;5;124m(zero-based) to be a Tensor; \u001B[39m\u001B[38;5;124m\"\u001B[39m\n\u001B[0;32m   1241\u001B[0m                     \u001B[38;5;124mf\u001B[39m\u001B[38;5;124m\"\u001B[39m\u001B[38;5;124mgot \u001B[39m\u001B[38;5;132;01m{\u001B[39;00m\u001B[38;5;28mtype\u001B[39m(arg)\u001B[38;5;241m.\u001B[39m\u001B[38;5;18m__name__\u001B[39m\u001B[38;5;132;01m}\u001B[39;00m\u001B[38;5;124m (\u001B[39m\u001B[38;5;132;01m{\u001B[39;00marg\u001B[38;5;132;01m}\u001B[39;00m\u001B[38;5;124m).\u001B[39m\u001B[38;5;124m\"\u001B[39m)\n\u001B[1;32m-> 1242\u001B[0m \u001B[38;5;28;01mreturn\u001B[39;00m \u001B[38;5;28;43mself\u001B[39;49m\u001B[38;5;241;43m.\u001B[39;49m\u001B[43m_call_flat\u001B[49m\u001B[43m(\u001B[49m\u001B[43margs\u001B[49m\u001B[43m,\u001B[49m\u001B[43m \u001B[49m\u001B[38;5;28;43mself\u001B[39;49m\u001B[38;5;241;43m.\u001B[39;49m\u001B[43mcaptured_inputs\u001B[49m\u001B[43m)\u001B[49m\n",
      "File \u001B[1;32m~\\source\\Repos\\Getting-Started-with-Tensorflow\\.venv\\Lib\\site-packages\\tensorflow\\python\\eager\\polymorphic_function\\concrete_function.py:1322\u001B[0m, in \u001B[0;36mConcreteFunction._call_flat\u001B[1;34m(self, tensor_inputs, captured_inputs)\u001B[0m\n\u001B[0;32m   1318\u001B[0m possible_gradient_type \u001B[38;5;241m=\u001B[39m gradients_util\u001B[38;5;241m.\u001B[39mPossibleTapeGradientTypes(args)\n\u001B[0;32m   1319\u001B[0m \u001B[38;5;28;01mif\u001B[39;00m (possible_gradient_type \u001B[38;5;241m==\u001B[39m gradients_util\u001B[38;5;241m.\u001B[39mPOSSIBLE_GRADIENT_TYPES_NONE\n\u001B[0;32m   1320\u001B[0m     \u001B[38;5;129;01mand\u001B[39;00m executing_eagerly):\n\u001B[0;32m   1321\u001B[0m   \u001B[38;5;66;03m# No tape is watching; skip to running the function.\u001B[39;00m\n\u001B[1;32m-> 1322\u001B[0m   \u001B[38;5;28;01mreturn\u001B[39;00m \u001B[38;5;28;43mself\u001B[39;49m\u001B[38;5;241;43m.\u001B[39;49m\u001B[43m_inference_function\u001B[49m\u001B[38;5;241;43m.\u001B[39;49m\u001B[43mcall_preflattened\u001B[49m\u001B[43m(\u001B[49m\u001B[43margs\u001B[49m\u001B[43m)\u001B[49m\n\u001B[0;32m   1323\u001B[0m forward_backward \u001B[38;5;241m=\u001B[39m \u001B[38;5;28mself\u001B[39m\u001B[38;5;241m.\u001B[39m_select_forward_and_backward_functions(\n\u001B[0;32m   1324\u001B[0m     args,\n\u001B[0;32m   1325\u001B[0m     possible_gradient_type,\n\u001B[0;32m   1326\u001B[0m     executing_eagerly)\n\u001B[0;32m   1327\u001B[0m forward_function, args_with_tangents \u001B[38;5;241m=\u001B[39m forward_backward\u001B[38;5;241m.\u001B[39mforward()\n",
      "File \u001B[1;32m~\\source\\Repos\\Getting-Started-with-Tensorflow\\.venv\\Lib\\site-packages\\tensorflow\\python\\eager\\polymorphic_function\\atomic_function.py:216\u001B[0m, in \u001B[0;36mAtomicFunction.call_preflattened\u001B[1;34m(self, args)\u001B[0m\n\u001B[0;32m    214\u001B[0m \u001B[38;5;28;01mdef\u001B[39;00m\u001B[38;5;250m \u001B[39m\u001B[38;5;21mcall_preflattened\u001B[39m(\u001B[38;5;28mself\u001B[39m, args: Sequence[core\u001B[38;5;241m.\u001B[39mTensor]) \u001B[38;5;241m-\u001B[39m\u001B[38;5;241m>\u001B[39m Any:\n\u001B[0;32m    215\u001B[0m \u001B[38;5;250m  \u001B[39m\u001B[38;5;124;03m\"\"\"Calls with flattened tensor inputs and returns the structured output.\"\"\"\u001B[39;00m\n\u001B[1;32m--> 216\u001B[0m   flat_outputs \u001B[38;5;241m=\u001B[39m \u001B[38;5;28;43mself\u001B[39;49m\u001B[38;5;241;43m.\u001B[39;49m\u001B[43mcall_flat\u001B[49m\u001B[43m(\u001B[49m\u001B[38;5;241;43m*\u001B[39;49m\u001B[43margs\u001B[49m\u001B[43m)\u001B[49m\n\u001B[0;32m    217\u001B[0m   \u001B[38;5;28;01mreturn\u001B[39;00m \u001B[38;5;28mself\u001B[39m\u001B[38;5;241m.\u001B[39mfunction_type\u001B[38;5;241m.\u001B[39mpack_output(flat_outputs)\n",
      "File \u001B[1;32m~\\source\\Repos\\Getting-Started-with-Tensorflow\\.venv\\Lib\\site-packages\\tensorflow\\python\\eager\\polymorphic_function\\atomic_function.py:251\u001B[0m, in \u001B[0;36mAtomicFunction.call_flat\u001B[1;34m(self, *args)\u001B[0m\n\u001B[0;32m    249\u001B[0m \u001B[38;5;28;01mwith\u001B[39;00m record\u001B[38;5;241m.\u001B[39mstop_recording():\n\u001B[0;32m    250\u001B[0m   \u001B[38;5;28;01mif\u001B[39;00m \u001B[38;5;28mself\u001B[39m\u001B[38;5;241m.\u001B[39m_bound_context\u001B[38;5;241m.\u001B[39mexecuting_eagerly():\n\u001B[1;32m--> 251\u001B[0m     outputs \u001B[38;5;241m=\u001B[39m \u001B[38;5;28;43mself\u001B[39;49m\u001B[38;5;241;43m.\u001B[39;49m\u001B[43m_bound_context\u001B[49m\u001B[38;5;241;43m.\u001B[39;49m\u001B[43mcall_function\u001B[49m\u001B[43m(\u001B[49m\n\u001B[0;32m    252\u001B[0m \u001B[43m        \u001B[49m\u001B[38;5;28;43mself\u001B[39;49m\u001B[38;5;241;43m.\u001B[39;49m\u001B[43mname\u001B[49m\u001B[43m,\u001B[49m\n\u001B[0;32m    253\u001B[0m \u001B[43m        \u001B[49m\u001B[38;5;28;43mlist\u001B[39;49m\u001B[43m(\u001B[49m\u001B[43margs\u001B[49m\u001B[43m)\u001B[49m\u001B[43m,\u001B[49m\n\u001B[0;32m    254\u001B[0m \u001B[43m        \u001B[49m\u001B[38;5;28;43mlen\u001B[39;49m\u001B[43m(\u001B[49m\u001B[38;5;28;43mself\u001B[39;49m\u001B[38;5;241;43m.\u001B[39;49m\u001B[43mfunction_type\u001B[49m\u001B[38;5;241;43m.\u001B[39;49m\u001B[43mflat_outputs\u001B[49m\u001B[43m)\u001B[49m\u001B[43m,\u001B[49m\n\u001B[0;32m    255\u001B[0m \u001B[43m    \u001B[49m\u001B[43m)\u001B[49m\n\u001B[0;32m    256\u001B[0m   \u001B[38;5;28;01melse\u001B[39;00m:\n\u001B[0;32m    257\u001B[0m     outputs \u001B[38;5;241m=\u001B[39m make_call_op_in_graph(\n\u001B[0;32m    258\u001B[0m         \u001B[38;5;28mself\u001B[39m,\n\u001B[0;32m    259\u001B[0m         \u001B[38;5;28mlist\u001B[39m(args),\n\u001B[0;32m    260\u001B[0m         \u001B[38;5;28mself\u001B[39m\u001B[38;5;241m.\u001B[39m_bound_context\u001B[38;5;241m.\u001B[39mfunction_call_options\u001B[38;5;241m.\u001B[39mas_attrs(),\n\u001B[0;32m    261\u001B[0m     )\n",
      "File \u001B[1;32m~\\source\\Repos\\Getting-Started-with-Tensorflow\\.venv\\Lib\\site-packages\\tensorflow\\python\\eager\\context.py:1683\u001B[0m, in \u001B[0;36mContext.call_function\u001B[1;34m(self, name, tensor_inputs, num_outputs)\u001B[0m\n\u001B[0;32m   1681\u001B[0m cancellation_context \u001B[38;5;241m=\u001B[39m cancellation\u001B[38;5;241m.\u001B[39mcontext()\n\u001B[0;32m   1682\u001B[0m \u001B[38;5;28;01mif\u001B[39;00m cancellation_context \u001B[38;5;129;01mis\u001B[39;00m \u001B[38;5;28;01mNone\u001B[39;00m:\n\u001B[1;32m-> 1683\u001B[0m   outputs \u001B[38;5;241m=\u001B[39m \u001B[43mexecute\u001B[49m\u001B[38;5;241;43m.\u001B[39;49m\u001B[43mexecute\u001B[49m\u001B[43m(\u001B[49m\n\u001B[0;32m   1684\u001B[0m \u001B[43m      \u001B[49m\u001B[43mname\u001B[49m\u001B[38;5;241;43m.\u001B[39;49m\u001B[43mdecode\u001B[49m\u001B[43m(\u001B[49m\u001B[38;5;124;43m\"\u001B[39;49m\u001B[38;5;124;43mutf-8\u001B[39;49m\u001B[38;5;124;43m\"\u001B[39;49m\u001B[43m)\u001B[49m\u001B[43m,\u001B[49m\n\u001B[0;32m   1685\u001B[0m \u001B[43m      \u001B[49m\u001B[43mnum_outputs\u001B[49m\u001B[38;5;241;43m=\u001B[39;49m\u001B[43mnum_outputs\u001B[49m\u001B[43m,\u001B[49m\n\u001B[0;32m   1686\u001B[0m \u001B[43m      \u001B[49m\u001B[43minputs\u001B[49m\u001B[38;5;241;43m=\u001B[39;49m\u001B[43mtensor_inputs\u001B[49m\u001B[43m,\u001B[49m\n\u001B[0;32m   1687\u001B[0m \u001B[43m      \u001B[49m\u001B[43mattrs\u001B[49m\u001B[38;5;241;43m=\u001B[39;49m\u001B[43mattrs\u001B[49m\u001B[43m,\u001B[49m\n\u001B[0;32m   1688\u001B[0m \u001B[43m      \u001B[49m\u001B[43mctx\u001B[49m\u001B[38;5;241;43m=\u001B[39;49m\u001B[38;5;28;43mself\u001B[39;49m\u001B[43m,\u001B[49m\n\u001B[0;32m   1689\u001B[0m \u001B[43m  \u001B[49m\u001B[43m)\u001B[49m\n\u001B[0;32m   1690\u001B[0m \u001B[38;5;28;01melse\u001B[39;00m:\n\u001B[0;32m   1691\u001B[0m   outputs \u001B[38;5;241m=\u001B[39m execute\u001B[38;5;241m.\u001B[39mexecute_with_cancellation(\n\u001B[0;32m   1692\u001B[0m       name\u001B[38;5;241m.\u001B[39mdecode(\u001B[38;5;124m\"\u001B[39m\u001B[38;5;124mutf-8\u001B[39m\u001B[38;5;124m\"\u001B[39m),\n\u001B[0;32m   1693\u001B[0m       num_outputs\u001B[38;5;241m=\u001B[39mnum_outputs,\n\u001B[1;32m   (...)\u001B[0m\n\u001B[0;32m   1697\u001B[0m       cancellation_manager\u001B[38;5;241m=\u001B[39mcancellation_context,\n\u001B[0;32m   1698\u001B[0m   )\n",
      "File \u001B[1;32m~\\source\\Repos\\Getting-Started-with-Tensorflow\\.venv\\Lib\\site-packages\\tensorflow\\python\\eager\\execute.py:53\u001B[0m, in \u001B[0;36mquick_execute\u001B[1;34m(op_name, num_outputs, inputs, attrs, ctx, name)\u001B[0m\n\u001B[0;32m     51\u001B[0m \u001B[38;5;28;01mtry\u001B[39;00m:\n\u001B[0;32m     52\u001B[0m   ctx\u001B[38;5;241m.\u001B[39mensure_initialized()\n\u001B[1;32m---> 53\u001B[0m   tensors \u001B[38;5;241m=\u001B[39m \u001B[43mpywrap_tfe\u001B[49m\u001B[38;5;241;43m.\u001B[39;49m\u001B[43mTFE_Py_Execute\u001B[49m\u001B[43m(\u001B[49m\u001B[43mctx\u001B[49m\u001B[38;5;241;43m.\u001B[39;49m\u001B[43m_handle\u001B[49m\u001B[43m,\u001B[49m\u001B[43m \u001B[49m\u001B[43mdevice_name\u001B[49m\u001B[43m,\u001B[49m\u001B[43m \u001B[49m\u001B[43mop_name\u001B[49m\u001B[43m,\u001B[49m\n\u001B[0;32m     54\u001B[0m \u001B[43m                                      \u001B[49m\u001B[43minputs\u001B[49m\u001B[43m,\u001B[49m\u001B[43m \u001B[49m\u001B[43mattrs\u001B[49m\u001B[43m,\u001B[49m\u001B[43m \u001B[49m\u001B[43mnum_outputs\u001B[49m\u001B[43m)\u001B[49m\n\u001B[0;32m     55\u001B[0m \u001B[38;5;28;01mexcept\u001B[39;00m core\u001B[38;5;241m.\u001B[39m_NotOkStatusException \u001B[38;5;28;01mas\u001B[39;00m e:\n\u001B[0;32m     56\u001B[0m   \u001B[38;5;28;01mif\u001B[39;00m name \u001B[38;5;129;01mis\u001B[39;00m \u001B[38;5;129;01mnot\u001B[39;00m \u001B[38;5;28;01mNone\u001B[39;00m:\n",
      "\u001B[1;31mInvalidArgumentError\u001B[0m: cannot compute __inference_square_304 as input #0(zero-based) was expected to be a float tensor but is a int32 tensor [Op:__inference_square_304]"
     ]
    }
   ],
   "execution_count": 32
  },
  {
   "metadata": {
    "ExecuteTime": {
     "end_time": "2025-02-17T18:28:37.407346500Z",
     "start_time": "2025-02-17T16:06:36.559432Z"
    }
   },
   "cell_type": "code",
   "source": [
    "@tf.function\n",
    "def f(x):\n",
    "    print(\"Python execution: \", x)\n",
    "    tf.print(\"Graph execution: \", x)"
   ],
   "id": "d2effe08af26fa2c",
   "outputs": [],
   "execution_count": 40
  },
  {
   "metadata": {
    "ExecuteTime": {
     "end_time": "2025-02-17T18:28:37.464341800Z",
     "start_time": "2025-02-17T16:06:55.270769Z"
    }
   },
   "cell_type": "code",
   "source": "f(1)",
   "id": "36406014f0a4033",
   "outputs": [
    {
     "name": "stdout",
     "output_type": "stream",
     "text": [
      "Python execution:  1\n",
      "Graph execution:  1\r\n"
     ]
    }
   ],
   "execution_count": 41
  },
  {
   "metadata": {
    "ExecuteTime": {
     "end_time": "2025-02-17T18:28:37.465340100Z",
     "start_time": "2025-02-17T16:07:11.642159Z"
    }
   },
   "cell_type": "code",
   "source": "f(1)",
   "id": "6be2116b3d0c963",
   "outputs": [
    {
     "name": "stdout",
     "output_type": "stream",
     "text": [
      "Graph execution:  1\r\n"
     ]
    }
   ],
   "execution_count": 42
  },
  {
   "metadata": {
    "ExecuteTime": {
     "end_time": "2025-02-17T18:28:37.465340100Z",
     "start_time": "2025-02-17T16:07:42.267691Z"
    }
   },
   "cell_type": "code",
   "source": "f(\"Hello tf.function!\")",
   "id": "9103ea94b380caf6",
   "outputs": [
    {
     "name": "stdout",
     "output_type": "stream",
     "text": [
      "Python execution:  Hello tf.function!\n",
      "Graph execution:  Hello tf.function!\r\n"
     ]
    }
   ],
   "execution_count": 43
  },
  {
   "metadata": {
    "ExecuteTime": {
     "end_time": "2025-02-17T18:36:37.126135Z",
     "start_time": "2025-02-17T18:36:37.120236Z"
    }
   },
   "cell_type": "code",
   "source": [
    "def fn_with_variable_init_eager():\n",
    "    a = tf.constant([[10, 10], [11., 1.]])\n",
    "    x = tf.constant([[1., 0,], [0., 1.]])\n",
    "    b = tf.Variable(12.)\n",
    "    \n",
    "    y = tf.matmul(a, x) + b\n",
    "    \n",
    "    tf.print(\"tf_print: \", y)\n",
    "    return y\n"
   ],
   "id": "fa12c4561ba21e0b",
   "outputs": [],
   "execution_count": 33
  },
  {
   "metadata": {
    "ExecuteTime": {
     "end_time": "2025-02-17T18:36:44.676698Z",
     "start_time": "2025-02-17T18:36:44.648391Z"
    }
   },
   "cell_type": "code",
   "source": "fn_with_variable_init_eager()",
   "id": "9000a3b63bcd2a86",
   "outputs": [
    {
     "name": "stdout",
     "output_type": "stream",
     "text": [
      "tf_print:  [[22 22]\n",
      " [23 13]]\r\n"
     ]
    },
    {
     "data": {
      "text/plain": [
       "<tf.Tensor: shape=(2, 2), dtype=float32, numpy=\n",
       "array([[22., 22.],\n",
       "       [23., 13.]], dtype=float32)>"
      ]
     },
     "execution_count": 34,
     "metadata": {},
     "output_type": "execute_result"
    }
   ],
   "execution_count": 34
  },
  {
   "metadata": {
    "ExecuteTime": {
     "end_time": "2025-02-17T18:37:29.153886Z",
     "start_time": "2025-02-17T18:37:29.148992Z"
    }
   },
   "cell_type": "code",
   "source": [
    "@tf.function\n",
    "def fn_with_variable_init_autograph():\n",
    "    a = tf.constant([[10, 10], [11., 1.]])\n",
    "    x = tf.constant([[1., 0,], [0., 1.]])\n",
    "    b = tf.Variable(12.)\n",
    "    \n",
    "    y = tf.matmul(a, x) + b\n",
    "    \n",
    "    tf.print(\"tf_print: \", y)\n",
    "    return y\n"
   ],
   "id": "7461d7f4a93de61c",
   "outputs": [],
   "execution_count": 35
  },
  {
   "metadata": {
    "ExecuteTime": {
     "end_time": "2025-02-17T18:37:52.064733Z",
     "start_time": "2025-02-17T18:37:51.968599Z"
    }
   },
   "cell_type": "code",
   "source": "fn_with_variable_init_autograph()",
   "id": "77bd53e73c359f21",
   "outputs": [
    {
     "ename": "ValueError",
     "evalue": "in user code:\n\n    File \"C:\\Users\\haral\\AppData\\Local\\Temp\\ipykernel_18820\\4018494036.py\", line 5, in fn_with_variable_init_autograph  *\n        b = tf.Variable(12.)\n\n    ValueError: tf.function only supports singleton tf.Variables created on the first call. Make sure the tf.Variable is only created once or created outside tf.function. See https://www.tensorflow.org/guide/function#creating_tfvariables for more information.\n",
     "output_type": "error",
     "traceback": [
      "\u001B[1;31m---------------------------------------------------------------------------\u001B[0m",
      "\u001B[1;31mValueError\u001B[0m                                Traceback (most recent call last)",
      "Cell \u001B[1;32mIn[36], line 1\u001B[0m\n\u001B[1;32m----> 1\u001B[0m \u001B[43mfn_with_variable_init_autograph\u001B[49m\u001B[43m(\u001B[49m\u001B[43m)\u001B[49m\n",
      "File \u001B[1;32m~\\source\\Repos\\Getting-Started-with-Tensorflow\\.venv\\Lib\\site-packages\\tensorflow\\python\\util\\traceback_utils.py:153\u001B[0m, in \u001B[0;36mfilter_traceback.<locals>.error_handler\u001B[1;34m(*args, **kwargs)\u001B[0m\n\u001B[0;32m    151\u001B[0m \u001B[38;5;28;01mexcept\u001B[39;00m \u001B[38;5;167;01mException\u001B[39;00m \u001B[38;5;28;01mas\u001B[39;00m e:\n\u001B[0;32m    152\u001B[0m   filtered_tb \u001B[38;5;241m=\u001B[39m _process_traceback_frames(e\u001B[38;5;241m.\u001B[39m__traceback__)\n\u001B[1;32m--> 153\u001B[0m   \u001B[38;5;28;01mraise\u001B[39;00m e\u001B[38;5;241m.\u001B[39mwith_traceback(filtered_tb) \u001B[38;5;28;01mfrom\u001B[39;00m\u001B[38;5;250m \u001B[39m\u001B[38;5;28;01mNone\u001B[39;00m\n\u001B[0;32m    154\u001B[0m \u001B[38;5;28;01mfinally\u001B[39;00m:\n\u001B[0;32m    155\u001B[0m   \u001B[38;5;28;01mdel\u001B[39;00m filtered_tb\n",
      "File \u001B[1;32m~\\AppData\\Local\\Temp\\__autograph_generated_filelhovdt2r.py:12\u001B[0m, in \u001B[0;36mouter_factory.<locals>.inner_factory.<locals>.tf__fn_with_variable_init_autograph\u001B[1;34m()\u001B[0m\n\u001B[0;32m     10\u001B[0m a \u001B[38;5;241m=\u001B[39m ag__\u001B[38;5;241m.\u001B[39mconverted_call(ag__\u001B[38;5;241m.\u001B[39mld(tf)\u001B[38;5;241m.\u001B[39mconstant, ([[\u001B[38;5;241m10\u001B[39m, \u001B[38;5;241m10\u001B[39m], [\u001B[38;5;241m11.0\u001B[39m, \u001B[38;5;241m1.0\u001B[39m]],), \u001B[38;5;28;01mNone\u001B[39;00m, fscope)\n\u001B[0;32m     11\u001B[0m x \u001B[38;5;241m=\u001B[39m ag__\u001B[38;5;241m.\u001B[39mconverted_call(ag__\u001B[38;5;241m.\u001B[39mld(tf)\u001B[38;5;241m.\u001B[39mconstant, ([[\u001B[38;5;241m1.0\u001B[39m, \u001B[38;5;241m0\u001B[39m], [\u001B[38;5;241m0.0\u001B[39m, \u001B[38;5;241m1.0\u001B[39m]],), \u001B[38;5;28;01mNone\u001B[39;00m, fscope)\n\u001B[1;32m---> 12\u001B[0m b \u001B[38;5;241m=\u001B[39m \u001B[43mag__\u001B[49m\u001B[38;5;241;43m.\u001B[39;49m\u001B[43mconverted_call\u001B[49m\u001B[43m(\u001B[49m\u001B[43mag__\u001B[49m\u001B[38;5;241;43m.\u001B[39;49m\u001B[43mld\u001B[49m\u001B[43m(\u001B[49m\u001B[43mtf\u001B[49m\u001B[43m)\u001B[49m\u001B[38;5;241;43m.\u001B[39;49m\u001B[43mVariable\u001B[49m\u001B[43m,\u001B[49m\u001B[43m \u001B[49m\u001B[43m(\u001B[49m\u001B[38;5;241;43m12.0\u001B[39;49m\u001B[43m,\u001B[49m\u001B[43m)\u001B[49m\u001B[43m,\u001B[49m\u001B[43m \u001B[49m\u001B[38;5;28;43;01mNone\u001B[39;49;00m\u001B[43m,\u001B[49m\u001B[43m \u001B[49m\u001B[43mfscope\u001B[49m\u001B[43m)\u001B[49m\n\u001B[0;32m     13\u001B[0m y \u001B[38;5;241m=\u001B[39m ag__\u001B[38;5;241m.\u001B[39mconverted_call(ag__\u001B[38;5;241m.\u001B[39mld(tf)\u001B[38;5;241m.\u001B[39mmatmul, (ag__\u001B[38;5;241m.\u001B[39mld(a), ag__\u001B[38;5;241m.\u001B[39mld(x)), \u001B[38;5;28;01mNone\u001B[39;00m, fscope) \u001B[38;5;241m+\u001B[39m ag__\u001B[38;5;241m.\u001B[39mld(b)\n\u001B[0;32m     14\u001B[0m ag__\u001B[38;5;241m.\u001B[39mconverted_call(ag__\u001B[38;5;241m.\u001B[39mld(tf)\u001B[38;5;241m.\u001B[39mprint, (\u001B[38;5;124m'\u001B[39m\u001B[38;5;124mtf_print: \u001B[39m\u001B[38;5;124m'\u001B[39m, ag__\u001B[38;5;241m.\u001B[39mld(y)), \u001B[38;5;28;01mNone\u001B[39;00m, fscope)\n",
      "\u001B[1;31mValueError\u001B[0m: in user code:\n\n    File \"C:\\Users\\haral\\AppData\\Local\\Temp\\ipykernel_18820\\4018494036.py\", line 5, in fn_with_variable_init_autograph  *\n        b = tf.Variable(12.)\n\n    ValueError: tf.function only supports singleton tf.Variables created on the first call. Make sure the tf.Variable is only created once or created outside tf.function. See https://www.tensorflow.org/guide/function#creating_tfvariables for more information.\n"
     ]
    }
   ],
   "execution_count": 36
  },
  {
   "metadata": {
    "ExecuteTime": {
     "end_time": "2025-02-17T19:06:18.961276Z",
     "start_time": "2025-02-17T19:06:18.882004Z"
    }
   },
   "cell_type": "code",
   "source": [
    "class F():\n",
    "    def __init__(self):\n",
    "        self._b = None\n",
    "        \n",
    "    @tf.function\n",
    "    def __call__(self):\n",
    "        a = tf.constant([[10, 10], [11., 1.]])\n",
    "        x = tf.constant([[1., 0,], [0., 1.]])\n",
    "        \n",
    "        if self._b is None:\n",
    "            self._b = tf.Variable(12.)\n",
    "            \n",
    "        y = tf.matmul(a, x) + self._b\n",
    "        print(y)\n",
    "        \n",
    "        tf.print(\"tf_print: \", y)\n",
    "        return y\n",
    "        \n",
    "fn_with_variable_init_autograph = F()\n",
    "fn_with_variable_init_autograph()\n",
    "\n",
    "            \n",
    "            "
   ],
   "id": "2582efdf19af0f07",
   "outputs": [
    {
     "name": "stdout",
     "output_type": "stream",
     "text": [
      "Tensor(\"add:0\", shape=(2, 2), dtype=float32)\n",
      "Tensor(\"add:0\", shape=(2, 2), dtype=float32)\n",
      "tf_print:  [[22 22]\n",
      " [23 13]]\r\n"
     ]
    },
    {
     "data": {
      "text/plain": [
       "<tf.Tensor: shape=(2, 2), dtype=float32, numpy=\n",
       "array([[22., 22.],\n",
       "       [23., 13.]], dtype=float32)>"
      ]
     },
     "execution_count": 38,
     "metadata": {},
     "output_type": "execute_result"
    }
   ],
   "execution_count": 38
  },
  {
   "metadata": {
    "ExecuteTime": {
     "end_time": "2025-02-17T19:23:48.426914Z",
     "start_time": "2025-02-17T19:23:48.381885Z"
    }
   },
   "cell_type": "code",
   "source": [
    "def f(x):\n",
    "    if x > 0:\n",
    "        x *= x\n",
    "    return x\n",
    "\n",
    "print(tf.autograph.to_code(f))"
   ],
   "id": "43a0853f9b9e0937",
   "outputs": [
    {
     "name": "stdout",
     "output_type": "stream",
     "text": [
      "def tf__f(x):\n",
      "    with ag__.FunctionScope('f', 'fscope', ag__.ConversionOptions(recursive=True, user_requested=True, optional_features=(), internal_convert_user_code=True)) as fscope:\n",
      "        do_return = False\n",
      "        retval_ = ag__.UndefinedReturnValue()\n",
      "\n",
      "        def get_state():\n",
      "            return (x,)\n",
      "\n",
      "        def set_state(vars_):\n",
      "            nonlocal x\n",
      "            x, = vars_\n",
      "\n",
      "        def if_body():\n",
      "            nonlocal x\n",
      "            x = ag__.ld(x)\n",
      "            x *= x\n",
      "\n",
      "        def else_body():\n",
      "            nonlocal x\n",
      "            pass\n",
      "        ag__.if_stmt(ag__.ld(x) > 0, if_body, else_body, get_state, set_state, ('x',), 1)\n",
      "        try:\n",
      "            do_return = True\n",
      "            retval_ = ag__.ld(x)\n",
      "        except:\n",
      "            do_return = False\n",
      "            raise\n",
      "        return fscope.ret(retval_, do_return)\n",
      "\n"
     ]
    }
   ],
   "execution_count": 39
  },
  {
   "metadata": {
    "ExecuteTime": {
     "end_time": "2025-02-17T19:25:53.122217Z",
     "start_time": "2025-02-17T19:25:51.810233Z"
    }
   },
   "cell_type": "code",
   "source": [
    "@tf.function\n",
    "def g(x):\n",
    "    return x\n",
    "\n",
    "start = time.time()\n",
    "for i in tf.range(2000):\n",
    "    g(i)\n",
    "end = time.time()\n",
    "\n",
    "print(\"tf.Tensor time elapsed: \", end - start)"
   ],
   "id": "5f5a175a1def056c",
   "outputs": [
    {
     "name": "stdout",
     "output_type": "stream",
     "text": [
      "tf.Tensor time elapsed:  1.3071339130401611\n"
     ]
    }
   ],
   "execution_count": 40
  },
  {
   "metadata": {
    "ExecuteTime": {
     "end_time": "2025-02-17T19:27:00.945132Z",
     "start_time": "2025-02-17T19:27:00.941482Z"
    }
   },
   "cell_type": "code",
   "source": [
    "warnings.filterwarnings(\"ignore\")\n",
    "logging.getLogger('tensorflow').disabled = True"
   ],
   "id": "30f56a141eda9f39",
   "outputs": [],
   "execution_count": 41
  },
  {
   "metadata": {
    "ExecuteTime": {
     "end_time": "2025-02-17T19:28:01.260991Z",
     "start_time": "2025-02-17T19:27:47.133228Z"
    }
   },
   "cell_type": "code",
   "source": [
    "start = time.time()\n",
    "for i in range(2000):\n",
    "    g(i)\n",
    "end = time.time()\n",
    "print(\"Native time elapsed: \", end - start)"
   ],
   "id": "f521622c7f8fdd2e",
   "outputs": [
    {
     "name": "stdout",
     "output_type": "stream",
     "text": [
      "Native time elapsed:  14.124063968658447\n"
     ]
    }
   ],
   "execution_count": 42
  },
  {
   "metadata": {},
   "cell_type": "code",
   "outputs": [],
   "execution_count": null,
   "source": "",
   "id": "a2826fa11fc47c0a"
  }
 ],
 "metadata": {
  "kernelspec": {
   "display_name": "Python 3",
   "language": "python",
   "name": "python3"
  },
  "language_info": {
   "codemirror_mode": {
    "name": "ipython",
    "version": 2
   },
   "file_extension": ".py",
   "mimetype": "text/x-python",
   "name": "python",
   "nbconvert_exporter": "python",
   "pygments_lexer": "ipython2",
   "version": "2.7.6"
  }
 },
 "nbformat": 4,
 "nbformat_minor": 5
}
