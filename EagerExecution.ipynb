{
 "cells": [
  {
   "cell_type": "code",
   "id": "initial_id",
   "metadata": {
    "collapsed": true,
    "ExecuteTime": {
     "end_time": "2025-02-16T19:18:07.564579Z",
     "start_time": "2025-02-16T19:18:04.956407Z"
    }
   },
   "source": "import tensorflow as tf\n",
   "outputs": [],
   "execution_count": 1
  },
  {
   "metadata": {
    "ExecuteTime": {
     "end_time": "2025-02-16T19:18:20.281877Z",
     "start_time": "2025-02-16T19:18:20.267025Z"
    }
   },
   "cell_type": "code",
   "source": "tf.executing_eagerly()",
   "id": "77e2b23f6028fe76",
   "outputs": [
    {
     "data": {
      "text/plain": [
       "True"
      ]
     },
     "execution_count": 2,
     "metadata": {},
     "output_type": "execute_result"
    }
   ],
   "execution_count": 2
  },
  {
   "metadata": {
    "ExecuteTime": {
     "end_time": "2025-02-16T19:29:18.719998Z",
     "start_time": "2025-02-16T19:29:18.714559Z"
    }
   },
   "cell_type": "code",
   "source": [
    "x = [[10.]]\n",
    "res = tf.matmul(x, x)\n",
    "res"
   ],
   "id": "2c0f34a969171152",
   "outputs": [
    {
     "data": {
      "text/plain": [
       "<tf.Tensor: shape=(1, 1), dtype=float32, numpy=array([[100.]], dtype=float32)>"
      ]
     },
     "execution_count": 4,
     "metadata": {},
     "output_type": "execute_result"
    }
   ],
   "execution_count": 4
  },
  {
   "metadata": {
    "ExecuteTime": {
     "end_time": "2025-02-16T19:30:05.680659Z",
     "start_time": "2025-02-16T19:30:05.676749Z"
    }
   },
   "cell_type": "code",
   "source": [
    "a = tf.constant([[10, 20], [30, 40]])\n",
    "a"
   ],
   "id": "675b8e54cbd7986d",
   "outputs": [
    {
     "data": {
      "text/plain": [
       "<tf.Tensor: shape=(2, 2), dtype=int32, numpy=\n",
       "array([[10, 20],\n",
       "       [30, 40]], dtype=int32)>"
      ]
     },
     "execution_count": 6,
     "metadata": {},
     "output_type": "execute_result"
    }
   ],
   "execution_count": 6
  },
  {
   "metadata": {
    "ExecuteTime": {
     "end_time": "2025-02-16T19:30:40.656676Z",
     "start_time": "2025-02-16T19:30:40.647278Z"
    }
   },
   "cell_type": "code",
   "source": [
    "b = tf.add(a, 2)\n",
    "print(b)"
   ],
   "id": "e0f770443981f053",
   "outputs": [
    {
     "name": "stdout",
     "output_type": "stream",
     "text": [
      "tf.Tensor(\n",
      "[[12 22]\n",
      " [32 42]], shape=(2, 2), dtype=int32)\n"
     ]
    }
   ],
   "execution_count": 7
  },
  {
   "metadata": {
    "ExecuteTime": {
     "end_time": "2025-02-16T19:31:21.436137Z",
     "start_time": "2025-02-16T19:31:21.425990Z"
    }
   },
   "cell_type": "code",
   "source": "print(a * b)",
   "id": "ba339629364d4fe5",
   "outputs": [
    {
     "name": "stdout",
     "output_type": "stream",
     "text": [
      "tf.Tensor(\n",
      "[[ 120  440]\n",
      " [ 960 1680]], shape=(2, 2), dtype=int32)\n"
     ]
    }
   ],
   "execution_count": 8
  },
  {
   "metadata": {
    "ExecuteTime": {
     "end_time": "2025-02-16T19:32:11.954437Z",
     "start_time": "2025-02-16T19:32:11.941330Z"
    }
   },
   "cell_type": "code",
   "source": [
    "m = tf.Variable([4.0, 5.0, 6.0], tf.float32, name='m')\n",
    "c = tf.Variable([1.0, 1.0, 1.0], tf.float32, name='c')"
   ],
   "id": "bdd238ffb13b0a35",
   "outputs": [],
   "execution_count": 9
  },
  {
   "metadata": {
    "ExecuteTime": {
     "end_time": "2025-02-16T19:32:31.275282Z",
     "start_time": "2025-02-16T19:32:31.270786Z"
    }
   },
   "cell_type": "code",
   "source": "m",
   "id": "582de18db7f0f8ab",
   "outputs": [
    {
     "data": {
      "text/plain": [
       "<tf.Variable 'm:0' shape=(3,) dtype=float32, numpy=array([4., 5., 6.], dtype=float32)>"
      ]
     },
     "execution_count": 10,
     "metadata": {},
     "output_type": "execute_result"
    }
   ],
   "execution_count": 10
  },
  {
   "metadata": {
    "ExecuteTime": {
     "end_time": "2025-02-16T19:32:37.541234Z",
     "start_time": "2025-02-16T19:32:37.536240Z"
    }
   },
   "cell_type": "code",
   "source": "c",
   "id": "6d5dfec35a575d12",
   "outputs": [
    {
     "data": {
      "text/plain": [
       "<tf.Variable 'c:0' shape=(3,) dtype=float32, numpy=array([1., 1., 1.], dtype=float32)>"
      ]
     },
     "execution_count": 11,
     "metadata": {},
     "output_type": "execute_result"
    }
   ],
   "execution_count": 11
  },
  {
   "metadata": {
    "ExecuteTime": {
     "end_time": "2025-02-16T19:41:42.875770Z",
     "start_time": "2025-02-16T19:41:42.868226Z"
    }
   },
   "cell_type": "code",
   "source": [
    "x = tf.Variable([100.0, 100.0, 100.0], tf.float32, name='x')\n",
    "x"
   ],
   "id": "3513a7114c996837",
   "outputs": [
    {
     "data": {
      "text/plain": [
       "<tf.Variable 'x:0' shape=(3,) dtype=float32, numpy=array([100., 100., 100.], dtype=float32)>"
      ]
     },
     "execution_count": 12,
     "metadata": {},
     "output_type": "execute_result"
    }
   ],
   "execution_count": 12
  },
  {
   "metadata": {
    "ExecuteTime": {
     "end_time": "2025-02-16T19:42:11.179353Z",
     "start_time": "2025-02-16T19:42:11.167584Z"
    }
   },
   "cell_type": "code",
   "source": [
    "y = m * x +c\n",
    "y"
   ],
   "id": "81b7ee52e3c3b1c8",
   "outputs": [
    {
     "data": {
      "text/plain": [
       "<tf.Tensor: shape=(3,), dtype=float32, numpy=array([401., 501., 601.], dtype=float32)>"
      ]
     },
     "execution_count": 13,
     "metadata": {},
     "output_type": "execute_result"
    }
   ],
   "execution_count": 13
  },
  {
   "metadata": {
    "ExecuteTime": {
     "end_time": "2025-02-16T19:49:27.017744Z",
     "start_time": "2025-02-16T19:49:27.012745Z"
    }
   },
   "cell_type": "code",
   "source": [
    "def tensorflow(max_num):\n",
    "    counter = tf.constant(0)\n",
    "    max_num = tf.constant(max_num)\n",
    "    \n",
    "    for num in range(0, max_num.numpy() + 1):\n",
    "        num = tf.constant(num)\n",
    "        \n",
    "        if int(num % 3) == 0 and int(num % 5) == 0:\n",
    "            print('Divisible by 3 and 5: ', num.numpy())\n",
    "            \n",
    "        elif int(num % 3) == 0:\n",
    "            print('Divisible by 3: ', num.numpy())\n",
    "            \n",
    "        elif int(num % 5) == 0:\n",
    "            print('Divisible by 5: ', num.numpy())  \n",
    "            \n",
    "        else:\n",
    "            print(num.numpy())\n",
    "            \n",
    "        counter += 1"
   ],
   "id": "be4626e57379930c",
   "outputs": [],
   "execution_count": 16
  },
  {
   "metadata": {
    "ExecuteTime": {
     "end_time": "2025-02-16T19:49:30.169445Z",
     "start_time": "2025-02-16T19:49:30.160380Z"
    }
   },
   "cell_type": "code",
   "source": "tensorflow(15)",
   "id": "f3106560eee892e8",
   "outputs": [
    {
     "name": "stdout",
     "output_type": "stream",
     "text": [
      "Divisible by 3 and 5:  0\n",
      "1\n",
      "2\n",
      "Divisible by 3:  3\n",
      "4\n",
      "Divisible by 5:  5\n",
      "Divisible by 3:  6\n",
      "7\n",
      "8\n",
      "Divisible by 3:  9\n",
      "Divisible by 5:  10\n",
      "11\n",
      "Divisible by 3:  12\n",
      "13\n",
      "14\n",
      "Divisible by 3 and 5:  15\n"
     ]
    }
   ],
   "execution_count": 17
  },
  {
   "metadata": {},
   "cell_type": "code",
   "outputs": [],
   "execution_count": null,
   "source": "",
   "id": "6159ec77406d4f70"
  }
 ],
 "metadata": {
  "kernelspec": {
   "display_name": "Python 3",
   "language": "python",
   "name": "python3"
  },
  "language_info": {
   "codemirror_mode": {
    "name": "ipython",
    "version": 2
   },
   "file_extension": ".py",
   "mimetype": "text/x-python",
   "name": "python",
   "nbconvert_exporter": "python",
   "pygments_lexer": "ipython2",
   "version": "2.7.6"
  }
 },
 "nbformat": 4,
 "nbformat_minor": 5
}
